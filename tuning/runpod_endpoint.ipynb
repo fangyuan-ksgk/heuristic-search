{
 "cells": [
  {
   "cell_type": "markdown",
   "metadata": {},
   "source": [
    "#### Calling RunPod Endpoint"
   ]
  },
  {
   "cell_type": "code",
   "execution_count": null,
   "metadata": {},
   "outputs": [],
   "source": [
    "# Using the same BASE_URL you defined\n",
    "INTERNAL_PORT = 30000 # Need to expose port from runpod instance editting window \n",
    "POD_ID = \"312aoreubi3q58\" # Specific to each runpod instance\n",
    "BASE_URL = f\"https://{POD_ID}-{INTERNAL_PORT}.proxy.runpod.net\" # replace \"localhost\" with this\n",
    "\n",
    "import requests\n",
    "\n",
    "prompts = [  \n",
    "    \"What is the capital of France?\",\n",
    "    \"Tell me a short joke\"\n",
    "]\n",
    "\n",
    "response = requests.post(\n",
    "    f\"{BASE_URL}/generate\",\n",
    "    json=prompts \n",
    ")\n",
    "\n",
    "if response.status_code == 200:\n",
    "    results = response.json()\n",
    "    print(\"\\nResults:\")\n",
    "    print(results)\n",
    "else:\n",
    "    print(f\"Error: {response.status_code}\")\n",
    "    print(response.text)\n",
    "    \n",
    "    \n",
    "# Next question is how to convert interleaved text & image data into prompt\n",
    "# llama3.2-vision-instruct should provide such information right? \n"
   ]
  }
 ],
 "metadata": {
  "kernelspec": {
   "display_name": "base",
   "language": "python",
   "name": "python3"
  },
  "language_info": {
   "codemirror_mode": {
    "name": "ipython",
    "version": 3
   },
   "file_extension": ".py",
   "mimetype": "text/x-python",
   "name": "python",
   "nbconvert_exporter": "python",
   "pygments_lexer": "ipython3",
   "version": "3.11.5"
  }
 },
 "nbformat": 4,
 "nbformat_minor": 2
}
