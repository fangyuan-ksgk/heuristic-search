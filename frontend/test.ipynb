{
 "cells": [
  {
   "cell_type": "code",
   "execution_count": 1,
   "metadata": {},
   "outputs": [],
   "source": [
    "import requests\n",
    "import json\n",
    "\n",
    "from my_dag.src.api.utils import *\n",
    "\n",
    "# Base URL for the API\n",
    "BASE_URL = \"http://localhost:8000\"\n",
    "\n",
    "# Test data\n",
    "test_nodes = [{\n",
    "    \"id\": 1,\n",
    "    \"x\": 300,\n",
    "    \"y\": 300,\n",
    "    \"name\": \"Testy\",\n",
    "    \"target\": \"test\",\n",
    "    \"input\": [\"input1\"],\n",
    "    \"output\": [\"output1\"],\n",
    "    \"code\": \"print('test')\",\n",
    "    \"fitness\": 0.8,\n",
    "    \"reasoning\": \"test reasoning\",\n",
    "    \"inputTypes\": [\"str\"],\n",
    "    \"outputTypes\": [\"str\"]\n",
    "    },\n",
    "    {\n",
    "    \"id\": 2,\n",
    "    \"x\": 600,\n",
    "    \"y\": 300,\n",
    "    \"name\": \"Testy\",\n",
    "    \"target\": \"test\",\n",
    "    \"input\": [\"input1\"],\n",
    "    \"output\": [\"output1\"],\n",
    "    \"code\": \"print('test')\",\n",
    "    \"fitness\": 0.8,\n",
    "    \"reasoning\": \"test reasoning\",\n",
    "    \"inputTypes\": [\"str\"],\n",
    "    \"outputTypes\": [\"str\"]\n",
    "    }\n",
    "]\n",
    "\n",
    "test_edge = {\n",
    "    \"id\": 1,\n",
    "    \"source\": 1,\n",
    "    \"target\": 2\n",
    "}"
   ]
  },
  {
   "cell_type": "code",
   "execution_count": 2,
   "metadata": {},
   "outputs": [
    {
     "name": "stdout",
     "output_type": "stream",
     "text": [
      "Status code: 200\n",
      "Response text: {\"status\":\"success\"}\n"
     ]
    }
   ],
   "source": [
    "initial_state = {\"nodes\": test_nodes, \"connections\": [test_edge]}\n",
    "\n",
    "update_graph_state(initial_state) # works \n",
    "graph_state = get_graph_state() # works\n"
   ]
  },
  {
   "cell_type": "code",
   "execution_count": 4,
   "metadata": {},
   "outputs": [
    {
     "name": "stdout",
     "output_type": "stream",
     "text": [
      "Status code: 200\n",
      "Response text: {\"status\":\"success\"}\n"
     ]
    }
   ],
   "source": [
    "test_node2 = {\n",
    "    \"id\": 4,\n",
    "    \"x\": 300,\n",
    "    \"y\": 300,\n",
    "    \"name\": \"Add_Three\",\n",
    "    \"target\": \"test\",\n",
    "    \"input\": [\"input1\"],\n",
    "    \"output\": [\"output1\"],\n",
    "    \"code\": \"print('test')\",\n",
    "    \"fitness\": 0.2,\n",
    "    \"reasoning\": \"test reasoning\",\n",
    "    \"inputTypes\": [\"str\"],\n",
    "    \"outputTypes\": [\"str\"]\n",
    "}\n",
    "test_node3 = {\n",
    "    \"id\": 5,\n",
    "    \"x\": 300,\n",
    "    \"y\": 300,\n",
    "    \"name\": \"Add_Four\",\n",
    "    \"target\": \"test\",\n",
    "    \"input\": [\"input1\"],\n",
    "    \"output\": [\"output1\"],\n",
    "    \"code\": \"print('test')\",\n",
    "    \"fitness\": 0.2,\n",
    "    \"reasoning\": \"test reasoning\",\n",
    "    \"inputTypes\": [\"str\"],\n",
    "    \"outputTypes\": [\"str\"]\n",
    "}\n",
    "connections = [{\"source\": 1, \"target\": 4}, {\"source\": 1, \"target\": 5}]\n",
    "\n",
    "nodes = [test_node2, test_node3]\n",
    "edges = connections\n",
    "\n",
    "\n",
    "add_nodes([test_node2, test_node3], connections) # layout format still problematic \n"
   ]
  },
  {
   "cell_type": "code",
   "execution_count": null,
   "metadata": {},
   "outputs": [],
   "source": []
  },
  {
   "cell_type": "code",
   "execution_count": null,
   "metadata": {},
   "outputs": [],
   "source": []
  }
 ],
 "metadata": {
  "kernelspec": {
   "display_name": "base",
   "language": "python",
   "name": "python3"
  },
  "language_info": {
   "codemirror_mode": {
    "name": "ipython",
    "version": 3
   },
   "file_extension": ".py",
   "mimetype": "text/x-python",
   "name": "python",
   "nbconvert_exporter": "python",
   "pygments_lexer": "ipython3",
   "version": "3.11.5"
  }
 },
 "nbformat": 4,
 "nbformat_minor": 2
}
