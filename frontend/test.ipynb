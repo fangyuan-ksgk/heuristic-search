{
 "cells": [
  {
   "cell_type": "markdown",
   "metadata": {},
   "source": [
    "\n",
    "#### TinyDAG\n",
    "===============================================================\n",
    "\n",
    "A lightweight package for real-time manipulation of directed acyclic graphs (DAGs).\n",
    "\n",
    "Features:\n",
    "- Create and manage graph nodes\n",
    "- Update connections in real-time\n",
    "- Visualize graph structures\n",
    "- Track node properties and relationships\n",
    "\n",
    "For usage examples, see the code below."
   ]
  },
  {
   "cell_type": "code",
   "execution_count": 1,
   "metadata": {},
   "outputs": [],
   "source": [
    "from tiny_dag import *\n",
    "\n",
    "# Get initial graph state\n",
    "graph_state = get_graph_state()"
   ]
  },
  {
   "cell_type": "code",
   "execution_count": 1,
   "metadata": {},
   "outputs": [
    {
     "data": {
      "text/plain": [
       "{'nodes': [{'id': 1,\n",
       "   'x': 300,\n",
       "   'y': 300,\n",
       "   'name': 'Black Node',\n",
       "   'target': '',\n",
       "   'input': [],\n",
       "   'output': [],\n",
       "   'code': '',\n",
       "   'fitness': 0.7,\n",
       "   'reasoning': '',\n",
       "   'inputTypes': [],\n",
       "   'outputTypes': []}],\n",
       " 'connections': []}"
      ]
     },
     "execution_count": 1,
     "metadata": {},
     "output_type": "execute_result"
    }
   ],
   "source": [
    "from tiny_dag import *\n",
    "\n",
    "# Get initial graph state\n",
    "graph_state = get_graph_state()\n",
    "\n",
    "# Create some example nodes\n",
    "node1 = {\n",
    "    \"id\": 1,\n",
    "    \"x\": 300,\n",
    "    \"y\": 300,\n",
    "    \"name\": \"Input Node\",\n",
    "    \"target\": \"input\",\n",
    "    \"input\": [],\n",
    "    \"output\": [\"data\"],\n",
    "    \"code\": \"data = 42\",\n",
    "    \"fitness\": 0.8,\n",
    "    \"reasoning\": \"Initial data input\",\n",
    "    \"inputTypes\": [],\n",
    "    \"outputTypes\": [\"int\"]\n",
    "}\n",
    "\n",
    "node2 = {\n",
    "    \"id\": 2,\n",
    "    \"x\": 550,  # Will be automatically positioned by add_nodes()\n",
    "    \"y\": 300,\n",
    "    \"name\": \"Processing Node\",\n",
    "    \"target\": \"process\",\n",
    "    \"input\": [\"data\"],\n",
    "    \"output\": [\"result\"],\n",
    "    \"code\": \"result = data * 2\",\n",
    "    \"fitness\": 0.7,\n",
    "    \"reasoning\": \"Double the input value\",\n",
    "    \"inputTypes\": [\"int\"],\n",
    "    \"outputTypes\": [\"int\"]\n",
    "}\n",
    "\n",
    "# Create an edge connecting the nodes\n",
    "edge = {\n",
    "    \"source\": 1,\n",
    "    \"target\": 2\n",
    "}\n",
    "\n",
    "# Add nodes and connections to the graph\n",
    "add_nodes([node1, node2], [edge])\n",
    "\n",
    "# You can also update individual nodes\n",
    "updated_node = node1.copy()\n",
    "updated_node[\"name\"] = \"Modified Input Node\"\n",
    "update_node(1, updated_node)\n",
    "\n",
    "# Get the updated graph state\n",
    "final_state = get_graph_state()\n",
    "print(\"Final graph state:\", final_state)"
   ]
  },
  {
   "cell_type": "code",
   "execution_count": null,
   "metadata": {},
   "outputs": [],
   "source": []
  }
 ],
 "metadata": {
  "kernelspec": {
   "display_name": "base",
   "language": "python",
   "name": "python3"
  },
  "language_info": {
   "codemirror_mode": {
    "name": "ipython",
    "version": 3
   },
   "file_extension": ".py",
   "mimetype": "text/x-python",
   "name": "python",
   "nbconvert_exporter": "python",
   "pygments_lexer": "ipython3",
   "version": "3.11.5"
  }
 },
 "nbformat": 4,
 "nbformat_minor": 2
}
