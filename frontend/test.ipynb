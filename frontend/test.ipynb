{
 "cells": [
  {
   "cell_type": "code",
   "execution_count": 3,
   "metadata": {},
   "outputs": [],
   "source": [
    "import requests\n",
    "import json\n",
    "\n",
    "# Base URL for the API\n",
    "BASE_URL = \"http://localhost:8000\"\n",
    "\n",
    "# Test data\n",
    "test_node = {\n",
    "    \"id\": 2,\n",
    "    \"x\": 300,\n",
    "    \"y\": 300,\n",
    "    \"name\": \"Testy\",\n",
    "    \"target\": \"test\",\n",
    "    \"input\": [\"input1\"],\n",
    "    \"output\": [\"output1\"],\n",
    "    \"code\": \"print('test')\",\n",
    "    \"fitness\": 0.8,\n",
    "    \"reasoning\": \"test reasoning\",\n",
    "    \"inputTypes\": [\"str\"],\n",
    "    \"outputTypes\": [\"str\"]\n",
    "}\n",
    "\n",
    "test_edge = {\n",
    "    \"id\": 1,\n",
    "    \"source\": 1,\n",
    "    \"target\": 2\n",
    "}\n",
    "\n",
    "def get_graph_state():\n",
    "    response = requests.get(f\"{BASE_URL}/api/graph\")\n",
    "    assert response.status_code == 200\n",
    "    graph_state = response.json()\n",
    "    return graph_state \n",
    "\n",
    "def add_node(node):\n",
    "    response = requests.post(f\"{BASE_URL}/api/nodes\", json=node)\n",
    "    try:\n",
    "        assert response.status_code == 200\n",
    "        assert response.json()[\"status\"] == \"success\"\n",
    "        return response.json()\n",
    "    except:\n",
    "        print(\"Add Node Message: \", response.json())\n",
    "        return False\n",
    "    \n",
    "def add_edge(edge):\n",
    "    response = requests.post(f\"{BASE_URL}/api/edges\", json=edge)\n",
    "    try:\n",
    "        assert response.status_code == 200\n",
    "        assert response.json()[\"status\"] == \"success\"\n",
    "        return response.json()\n",
    "    except:\n",
    "        print(\"Add Edge Message: \", response.json())\n",
    "        return False\n",
    "    \n",
    "def update_node(node_id: int, node: dict): \n",
    "    response = requests.put(f\"{BASE_URL}/api/nodes/{node_id}\", json=node)\n",
    "    try:\n",
    "        assert response.status_code == 200\n",
    "        # Update assertion to match server response structure\n",
    "        assert \"status\" in response.json() and response.json()[\"status\"] == \"success\"\n",
    "        return response.json()\n",
    "    except AssertionError:\n",
    "        print(\"Update Node Message:\", response.json())\n",
    "        return False\n",
    "    \n",
    "def delete_node(node_id):\n",
    "    response = requests.delete(f\"{BASE_URL}/api/nodes/{node_id}\")\n",
    "    try:\n",
    "        assert response.status_code == 200\n",
    "        assert response.json()[\"status\"] == \"success\"\n",
    "        return response.json()\n",
    "    except:\n",
    "        print(\"Delete Node Message: \", response.json())\n",
    "        return False\n",
    "    \n",
    "def delete_edge(edge_id):\n",
    "    response = requests.delete(f\"{BASE_URL}/api/edges/{edge_id}\")\n",
    "    try:\n",
    "        assert response.status_code == 200\n",
    "        assert response.json()[\"status\"] == \"success\"\n",
    "        return response.json()\n",
    "    except:\n",
    "        print(\"Delete Edge Message: \", response.json())\n",
    "        return False"
   ]
  },
  {
   "cell_type": "code",
   "execution_count": 6,
   "metadata": {},
   "outputs": [
    {
     "data": {
      "text/plain": [
       "{'status': 'success',\n",
       " 'node': {'id': 2,\n",
       "  'x': 300.0,\n",
       "  'y': 300.0,\n",
       "  'name': 'Updated Name2',\n",
       "  'target': 'test',\n",
       "  'input': ['input1'],\n",
       "  'output': ['output1'],\n",
       "  'code': \"print('test')\",\n",
       "  'fitness': 0.8,\n",
       "  'reasoning': 'test reasoning',\n",
       "  'inputTypes': ['str'],\n",
       "  'outputTypes': ['str']}}"
      ]
     },
     "execution_count": 6,
     "metadata": {},
     "output_type": "execute_result"
    }
   ],
   "source": [
    "graph_state = get_graph_state() # this is what I mean by endpoint function\n",
    "current_node = graph_state[\"nodes\"][1]\n",
    "change_node = current_node.copy()\n",
    "change_node[\"name\"] = \"Updated Name2\"\n",
    "update_node(change_node[\"id\"], change_node)\n",
    "\n"
   ]
  },
  {
   "cell_type": "code",
   "execution_count": 7,
   "metadata": {},
   "outputs": [
    {
     "data": {
      "text/plain": [
       "{'nodes': [{'id': 1,\n",
       "   'x': 300,\n",
       "   'y': 300,\n",
       "   'name': 'Black Node',\n",
       "   'target': '',\n",
       "   'input': [],\n",
       "   'output': [],\n",
       "   'code': '',\n",
       "   'fitness': 0.7,\n",
       "   'reasoning': '',\n",
       "   'inputTypes': [],\n",
       "   'outputTypes': []},\n",
       "  {'id': 2,\n",
       "   'x': 300.0,\n",
       "   'y': 300.0,\n",
       "   'name': 'Updated Name2',\n",
       "   'target': 'test',\n",
       "   'input': ['input1'],\n",
       "   'output': ['output1'],\n",
       "   'code': \"print('test')\",\n",
       "   'fitness': 0.8,\n",
       "   'reasoning': 'test reasoning',\n",
       "   'inputTypes': ['str'],\n",
       "   'outputTypes': ['str']}],\n",
       " 'connections': [{'id': 1, 'source': 1, 'target': 2}]}"
      ]
     },
     "execution_count": 7,
     "metadata": {},
     "output_type": "execute_result"
    }
   ],
   "source": [
    "graph_state"
   ]
  },
  {
   "cell_type": "code",
   "execution_count": null,
   "metadata": {},
   "outputs": [],
   "source": []
  }
 ],
 "metadata": {
  "kernelspec": {
   "display_name": "base",
   "language": "python",
   "name": "python3"
  },
  "language_info": {
   "codemirror_mode": {
    "name": "ipython",
    "version": 3
   },
   "file_extension": ".py",
   "mimetype": "text/x-python",
   "name": "python",
   "nbconvert_exporter": "python",
   "pygments_lexer": "ipython3",
   "version": "3.11.5"
  }
 },
 "nbformat": 4,
 "nbformat_minor": 2
}
