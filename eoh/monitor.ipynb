{
 "cells": [
  {
   "cell_type": "code",
   "execution_count": 1,
   "metadata": {},
   "outputs": [],
   "source": [
    "# what if I build my own monitoring system? \n",
    "\n"
   ]
  },
  {
   "cell_type": "code",
   "execution_count": 7,
   "metadata": {},
   "outputs": [
    {
     "name": "stdout",
     "output_type": "stream",
     "text": [
      "Non-streaming test:\n",
      "Response: A man walked into a library and asked the librarian, \"Do you have any books on Pavlov's dogs and Schrödinger's cat?\"\n",
      "\n",
      "The librarian replied, \"It rings a bell, but I'm not sure if it's here or not.\"\n",
      "\n",
      "Metrics:\n",
      "Duration: 0.36s\n",
      "Total Tokens: 53\n",
      "Tokens/sec: 147.1\n",
      "Prompt Tokens: 4\n",
      "Completion Tokens: 49\n",
      "Estimated Cost: $0.0001\n"
     ]
    }
   ],
   "source": [
    "from methods.llm import get_groq_response\n",
    "\n",
    "# Create monitor instance\n",
    "monitor = LLMMonitor(model_name=\"gpt-4o\")\n",
    "\n",
    "# Test non-streaming response\n",
    "prompt = \"Tell me a joke\"\n",
    "response, metrics = monitor.wrap_llm(get_groq_response, prompt, stream=False)\n",
    "print(\"Non-streaming test:\")\n",
    "print(f\"Response: {response}\")\n",
    "print(\"\\nMetrics:\")\n",
    "print(metrics)"
   ]
  },
  {
   "cell_type": "code",
   "execution_count": null,
   "metadata": {},
   "outputs": [],
   "source": []
  }
 ],
 "metadata": {
  "kernelspec": {
   "display_name": "base",
   "language": "python",
   "name": "python3"
  },
  "language_info": {
   "codemirror_mode": {
    "name": "ipython",
    "version": 3
   },
   "file_extension": ".py",
   "mimetype": "text/x-python",
   "name": "python",
   "nbconvert_exporter": "python",
   "pygments_lexer": "ipython3",
   "version": "3.11.5"
  }
 },
 "nbformat": 4,
 "nbformat_minor": 2
}
