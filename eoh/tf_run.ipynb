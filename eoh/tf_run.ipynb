{
 "cells": [
  {
   "cell_type": "code",
   "execution_count": 1,
   "metadata": {},
   "outputs": [
    {
     "name": "stdout",
     "output_type": "stream",
     "text": [
      "Could not load vllm class, check CUDA support and GPU RAM size\n"
     ]
    }
   ],
   "source": [
    "from methods.llm import get_async_vllm_endpoint\n",
    "import os \n",
    "\n",
    "# Unlimited LLM endpoints\n",
    "endpoint_id = \"vllm-8sz1f7zg7oy0ui\"\n",
    "api_key = \"rpa_EPOJED42G59S80Y6SKMCOI330EQU4JPPMKV2UD2W7j0uku\"\n",
    "get_endpoint_response = get_async_vllm_endpoint(endpoint_id, api_key)"
   ]
  },
  {
   "cell_type": "markdown",
   "metadata": {},
   "source": [
    "#### Temasek Foundation Dataset"
   ]
  },
  {
   "cell_type": "code",
   "execution_count": 2,
   "metadata": {},
   "outputs": [],
   "source": [
    "# Node dataset should ideally be concise and pure application info included ...\n",
    "from methods.meta_prompt import MetaPrompt, PromptMode\n",
    "from methods.load_data import prep_tf_node \n",
    "\n",
    "tf_meta_prompt, test_cases, tf_metric_map = prep_tf_node(prompt_mode=True)\n",
    "\n",
    "# Specific Metric required for TF dataset (Worth refactor the code a bit)\n",
    "from methods.llm import get_groq_response\n",
    "from methods.evolnode import EvolNode \n",
    "node = EvolNode(tf_meta_prompt, None, None, get_response=get_endpoint_response, test_cases=test_cases[:90],\n",
    "                custom_metric_map=tf_metric_map) # setting manual test cases\n"
   ]
  },
  {
   "cell_type": "code",
   "execution_count": 14,
   "metadata": {},
   "outputs": [
    {
     "name": "stdout",
     "output_type": "stream",
     "text": [
      "     :: Query time: 23.86s\n"
     ]
    },
    {
     "name": "stderr",
     "output_type": "stream",
     "text": [
      "Processing LLM queries: 100%|██████████| 5/5 [01:01<00:00, 12.26s/it]"
     ]
    },
    {
     "name": "stdout",
     "output_type": "stream",
     "text": [
      " :: Total time elapsed: 61.30s, 0 errors\n",
      "     :: Evolution time: 61.33s\n"
     ]
    },
    {
     "name": "stderr",
     "output_type": "stream",
     "text": [
      "\n"
     ]
    }
   ],
   "source": [
    "node.evolve(\"i1\", batch_size=5)\n",
    "\n",
    "import time \n",
    "query_node = True \n",
    "replace = True \n",
    "feedback = \"\"\n",
    "batch_size = 5\n",
    "self = node \n",
    "method = \"i1\"\n",
    "parents = None \n",
    "\n",
    "start_time = time.time()\n",
    "# Query once\n",
    "offsprings = [] \n",
    "if query_node:\n",
    "    self.query_nodes(ignore_self=replace, self_func_name=self.meta_prompt.func_name)\n",
    "query_end_time = time.time()\n",
    "query_time = query_end_time - start_time\n",
    "print(f\"     :: Query time: {query_time:.2f}s\")\n",
    "\n",
    "# Evolve many times\n",
    "reasonings, codes = self._evolve(method, parents, feedback=feedback, batch_size=batch_size)\n",
    "evolve_end_time = time.time()\n",
    "evolve_time = evolve_end_time - query_end_time\n",
    "print(f\"     :: Evolution time: {evolve_time:.2f}s\")\n",
    "\n",
    "self.reasonings = reasonings\n",
    "self.codes = codes"
   ]
  },
  {
   "cell_type": "code",
   "execution_count": 16,
   "metadata": {},
   "outputs": [
    {
     "name": "stdout",
     "output_type": "stream",
     "text": [
      "import json\n",
      "\n",
      "\n",
      "def generate_prompt(project_description):\n",
      "    prompt = f\"\"\"Evaluate the grant application for the project described below: \n",
      "\n",
      "{project_description}\n",
      "\n",
      "\"\"\"\n",
      "    prompt += (\n",
      "        \"Follow the output structure: {'label': str(...), 'comment': str(...)}} in a markdown format.\"\n",
      "        )\n",
      "    prompt += (\n",
      "        ' Make sure to only provide the final decision and a brief comment explaining your decision.'\n",
      "        )\n",
      "    return prompt\n",
      "\n"
     ]
    }
   ],
   "source": []
  },
  {
   "cell_type": "code",
   "execution_count": null,
   "metadata": {},
   "outputs": [],
   "source": []
  },
  {
   "cell_type": "code",
   "execution_count": 10,
   "metadata": {},
   "outputs": [],
   "source": [
    "\n"
   ]
  },
  {
   "cell_type": "code",
   "execution_count": 13,
   "metadata": {},
   "outputs": [
    {
     "name": "stderr",
     "output_type": "stream",
     "text": [
      "Executing Node to generate prompts ...: 100%|██████████| 90/90 [00:00<00:00, 30291.07it/s]\n"
     ]
    }
   ],
   "source": [
    "input_dicts = test_cases[:90]\n",
    "\n",
    "from tqdm import tqdm \n",
    "import types \n",
    "from methods.meta_execute import Timeout_\n",
    "from collections import defaultdict\n",
    "\n",
    "code = 'def generate_prompt(project_description):\\n    decision = \\'Maybe\\'\\n    comment = \\'No reasonable decision can be made without further information.\\'\\n    prompt = (\\n        f\"Given the project description {{project_description= \\'{project_description}\\' }}, do evaluate the grant application, make a decision (Yes, No, Maybe) and a brief comment explaining why the project is likely to be accepted or rejected. Make sure the output is in JSON format in markdown like this {{\\'label\\': \\'str()\\', \\'comment\\': \\'str()\\'}} near the top of your response.\"\\n        )\\n    return prompt'\n",
    "codes = [code]\n",
    "max_tries = 3\n",
    "\n",
    "prompts = []\n",
    "input_indices = []\n",
    "errors_per_code_per_test = defaultdict(lambda: defaultdict(list))\n",
    "\n",
    "total_iterations = len(input_dicts) * len(codes)\n",
    "with tqdm(total=total_iterations, desc=\"Executing Node to generate prompts ...\") as pbar:\n",
    "    for (input_index, input_dict) in enumerate(input_dicts):\n",
    "        for (code_index, code) in enumerate(codes):\n",
    "            mod = types.ModuleType('dynamic_module')\n",
    "            try:\n",
    "                with Timeout_(3):  # 3-second timeout\n",
    "                    exec(code, mod.__dict__)\n",
    "                    func_name = \"generate_prompt\"\n",
    "                    assert func_name in mod.__dict__, f\"Function {func_name} not found in code #{code_index}\"\n",
    "                    prompt_func = mod.__dict__[func_name]\n",
    "                    prompt = prompt_func(**input_dict)\n",
    "                    \n",
    "                    for _ in range(max_tries): # number of trials\n",
    "                        prompts.append(prompt)\n",
    "                        input_indices.append((input_index, code_index))\n",
    "                        \n",
    "                errors_per_code_per_test[code_index][input_index] = [] # empty error when one trial works \n",
    "                        \n",
    "            except Exception as e:\n",
    "                errors_per_code_per_test[code_index][input_index].append(str(e))\n",
    "            \n",
    "            pbar.update(1)"
   ]
  },
  {
   "cell_type": "code",
   "execution_count": null,
   "metadata": {},
   "outputs": [],
   "source": []
  }
 ],
 "metadata": {
  "kernelspec": {
   "display_name": "base",
   "language": "python",
   "name": "python3"
  },
  "language_info": {
   "codemirror_mode": {
    "name": "ipython",
    "version": 3
   },
   "file_extension": ".py",
   "mimetype": "text/x-python",
   "name": "python",
   "nbconvert_exporter": "python",
   "pygments_lexer": "ipython3",
   "version": "3.11.5"
  }
 },
 "nbformat": 4,
 "nbformat_minor": 2
}
