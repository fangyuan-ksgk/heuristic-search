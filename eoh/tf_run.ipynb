{
 "cells": [
  {
   "cell_type": "code",
   "execution_count": 1,
   "metadata": {},
   "outputs": [
    {
     "name": "stdout",
     "output_type": "stream",
     "text": [
      "Could not load vllm class, check CUDA support and GPU RAM size\n"
     ]
    }
   ],
   "source": [
    "from methods.llm import get_async_vllm_endpoint\n",
    "import os \n",
    "\n",
    "# Unlimited LLM endpoints\n",
    "endpoint_id = \"vllm-8sz1f7zg7oy0ui\"\n",
    "api_key = \"rpa_EPOJED42G59S80Y6SKMCOI330EQU4JPPMKV2UD2W7j0uku\"\n",
    "get_endpoint_response = get_async_vllm_endpoint(endpoint_id, api_key)"
   ]
  },
  {
   "cell_type": "markdown",
   "metadata": {},
   "source": [
    "#### Temasek Foundation Dataset"
   ]
  },
  {
   "cell_type": "code",
   "execution_count": 2,
   "metadata": {},
   "outputs": [],
   "source": [
    "# Node dataset should ideally be concise and pure application info included ...\n",
    "from methods.meta_prompt import MetaPrompt, PromptMode\n",
    "from methods.load_data import prep_tf_node \n",
    "\n",
    "tf_meta_prompt, test_cases, tf_metric_map = prep_tf_node(prompt_mode=True)\n",
    "\n",
    "# Specific Metric required for TF dataset (Worth refactor the code a bit)\n",
    "from methods.llm import get_groq_response\n",
    "from methods.evolnode import EvolNode \n",
    "node = EvolNode(tf_meta_prompt, None, None, get_response=get_endpoint_response, test_cases=test_cases[:90],\n",
    "                custom_metric_map=tf_metric_map) # setting manual test cases\n"
   ]
  },
  {
   "cell_type": "code",
   "execution_count": 3,
   "metadata": {},
   "outputs": [
    {
     "name": "stdout",
     "output_type": "stream",
     "text": [
      "     :: Query time: 3.48s\n"
     ]
    },
    {
     "name": "stderr",
     "output_type": "stream",
     "text": [
      "Processing LLM queries: 100%|██████████| 5/5 [00:08<00:00,  1.71s/it]"
     ]
    },
    {
     "name": "stdout",
     "output_type": "stream",
     "text": [
      " :: Total time elapsed: 8.54s, 0 errors\n",
      "     :: Evolution time: 8.57s\n"
     ]
    },
    {
     "name": "stderr",
     "output_type": "stream",
     "text": [
      "\n"
     ]
    }
   ],
   "source": [
    "# node.evolve(\"i1\", batch_size=5)\n",
    "\n",
    "import time \n",
    "query_node = True \n",
    "replace = True \n",
    "feedback = \"\"\n",
    "batch_size = 5\n",
    "self = node \n",
    "method = \"i1\"\n",
    "parents = None \n",
    "\n",
    "start_time = time.time()\n",
    "# Query once\n",
    "offsprings = [] \n",
    "if query_node:\n",
    "    self.query_nodes(ignore_self=replace, self_func_name=self.meta_prompt.func_name)\n",
    "query_end_time = time.time()\n",
    "query_time = query_end_time - start_time\n",
    "print(f\"     :: Query time: {query_time:.2f}s\")\n",
    "\n",
    "# Evolve many times\n",
    "reasonings, codes = self._evolve(method, parents, feedback=feedback, batch_size=batch_size)\n",
    "evolve_end_time = time.time()\n",
    "evolve_time = evolve_end_time - query_end_time\n",
    "print(f\"     :: Evolution time: {evolve_time:.2f}s\")\n",
    "\n",
    "self.reasonings = reasonings\n",
    "self.codes = codes"
   ]
  },
  {
   "cell_type": "code",
   "execution_count": 4,
   "metadata": {},
   "outputs": [],
   "source": [
    "max_tries, num_runs = 3, 2\n",
    "test_cases = node.test_cases\n",
    "test_inputs = [case[0] for case in test_cases]\n",
    "input_dicts = test_inputs "
   ]
  },
  {
   "cell_type": "code",
   "execution_count": 38,
   "metadata": {},
   "outputs": [],
   "source": [
    "code = 'def generate_prompt(project_description):\\n    prompt = (\\n        f\"Evaluate the grant application described as {project_description}. Provide a decision (Yes, No, Maybe) and a brief comment explaining the decision. Assume the AI only has access to the prompt and the tools provided. Please output a json-style response in markdown format like this: {{\\'label\\': \\'str(...)\\',\\'comment\\': \\'str(...\\')}}. Do not include any additional reasoning or output. Use the output from search_google as a guide for your response.\"\\n        )\\n    return prompt'\n",
    "burn_code = 'def generate_prompt(project_description):\\n    import time\\n    time.sleep(10)\\n    prompt = (\\n        f\"Evaluate the grant application described as {project_description}. Provide a decision (Yes, No, Maybe) and a brief comment explaining the decision. Assume the AI only has access to the prompt and the tools provided. Please output a json-style response in markdown format like this: {{\\'label\\': \\'str(...)\\',\\'comment\\': \\'str(...\\')}}. Do not include any additional reasoning or output. Use the output from search_google as a guide for your response.\"\\n        )\\n    return prompt'\n",
    "codes = [burn_code] * 5 \n",
    "self.codes = codes"
   ]
  },
  {
   "cell_type": "code",
   "execution_count": 46,
   "metadata": {},
   "outputs": [],
   "source": [
    "import types \n",
    "from methods.meta_execute import Timeout_\n",
    "from collections import defaultdict\n",
    "from tqdm import tqdm\n",
    "from concurrent.futures import ThreadPoolExecutor, as_completed\n",
    "import concurrent.futures\n",
    "from typing import Optional\n",
    "\n",
    "\n",
    "def process_single_input(code, input_tuple, max_tries):\n",
    "    input_index, input_dict = input_tuple\n",
    "    prompts = []\n",
    "    errors = []\n",
    "    \n",
    "    mod = types.ModuleType('dynamic_module')\n",
    "    try:\n",
    "        # Remove the Timeout_ wrapper\n",
    "        exec(code, mod.__dict__)\n",
    "        func_name = \"generate_prompt\"\n",
    "        assert func_name in mod.__dict__, f\"Function {func_name} not found in code\"\n",
    "        prompt_func = mod.__dict__[func_name]\n",
    "      \n",
    "        prompt = prompt_func(**input_dict)               \n",
    "        for _ in range(max_tries):\n",
    "            prompts.append(prompt)\n",
    "        errors = []\n",
    "    except Exception as e:\n",
    "        errors.append(str(e))\n",
    "        prompts = []\n",
    "        \n",
    "    return input_index, prompts, errors\n",
    "\n",
    "def process_single_input_with_timeout(code, input_tuple, max_tries, timeout: int = 3):\n",
    "    input_index, input_dict = input_tuple\n",
    "    prompts = []\n",
    "    errors = []\n",
    "    \n",
    "    mod = types.ModuleType('dynamic_module')\n",
    "    try:\n",
    "        # Remove the Timeout_ wrapper\n",
    "        exec(code, mod.__dict__)\n",
    "        func_name = \"generate_prompt\"\n",
    "        assert func_name in mod.__dict__, f\"Function {func_name} not found in code\"\n",
    "        prompt_func = mod.__dict__[func_name]\n",
    "        \n",
    "        with Timeout_(seconds=timeout):\n",
    "            prompt = prompt_func(**input_dict)               \n",
    "        \n",
    "        for _ in range(max_tries):\n",
    "            prompts.append(prompt)\n",
    "        errors = []\n",
    "    except Exception as e:\n",
    "        errors.append(str(e))\n",
    "        prompts = []\n",
    "        \n",
    "    return input_index, prompts, errors\n",
    "\n",
    "\n",
    "def process_all_inputs(codes, input_dicts, max_tries, timeout: int = 3):\n",
    "    outputs_per_code_per_test = defaultdict(lambda: defaultdict(list))\n",
    "    errors_per_code_per_test = defaultdict(lambda: defaultdict(list))\n",
    "    \n",
    "    total_iterations = len(codes) * len(input_dicts)\n",
    "    tasks = [\n",
    "        (code_index, code, input_index, input_dict) \n",
    "        for code_index, code in enumerate(codes)\n",
    "        for input_index, input_dict in enumerate(input_dicts)\n",
    "    ]\n",
    "    \n",
    "    with ThreadPoolExecutor(max_workers=min(32, total_iterations)) as executor:\n",
    "        futures = {\n",
    "            executor.submit(\n",
    "                process_single_input, \n",
    "                code, \n",
    "                (input_index, input_dict), \n",
    "                max_tries\n",
    "            ): (code_index, input_index)\n",
    "            for code_index, code, input_index, input_dict in tasks\n",
    "        }\n",
    "        \n",
    "        with tqdm(total=total_iterations, desc=\"Processing LLM queries\") as pbar:\n",
    "            for future in as_completed(futures):\n",
    "                code_index, input_index = futures[future]\n",
    "                try:\n",
    "                    # Add timeout here\n",
    "                    input_index, prompts, errors = future.result(timeout=timeout)\n",
    "                    outputs_per_code_per_test[code_index][input_index].extend(prompts)\n",
    "                    errors_per_code_per_test[code_index][input_index].extend(errors)\n",
    "                except concurrent.futures.TimeoutError:\n",
    "                    errors_per_code_per_test[code_index][input_index].append(f\"Execution timed out after {timeout} seconds\")\n",
    "                except Exception as e:\n",
    "                    errors_per_code_per_test[code_index][input_index].append(str(e))\n",
    "                pbar.update(1)\n",
    "    \n",
    "    return outputs_per_code_per_test, errors_per_code_per_test"
   ]
  },
  {
   "cell_type": "code",
   "execution_count": 47,
   "metadata": {},
   "outputs": [
    {
     "name": "stderr",
     "output_type": "stream",
     "text": [
      "Processing LLM queries: 100%|██████████| 450/450 [02:30<00:00,  3.00it/s]"
     ]
    },
    {
     "name": "stdout",
     "output_type": "stream",
     "text": [
      "Concurrent implementation took 150.07 seconds\n"
     ]
    },
    {
     "name": "stderr",
     "output_type": "stream",
     "text": [
      "\n"
     ]
    }
   ],
   "source": [
    "# process single input \n",
    "# input_index, prompts, errors = process_single_input(codes[0], (0, input_dicts[0]), max_tries)\n",
    "\n",
    "\n",
    "# Help me benchmark the difference in below two methods (double loop vs concurrent implementation)\n",
    "\n",
    "# Double Loop Implementation\n",
    "outputs_per_code_per_test_loop = defaultdict(lambda: defaultdict(list))\n",
    "errors_per_code_per_test_loop = defaultdict(lambda: defaultdict(list))\n",
    "\n",
    "import time\n",
    "start_time = time.time()\n",
    "\n",
    "# total_iterations = len(codes) * len(input_dicts)\n",
    "# with tqdm(total=total_iterations, desc=\"Processing LLM queries\") as pbar:\n",
    "#     for code_index, code in enumerate(codes):\n",
    "#         for input_index, input_dict in enumerate(input_dicts):\n",
    "#             input_index, prompts, errors = process_single_input(code, (input_index, input_dict), max_tries)\n",
    "#             outputs_per_code_per_test_loop[code_index][input_index].extend(prompts)\n",
    "#             errors_per_code_per_test_loop[code_index][input_index].extend(errors)\n",
    "#             pbar.update(1)\n",
    "\n",
    "# loop_time = time.time() - start_time\n",
    "# print(f\"\\nDouble loop implementation took {loop_time:.2f} seconds\")\n",
    "\n",
    "# Concurrent Implementation\n",
    "start_time = time.time()\n",
    "outputs_per_code_per_test_concurrent, errors_per_code_per_test_concurrent = process_all_inputs(codes, input_dicts, max_tries)\n",
    "concurrent_time = time.time() - start_time\n",
    "\n",
    "print(f\"Concurrent implementation took {concurrent_time:.2f} seconds\")\n",
    "# print(f\"Speed improvement: {loop_time/concurrent_time:.2f}x faster with concurrent implementation\")\n",
    "\n",
    "# # Verify results are the same\n",
    "# assert outputs_per_code_per_test_loop == outputs_per_code_per_test_concurrent, \"Output results differ!\"\n",
    "# assert errors_per_code_per_test_loop == errors_per_code_per_test_concurrent, \"Error results differ!\""
   ]
  },
  {
   "cell_type": "code",
   "execution_count": 49,
   "metadata": {},
   "outputs": [
    {
     "data": {
      "text/plain": [
       "9.0"
      ]
     },
     "execution_count": 49,
     "metadata": {},
     "output_type": "execute_result"
    }
   ],
   "source": [
    "3 * 450 / 150"
   ]
  },
  {
   "cell_type": "code",
   "execution_count": null,
   "metadata": {},
   "outputs": [],
   "source": []
  }
 ],
 "metadata": {
  "kernelspec": {
   "display_name": "base",
   "language": "python",
   "name": "python3"
  },
  "language_info": {
   "codemirror_mode": {
    "name": "ipython",
    "version": 3
   },
   "file_extension": ".py",
   "mimetype": "text/x-python",
   "name": "python",
   "nbconvert_exporter": "python",
   "pygments_lexer": "ipython3",
   "version": "3.11.5"
  }
 },
 "nbformat": 4,
 "nbformat_minor": 2
}
