{
 "cells": [
  {
   "cell_type": "code",
   "execution_count": 3,
   "metadata": {},
   "outputs": [],
   "source": [
    "from methods.llm import get_async_vllm_endpoint\n",
    "import os \n",
    "\n",
    "# Unlimited LLM endpoints\n",
    "endpoint_id = \"vllm-8sz1f7zg7oy0ui\"\n",
    "api_key = \"rpa_EPOJED42G59S80Y6SKMCOI330EQU4JPPMKV2UD2W7j0uku\"\n",
    "get_endpoint_response = get_async_vllm_endpoint(endpoint_id, api_key)"
   ]
  },
  {
   "cell_type": "markdown",
   "metadata": {},
   "source": [
    "#### Temasek Foundation Dataset"
   ]
  },
  {
   "cell_type": "code",
   "execution_count": 3,
   "metadata": {},
   "outputs": [],
   "source": [
    "# Node dataset should ideally be concise and pure application info included ...\n",
    "from methods.meta_prompt import MetaPrompt, PromptMode\n",
    "from methods.load_data import prep_tf_node \n",
    "\n",
    "tf_meta_prompt, test_cases, tf_metric_map = prep_tf_node(prompt_mode=True)\n",
    "\n",
    "# Specific Metric required for TF dataset (Worth refactor the code a bit)\n",
    "from methods.llm import get_groq_response\n",
    "from methods.evolnode import EvolNode \n",
    "node = EvolNode(tf_meta_prompt, None, None, get_response=get_groq_response, test_cases=test_cases[:3],\n",
    "                custom_metric_map=tf_metric_map) # setting manual test cases\n"
   ]
  },
  {
   "cell_type": "code",
   "execution_count": 4,
   "metadata": {},
   "outputs": [
    {
     "name": "stdout",
     "output_type": "stream",
     "text": [
      "\n",
      "Code 1 outputs:\n",
      "Test 1: {'label': 'Yes', 'comment': '\"Marine Battery As A Service\" project demonstrates a clear understanding of the problem, a comprehensive solution, and strong stakeholder engagement. However, the application misses critical information such as project objectives, grant amount sought, and proof of concept. I recommend providing more detailed project plans and financial information to support the grant application.'}\n",
      "Test 2: {'label': 'Maybe', 'comment': 'Project has potential, but lacks clear objectives and proposed scope of work'}\n",
      "🏆 Best Code Performance Summary 🏆\n",
      "  ⚡ Structural fitness: 0.44\n",
      "  🎯 Functional fitness: 0.00\n",
      "  ⭐ Global fitness:     0.22\n",
      "  🔄 Compiled solutions:        3\n",
      "  ⏱️ Time breakdown:\n",
      "     :: Query time: 23.22s\n",
      "     :: Evolution time: 4.33s\n",
      "     :: Evaluation time: 15.62s\n",
      "     :: Total time: 43.16s\n",
      "\n",
      "\n",
      "================================================================================\n",
      "📊 Code 0: Fitness: 0.0%\n",
      "--------------------------------------------------------------------------------\n",
      "❌ Error Messages:\n",
      "Failed to parse LLM response -- No JSON structure found in the provided text.\n",
      "Failed to parse LLM response -- No JSON structure found in the provided text.\n",
      "Failed to parse LLM response -- JsonDecodeError : \n",
      "Expecting property name enclosed in double quotes: line 1 column 2 (char 1)AstLiteralError : \n",
      "'{' was never closed (<unknown>, line 1)\n",
      "================================================================================\n",
      "\n",
      "\n",
      "================================================================================\n",
      "📊 Code 1: Fitness: 22.2%\n",
      "--------------------------------------------------------------------------------\n",
      "❌ Error Messages:\n",
      "Input: {'project_description': 'Grant Application Summary:\\n\\n    Grant Application Summary:\\n    - **Project Theme:** Energy Transition\\n    - **Category:** Renewable Energy\\n    - **Subcategory:** Energy Storage for Marine Electrification\\n    - **Project Title:** Marine Battery As A Service\\n    - **Grant Amount Sought:** None\\n    - **Objectives:** None\\n    - **Have you obtained proof of concept for your project?** None\\n\\n    Solution Summary: The Juice project, \"Marine Battery As A Service,\" aims to address the high fuel costs and environmental impact of diesel-powered fishing boats in Indonesia. The solution proposes a battery swapping service for marine fishing applications, enabling fishermen to switch to electric motors and significantly reduce their operating expenses. By offering a cost-effective alternative to traditional fuel, the project aims to improve the livelihoods of fishermen while reducing carbon emissions. The project is currently in the ideation stage and seeks funding to develop a pilot program, retrofitting 2-5 fishing boats with electric motors and battery swapping infrastructure.  The project has engaged with key stakeholders, including the Ministry of Marine Affairs and Fisheries, PLN, PELINDO, and local fishermen cooperatives, to ensure successful implementation and policy support. \\n\\n\\n    Proposed solution: Deploy energy storage solutions virtually anywhere, enabling us to effortlessly boost the widespread adoption of electrification, starting with mobility for marine commercial fishing.\\n\\n    Proposed project\\'s scope of work: None'}, prediction is not aligned with expected output, Expected: {'label': 'No', 'comment': 'Battery swapping service for marine fishing application. Proposal at ideation stage.'} Predicted: {'label': 'Yes', 'comment': '\"Marine Battery As A Service\" project demonstrates a clear understanding of the problem, a comprehensive solution, and strong stakeholder engagement. However, the application misses critical information such as project objectives, grant amount sought, and proof of concept. I recommend providing more detailed project plans and financial information to support the grant application.'}, Error message: Target is 'yes', but prediction is 'no'\n",
      "Value mismatch for key label: Yes != No\n",
      "\n",
      "\n",
      "Input: {'project_description': 'Grant Application Summary:\\n\\n    Grant Application Summary:\\n    - **Project Theme:** Energy Transition\\n    - **Category:** Renewable Energy\\n    - **Subcategory:** Energy Storage for Marine Electrification\\n    - **Project Title:** Marine Battery As A Service\\n    - **Grant Amount Sought:** None\\n    - **Objectives:** None\\n    - **Have you obtained proof of concept for your project?** None\\n\\n    Solution Summary: The Juice project, \"Marine Battery As A Service,\" aims to address the high fuel costs and environmental impact of diesel-powered fishing boats in Indonesia. The solution proposes a battery swapping service for marine fishing applications, enabling fishermen to switch to electric motors and significantly reduce their operating expenses. By offering a cost-effective alternative to traditional fuel, the project aims to improve the livelihoods of fishermen while reducing carbon emissions. The project is currently in the ideation stage and seeks funding to develop a pilot program, retrofitting 2-5 fishing boats with electric motors and battery swapping infrastructure.  The project has engaged with key stakeholders, including the Ministry of Marine Affairs and Fisheries, PLN, PELINDO, and local fishermen cooperatives, to ensure successful implementation and policy support. \\n\\n\\n    Proposed solution: Deploy energy storage solutions virtually anywhere, enabling us to effortlessly boost the widespread adoption of electrification, starting with mobility for marine commercial fishing.\\n\\n    Proposed project\\'s scope of work: None'}, prediction is not aligned with expected output, Expected: {'label': 'No', 'comment': 'Battery swapping service for marine fishing application. Proposal at ideation stage.'} Predicted: {'label': 'Yes', 'comment': '\"Marine Battery As A Service\" project demonstrates a clear understanding of the problem, a comprehensive solution, and strong stakeholder engagement. However, the application misses critical information such as project objectives, grant amount sought, and proof of concept. I recommend providing more detailed project plans and financial information to support the grant application.'}\n",
      "\n",
      "Input: {'project_description': 'Grant Application Summary:\\n\\n    Grant Application Summary:\\n    - **Project Theme:** Decarbonisation\\n    - **Category:** Sustainable Urban Development\\n    - **Subcategory:** Carbon Negative City Infrastructure\\n    - **Project Title:** Bamboo Eco-Tech-Industrial Garden City Project\\n    - **Grant Amount Sought:** None\\n    - **Objectives:** None\\n    - **Have you obtained proof of concept for your project?** None\\n\\n    Solution Summary: The \"Bamboo Eco-Tech-Industrial Garden City Project\" by GM Bamboo Eco-City Ltd. aims to address the environmental impact of traditional city development by creating carbon-negative cities. The project proposes to construct buildings and infrastructure using locally sourced materials like bamboo, lime, and biochar, eliminating the need for resource-intensive materials like cement and steel. This approach not only reduces carbon emissions but also sequesters carbon dioxide, similar to forests. The project further integrates rooftop greenhouses, indoor farms, and green walls to produce food and further enhance carbon storage. To achieve this, the project will develop advanced materials and technologies, including a parametric Life Cycle Assessment (LCA) framework and a digital twin software, to assess and optimize the environmental impact of the proposed solutions. The project has already secured land in Ghana, received support from Autodesk, and is currently discussing the development of a comprehensive software application with Microdesk. \\n\\n\\n    Proposed solution: None\\n\\n    Proposed project\\'s scope of work: None'}, prediction is not aligned with expected output, Expected: {'label': 'No', 'comment': 'Material solution not relevant to tracks in 2022.'} Predicted: {'label': 'Maybe', 'comment': 'Project has potential, but lacks clear objectives and proposed scope of work'}, Error message: Target is 'maybe', but prediction is 'no'\n",
      "Value mismatch for key label: Maybe != No\n",
      "\n",
      "\n",
      "Input: {'project_description': 'Grant Application Summary:\\n\\n    Grant Application Summary:\\n    - **Project Theme:** Decarbonisation\\n    - **Category:** Sustainable Urban Development\\n    - **Subcategory:** Carbon Negative City Infrastructure\\n    - **Project Title:** Bamboo Eco-Tech-Industrial Garden City Project\\n    - **Grant Amount Sought:** None\\n    - **Objectives:** None\\n    - **Have you obtained proof of concept for your project?** None\\n\\n    Solution Summary: The \"Bamboo Eco-Tech-Industrial Garden City Project\" by GM Bamboo Eco-City Ltd. aims to address the environmental impact of traditional city development by creating carbon-negative cities. The project proposes to construct buildings and infrastructure using locally sourced materials like bamboo, lime, and biochar, eliminating the need for resource-intensive materials like cement and steel. This approach not only reduces carbon emissions but also sequesters carbon dioxide, similar to forests. The project further integrates rooftop greenhouses, indoor farms, and green walls to produce food and further enhance carbon storage. To achieve this, the project will develop advanced materials and technologies, including a parametric Life Cycle Assessment (LCA) framework and a digital twin software, to assess and optimize the environmental impact of the proposed solutions. The project has already secured land in Ghana, received support from Autodesk, and is currently discussing the development of a comprehensive software application with Microdesk. \\n\\n\\n    Proposed solution: None\\n\\n    Proposed project\\'s scope of work: None'}, prediction is not aligned with expected output, Expected: {'label': 'No', 'comment': 'Material solution not relevant to tracks in 2022.'} Predicted: {'label': 'Maybe', 'comment': 'Project has potential, but lacks clear objectives and proposed scope of work'}\n",
      "\n",
      "Failed to parse LLM response -- JsonDecodeError : \n",
      "Expecting property name enclosed in double quotes: line 1 column 2 (char 1)AstLiteralError : \n",
      "'{' was never closed (<unknown>, line 1)\n",
      "================================================================================\n",
      "\n",
      "\n",
      "================================================================================\n",
      "📊 Code 2: Fitness: 0.0%\n",
      "--------------------------------------------------------------------------------\n",
      "❌ Error Messages:\n",
      "Failed to parse LLM response -- JsonDecodeError : \n",
      "Expecting value: line 1 column 1 (char 0)AstLiteralError : \n",
      "invalid syntax (<unknown>, line 1)\n",
      "Failed to parse LLM response -- JsonDecodeError : \n",
      "Expecting value: line 1 column 1 (char 0)AstLiteralError : \n",
      "invalid syntax (<unknown>, line 1)\n",
      "Failed to parse LLM response -- JsonDecodeError : \n",
      "Expecting value: line 1 column 1 (char 0)AstLiteralError : \n",
      "invalid syntax (<unknown>, line 1)\n",
      "================================================================================\n",
      "\n"
     ]
    }
   ],
   "source": [
    "node.evolve(\"i1\", batch_size=3) # run evolution :: Need to parallize test input inference\n"
   ]
  }
 ],
 "metadata": {
  "kernelspec": {
   "display_name": "base",
   "language": "python",
   "name": "python3"
  },
  "language_info": {
   "codemirror_mode": {
    "name": "ipython",
    "version": 3
   },
   "file_extension": ".py",
   "mimetype": "text/x-python",
   "name": "python",
   "nbconvert_exporter": "python",
   "pygments_lexer": "ipython3",
   "version": "3.11.5"
  }
 },
 "nbformat": 4,
 "nbformat_minor": 2
}
