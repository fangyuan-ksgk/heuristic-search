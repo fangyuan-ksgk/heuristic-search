{
 "cells": [
  {
   "cell_type": "code",
   "execution_count": 1,
   "metadata": {},
   "outputs": [
    {
     "name": "stdout",
     "output_type": "stream",
     "text": [
      "Could not load vllm class, check CUDA support and GPU RAM size\n"
     ]
    }
   ],
   "source": [
    "from methods.llm import get_async_vllm_endpoint\n",
    "import os \n",
    "\n",
    "# Unlimited LLM endpoints\n",
    "endpoint_id = \"vllm-8sz1f7zg7oy0ui\"\n",
    "api_key = \"rpa_EPOJED42G59S80Y6SKMCOI330EQU4JPPMKV2UD2W7j0uku\"\n",
    "get_endpoint_response = get_async_vllm_endpoint(endpoint_id, api_key)"
   ]
  },
  {
   "cell_type": "markdown",
   "metadata": {},
   "source": [
    "#### Temasek Foundation Dataset"
   ]
  },
  {
   "cell_type": "code",
   "execution_count": 3,
   "metadata": {},
   "outputs": [],
   "source": [
    "# 1. Test cases (dataloading ...)\n",
    "import sys \n",
    "sys.path.append(\"../notebook/\")\n",
    "from optm.soft_prompt import load_tf_data\n",
    "\n",
    "train_data, test_data = load_tf_data()\n",
    "\n",
    "# reference metric fuction below ... we care about prediction of label, specifically \"no\"\n",
    "# we care about precision more than we care abou recall on 'No' prediction \n",
    "\n",
    "# Node dataset should ideally be concise and pure application info included ...\n",
    "from methods.meta_prompt import MetaPrompt, PromptMode\n",
    "\n",
    "tf_meta_prompt = MetaPrompt(\n",
    "    task = \"Evaluate grant application, make a decision (Yes, No, Maybe) and a brief comment explanating your decision on why this project is likely to be accepted or rejected.\",\n",
    "    func_name = \"evaluate_grant\",\n",
    "    inputs = [\"project_description\"],\n",
    "    outputs = [\"label\", \"comment\"],\n",
    "    input_types = [\"str\"],\n",
    "    output_types = [\"str\", \"str\"],\n",
    "    mode = PromptMode.PROMPT\n",
    ")\n",
    "\n",
    "\n",
    "test_cases = []\n"
   ]
  },
  {
   "cell_type": "code",
   "execution_count": 7,
   "metadata": {},
   "outputs": [
    {
     "data": {
      "text/plain": [
       "'Given the following details of a grant application, determine the likelihood of acceptance. \\n    Assess how well the project aligns with the challenge theme, its viability, its potential impact, and any competitive advantage. \\n    Consider the stage of development, the proof of concept status, and existing partnerships. \\n    Provide your decision (Yes, No, Maybe) and a brief comment explanating your decision on why this project is likely to be accepted or rejected.\\n\\n    Grant Application Summary:\\n    - **Project Theme:** Food Systems & Sustainable Agriculture\\n    - **Category:** Food security\\n    - **Subcategory:** Food Waste Management\\n    - **Project Title:** You are not alone - Human is near you\\n    - **Grant Amount Sought:** None\\n    - **Objectives:** None\\n    - **Have you obtained proof of concept for your project?** None\\n\\n    Solution Summary: This application, \"You are not alone - Human is near you,\" aims to address the issue of malnutrition in Gujarat, India, particularly among children. The team recognizes that a significant number of children in the state are malnourished, with a high prevalence of underweight and severe acute malnutrition. Their proposed solution involves utilizing food waste, specifically from fruits and vegetables like banana peels, watermelon rinds, and corn silk, to create nutritious meals for children in government schools, hospitals, and rural areas. The project leverages the existing mid-day meal scheme, which provides meals to school children, to incorporate these nutrient-rich food waste products. By incorporating these ingredients, the team hopes to improve the nutritional content of the meals, combat malnutrition, and reduce food waste simultaneously. \\n\\n\\n    Proposed solution: None\\n\\n    Proposed project\\'s scope of work: None\\n\\n    Please provide your response in the following JSON format:\\n    ```json\\n    {\\n        \"decision\": \"Yes/No/Maybe\",\\n        \"comment\": \"Your detailed assessment explaining the decision\"\\n    }\\n    ```'"
      ]
     },
     "execution_count": 7,
     "metadata": {},
     "output_type": "execute_result"
    }
   ],
   "source": [
    "train_data[\"prompt\"][0]"
   ]
  },
  {
   "cell_type": "markdown",
   "metadata": {},
   "source": []
  },
  {
   "cell_type": "code",
   "execution_count": 2,
   "metadata": {},
   "outputs": [
    {
     "name": "stderr",
     "output_type": "stream",
     "text": [
      "Processing LLM queries: 100%|██████████| 20/20 [00:11<00:00,  1.70it/s]\n"
     ]
    },
    {
     "name": "stdout",
     "output_type": "stream",
     "text": [
      " :: Total time elapsed: 11.79s, 0 errors\n"
     ]
    },
    {
     "name": "stderr",
     "output_type": "stream",
     "text": [
      "Processing LLM queries: 100%|██████████| 24/24 [00:39<00:00,  1.66s/it]\n"
     ]
    },
    {
     "name": "stdout",
     "output_type": "stream",
     "text": [
      " :: Total time elapsed: 39.80s, 0 errors\n"
     ]
    },
    {
     "name": "stderr",
     "output_type": "stream",
     "text": [
      "Processing LLM queries: 0it [00:00, ?it/s]\n"
     ]
    },
    {
     "name": "stdout",
     "output_type": "stream",
     "text": [
      " :: Total time elapsed: 0.00s, 0 errors\n",
      "🏆 Best Code Performance Summary 🏆\n",
      "  ⚡ Structural fitness: 0.33\n",
      "  🎯 Functional fitness: 1.00\n",
      "  ⭐ Global fitness:     0.67\n",
      "  🔄 Compiled solutions:        16\n",
      "  ⏱️ Time breakdown:\n",
      "     :: Query time: 3.74s\n",
      "     :: Evolution time: 11.84s\n",
      "     :: Evaluation time: 73.45s\n",
      "     :: Total time: 89.03s\n",
      "\n",
      "\n",
      "================================================================================\n",
      "📊 Code 0: Fitness: 25.0%\n",
      "--------------------------------------------------------------------------------\n",
      "❌ Error Messages:\n",
      "Input: {'name': 'ChengXiao'}, prediction is not aligned with expected output, Expected: {'age': 26} Predicted: {'name': 'ChengXiao', 'age': 25, ' occupation': 'Artist'}, Error message: \n",
      "Value mismatch for key age: 25 != 26\n",
      "\n",
      "\n",
      "Failed to parse LLM response -- JsonDecodeError : \n",
      "Expecting value: line 1 column 1 (char 0)AstLiteralError : \n",
      "invalid syntax (<unknown>, line 1)\n",
      "================================================================================\n",
      "\n",
      "\n",
      "================================================================================\n",
      "📊 Code 1: Fitness: 8.3%\n",
      "--------------------------------------------------------------------------------\n",
      "❌ Error Messages:\n",
      "Input: {'name': 'Dilireba'}, prediction is not aligned with expected output, Expected: {'age': 32} Predicted: {'Search Result': [{'title': 'Dilireba Dilmurat Profile (Updated!) - Kpop Profiles', 'link': 'https://kprofiles.com/dilireba-dilmurat-profile/', 'snippet': \"Dilireba Dilmurat is a Chinese actress, singer, and model of Uyghur descent, she's currently under Jaywalk Studio.\", 'date': 'Jul 12, 2020', 'position': 1}, {'title': 'Dilraba Dilmurat - Wikipedia', 'link': 'https://en.wikipedia.org/wiki/Dilraba_Dilmurat', 'snippet': 'Dilraba Dilmurat (Uyghur: دىلرەبا دىلمۅرات, Chinese: 迪丽热巴·迪力木拉提; born June 3, 1992) is a Chinese actress, singer and model. She is an ethnic Uyghur ...', 'sitelinks': [{'title': 'The Legend of Anle', 'link': 'https://en.wikipedia.org/wiki/The_Legend_of_Anle'}, {'title': 'The Blue Whisper', 'link': 'https://en.wikipedia.org/wiki/The_Blue_Whisper'}, {'title': 'Eternal Love of Dream', 'link': 'https://en.wikipedia.org/wiki/Eternal_Love_of_Dream'}, {'title': 'Pretty Li Huizhen', 'link': 'https://en.wikipedia.org/wiki/Pretty_Li_Huizhen'}], 'position': 2}, {'title': 'Uyghur celebrities like Dilireba? : r/CDrama - Reddit', 'link': 'https://www.reddit.com/r/CDrama/comments/lbr2z8/uyghur_celebrities_like_dilireba/', 'snippet': \"I've been wondering about this for a while. How can there be such high-profile stars like Dilireba given what the Chinese government is doing to Uyghurs?\", 'date': 'Feb 3, 2021', 'sitelinks': [{'title': 'Chinese (Uyghur) actress Dilraba Dilmurat : r/VindictaRateCelebs', 'link': 'https://www.reddit.com/r/VindictaRateCelebs/comments/vtiyc9/chinese_uyghur_actress_dilraba_dilmurat/'}, {'title': \"What are Chinese people's thought on dilraba dilmurat's look? - Reddit\", 'link': 'https://www.reddit.com/r/CDrama/comments/14q8bsl/what_are_chinese_peoples_thought_on_dilraba/'}, {'title': 'Unpopular opinion: Dilireba was perfectly casted in The Long Ballad', 'link': 'https://www.reddit.com/r/CDrama/comments/xc093m/unpopular_opinion_dilireba_was_perfectly_casted/'}, {'title': \"Unpopular opinion- Dilraba's acting : r/CDrama - Reddit\", 'link': 'https://www.reddit.com/r/CDrama/comments/wgmdbx/unpopular_opinion_dilrabas_acting/'}], 'position': 3}, {'title': 'Who are the most famous actresses from Xinjiang?', 'link': 'https://www.scmp.com/magazines/style/celebrity/article/3131419/who-are-most-famous-actresses-xinjiang-gulnazar-dilraba', 'snippet': 'Likely the most recognisable Uygur actress today, Dilireba first gained recognition for her role in the action-drama series Swords of Legends in ...', 'date': 'Apr 28, 2021', 'attributes': {'Missing': 'profiles | Show results with:profiles'}, 'position': 4}, {'title': 'Dilraba Dilmurat (迪丽热巴) - MyDramaList', 'link': 'https://mydramalist.com/people/7830-dilmurat-dilraba', 'snippet': \"Dilraba Dilmurat, born in Xinjiang, China, is an award-winning actor, dancer and singer of Uyghur descent. She's represented by Jay Walk Studio (嘉行传媒)) ...\", 'sitelinks': [{'title': 'Love Beyond the Grave', 'link': 'https://mydramalist.com/750689-bai-ri-ti-deng'}, {'title': 'Love on the Turquoise Land', 'link': 'https://mydramalist.com/702977-xiao-qi-qing-rang'}, {'title': 'Sword Rose', 'link': 'https://mydramalist.com/747105-li-jian-mei-gui'}, {'title': 'Hot Girl (2016)', 'link': 'https://mydramalist.com/17245-hot-girl'}], 'position': 5}, {'title': 'Dilrabaxx63 - 2024 Celebrity Douyin Top 100 Most Followed...', 'link': 'https://www.facebook.com/permalink.php/?story_fbid=444012458434691&id=100084778222988', 'snippet': '2024 Celebrity Douyin Top 100 Most Followed Celebrities: Jia Ling, Zhao Liying, Lin Gengxin, #Dilraba , Jay Chou, Zhao Lusi, Liu Yifei, Yang Mi, Bai Lu, ...', 'position': 6}, {'title': 'Dilireba (Dilraba Dilmurat) and Angelababy - YouTube', 'link': 'https://m.youtube.com/watch?v=6wY4kPZnvuA', 'snippet': 'Dilireba (Dilraba Dilmurat) and Angelababy |Profile and Drama List (2024 - 2013) | · Comments.', 'date': 'May 17, 2024', 'attributes': {'Duration': '6:51', 'Posted': 'May 17, 2024'}, 'position': 7}, {'title': 'Who is Dilraba Dilmurat? Top China actress is Xinjiang native with ...', 'link': 'https://www.scmp.com/news/people-culture/china-personalities/article/3250281/who-dilraba-dilmurat-top-china-actress-xinjiang-native-80-million-fans-whose-name-means-beloved', 'snippet': \"China's most famous actress is Dilraba Dilmurat, a 31-year-old Xinjiang native who has more than 80 million followers on the social media platform Weibo.\", 'date': 'Feb 8, 2024', 'position': 8}, {'title': \"So a random Interview about Chinese Celebrity show's our #Dilraba ...\", 'link': 'https://m.facebook.com/DilrabaDilmuratFan/videos/so-a-random-interview-about-chinese-celebrity-shows-our-dilraba-is-so-popular-ov/1213197549924014/', 'snippet': \"So a random Interview about Chinese Celebrity show's our #Dilraba ... Dilraba Dilmurat ...\", 'date': 'Sep 23, 2024', 'attributes': {'Duration': '0:26', 'Posted': 'Sep 23, 2024'}, 'position': 9}, {'title': 'Dilireba and Xiao Zhan | Profile and Drama List (2023 - YouTube', 'link': 'https://www.youtube.com/watch?v=6ab75h3uE8s', 'snippet': 'Dilireba and Xiao Zhan | Profile and Drama List (2023 - 2013) | ... Only Celebrity World•253K ...', 'date': 'Oct 8, 2023', 'attributes': {'Duration': '7:02', 'Posted': 'Oct 8, 2023'}, 'position': 10}]}, Error message: Key age not found in prediction output\n",
      "\n",
      "\n",
      "Failed to parse LLM response -- JsonDecodeError : \n",
      "Expecting value: line 3 column 5 (char 27)AstLiteralError : \n",
      "invalid syntax (<unknown>, line 3)\n",
      "================================================================================\n",
      "\n",
      "\n",
      "================================================================================\n",
      "📊 Code 2: Fitness: 0.0%\n",
      "--------------------------------------------------------------------------------\n",
      "❌ Error Messages:\n",
      "Failed to parse LLM response -- JsonDecodeError : \n",
      "Expecting value: line 1 column 1 (char 0)AstLiteralError : \n",
      "invalid syntax (<unknown>, line 1)\n",
      "Failed to parse LLM response -- JsonDecodeError : \n",
      "Expecting property name enclosed in double quotes: line 1 column 2 (char 1)AstLiteralError : \n",
      "'{' was never closed (<unknown>, line 1)\n",
      "================================================================================\n",
      "\n",
      "\n",
      "================================================================================\n",
      "📊 Code 3: Fitness: 0.0%\n",
      "--------------------------------------------------------------------------------\n",
      "❌ Error Messages:\n",
      "Failed to parse LLM response -- JsonDecodeError : \n",
      "Expecting value: line 1 column 1 (char 0)AstLiteralError : \n",
      "invalid syntax (<unknown>, line 1)\n",
      "Failed to parse LLM response -- JsonDecodeError : \n",
      "Expecting value: line 1 column 1 (char 0)AstLiteralError : \n",
      "invalid syntax (<unknown>, line 1)\n",
      "================================================================================\n",
      "\n",
      "\n",
      "================================================================================\n",
      "📊 Code 4: Fitness: 41.7%\n",
      "--------------------------------------------------------------------------------\n",
      "❌ Error Messages:\n",
      "Input: {'name': 'ChengXiao'}, prediction is not aligned with expected output, Expected: {'age': 26} Predicted: {'age': '25'}, Error message: \n",
      "Value mismatch for key age: 25 != 26\n",
      "\n",
      "\n",
      "================================================================================\n",
      "\n",
      "\n",
      "================================================================================\n",
      "📊 Code 5: Fitness: 0.0%\n",
      "--------------------------------------------------------------------------------\n",
      "❌ Error Messages:\n",
      "Failed to parse LLM response -- JsonDecodeError : \n",
      "Expecting value: line 1 column 1 (char 0)AstLiteralError : \n",
      "invalid syntax (<unknown>, line 1)\n",
      "Failed to parse LLM response -- JsonDecodeError : \n",
      "Expecting value: line 1 column 1 (char 0)AstLiteralError : \n",
      "unterminated string literal (detected at line 45) (<unknown>, line 45)\n",
      "================================================================================\n",
      "\n",
      "\n",
      "================================================================================\n",
      "📊 Code 6: Fitness: 0.0%\n",
      "--------------------------------------------------------------------------------\n",
      "❌ Error Messages:\n",
      "name 're' is not defined\n",
      "name 're' is not defined\n",
      "================================================================================\n",
      "\n",
      "\n",
      "================================================================================\n",
      "📊 Code 7: Fitness: 0.0%\n",
      "--------------------------------------------------------------------------------\n",
      "❌ Error Messages:\n",
      "Failed to parse LLM response -- JsonDecodeError : \n",
      "Expecting value: line 1 column 1 (char 0)AstLiteralError : \n",
      "invalid syntax (<unknown>, line 1)\n",
      "Failed to parse LLM response -- No JSON structure found in the provided text.\n",
      "================================================================================\n",
      "\n",
      "\n",
      "================================================================================\n",
      "📊 Code 8: Fitness: 0.0%\n",
      "--------------------------------------------------------------------------------\n",
      "❌ Error Messages:\n",
      "Failed to parse LLM response -- JsonDecodeError : \n",
      "Expecting property name enclosed in double quotes: line 1 column 2 (char 1)AstLiteralError : \n",
      "'{' was never closed (<unknown>, line 1)\n",
      "Failed to parse LLM response -- JsonDecodeError : \n",
      "Expecting property name enclosed in double quotes: line 1 column 2 (char 1)AstLiteralError : \n",
      "'{' was never closed (<unknown>, line 1)\n",
      "================================================================================\n",
      "\n",
      "\n",
      "================================================================================\n",
      "📊 Code 9: Fitness: 0.0%\n",
      "--------------------------------------------------------------------------------\n",
      "❌ Error Messages:\n",
      "time data '' does not match format '%B %d, %Y'\n",
      "time data '' does not match format '%B %d, %Y'\n",
      "================================================================================\n",
      "\n",
      "\n",
      "================================================================================\n",
      "📊 Code 10: Fitness: 0.0%\n",
      "--------------------------------------------------------------------------------\n",
      "❌ Error Messages:\n",
      "list index out of range\n",
      "list index out of range\n",
      "================================================================================\n",
      "\n",
      "\n",
      "================================================================================\n",
      "📊 Code 11: Fitness: 66.7%\n",
      "================================================================================\n",
      "\n",
      "\n",
      "================================================================================\n",
      "📊 Code 12: Fitness: 16.7%\n",
      "--------------------------------------------------------------------------------\n",
      "❌ Error Messages:\n",
      "Input: {'name': 'Dilireba'}, prediction is not aligned with expected output, Expected: {'age': 32} Predicted: {'age': 31}, Error message: \n",
      "Value mismatch for key age: 31 != 32\n",
      "\n",
      "\n",
      "Input: {'name': 'ChengXiao'}, prediction is not aligned with expected output, Expected: {'age': 26} Predicted: {'age': 25}, Error message: \n",
      "Value mismatch for key age: 25 != 26\n",
      "\n",
      "\n",
      "================================================================================\n",
      "\n",
      "\n",
      "================================================================================\n",
      "📊 Code 13: Fitness: 8.3%\n",
      "--------------------------------------------------------------------------------\n",
      "❌ Error Messages:\n",
      "Input: {'name': 'Dilireba'}, prediction is not aligned with expected output, Expected: {'age': 32} Predicted: {'age': 31}, Error message: \n",
      "Value mismatch for key age: 31 != 32\n",
      "\n",
      "\n",
      "Failed to parse LLM response -- JsonDecodeError : \n",
      "Expecting value: line 1 column 1 (char 0)AstLiteralError : \n",
      "invalid syntax (<unknown>, line 1)\n",
      "================================================================================\n",
      "\n",
      "\n",
      "================================================================================\n",
      "📊 Code 14: Fitness: 66.7%\n",
      "================================================================================\n",
      "\n",
      "\n",
      "================================================================================\n",
      "📊 Code 15: Fitness: 0.0%\n",
      "--------------------------------------------------------------------------------\n",
      "❌ Error Messages:\n",
      "time data '{' does not match format '%B %d, %Y'\n",
      "time data '{' does not match format '%B %d, %Y'\n",
      "================================================================================\n",
      "\n",
      "Error occurred during API request: Function execution timed out (> 3 seconds)\n"
     ]
    },
    {
     "name": "stderr",
     "output_type": "stream",
     "text": [
      "Processing LLM queries: 100%|██████████| 6/6 [00:02<00:00,  2.10it/s]"
     ]
    },
    {
     "name": "stdout",
     "output_type": "stream",
     "text": [
      " :: Total time elapsed: 2.86s, 0 errors\n",
      "Output dict:  {'age': 32}\n"
     ]
    },
    {
     "name": "stderr",
     "output_type": "stream",
     "text": [
      "\n"
     ]
    }
   ],
   "source": [
    "from methods.meta_prompt import MetaPrompt, PromptMode\n",
    "from methods.evolnode import EvolNode\n",
    "from methods.llm import get_groq_response, get_claude_response\n",
    "\n",
    "# Code + Compilor Task\n",
    "# mp = MetaPrompt(\"Search for age of a celebrity.\", \"get_celeb_age\", [\"name\"], [\"age\"], [\"str\"], [\"int\"], PromptMode.CODE)\n",
    "# Prompt + LLM Task\n",
    "mp = MetaPrompt(\"Get the age of a celebrity.\", \"get_celeb_age\", [\"name\"], [\"age\"], [\"str\"], [\"int\"], PromptMode.PROMPT) # \n",
    "\n",
    "test_cases = [\n",
    "    ({\"name\": \"Dilireba\"}, {\"age\": 32}),\n",
    "    ({\"name\": \"ChengXiao\"}, {\"age\": 26})\n",
    "]\n",
    "\n",
    "test_inputs = [c[0] for c in test_cases]\n",
    "\n",
    "node = EvolNode(mp, None, None, get_response=get_endpoint_response, test_cases=test_cases) # setting manual test cases\n",
    "\n",
    "node.evolve(\"i1\", replace=True, batch_size=20, num_runs=2, print_summary=True) # Scale up batch size\n",
    "\n",
    "\n",
    "input_dict = {\"name\": \"Dilireba\"}\n",
    "output_dict = node(input_dict, max_attempts=6) # Batch Inference with vLLM\n",
    "\n",
    "# node.get_response = get_groq_response # fast sequential inference\n",
    "# output_dict = node(input_dict, max_attempts=6, batch_inference=False)\n",
    " \n",
    "print(\"Output dict: \", output_dict)"
   ]
  },
  {
   "cell_type": "code",
   "execution_count": null,
   "metadata": {},
   "outputs": [],
   "source": []
  }
 ],
 "metadata": {
  "kernelspec": {
   "display_name": "base",
   "language": "python",
   "name": "python3"
  },
  "language_info": {
   "codemirror_mode": {
    "name": "ipython",
    "version": 3
   },
   "file_extension": ".py",
   "mimetype": "text/x-python",
   "name": "python",
   "nbconvert_exporter": "python",
   "pygments_lexer": "ipython3",
   "version": "3.11.5"
  }
 },
 "nbformat": 4,
 "nbformat_minor": 2
}
