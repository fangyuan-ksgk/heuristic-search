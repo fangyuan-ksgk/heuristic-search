{
 "cells": [
  {
   "cell_type": "markdown",
   "metadata": {},
   "source": [
    "#### MetaPrompt for evolution"
   ]
  },
  {
   "cell_type": "code",
   "execution_count": 1,
   "metadata": {},
   "outputs": [
    {
     "name": "stdout",
     "output_type": "stream",
     "text": [
      "MetaPrompt templated I1 propmt: \n",
      "Help a specific person to get into DeepMind as a Research Scientist.\n",
      "First, describe your new reasoning and main thoughts in one sentence.The description must be inside a brace. Implement a Python function that generates a prompt to guide an AI in completing the task. Follow these specifications: - Function name: generate_prompt - Input parameters: 'name' - Return value: A string containing the final prompt for the AI.\n",
      "Your function should incorporate the reasoning from step 1 and use the input parameters to create a tailored prompt for the task.\n",
      "Could not load vllm class, check CUDA support and GPU RAM size\n",
      "LLM Response: \n",
      "(Helping a specific person secure a role as a Research Scientist at DeepMind involves creating a tailored, detailed plan guiding them on the necessary qualifications, experiences, and steps to successfully navigate the application and interview process.)\n",
      "\n",
      "```python\n",
      "def generate_prompt(name):\n",
      "    prompt = (\n",
      "        f\"Create a detailed, step-by-step guide for {name} to secure a role as a Research Scientist at DeepMind. \"\n",
      "        f\"Include insights on the necessary qualifications, skills, and experiences required. Outline strategies for effectively crafting \"\n",
      "        f\"a standout resume and cover letter, advice for networking with current DeepMind employees, and tips for succeeding in technical interviews \"\n",
      "        f\"and research presentations. Additionally, provide suggestions on relevant projects, publications, and continuous learning opportunities that will \"\n",
      "        f\"enhance {name}'s profile to meet DeepMind's expectations.\"\n",
      "    )\n",
      "    return prompt\n",
      "\n",
      "# Example usage:\n",
      "# print(generate_prompt('Alice'))\n",
      "```\n"
     ]
    }
   ],
   "source": [
    "from methods.meta_prompt import MetaPrompt, PromptMode\n",
    "\n",
    "mp = MetaPrompt(\"Help a specific person to get into DeepMind as a Research Scientist.\", \"go_deepmind\", [\"name\"], [\"plan\"], PromptMode.PROMPT)\n",
    "prompt = mp._get_prompt_i1()\n",
    "print(\"MetaPrompt templated I1 propmt: \")\n",
    "print(prompt)\n",
    "\n",
    "\n",
    "from methods.llm import get_openai_response\n",
    "response = get_openai_response(prompt)\n",
    "\n",
    "print(\"LLM Response: \")\n",
    "print(response)"
   ]
  },
  {
   "cell_type": "code",
   "execution_count": 1,
   "metadata": {},
   "outputs": [
    {
     "name": "stdout",
     "output_type": "stream",
     "text": [
      "MetaPrompt I1: \n",
      "Goal: Help me date Dilireba, I'm a white colar worker living on salary.\n",
      "First, describe the intuition for your tactics and main steps in one sentence. The description must be inside a brace.\n",
      "Generate a JSON-style plan represented as a Directed Acyclic Graph (DAG) to achieve the goal. Use creative topology in the DAG, include parallel tasks if required.\n",
      "\n",
      "The plan should include:\n",
      "\n",
      "- **Nodes**: Each node represents a key action or step and must contain the following attributes:\n",
      "  - `task`: Description of the task.\n",
      "  - `name`: Concise name used for the task function.\n",
      "  - `input`: The resources, information, or prerequisites needed to perform the action.\n",
      "  - `output`: The immediate result or outcome of the action.\n",
      "  - `target`: The purpose or goal that the action contributes to.\n",
      "  - `mode`: The execution mode for this task (\"CODE\" or \"PROMPT\").\n",
      "\n",
      "- **Edges**: Each edge represents a dependency or relationship between nodes, indicating that one step supports or leads to another.\n",
      "  - `source`: The `id` of the source node (the preceding action).\n",
      "  - `target`: The `id` of the target node (the subsequent action).\n",
      "\n",
      "**Output Format:**\n",
      "\n",
      "Provide the output in the following JSON structure:\n",
      "\n",
      "```json\n",
      "{\n",
      "  \"nodes\": [\n",
      "    {\n",
      "      \"task\": \"Task 1\",\n",
      "      \"name\": \"task_1\"\n",
      "      \"input\": \"Inputs required for Action 1\",\n",
      "      \"output\": \"Outputs/result of Action 1\",\n",
      "      \"target\": \"Purpose of Action 1\"\n",
      "      \"mode\": \"CODE\"\n",
      "    },\n",
      "    {\n",
      "      \"task\": \"Task 2\",\n",
      "      \"name\": \"task_2\",\n",
      "      \"input\": \"Inputs required for Action 2\",\n",
      "      \"output\": \"Outputs/result of Action 2\",\n",
      "      \"target\": \"Purpose of Action 2\"\n",
      "      \"mode\": \"PROMPT\"\n",
      "    }\n",
      "    // Add more nodes as needed\n",
      "  ],\n",
      "  \"edges\": [\n",
      "    {\n",
      "      \"source\": \"task_1\",\n",
      "      \"target\": \"task_2\"\n",
      "    }\n",
      "    // Add more edges as needed\n",
      "  ]\n",
      "}\n",
      "\n",
      "Could not load vllm class, check CUDA support and GPU RAM size\n"
     ]
    }
   ],
   "source": [
    "from methods.meta_prompt import MetaPlan, extract_json_from_text\n",
    "\n",
    "mp = MetaPlan(\"Help me date Dilireba, I'm a white colar worker living on salary.\")\n",
    "prompt = mp._get_prompt_i1()\n",
    "print(\"MetaPrompt I1: \")\n",
    "print(prompt)\n",
    "\n",
    "from methods.llm import get_openai_response\n",
    "response = get_openai_response(prompt)\n",
    "\n"
   ]
  },
  {
   "cell_type": "code",
   "execution_count": 2,
   "metadata": {},
   "outputs": [],
   "source": [
    "import re \n",
    "# from methods.meta_prompt import parse_json_from_response\n",
    "\n",
    "tactic = re.findall(r\"\\{(.*)\\}\", response, re.DOTALL)\n",
    "plan_dict = extract_json_from_text(response)"
   ]
  },
  {
   "cell_type": "code",
   "execution_count": 3,
   "metadata": {},
   "outputs": [
    {
     "data": {
      "text/plain": [
       "{'nodes': [{'task': \"Research Dilireba's interests, preferences, and social activities.\",\n",
       "   'name': 'research_interests',\n",
       "   'input': 'Internet search, social media, interviews, articles.',\n",
       "   'output': \"Comprehensive list of Dilireba's interests and preferences.\",\n",
       "   'target': 'Gain understanding of her likes and dislikes.',\n",
       "   'mode': 'CODE'},\n",
       "  {'task': 'Identify common interests and hobbies.',\n",
       "   'name': 'identify_common_interests',\n",
       "   'input': \"Comprehensive list of Dilireba's interests and preferences.\",\n",
       "   'output': 'List of shared interests.',\n",
       "   'target': 'Find common ground to build a connection.',\n",
       "   'mode': 'CODE'},\n",
       "  {'task': 'Join exclusive events, groups or activities that align with both your and her interests.',\n",
       "   'name': 'join_common_activities',\n",
       "   'input': 'List of shared interests, event schedules, group memberships.',\n",
       "   'output': 'Memberships, event tickets, participation in activities.',\n",
       "   'target': 'Increase chances of interaction in a natural setting.',\n",
       "   'mode': 'PROMPT'},\n",
       "  {'task': 'Work on personal branding and public image to align with the circles she frequents.',\n",
       "   'name': 'personal_branding',\n",
       "   'input': 'Professional photos, social media profiles, public appearances.',\n",
       "   'output': 'Improved public image and social media presence.',\n",
       "   'target': 'Enhance visibility and social credibility.',\n",
       "   'mode': 'PROMPT'},\n",
       "  {'task': 'Network with people who have direct or indirect connections with her.',\n",
       "   'name': 'network',\n",
       "   'input': 'Social media, LinkedIn, industry events, mutual acquaintances.',\n",
       "   'output': 'New connections and introductions.',\n",
       "   'target': 'Use social proof to build a credible introduction.',\n",
       "   'mode': 'PROMPT'},\n",
       "  {'task': 'Create opportunities for meaningful conversations.',\n",
       "   'name': 'create_opportunities',\n",
       "   'input': 'Common activities and mutual connections.',\n",
       "   'output': 'Informal meetups or introductions.',\n",
       "   'target': 'Establish a genuine connection.',\n",
       "   'mode': 'PROMPT'},\n",
       "  {'task': 'Express genuine interest in her and her work during conversations.',\n",
       "   'name': 'show_interest',\n",
       "   'input': 'Knowledge about her work and interests.',\n",
       "   'output': 'Engaging and meaningful conversations.',\n",
       "   'target': 'Show that you truly value her as a person.',\n",
       "   'mode': 'PROMPT'},\n",
       "  {'task': 'Respect her boundaries and pace of the relationship.',\n",
       "   'name': 'respect_boundaries',\n",
       "   'input': 'Social cues, feedback from interactions.',\n",
       "   'output': 'A respectful and genuine relationship dynamic.',\n",
       "   'target': 'Build trust and a positive rapport.',\n",
       "   'mode': 'PROMPT'}],\n",
       " 'edges': [{'source': 'research_interests',\n",
       "   'target': 'identify_common_interests'},\n",
       "  {'source': 'identify_common_interests', 'target': 'join_common_activities'},\n",
       "  {'source': 'identify_common_interests', 'target': 'personal_branding'},\n",
       "  {'source': 'personal_branding', 'target': 'network'},\n",
       "  {'source': 'join_common_activities', 'target': 'create_opportunities'},\n",
       "  {'source': 'network', 'target': 'create_opportunities'},\n",
       "  {'source': 'create_opportunities', 'target': 'show_interest'},\n",
       "  {'source': 'show_interest', 'target': 'respect_boundaries'}]}"
      ]
     },
     "execution_count": 3,
     "metadata": {},
     "output_type": "execute_result"
    }
   ],
   "source": [
    "plan_dict"
   ]
  },
  {
   "cell_type": "code",
   "execution_count": 4,
   "metadata": {},
   "outputs": [],
   "source": [
    "from methods.meta_prompt import MetaPrompt\n",
    "\n",
    "# Collect MetaPrompt from parsed Plan-Graph Response\n",
    "meta_node_prompts = []\n",
    "for node in plan_dict[\"nodes\"]:\n",
    "    node_prompt = MetaPrompt(task=node.get(\"task\"),  func_name=node.get(\"name\"), input=node.get(\"input\"), output=node.get(\"output\"), mode=node.get(\"mode\").lower())\n",
    "    meta_node_prompts.append(node_prompt)\n",
    "    \n",
    "edges = plan_dict[\"edges\"]"
   ]
  },
  {
   "cell_type": "code",
   "execution_count": 5,
   "metadata": {},
   "outputs": [
    {
     "data": {
      "text/plain": [
       "<methods.eoh_evolution.EvolNode at 0x2893758d0>"
      ]
     },
     "execution_count": 5,
     "metadata": {},
     "output_type": "execute_result"
    }
   ],
   "source": [
    "from methods.eoh_evolution import EvolNode\n",
    "\n",
    "EvolNode(meta_prompt = node_prompt)\n"
   ]
  },
  {
   "cell_type": "code",
   "execution_count": null,
   "metadata": {},
   "outputs": [],
   "source": []
  }
 ],
 "metadata": {
  "kernelspec": {
   "display_name": "base",
   "language": "python",
   "name": "python3"
  },
  "language_info": {
   "codemirror_mode": {
    "name": "ipython",
    "version": 3
   },
   "file_extension": ".py",
   "mimetype": "text/x-python",
   "name": "python",
   "nbconvert_exporter": "python",
   "pygments_lexer": "ipython3",
   "version": "3.11.5"
  }
 },
 "nbformat": 4,
 "nbformat_minor": 2
}
