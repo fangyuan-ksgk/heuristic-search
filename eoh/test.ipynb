{
 "cells": [
  {
   "cell_type": "markdown",
   "metadata": {},
   "source": [
    "#### Evolution Node \n",
    "- Task, Input, Output\n",
    "- LLM guided evolution\n",
    "- LLM-engineered Code Function or Prompt"
   ]
  },
  {
   "cell_type": "code",
   "execution_count": 1,
   "metadata": {},
   "outputs": [
    {
     "name": "stdout",
     "output_type": "stream",
     "text": [
      "Could not load vllm class, check CUDA support and GPU RAM size\n"
     ]
    },
    {
     "data": {
      "text/plain": [
       "{'name': 'Deilireba', 'age': 31}"
      ]
     },
     "execution_count": 1,
     "metadata": {},
     "output_type": "execute_result"
    }
   ],
   "source": [
    "from methods.meta_prompt import MetaPrompt, PromptMode\n",
    "from methods.eoh_evolution import EvolNode\n",
    "\n",
    "# Goal incoporation\n",
    "# mp = MetaPrompt(\"Generate Fibonacci sequence.\", \"fibonacci\", [\"n\"], [\"sequence (list)\"], PromptMode.CODE) # \n",
    "mp = MetaPrompt(\"Get the age of a celebrity.\", \"get_celeb_age\", [\"name_of_celebrity\"], [\"age\"], PromptMode.PROMPT) # \n",
    "\n",
    "node = EvolNode(mp, None, None)\n",
    "\n",
    "# Evolve the node (LLM guided function / prompt write-up)\n",
    "reasoning, code = node._evolve(\"i1\", replace=True)\n",
    "\n",
    "# Now you can use this node as a proper function (!)\n",
    "# node(10)\n",
    "node(\"Deilireba\")"
   ]
  },
  {
   "cell_type": "markdown",
   "metadata": {},
   "source": [
    "#### Evolution Graph\n",
    "- Take care of connecting each components (unfolding dictionary object etc.)\n",
    "- Planning topology with evolution node"
   ]
  },
  {
   "cell_type": "code",
   "execution_count": 2,
   "metadata": {},
   "outputs": [
    {
     "name": "stdout",
     "output_type": "stream",
     "text": [
      "MetaPrompt I1: \n",
      "Goal: Help me date Dilireba, I'm a white colar worker living on salary.\n",
      "First, describe the intuition for your tactics and main steps in one sentence. The description must be inside a brace.\n",
      "Generate a JSON-style plan represented as a Directed Acyclic Graph (DAG) to achieve the goal. Use creative topology in the DAG, include parallel tasks if required.\n",
      "\n",
      "The plan should include:\n",
      "\n",
      "- **Nodes**: Each node represents a key action or step and must contain the following attributes:\n",
      "  - `task`: Description of the task.\n",
      "  - `name`: Concise name used for the task function.\n",
      "  - `input`: The resources, information, or prerequisites needed to perform the action.\n",
      "  - `output`: The immediate result or outcome of the action.\n",
      "  - `target`: The purpose or goal that the action contributes to.\n",
      "  - `mode`: The execution mode for this task (\"CODE\" or \"PROMPT\").\n",
      "\n",
      "- **Edges**: Each edge represents a dependency or relationship between nodes, indicating that one step supports or leads to another.\n",
      "  - `source`: The `id` of the source node (the preceding action).\n",
      "  - `target`: The `id` of the target node (the subsequent action).\n",
      "\n",
      "**Output Format:**\n",
      "\n",
      "Provide the output in the following JSON structure:\n",
      "\n",
      "```json\n",
      "{\n",
      "  \"nodes\": [\n",
      "    {\n",
      "      \"task\": \"Task 1\",\n",
      "      \"name\": \"task_1\"\n",
      "      \"input\": \"Inputs required for Action 1\",\n",
      "      \"output\": \"Outputs/result of Action 1\",\n",
      "      \"target\": \"Purpose of Action 1\"\n",
      "      \"mode\": \"CODE\"\n",
      "    },\n",
      "    {\n",
      "      \"task\": \"Task 2\",\n",
      "      \"name\": \"task_2\",\n",
      "      \"input\": \"Inputs required for Action 2\",\n",
      "      \"output\": \"Outputs/result of Action 2\",\n",
      "      \"target\": \"Purpose of Action 2\",\n",
      "      \"mode\": \"PROMPT\"\n",
      "    }\n",
      "    // Add more nodes as needed\n",
      "  ],\n",
      "  \"edges\": [\n",
      "    {\n",
      "      \"source\": \"task_1\",\n",
      "      \"target\": \"task_2\"\n",
      "    }\n",
      "    // Add more edges as needed\n",
      "  ]\n",
      "}\n",
      "\n"
     ]
    }
   ],
   "source": [
    "from methods.meta_prompt import MetaPlan, extract_json_from_text\n",
    "\n",
    "mp = MetaPlan(\"Help me date Dilireba, I'm a white colar worker living on salary.\")\n",
    "prompt = mp._get_prompt_i1()\n",
    "print(\"MetaPrompt I1: \")\n",
    "print(prompt)\n",
    "\n",
    "from methods.llm import get_openai_response\n",
    "response = get_openai_response(prompt)"
   ]
  },
  {
   "cell_type": "code",
   "execution_count": 11,
   "metadata": {},
   "outputs": [],
   "source": [
    "import re \n",
    "# from methods.meta_prompt import parse_json_from_response\n",
    "\n",
    "tactic = re.findall(r\"\\{(.*)\\}\", response, re.DOTALL)\n",
    "plan_dict = extract_json_from_text(response)"
   ]
  },
  {
   "cell_type": "code",
   "execution_count": 13,
   "metadata": {},
   "outputs": [
    {
     "data": {
      "text/plain": [
       "['Efficiently strategize to leverage personal strengths, shared interests, and social connections while maintaining genuine and respectful behavior.}\\n\\n```json\\n{\\n  \"nodes\": [\\n    {\\n      \"task\": \"Research Dilireba\\'s interests, hobbies, and public preferences.\",\\n      \"name\": \"research_interests\",\\n      \"input\": \"Internet, social media, celebrity interviews\",\\n      \"output\": \"List of Dilireba\\'s interests and hobbies\",\\n      \"target\": \"Gathering knowledge on common interests\",\\n      \"mode\": \"CODE\"\\n    },\\n    {\\n      \"task\": \"Develop shared interest areas or hobbies.\",\\n      \"name\": \"develop_shared_interests\",\\n      \"input\": \"List of Dilireba\\'s interests\",\\n      \"output\": \"Personal engagement in shared hobbies\",\\n      \"target\": \"Creating potential conversation and bonding points\",\\n      \"mode\": \"CODE\"\\n    },\\n    {\\n      \"task\": \"Improve personal appearance and fitness.\",\\n      \"name\": \"self_improvement\",\\n      \"input\": \"Gym membership, healthy diet plan, wardrobe upgrade\",\\n      \"output\": \"Enhanced physical appearance and confidence\",\\n      \"target\": \"Making a good first impression\",\\n      \"mode\": \"CODE\"\\n    },\\n    {\\n      \"task\": \"Network with people in the entertainment industry.\",\\n      \"name\": \"network_industry\",\\n      \"input\": \"Social media, industry events, professional contacts\",\\n      \"output\": \"Connections with industry insiders\",\\n      \"target\": \"Getting access to Dilireba\\'s social circles\",\\n      \"mode\": \"CODE\"\\n    },\\n    {\\n      \"task\": \"Plan an encounter at industry events.\",\\n      \"name\": \"plan_encounter\",\\n      \"input\": \"Connections with industry insiders, event calendars\",\\n      \"output\": \"Scheduled attendance at relevant events\",\\n      \"target\": \"Creating opportunities to meet Dilireba\",\\n      \"mode\": \"CODE\"\\n    },\\n    {\\n      \"task\": \"Strike up a genuine conversation about shared interests.\",\\n      \"name\": \"genuine_conversation\",\\n      \"input\": \"Knowledge of shared interests, social skills\",\\n      \"output\": \"Meaningful conversation with Dilireba\",\\n      \"target\": \"Building initial rapport\",\\n      \"mode\": \"PROMPT\"\\n    },\\n    {\\n      \"task\": \"Follow up through social media or mutual contacts.\",\\n      \"name\": \"follow_up\",\\n      \"input\": \"Previous conversation details, social media presence\",\\n      \"output\": \"Continued communication\",\\n      \"target\": \"Deepening the connection\",\\n      \"mode\": \"PROMPT\"\\n    },\\n    {\\n      \"task\": \"Ask her out for a casual meet-up.\",\\n      \"name\": \"ask_out\",\\n      \"input\": \"Established rapport, mutual interests\",\\n      \"output\": \"Accepted date invitation\",\\n      \"target\": \"Moving towards a date\",\\n      \"mode\": \"PROMPT\"\\n    }\\n  ],\\n  \"edges\": [\\n    {\\n      \"source\": \"research_interests\",\\n      \"target\": \"develop_shared_interests\"\\n    },\\n    {\\n      \"source\": \"develop_shared_interests\",\\n      \"target\": \"self_improvement\"\\n    },\\n    {\\n      \"source\": \"self_improvement\",\\n      \"target\": \"network_industry\"\\n    },\\n    {\\n      \"source\": \"network_industry\",\\n      \"target\": \"plan_encounter\"\\n    },\\n    {\\n      \"source\": \"plan_encounter\",\\n      \"target\": \"genuine_conversation\"\\n    },\\n    {\\n      \"source\": \"genuine_conversation\",\\n      \"target\": \"follow_up\"\\n    },\\n    {\\n      \"source\": \"follow_up\",\\n      \"target\": \"ask_out\"\\n    }\\n  ]\\n']"
      ]
     },
     "execution_count": 13,
     "metadata": {},
     "output_type": "execute_result"
    }
   ],
   "source": [
    "tactic"
   ]
  },
  {
   "cell_type": "code",
   "execution_count": 12,
   "metadata": {},
   "outputs": [
    {
     "data": {
      "text/plain": [
       "{'nodes': [{'task': \"Research Dilireba's interests, hobbies, and public preferences.\",\n",
       "   'name': 'research_interests',\n",
       "   'input': 'Internet, social media, celebrity interviews',\n",
       "   'output': \"List of Dilireba's interests and hobbies\",\n",
       "   'target': 'Gathering knowledge on common interests',\n",
       "   'mode': 'CODE'},\n",
       "  {'task': 'Develop shared interest areas or hobbies.',\n",
       "   'name': 'develop_shared_interests',\n",
       "   'input': \"List of Dilireba's interests\",\n",
       "   'output': 'Personal engagement in shared hobbies',\n",
       "   'target': 'Creating potential conversation and bonding points',\n",
       "   'mode': 'CODE'},\n",
       "  {'task': 'Improve personal appearance and fitness.',\n",
       "   'name': 'self_improvement',\n",
       "   'input': 'Gym membership, healthy diet plan, wardrobe upgrade',\n",
       "   'output': 'Enhanced physical appearance and confidence',\n",
       "   'target': 'Making a good first impression',\n",
       "   'mode': 'CODE'},\n",
       "  {'task': 'Network with people in the entertainment industry.',\n",
       "   'name': 'network_industry',\n",
       "   'input': 'Social media, industry events, professional contacts',\n",
       "   'output': 'Connections with industry insiders',\n",
       "   'target': \"Getting access to Dilireba's social circles\",\n",
       "   'mode': 'CODE'},\n",
       "  {'task': 'Plan an encounter at industry events.',\n",
       "   'name': 'plan_encounter',\n",
       "   'input': 'Connections with industry insiders, event calendars',\n",
       "   'output': 'Scheduled attendance at relevant events',\n",
       "   'target': 'Creating opportunities to meet Dilireba',\n",
       "   'mode': 'CODE'},\n",
       "  {'task': 'Strike up a genuine conversation about shared interests.',\n",
       "   'name': 'genuine_conversation',\n",
       "   'input': 'Knowledge of shared interests, social skills',\n",
       "   'output': 'Meaningful conversation with Dilireba',\n",
       "   'target': 'Building initial rapport',\n",
       "   'mode': 'PROMPT'},\n",
       "  {'task': 'Follow up through social media or mutual contacts.',\n",
       "   'name': 'follow_up',\n",
       "   'input': 'Previous conversation details, social media presence',\n",
       "   'output': 'Continued communication',\n",
       "   'target': 'Deepening the connection',\n",
       "   'mode': 'PROMPT'},\n",
       "  {'task': 'Ask her out for a casual meet-up.',\n",
       "   'name': 'ask_out',\n",
       "   'input': 'Established rapport, mutual interests',\n",
       "   'output': 'Accepted date invitation',\n",
       "   'target': 'Moving towards a date',\n",
       "   'mode': 'PROMPT'}],\n",
       " 'edges': [{'source': 'research_interests',\n",
       "   'target': 'develop_shared_interests'},\n",
       "  {'source': 'develop_shared_interests', 'target': 'self_improvement'},\n",
       "  {'source': 'self_improvement', 'target': 'network_industry'},\n",
       "  {'source': 'network_industry', 'target': 'plan_encounter'},\n",
       "  {'source': 'plan_encounter', 'target': 'genuine_conversation'},\n",
       "  {'source': 'genuine_conversation', 'target': 'follow_up'},\n",
       "  {'source': 'follow_up', 'target': 'ask_out'}]}"
      ]
     },
     "execution_count": 12,
     "metadata": {},
     "output_type": "execute_result"
    }
   ],
   "source": [
    "plan_dict"
   ]
  },
  {
   "cell_type": "code",
   "execution_count": 5,
   "metadata": {},
   "outputs": [
    {
     "data": {
      "text/plain": [
       "<methods.eoh_evolution.EvolNode at 0x2893758d0>"
      ]
     },
     "execution_count": 5,
     "metadata": {},
     "output_type": "execute_result"
    }
   ],
   "source": [
    "from methods.meta_prompt import MetaPrompt, MetaPlan, extract_json_from_text\n",
    "from methods.eoh_evolution import EvolNode\n",
    "from methods.llm import get_openai_response as get_response\n",
    "from typing import Optional, List, Dict\n",
    "\n",
    "# Collect MetaPrompt from parsed Plan-Graph Response\n",
    "meta_node_prompts = []\n",
    "for node in plan_dict[\"nodes\"]:\n",
    "    node_prompt = MetaPrompt(task=node.get(\"task\"),  func_name=node.get(\"name\"), input=node.get(\"input\"), output=node.get(\"output\"), mode=node.get(\"mode\").lower())\n",
    "    meta_node_prompts.append(node_prompt)\n",
    "    \n",
    "edges = plan_dict[\"edges\"]\n",
    "\n",
    "EvolNode(meta_prompt = node_prompt)\n"
   ]
  },
  {
   "cell_type": "markdown",
   "metadata": {},
   "source": [
    "#### EvalNode Test: \n",
    "At the beginning level, generation of EvalNode (when code is used here) should compile with success, and it should takes input and produce output. "
   ]
  },
  {
   "cell_type": "markdown",
   "metadata": {},
   "source": []
  }
 ],
 "metadata": {
  "kernelspec": {
   "display_name": "base",
   "language": "python",
   "name": "python3"
  },
  "language_info": {
   "codemirror_mode": {
    "name": "ipython",
    "version": 3
   },
   "file_extension": ".py",
   "mimetype": "text/x-python",
   "name": "python",
   "nbconvert_exporter": "python",
   "pygments_lexer": "ipython3",
   "version": "3.11.5"
  }
 },
 "nbformat": 4,
 "nbformat_minor": 2
}
