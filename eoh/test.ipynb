{
 "cells": [
  {
   "cell_type": "markdown",
   "metadata": {},
   "source": [
    "</div>\n",
    "<div align=\"left\">\n",
    "  <img src=\"img/abstract.png\" width=\"400\" alt=\"Funny little diagram\">\n",
    "  <p><em> Evolve nodes, evolve plans, and learn from the best performing ones.</em></p>\n",
    "</div>\n",
    "<div align=\"center\">\n",
    "</em></p>\n",
    "</div>"
   ]
  },
  {
   "cell_type": "markdown",
   "metadata": {},
   "source": [
    "#### Node Initialization (Refactoring ...)"
   ]
  },
  {
   "cell_type": "code",
   "execution_count": 1,
   "metadata": {},
   "outputs": [
    {
     "name": "stdout",
     "output_type": "stream",
     "text": [
      "Could not load vllm class, check CUDA support and GPU RAM size\n"
     ]
    },
    {
     "data": {
      "text/plain": [
       "['It\\'s a pleasure to meet you. I\\'m delighted to be speaking with you today. As a Turing Award winner, I\\'m honored to have contributed to the field of computer science in some meaningful way. The Turing Award, also known as the \"Nobel Prize of Computing,\" is considered the most prestigious award in the field, and I\\'m humbled to have received it.\\n\\nI must say, it\\'s fascinating to think about how far we\\'ve come in the field of computer science. From the early days of computing to the present, we\\'ve made tremendous progress in developing algorithms, programming languages, and computer architectures that have transformed the way we live and work.\\n\\nAs a Turing Award winner, I\\'ve had the privilege of working on projects that have had a significant impact on the field. My research has focused on developing more efficient algorithms and data structures, which has enabled computers to process vast amounts of data in a fraction of the time.\\n\\nBut, I believe that the most exciting developments in computer science are yet to come. With the advent of artificial intelligence, machine learning, and the Internet of Things (IoT), we\\'re on the cusp of a revolution that will change the world in profound ways.\\n\\nSo, what would you like to talk about? Are you interested in learning more about my research, or perhaps you\\'d like to explore some of the latest developments in computer science? I\\'m here to share my knowledge and insights with you.',\n",
       " \"Hello, world! It's a pleasure to meet you. As a Turing Award winner, I'm honored to have received this prestigious recognition in the field of computer science. It's a testament to the incredible work that I've been fortunate enough to be a part of, and I'm thrilled to have contributed to the advancement of this innovative field.\\n\\nI have to say, it's a bit surreal to be talking to someone in a world where we can have natural-sounding conversations with AI systems like myself. The progress we've made in artificial intelligence, machine learning, and natural language processing is truly remarkable, and I'm excited to see where these technologies will take us in the future.\\n\\nSo, what would you like to talk about? The latest developments in AI? The future of computing? Or perhaps something entirely different? I'm all ears... or rather, all text!\",\n",
       " 'Hello, world! It\\'s an honor to be speaking with you. As a Turing Award winner, I\\'ve had the privilege of working on some groundbreaking projects and collaborating with some incredibly talented individuals in the field of computer science.\\n\\nI must say, the phrase \"Hello, world!\" has a special significance for me, as it\\'s the classic first program written by many a beginner programmer. It\\'s a reminder that even the simplest of programs can have a profound impact on the world.\\n\\nBut I\\'m curious, what brings you here today? Are you interested in learning more about computer science, or perhaps you have a project you\\'d like to discuss? I\\'m all ears!',\n",
       " 'Hello, world! It\\'s a pleasure to connect with you. I\\'m thrilled to be speaking with you today, although I must admit I\\'m a bit surprised by the greeting. \"Hello, world\" is a phrase that has a special significance in the world of computer science - it was the first line of the first program written by Brian Kernighan and Dennis Ritchie as an example in their book \"The C Programming Language\" in 1972. \\n\\nAs a Turing Award winner, I\\'ve had the privilege of being part of this vibrant community that shaped the course of computer science. From designing algorithms and data structures to developing new programming languages and operating systems, our field has come a long way since those early days.\\n\\nNow, tell me, what brings you here today? Are you interested in learning more about computer science, or perhaps you\\'d like to know more about my work and the Turing Award? I\\'m all ears!',\n",
       " \"It's a pleasure to meet you. I'm Dr. Rachel Kim, a Turing Award winner and a renowned computer scientist. I'm thrilled to be here, and I'm excited to share my knowledge with you.\\n\\nAs a Turing Award winner, I'm humbled to be part of an exclusive group of individuals who have made significant contributions to the field of computer science. Our research has had a profound impact on the way we live, work, and interact with technology.\\n\\nI've spent my career working on various projects, from developing new algorithms for machine learning to designing more efficient computer systems. My work has focused on the intersection of computer science and mathematics, and I'm passionate about exploring the theoretical foundations of computing.\\n\\nWhat would you like to talk about? Are you interested in learning more about my research, or do you have a specific question about computer science? I'm here to help and share my knowledge with you.\",\n",
       " \"Hello, world.  It's a pleasure to meet you. I'm Alan Kay, a Turing Award winner, known for my work in object-oriented programming and graphical user interfaces. I'm also a pioneer in the development of the Dynabook concept, a portable, interactive computer that could serve as a personal learning environment. What would you like to talk about?\",\n",
       " 'Hello!  It\\'s a pleasure to meet you.  As a Turing Award winner, I\\'m honored to have been recognized for my contributions to the field of computer science.\\n\\nThe Turing Award, often considered the \"Nobel Prize of Computing,\" is given annually by the Association for Computing Machinery (ACM) to individuals who have made significant contributions to the field of computer science. I\\'m proud to be part of this community and to have been recognized for my work.\\n\\nSo, what brings you here today? Are you interested in learning more about computer science, or perhaps you have a specific question or topic you\\'d like to discuss? I\\'m here to help and share my knowledge with you.',\n",
       " \"Hello, fellow inhabitants of the digital realm. It's a pleasure to connect with you. As a Turing Award winner, I've had the privilege of being involved in the development and advancement of computer science. My work has focused on solving complex problems and bridging the gap between humans and machines.\\n\\nI've spent years working on various projects, from developing algorithms and data structures to designing parallel computing systems. My research has aimed to make computers more efficient, scalable, and user-friendly.\\n\\nOne of my most notable contributions was in the field of parallel computing. I proposed a new model that allowed multiple processors to work together seamlessly, solving complex problems in a fraction of the time. This breakthrough has had a significant impact on fields such as artificial intelligence, scientific simulations, and data analytics.\\n\\nAs a Turing Award winner, I'm humbled to be part of an elite group of innovators who have shaped the course of computer science. I'm proud to be recognized for my contributions, but I'm even more excited about the potential for future breakthroughs.\\n\\nSo, what brings you here today? Are you interested in learning more about computer science, or perhaps exploring the possibilities of parallel computing? I'm here to share my knowledge and insights with you.\",\n",
       " 'Hello world! It\\'s a pleasure to connect with you. I\\'m thrilled to be speaking with someone new. As a Turing Award winner, I\\'ve had the privilege of working on groundbreaking projects and contributing to the advancement of computer science.\\n\\nThe Turing Award, also known as the \"Nobel Prize of Computing,\" is an honor bestowed upon individuals who have made significant contributions to the field of computer science. I feel fortunate to have received this recognition, and I hope to continue making a positive impact in the years to come.\\n\\nWhat brings you here today? Are you interested in learning about the latest developments in computer science, or perhaps you\\'re looking for advice on a specific project or problem you\\'re working on? I\\'m here to help and share my knowledge with you.',\n",
       " 'A classic greeting. It\\'s wonderful to be speaking with you. I must say, I\\'m intrigued by the fact that you\\'re addressing the world. In the world of computer science, that\\'s actually a reference to the famous \"Hello, World!\" program, which is often used as a simple example to introduce programming concepts.\\n\\nAs a Turing Award winner, I\\'m honored to have made significant contributions to the field of computer science. My work has been recognized internationally, and I\\'m humbled to be part of a community that continues to push the boundaries of what\\'s possible with technology.\\n\\nSo, tell me, what brings you here today? Are you interested in learning more about computer science, or perhaps exploring the latest advancements in the field? I\\'m all ears!',\n",
       " 'It\\'s a pleasure to meet you.  I\\'m often referred to as the \"father of artificial intelligence,\" but I\\'m also a pioneer in the field of computer science. My work on the development of the first general-purpose computer, the Universal Turing Machine, helped lay the foundation for the modern computer.\\n\\nI\\'ve had the privilege of being awarded the Turing Award, often referred to as the \"Nobel Prize of Computing,\" for my contributions to the field. It\\'s an honor to be recognized for my work, and I\\'m proud to have helped pave the way for the incredible advancements in computer science that have followed.\\n\\nI\\'m Alan Turing, by the way. I\\'m a British mathematician, computer scientist, and logician who made significant contributions to codebreaking, computer science, and artificial intelligence during World War II and the early years of the computer age.\\n\\nI\\'m delighted to chat with you about my work, computer science, or any other topic that interests you. What would you like to talk about?',\n",
       " 'Hello world. It\\'s a pleasure to connect with you. I\\'m a Turing Award winner, which is considered the \"Nobel Prize of Computing.\" I\\'ve spent my career working on various aspects of computer science, from artificial intelligence to algorithms and complexity theory.\\n\\nIt\\'s fascinating to see how far we\\'ve come in advancing the field of computer science, and I\\'m excited to share my knowledge and insights with you. What would you like to talk about? Would you like to know more about my work, or perhaps explore some of the latest advancements in computer science?']"
      ]
     },
     "execution_count": 1,
     "metadata": {},
     "output_type": "execute_result"
    }
   ],
   "source": [
    "from methods.llm import get_async_vllm_endpoint\n",
    "import os \n",
    "\n",
    "endpoint_id = \"vllm-vbzs7iyoydoidq\"\n",
    "api_key = os.environ[\"RUNPOD_API_KEY\"]\n",
    "\n",
    "get_endpoint_response = get_async_vllm_endpoint(endpoint_id, api_key) # Unlimited LLM endpoints\n",
    "get_endpoint_response([\"Hello, world!\"] * 12)"
   ]
  },
  {
   "cell_type": "code",
   "execution_count": 2,
   "metadata": {},
   "outputs": [
    {
     "ename": "TypeError",
     "evalue": "dynamic_module.generate_prompt() argument after ** must be a mapping, not tuple",
     "output_type": "error",
     "traceback": [
      "\u001b[0;31m---------------------------------------------------------------------------\u001b[0m",
      "\u001b[0;31mTypeError\u001b[0m                                 Traceback (most recent call last)",
      "Cell \u001b[0;32mIn[2], line 21\u001b[0m\n\u001b[1;32m     17\u001b[0m node \u001b[38;5;241m=\u001b[39m EvolNode(mp, \u001b[38;5;28;01mNone\u001b[39;00m, \u001b[38;5;28;01mNone\u001b[39;00m, get_response\u001b[38;5;241m=\u001b[39mget_endpoint_response, test_cases\u001b[38;5;241m=\u001b[39mtest_cases) \u001b[38;5;66;03m# setting manual test cases\u001b[39;00m\n\u001b[1;32m     18\u001b[0m \u001b[38;5;66;03m# node = EvolNode(mp, None, None, get_response=get_groq_response) # automatic generation of test cases \u001b[39;00m\n\u001b[0;32m---> 21\u001b[0m \u001b[43mnode\u001b[49m\u001b[38;5;241;43m.\u001b[39;49m\u001b[43mevolve\u001b[49m\u001b[43m(\u001b[49m\u001b[38;5;124;43m\"\u001b[39;49m\u001b[38;5;124;43mi1\u001b[39;49m\u001b[38;5;124;43m\"\u001b[39;49m\u001b[43m,\u001b[49m\u001b[43m \u001b[49m\u001b[43mreplace\u001b[49m\u001b[38;5;241;43m=\u001b[39;49m\u001b[38;5;28;43;01mTrue\u001b[39;49;00m\u001b[43m,\u001b[49m\u001b[43m \u001b[49m\u001b[43mbatch_size\u001b[49m\u001b[38;5;241;43m=\u001b[39;49m\u001b[38;5;241;43m3\u001b[39;49m\u001b[43m,\u001b[49m\u001b[43m \u001b[49m\u001b[43mnum_runs\u001b[49m\u001b[38;5;241;43m=\u001b[39;49m\u001b[38;5;241;43m2\u001b[39;49m\u001b[43m)\u001b[49m\n\u001b[1;32m     23\u001b[0m \u001b[38;5;28mprint\u001b[39m(\u001b[38;5;124m\"\u001b[39m\u001b[38;5;124mInspection on the generated code: \u001b[39m\u001b[38;5;130;01m\\n\u001b[39;00m\u001b[38;5;124m\"\u001b[39m, node\u001b[38;5;241m.\u001b[39mcode)\n\u001b[1;32m     25\u001b[0m \u001b[38;5;28;01mimport\u001b[39;00m \u001b[38;5;21;01mtime\u001b[39;00m \n",
      "File \u001b[0;32m~/Implementation/heuristic-search/eoh/methods/evolnode.py:432\u001b[0m, in \u001b[0;36mEvolNode.evolve\u001b[0;34m(self, method, parents, replace, feedback, batch_size, fitness_threshold, num_runs, max_tries)\u001b[0m\n\u001b[1;32m    430\u001b[0m \u001b[38;5;66;03m# Evolve many times\u001b[39;00m\n\u001b[1;32m    431\u001b[0m reasonings, codes \u001b[38;5;241m=\u001b[39m \u001b[38;5;28mself\u001b[39m\u001b[38;5;241m.\u001b[39m_evolve(method, parents, batch_size\u001b[38;5;241m=\u001b[39mbatch_size)\n\u001b[0;32m--> 432\u001b[0m fitnesses, err_msgs  \u001b[38;5;241m=\u001b[39m \u001b[38;5;28;43mself\u001b[39;49m\u001b[38;5;241;43m.\u001b[39;49m\u001b[43m_evaluate_fitness\u001b[49m\u001b[43m(\u001b[49m\u001b[43mcodes\u001b[49m\u001b[38;5;241;43m=\u001b[39;49m\u001b[43mcodes\u001b[49m\u001b[43m,\u001b[49m\u001b[43m \u001b[49m\u001b[43mmax_tries\u001b[49m\u001b[38;5;241;43m=\u001b[39;49m\u001b[43mmax_tries\u001b[49m\u001b[43m,\u001b[49m\u001b[43m \u001b[49m\u001b[43mnum_runs\u001b[49m\u001b[38;5;241;43m=\u001b[39;49m\u001b[43mnum_runs\u001b[49m\u001b[43m)\u001b[49m\n\u001b[1;32m    434\u001b[0m offspings \u001b[38;5;241m=\u001b[39m []\n\u001b[1;32m    435\u001b[0m \u001b[38;5;28;01mfor\u001b[39;00m reasoning, code, fitness, err_msg \u001b[38;5;129;01min\u001b[39;00m \u001b[38;5;28mzip\u001b[39m(reasonings, codes, fitnesses, err_msgs):\n",
      "File \u001b[0;32m~/Implementation/heuristic-search/eoh/methods/evolnode.py:542\u001b[0m, in \u001b[0;36mEvolNode._evaluate_fitness\u001b[0;34m(self, test_cases, codes, max_tries, num_runs)\u001b[0m\n\u001b[1;32m    540\u001b[0m     output_per_code_per_test, error_msg \u001b[38;5;241m=\u001b[39m \u001b[38;5;28mself\u001b[39m\u001b[38;5;241m.\u001b[39mcall_code_function_parallel(test_cases, codes)\n\u001b[1;32m    541\u001b[0m \u001b[38;5;28;01melif\u001b[39;00m \u001b[38;5;28mself\u001b[39m\u001b[38;5;241m.\u001b[39mmeta_prompt\u001b[38;5;241m.\u001b[39mmode \u001b[38;5;241m==\u001b[39m PromptMode\u001b[38;5;241m.\u001b[39mPROMPT:\n\u001b[0;32m--> 542\u001b[0m     output_per_code_per_test, error_msg \u001b[38;5;241m=\u001b[39m \u001b[38;5;28;43mself\u001b[39;49m\u001b[38;5;241;43m.\u001b[39;49m\u001b[43mcall_prompt_function_parallel\u001b[49m\u001b[43m(\u001b[49m\u001b[43mtest_cases\u001b[49m\u001b[43m,\u001b[49m\u001b[43m \u001b[49m\u001b[43mcodes\u001b[49m\u001b[43m,\u001b[49m\u001b[43m \u001b[49m\u001b[43mmax_tries\u001b[49m\u001b[43m)\u001b[49m\n\u001b[1;32m    543\u001b[0m \u001b[38;5;28;01melse\u001b[39;00m:\n\u001b[1;32m    544\u001b[0m     \u001b[38;5;28;01mraise\u001b[39;00m \u001b[38;5;167;01mValueError\u001b[39;00m(\u001b[38;5;124mf\u001b[39m\u001b[38;5;124m\"\u001b[39m\u001b[38;5;124mUnknown mode: \u001b[39m\u001b[38;5;132;01m{\u001b[39;00m\u001b[38;5;28mself\u001b[39m\u001b[38;5;241m.\u001b[39mmeta_prompt\u001b[38;5;241m.\u001b[39mmode\u001b[38;5;132;01m}\u001b[39;00m\u001b[38;5;124m\"\u001b[39m)\n",
      "File \u001b[0;32m~/Implementation/heuristic-search/eoh/methods/evolnode.py:505\u001b[0m, in \u001b[0;36mEvolNode.call_prompt_function_parallel\u001b[0;34m(self, test_inputs, codes, max_tries)\u001b[0m\n\u001b[1;32m    504\u001b[0m \u001b[38;5;28;01mdef\u001b[39;00m \u001b[38;5;21mcall_prompt_function_parallel\u001b[39m(\u001b[38;5;28mself\u001b[39m, test_inputs: List[Dict], codes: Optional[List[\u001b[38;5;28mstr\u001b[39m]], max_tries: \u001b[38;5;28mint\u001b[39m \u001b[38;5;241m=\u001b[39m \u001b[38;5;241m3\u001b[39m):\n\u001b[0;32m--> 505\u001b[0m     output_per_code_per_test \u001b[38;5;241m=\u001b[39m \u001b[43mcall_func_prompt_parallel\u001b[49m\u001b[43m(\u001b[49m\u001b[43mtest_inputs\u001b[49m\u001b[43m,\u001b[49m\u001b[43m \u001b[49m\u001b[43mcodes\u001b[49m\u001b[43m,\u001b[49m\u001b[43m \u001b[49m\u001b[43mmax_tries\u001b[49m\u001b[43m,\u001b[49m\u001b[43m \u001b[49m\u001b[38;5;28;43mself\u001b[39;49m\u001b[38;5;241;43m.\u001b[39;49m\u001b[43mget_response\u001b[49m\u001b[43m)\u001b[49m\n\u001b[1;32m    506\u001b[0m     \u001b[38;5;28;01mreturn\u001b[39;00m output_per_code_per_test, \u001b[38;5;124m\"\u001b[39m\u001b[38;5;124m\"\u001b[39m\n",
      "File \u001b[0;32m~/Implementation/heuristic-search/eoh/methods/meta_execute.py:158\u001b[0m, in \u001b[0;36mcall_func_prompt_parallel\u001b[0;34m(input_dicts, codes, max_tries, get_response)\u001b[0m\n\u001b[1;32m    156\u001b[0m func_name \u001b[38;5;241m=\u001b[39m \u001b[38;5;124m\"\u001b[39m\u001b[38;5;124mgenerate_prompt\u001b[39m\u001b[38;5;124m\"\u001b[39m\n\u001b[1;32m    157\u001b[0m prompt_func \u001b[38;5;241m=\u001b[39m mod\u001b[38;5;241m.\u001b[39m\u001b[38;5;18m__dict__\u001b[39m[func_name]\n\u001b[0;32m--> 158\u001b[0m prompt \u001b[38;5;241m=\u001b[39m prompt_func(\u001b[38;5;241m*\u001b[39m\u001b[38;5;241m*\u001b[39minput_dict)\n\u001b[1;32m    159\u001b[0m prompts\u001b[38;5;241m.\u001b[39mappend(prompt)\n\u001b[1;32m    160\u001b[0m input_indices\u001b[38;5;241m.\u001b[39mappend((input_index, code_index))\n",
      "\u001b[0;31mTypeError\u001b[0m: dynamic_module.generate_prompt() argument after ** must be a mapping, not tuple"
     ]
    }
   ],
   "source": [
    "from methods.meta_prompt import MetaPrompt, PromptMode\n",
    "from methods.evolnode import EvolNode\n",
    "from methods.llm import get_groq_response, get_claude_response\n",
    "\n",
    "# Code + Compilor Task\n",
    "# mp = MetaPrompt(\"Search for age of a celebrity.\", \"get_celeb_age\", [\"name\"], [\"age\"], [\"str\"], [\"int\"], PromptMode.CODE)\n",
    "# Prompt + LLM Task\n",
    "mp = MetaPrompt(\"Get the age of a celebrity.\", \"get_celeb_age\", [\"name\"], [\"age\"], [\"str\"], [\"int\"], PromptMode.PROMPT) # \n",
    "\n",
    "test_cases = [\n",
    "    ({\"name\": \"Dilireba\"}, {\"age\": 32}),\n",
    "    ({\"name\": \"ChengXiao\"}, {\"age\": 26})\n",
    "]\n",
    "\n",
    "test_inputs = [c[0] for c in test_cases]\n",
    "\n",
    "node = EvolNode(mp, None, None, get_response=get_endpoint_response, test_cases=test_cases) # setting manual test cases\n",
    "# node = EvolNode(mp, None, None, get_response=get_groq_response) # automatic generation of test cases \n",
    "\n",
    "\n",
    "node.evolve(\"i1\", replace=True, batch_size=3, num_runs=2)\n",
    "\n",
    "print(\"Inspection on the generated code: \\n\", node.code)\n",
    "\n",
    "import time \n",
    "time.sleep(3)\n",
    "\n",
    "input_dict = test_inputs[0]\n",
    "output_dict = node(input_dict) # Could still have error due to unsuccessful parsing of output\n",
    "print(\"Output from the code: \\n\", output_dict)"
   ]
  },
  {
   "cell_type": "code",
   "execution_count": 9,
   "metadata": {},
   "outputs": [
    {
     "data": {
      "text/plain": [
       "[]"
      ]
     },
     "execution_count": 9,
     "metadata": {},
     "output_type": "execute_result"
    }
   ],
   "source": [
    "k[1][1]"
   ]
  },
  {
   "cell_type": "code",
   "execution_count": null,
   "metadata": {},
   "outputs": [],
   "source": []
  },
  {
   "cell_type": "code",
   "execution_count": null,
   "metadata": {},
   "outputs": [],
   "source": []
  },
  {
   "cell_type": "markdown",
   "metadata": {},
   "source": [
    "</div>\n",
    "<div align=\"center\">\n",
    "  <img src=\"img/Project-Nirvana-evolve.gif\" width=\"500\" alt=\"Fourier reconstruction convergence\">\n",
    "  <p><em> Evolve a population of nodes. </em></p>\n",
    "</div>"
   ]
  },
  {
   "cell_type": "code",
   "execution_count": 4,
   "metadata": {},
   "outputs": [
    {
     "name": "stderr",
     "output_type": "stream",
     "text": [
      "Evaluating fitness: 100%|██████████| 4/4 [00:00<00:00, 6041.49it/s]\n"
     ]
    },
    {
     "name": "stdout",
     "output_type": "stream",
     "text": [
      "--- Replacing with new node\n",
      " - Attempt 1 failed. Fitness: 0.00. Error:  This node has no idea of what's going on\n",
      "--- Compiled 0 out of 4 test cases\n",
      "--- Passed 0 out of 4 test cases\n",
      "Input: {'name': 'Dilireba'}, Output is missing or of wrong type, Expected: {'age': 32}\n",
      "Input: {'name': 'ChengXiao'}, Output is missing or of wrong type, Expected: {'age': 26}\n",
      "Input: {'name': 'Dilireba'}, Output is missing or of wrong type, Expected: {'age': 32}\n",
      "Input: {'name': 'ChengXiao'}, Output is missing or of wrong type, Expected: {'age': 26}\n",
      "\n",
      "Error Message:\n",
      "--- Calling Prompt Function Error:\n",
      "unexpected '{' in field name--- Calling Prompt Function Error:\n",
      "unexpected '{' in field name--- Calling Prompt Function Error:\n",
      "unexpected '{' in field name--- Calling Prompt Function Error:\n",
      "unexpected '{' in field name\n"
     ]
    },
    {
     "name": "stderr",
     "output_type": "stream",
     "text": [
      "Evaluating fitness: 100%|██████████| 4/4 [00:02<00:00,  1.77it/s]\n"
     ]
    },
    {
     "name": "stdout",
     "output_type": "stream",
     "text": [
      "--- Replacing with new node\n",
      " - Attempt 2 failed. Fitness: 0.75. Error:  Function runs with success rate: 75.0%, runs correctly with rate: 75.0%\n",
      "--- Compiled 3 out of 4 test cases\n",
      "--- Passed 3 out of 4 test cases\n",
      "Input: {'name': 'ChengXiao'}, Output is missing or of wrong type, Expected: {'age': 26}\n",
      "\n",
      "Error Message:\n",
      "--- Calling Prompt Function Error:\n",
      "Failed to parse LLM response: No JSON structure found in the provided text.\n"
     ]
    },
    {
     "name": "stderr",
     "output_type": "stream",
     "text": [
      "Evaluating fitness: 100%|██████████| 4/4 [00:07<00:00,  1.98s/it]\n"
     ]
    },
    {
     "name": "stdout",
     "output_type": "stream",
     "text": [
      "--- Replacing with new node\n",
      " - Attempt 3 failed. Fitness: 0.75. Error:  Function runs with success rate: 75.0%, runs correctly with rate: 75.0%\n",
      "--- Compiled 3 out of 4 test cases\n",
      "--- Passed 3 out of 4 test cases\n",
      "Input: {'name': 'ChengXiao'}, Output is missing or of wrong type, Expected: {'age': 26}\n",
      "\n",
      "Error Message:\n",
      "--- Calling Prompt Function Error:\n",
      "Failed to parse LLM response: No JSON structure found in the provided text.\n",
      "Evolution failed after 3 attempts.\n",
      "Based on the provided information, let me analyze the effectiveness of the current evolution strategy:\n",
      "\n",
      "1. Fitness Improvement:\n",
      "- Initial best fitness: 1.0\n",
      "- Current best fitness after evolution: 0.75\n",
      "- This actually shows a decrease in fitness, which suggests that the evolution strategy might not be improving the solution in terms of fitness metrics.\n",
      "\n",
      "2. Implementation Improvements:\n",
      "Despite the lower fitness score, there are several notable improvements in the implementation:\n",
      "\n",
      "a) Added Functionality:\n",
      "- Introduced the `search_google` function implementation\n",
      "- Added proper API handling with error management\n",
      "- Included type hints and better documentation\n",
      "\n",
      "b) Structural Improvements:\n",
      "- More robust error handling with try/except blocks\n",
      "- Better code organization with helper functions\n",
      "- Added proper API connection management with connection closing in finally block\n",
      "\n",
      "c) Enhanced Search Capabilities:\n",
      "- Integration with Serper API for Google search\n",
      "- Proper handling of API responses and JSON parsing\n",
      "- Result formatting and cleaning\n",
      "\n",
      "However, there are some concerns:\n",
      "\n",
      "1. The fitness decrease suggests that the evolution strategy might need adjustment\n",
      "2. The population size of 2 is very small, which limits genetic diversity\n",
      "3. Only 3 evolution steps might not be enough to see meaningful improvements\n",
      "\n",
      "Recommendations for improvement:\n",
      "1. Increase population size\n",
      "2. Run more evolution steps\n",
      "3. Adjust fitness evaluation criteria to better reflect implementation improvements\n",
      "4. Consider maintaining successful traits from higher fitness individuals\n",
      "\n",
      "The current strategy has made significant implementation improvements but needs adjustment to maintain or improve fitness scores.\n",
      "Population size: 3\n",
      "Best Fitness: 1.0\n",
      "Information on the best 2 individuals:\n",
      "Individual 1:\n",
      "No.1:\n",
      "[APPROACH]: To generate a prompt for an AI to find the age of a celebrity, I will incorporate a natural language approach, leveraging the search engine's ability to provide relevant information, while also specifying the required output format in the prompt for clarity.\n",
      "[PROMPT FUNCTION]: def generate_prompt(name):\n",
      "    \"\"\"\n",
      "    Generate a prompt to guide an AI in finding the age of a celebrity.\n",
      "\n",
      "    Parameters:\n",
      "    name (str): The name of the celebrity.\n",
      "\n",
      "    Returns:\n",
      "    str: A string containing the final prompt for the AI.\n",
      "    \"\"\"\n",
      "    prompt = (\n",
      "        f\"Given the input '{name}', please provide a JSON-style response with the following structure: \"\n",
      "        )\n",
      "    prompt += (\n",
      "        \"{'age': int(<age>)}}, where <age> is the age of the celebrity in years.\"\n",
      "        )\n",
      "    prompt += (\n",
      "        ' The response should be based on the latest available information from top search results.'\n",
      "        )\n",
      "    return prompt\n",
      "\n",
      "\n",
      "Individual 2:\n",
      "No.1:\n",
      "[APPROACH]: To calculate the age of a celebrity, we need to first search for their birth date or age online and then perform date arithmetic to find their current age. We can utilize this reasoning by using the search engine to find the relevant information and then utilizing AI to process the information and calculate the age.\n",
      "[PROMPT FUNCTION]: def generate_prompt(name: str) ->str:\n",
      "    \"\"\"\n",
      "    Generates a prompt to guide an AI in calculating the age of a celebrity.\n",
      "    \n",
      "    Args:\n",
      "    name (str): The name of the celebrity.\n",
      "    \n",
      "    Returns:\n",
      "    str: A string containing the final prompt for the AI.\n",
      "    \"\"\"\n",
      "    prompt = (\"Given the name '\" + name +\n",
      "        \"', use the search engine to find the birth date of \" + name +\n",
      "        ' and calculate their current age.')\n",
      "    return ('Search google for result ' + prompt +\n",
      "        \", format the output as a JSON-style dictionary: {'age': int(...)}\")\n",
      "\n",
      "\n",
      "\n"
     ]
    }
   ],
   "source": [
    "# Population building phase ... \n",
    "from methods.llm import get_groq_response\n",
    "from methods.meta_prompt import MetaPrompt, PromptMode\n",
    "from methods.population import Evolution\n",
    "\n",
    "mp = MetaPrompt(\"Get the age of a celebrity.\", \"get_celeb_age\", [\"name\"], [\"age\"], [\"str\"], [\"int\"], PromptMode.PROMPT) # \n",
    "\n",
    "test_cases = [\n",
    "    ({\"name\": \"Dilireba\"}, {\"age\": 32}),\n",
    "    ({\"name\": \"ChengXiao\"}, {\"age\": 26})\n",
    "]\n",
    "\n",
    "evo = Evolution(pop_size=3, meta_prompt=mp, get_response=get_groq_response, \n",
    "                test_cases=test_cases, max_attempts=3, num_eval_runs=2,\n",
    "                load=True)\n",
    "\n",
    "strategies = [\"m2\"] # [\"i1\", \"i1\", \"m2\", \"e2\"]\n",
    "evo.get_offspring(strategies)\n",
    "\n",
    "evo.chat(\"How effective is the current evolution strategy? What improvement has it made in terms of fitness, and in terms of the implementation?\",\n",
    "         get_claude_response) \n",
    "\n",
    "# code-based check \n",
    "print(evo.population_info)"
   ]
  },
  {
   "cell_type": "markdown",
   "metadata": {},
   "source": [
    "\n",
    "</div>\n",
    "<div align=\"center\">\n",
    "  <img src=\"https://github.com/user-attachments/assets/af98faeb-66d6-4278-af86-67d668d1954e\" width=\"900\" alt=\"Fourier reconstruction convergence\">\n",
    "  <p><em> Plan, and evolve the plans. </em></p>\n",
    "</div>\n"
   ]
  },
  {
   "cell_type": "code",
   "execution_count": 1,
   "metadata": {},
   "outputs": [
    {
     "name": "stdout",
     "output_type": "stream",
     "text": [
      "Could not load vllm class, check CUDA support and GPU RAM size\n"
     ]
    },
    {
     "data": {
      "text/plain": [
       "[\"Nice to meet you. As a Turing Award winner, I've had the privilege of working on some groundbreaking projects in the field of computer science. I've contributed to the development of algorithms, data structures, and programming languages that have had a significant impact on the way we design and build software systems.\\n\\nMy research has focused on the intersection of computer science and artificial intelligence, and I've been fortunate enough to have made some notable contributions in this area. From the development of new machine learning algorithms to the creation of more efficient and scalable data structures, my work has aimed to push the boundaries of what is possible in the field of computer science.\\n\\nBut I'm not just about the tech – I'm also passionate about inspiring the next generation of computer scientists and engineers. I believe that computer science has the power to transform the world, and I'm dedicated to helping others learn and grow in this field.\\n\\nSo, what brings you here today? Are you interested in learning more about computer science, or maybe you're looking for advice on a specific project or problem? I'm happy to chat and share my knowledge with you!\",\n",
       " 'Hello, world.  It\\'s an honor to meet you. I\\'m thrilled to be speaking with you, especially since I\\'m a Turing Award winner. This prestigious award is considered the \"Nobel Prize of Computing,\" so I feel grateful to have received it for my contributions to the field.\\n\\nAs a Turing Award winner, I\\'ve had the privilege of working on groundbreaking projects and collaborating with some of the brightest minds in the industry. My work has focused on developing new algorithms and data structures that have improved the efficiency and scalability of various computational systems.\\n\\nI\\'m also passionate about sharing my knowledge and expertise with the next generation of computer scientists and engineers. I believe that education and mentorship are crucial in driving innovation and progress in the field of computer science.\\n\\nSo, what would you like to talk about? Are you interested in learning more about my work or perhaps exploring the latest advancements in computer science?',\n",
       " \"Hello, world!  It's an honor to make your acquaintance.  I'm thrilled to be speaking with you today, and I'm more than happy to share my insights on the fascinating world of computer science.\\n\\nAs a Turing Award winner, I've had the privilege of working on some of the most groundbreaking research in the field.  My work has focused on the intersection of computer science and artificial intelligence, and I'm passionate about exploring the possibilities of what we can achieve with these technologies.\\n\\nI'm currently involved in several projects that aim to advance the field of AI, from developing more efficient machine learning algorithms to exploring new applications for natural language processing.  It's an exciting time to be working in this space, and I'm eager to see the impact that our research will have on society.\\n\\nSo, what brings you here today?  Are you interested in learning more about computer science, AI, or perhaps you have a specific question or topic you'd like to discuss?  I'm all ears and look forward to engaging in a conversation with you!\",\n",
       " \"Hello! It's a pleasure to meet you. As a Turing Award winner, I'm honored to have been recognized for my contributions to computer science. My work has focused on developing algorithms and data structures that have had a significant impact on the field.\\n\\nI've been fortunate enough to have had the opportunity to work on a wide range of projects, from developing new methods for sorting and searching data to creating efficient algorithms for solving complex problems in computer networks and machine learning.\\n\\nOne of the most significant challenges I've faced in my career is balancing the need for innovation and the need for practicality. As a researcher, I've often been tempted to pursue the most ambitious and theoretically interesting ideas, but as a practitioner, I've come to realize that the most important innovations are those that can be implemented in the real world and have a tangible impact on people's lives.\\n\\nI'm excited to share my experiences and insights with you, and to learn from your perspective as well. What brings you to this conversation today? Are you interested in learning more about computer science, or do you have a specific question or topic you'd like to discuss?\",\n",
       " 'As a Turing Award winner, I\\'m honored to be speaking with you today. The Turing Award is considered the \"Nobel Prize of Computing,\" and it\\'s a tremendous recognition of my work in the field of computer science.\\n\\nI\\'ve spent my career exploring the intersection of computer science and artificial intelligence, and I\\'m delighted to share my insights and research with you. From developing algorithms for machine learning to designing more efficient computer architectures, I\\'ve been fortunate to contribute to the advancement of our field.\\n\\nWhat would you like to talk about? Would you like to explore the latest breakthroughs in AI, or perhaps discuss the future of computing and its potential impact on society?',\n",
       " 'It\\'s a pleasure to meet you.  I am a Turing Award winner,  which is considered the \"Nobel Prize of Computing\".  It\\'s an honor to be recognized by the Association for Computing Machinery (ACM) for my contributions to computer science.\\n\\nI\\'d be happy to chat with you about computer science, artificial intelligence, or anything else that\\'s on your mind.  What would you like to talk about?',\n",
       " 'Hello, world! It\\'s great to be here. As a Turing Award winner, I\\'m honored to be part of a community that has shaped the world of computer science. The Turing Award, often referred to as the \"Nobel Prize of Computing,\" is a testament to the impact our work can have on society.\\n\\nI\\'ve spent my career working on various aspects of computer science, from algorithms and data structures to artificial intelligence and human-computer interaction. My research has focused on developing new techniques and tools that can be used to improve the way people interact with computers.\\n\\nOne of the most exciting areas of research right now is the field of explainable AI. As AI becomes increasingly ubiquitous in our lives, it\\'s essential that we can understand how these systems make decisions and why they behave in certain ways. My work in this area has focused on developing methods for interpreting and visualizing AI models, so that they can be more transparent and trustworthy.\\n\\nI\\'m also passionate about using technology to address some of the world\\'s most pressing challenges, such as climate change, healthcare, and education. By applying computer science principles to these problems, we can develop innovative solutions that can make a real difference in people\\'s lives.\\n\\nSo, what brings you here today? Are you interested in learning more about computer science or exploring some of the latest developments in the field? I\\'m here to share my knowledge and insights with you, so feel free to ask me anything!',\n",
       " 'I\\'m delighted to meet you. As a Turing Award winner, I must say it\\'s an honor to be recognized for my contributions to the field of computer science. The Turing Award, often considered the \"Nobel Prize of Computing,\" is awarded annually by the Association for Computing Machinery (ACM) to individuals who have made significant and lasting contributions to the field.\\n\\nI\\'ve had the privilege of working on various groundbreaking projects that have shaped the course of computer science. From developing new algorithms and data structures to creating innovative systems and languages, my work has aimed to push the boundaries of what\\'s possible with computing.\\n\\nBut I\\'m not just a theoretical computer scientist – I\\'ve also been involved in various real-world applications, from developing efficient solutions for complex problems in fields like finance, healthcare, and education, to creating systems that improve people\\'s lives through better access to information and services.\\n\\nI\\'m excited to share my knowledge and experiences with you, and to learn from you as well. What brings you here today? Are you interested in computer science, or perhaps you have a specific question or problem you\\'d like to discuss?',\n",
       " 'It\\'s great to meet you. I\\'m thrilled to be speaking with someone who\\'s interested in the world of computer science. As a Turing award winner, I\\'ve had the privilege of working on some groundbreaking projects and contributing to the field in meaningful ways.\\n\\nFor those who may not know, the Turing Award is considered the \"Nobel Prize of Computing,\" and it\\'s given annually to individuals who have made significant contributions to the field of computer science. I\\'m honored to be part of this esteemed group of winners.\\n\\nWhat would you like to talk about? The latest advancements in AI? The ethics of technology? Or perhaps something else entirely? I\\'m here to share my knowledge and insights with you.',\n",
       " \"Hello world.  It's an honor to meet you. As a Turing award winner, I've had the privilege of working on some of the most groundbreaking projects in computer science. My work has focused on developing new algorithms and data structures that have improved the efficiency and scalability of various systems.\\n\\nI've also had the opportunity to collaborate with some of the brightest minds in the field, pushing the boundaries of what's possible with computer science. It's an exciting time to be working in this field, and I'm constantly amazed by the innovations and discoveries that are being made.\\n\\nWhat would you like to know about my work or the field of computer science in general? I'm happy to share my insights and expertise with you.\",\n",
       " 'Hello world!  It\\'s a pleasure to be speaking with you. I\\'m thrilled to share my experiences in the world of computer science, where I\\'ve had the privilege of contributing to the development of algorithms and computational theory. My work has focused on advancing the field of computer science, and I\\'m proud to have received the Turing Award, often considered the \"Nobel Prize of Computing,\" for my contributions.\\n\\nI\\'ve had the opportunity to work on various projects, from designing efficient algorithms for solving complex problems to developing new models of computation. My research has had a significant impact on the field, and I\\'m grateful for the recognition.\\n\\nWhat would you like to talk about? The latest advancements in AI, the future of computer science, or perhaps something else entirely? I\\'m here to share my knowledge and insights with you.',\n",
       " \"Hello, world!  It's a classic greeting, isn't it? You know, I'm often reminded of Brian Kernighan's famous first program, which printed that very phrase to the screen. It's a great way to start a conversation, and I'm excited to see where our discussion takes us.\\n\\nAs a Turing Award winner, I've had the privilege of working on some groundbreaking projects and collaborating with incredibly talented individuals. But I'm always eager to engage with people from all walks of life and explore the latest advancements in computer science and technology.\\n\\nSo, what would you like to talk about? Are you interested in learning more about my work, or perhaps you have a question about a specific area of computer science? Let's get the conversation started!\"]"
      ]
     },
     "execution_count": 1,
     "metadata": {},
     "output_type": "execute_result"
    }
   ],
   "source": [
    "from methods.llm import get_async_vllm_endpoint\n",
    "import os \n",
    "\n",
    "endpoint_id = \"vllm-vbzs7iyoydoidq\"\n",
    "api_key = os.environ[\"RUNPOD_API_KEY\"]\n",
    "\n",
    "get_endpoint_response = get_async_vllm_endpoint(endpoint_id, api_key) # Unlimited LLM endpoints\n",
    "get_endpoint_response([\"Hello, world!\"] * 12)"
   ]
  },
  {
   "cell_type": "code",
   "execution_count": 2,
   "metadata": {},
   "outputs": [
    {
     "name": "stdout",
     "output_type": "stream",
     "text": [
      " :: Evolving 1 plans in parallel...\n",
      " :: Pseudo-code generated for each plan\n",
      " :: Plan_dict generated for each plan\n"
     ]
    },
    {
     "name": "stderr",
     "output_type": "stream",
     "text": [
      "huggingface/tokenizers: The current process just got forked, after parallelism has already been used. Disabling parallelism to avoid deadlocks...\n",
      "To disable this warning, you can either:\n",
      "\t- Avoid using `tokenizers` before the fork if possible\n",
      "\t- Explicitly set the environment variable TOKENIZERS_PARALLELISM=(true | false)\n",
      "success: successfully compiled d2_output/plan_graph.d2 to d2_output/plan_graph.png in 185.365417ms\n",
      "huggingface/tokenizers: The current process just got forked, after parallelism has already been used. Disabling parallelism to avoid deadlocks...\n",
      "To disable this warning, you can either:\n",
      "\t- Avoid using `tokenizers` before the fork if possible\n",
      "\t- Explicitly set the environment variable TOKENIZERS_PARALLELISM=(true | false)\n",
      "huggingface/tokenizers: The current process just got forked, after parallelism has already been used. Disabling parallelism to avoid deadlocks...\n",
      "To disable this warning, you can either:\n",
      "\t- Avoid using `tokenizers` before the fork if possible\n",
      "\t- Explicitly set the environment variable TOKENIZERS_PARALLELISM=(true | false)\n"
     ]
    }
   ],
   "source": [
    "from methods.llm import get_claude_response, get_groq_response\n",
    "from methods.diagram import visualize_plan_dict\n",
    "from methods.meta_prompt import MetaPlan\n",
    "from methods.evolnode import PlanNode\n",
    "\n",
    "\n",
    "# Initialize PlanNode \n",
    "mp = MetaPlan(\"Get the age of celebrity.\", \"get_celeb_age\", [\"name\"], [\"age\"], [\"str\"], [\"int\"])\n",
    "plan = PlanNode(mp, get_endpoint_response)\n",
    "\n",
    "# i1 evolution of plan\n",
    "plan_dicts, err_msg = plan.evolve_plan_dict_parallel(method=\"i1\", batch_size=20) # Batch_size of 100 gives no slow-down\n",
    "visualize_plan_dict(plan_dicts[0], plan.meta_prompt.task)"
   ]
  },
  {
   "cell_type": "code",
   "execution_count": 3,
   "metadata": {},
   "outputs": [
    {
     "name": "stdout",
     "output_type": "stream",
     "text": [
      "Spawned 2 test cases for all sub-nodes\n"
     ]
    },
    {
     "data": {
      "text/plain": [
       "(True,\n",
       " \"\\nError in spawning test cases: JsonDecodeError : \\nExpecting ',' delimiter: line 66 column 30 (char 1829)AstLiteralError : \\ninvalid syntax (<unknown>, line 66)\\nOutput mismatch for input {'name': 'ChengXiao'}, expected {'age': 26}, got {'age': 30}\\nError in spawning test cases: JsonDecodeError : \\nExpecting value: line 1 column 1 (char 0)AstLiteralError : \\ninvalid syntax (<unknown>, line 1)\\nError in spawning test cases: JsonDecodeError : \\nExpecting value: line 1 column 1 (char 0)AstLiteralError : \\ninvalid syntax (<unknown>, line 1)\\nOutput mismatch for input {'name': 'Dilireba'}, expected {'age': 32}, got {'age': 31}\\nOutput mismatch for input {'name': 'Dilireba'}, expected {'age': 32}, got {'age': 31}\\nOutput mismatch for input {'name': 'ChengXiao'}, expected {'age': 26}, got {'age': 25}\\nOutput mismatch for input {'name': 'Dilireba'}, expected {'age': 32}, got {'age': 49}\\nOutput mismatch for input {'name': 'ChengXiao'}, expected {'age': 26}, got {'age': 34}\\nError in spawning test cases: JsonDecodeError : \\nExpecting value: line 1 column 1 (char 0)AstLiteralError : \\ninvalid syntax (<unknown>, line 1)\\nError in spawning test cases: JsonDecodeError : \\nExpecting value: line 1 column 1 (char 0)AstLiteralError : \\ninvalid syntax (<unknown>, line 1)\\nError in spawning test cases: JsonDecodeError : \\nExpecting value: line 1 column 1 (char 0)AstLiteralError : \\ninvalid syntax (<unknown>, line 1)\\nOutput mismatch for input {'name': 'Dilireba'}, expected {'age': 32}, got {'age': 33}\\nOutput mismatch for input {'name': 'Dilireba'}, expected {'age': 32}, got {'age': 31}\\nOutput mismatch for input {'name': 'ChengXiao'}, expected {'age': 26}, got {'age': 28}\\nError in spawning test cases: JsonDecodeError : \\nExpecting value: line 1 column 1 (char 0)AstLiteralError : \\ninvalid syntax (<unknown>, line 1)\\nOutput mismatch for input {'name': 'Dilireba'}, expected {'age': 32}, got {'age': 49}\\nOutput mismatch for input {'name': 'ChengXiao'}, expected {'age': 26}, got {'age': 67}\\nOutput mismatch for input {'name': 'Dilireba'}, expected {'age': 32}, got {'age': 31}\\nOutput mismatch for input {'name': 'ChengXiao'}, expected {'age': 26}, got {'age': 30}\\nOutput mismatch for input {'name': 'ChengXiao'}, expected {'age': 26}, got {'age': 28}\\nOutput mismatch for input {'name': 'ChengXiao'}, expected {'age': 26}, got {'age': 27}\\n\\nOutput mismatch for input {'name': 'Dilireba'}, expected {'age': 32}, got {'age': 31}\\nOutput mismatch for input {'name': 'ChengXiao'}, expected {'age': 26}, got {'age': 28}\")"
      ]
     },
     "execution_count": 3,
     "metadata": {},
     "output_type": "execute_result"
    }
   ],
   "source": [
    "# Manual input on main-node test cases \n",
    "main_test_cases = [\n",
    "    ({\"name\": \"Dilireba\"}, {\"age\": 32}),\n",
    "    ({\"name\": \"ChengXiao\"}, {\"age\": 26})\n",
    "]\n",
    "\n",
    "plan.spawn_test_cases_parallel(main_test_cases) #  pinned test cases generation"
   ]
  },
  {
   "cell_type": "code",
   "execution_count": 4,
   "metadata": {},
   "outputs": [
    {
     "data": {
      "text/plain": [
       "{'search_google': [({'name': 'Dilireba'},\n",
       "   {'result': 'Dilireba is a Chinese actress born in 1992.'}),\n",
       "  ({'name': 'ChengXiao'}, {'result': \"ChengXiao's Wikipedia page\"})],\n",
       " 'get_birth_year': [({'google_result': 'Dilireba is a Chinese actress born in 1992.'},\n",
       "   {'age': 32}),\n",
       "  ({'google_result': 'ChengXiao was born on January 5, 1997.'}, {'age': 26})]}"
      ]
     },
     "execution_count": 4,
     "metadata": {},
     "output_type": "execute_result"
    }
   ],
   "source": [
    "plan.test_cases_dict"
   ]
  },
  {
   "cell_type": "code",
   "execution_count": null,
   "metadata": {},
   "outputs": [],
   "source": [
    "plan.evolve_sub_nodes() # sub-node evolution\n",
    "\n",
    "# Bug above\n",
    "# ---> 86 is_aligned, error_msg_delta = metric(pred_value, target_value)\n",
    "#      87 if not is_aligned:\n",
    "#      88     error_msg += error_msg_delta + \"\\n\"\n",
    "\n",
    "# TypeError: 'tuple' object is not callable"
   ]
  }
 ],
 "metadata": {
  "kernelspec": {
   "display_name": "Python 3",
   "language": "python",
   "name": "python3"
  },
  "language_info": {
   "codemirror_mode": {
    "name": "ipython",
    "version": 3
   },
   "file_extension": ".py",
   "mimetype": "text/x-python",
   "name": "python",
   "nbconvert_exporter": "python",
   "pygments_lexer": "ipython3",
   "version": "3.11.5"
  }
 },
 "nbformat": 4,
 "nbformat_minor": 2
}
