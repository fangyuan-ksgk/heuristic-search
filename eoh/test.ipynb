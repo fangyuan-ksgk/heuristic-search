{
 "cells": [
  {
   "cell_type": "markdown",
   "metadata": {},
   "source": [
    "</div>\n",
    "<div align=\"center\">\n",
    "  <img src=\"img/evolnode.png\" width=\"800\" alt=\"Fourier reconstruction convergence\">\n",
    "  <p><em> Evolution Node free you from coding and debugging, let LLM evolve your code for you.</em></p>\n",
    "</div>\n",
    "<div align=\"left\">\n",
    "<p><em>Bored of manual coding, a function? EvolNode let LLM automate function design and guide the evolution of it with genetic algorithm. A node here takes a task, input, and output, it uses either code or another LLM to complete the task, ensuring aligned input and output value types and ,.names.Fitness evaluation is done by running the function with a few specified test cases, the more diverse the test case, the better the evolution.\n",
    "</em></p>\n",
    "</div>"
   ]
  },
  {
   "cell_type": "code",
   "execution_count": 4,
   "metadata": {},
   "outputs": [],
   "source": [
    "from methods.meta_prompt import MetaPrompt, PromptMode\n",
    "from methods.eoh_evolution import EvolNode\n",
    "from methods.llm import get_groq_response\n",
    "\n",
    "# Code + Compilor Task\n",
    "mp = MetaPrompt(\"Search for age of a celebrity.\", \"get_celeb_age\", [\"name\"], [\"age\"], [\"str\"], [\"int\"], PromptMode.CODE)\n",
    "test_cases = [\n",
    "    ({\"name\": \"Dilireba\"}, {\"age\": 32}),\n",
    "    ({\"name\": \"ChengXiao\"}, {\"age\": 26})\n",
    "]\n",
    "\n",
    "test_inputs = [c[0] for c in test_cases]\n",
    "node = EvolNode(mp, None, None, get_response=get_groq_response, test_cases=test_cases)\n",
    "\n",
    "\n",
    "# reasoning, code = node.evolve(\"i1\", replace=True)\n",
    "# input_dict = {\"n\": 10}\n",
    "# output_dict = node(input_dict) # Ok we need a output dictionary here as well ...\n",
    "\n",
    "\n",
    "# Prompt + LLM Task\n",
    "# mp = MetaPrompt(\"Get the age of a celebrity.\", \"get_celeb_age\", [\"name\"], [\"age\"], [\"str\"], [\"int\"], PromptMode.PROMPT) # \n",
    "# node = EvolNode(mp, None, None, get_response=get_groq_response)\n",
    "# node.evolve(\"i1\", replace=True)\n",
    "\n",
    "# input_dict = {\"name\": \"Dilireba\"}\n",
    "# output_dict = node(input_dict) "
   ]
  },
  {
   "cell_type": "code",
   "execution_count": 2,
   "metadata": {},
   "outputs": [
    {
     "name": "stderr",
     "output_type": "stream",
     "text": [
      "Evaluating fitness: 100%|██████████| 2/2 [00:00<00:00, 12.22it/s]\n"
     ]
    },
    {
     "name": "stdout",
     "output_type": "stream",
     "text": [
      " - Attempt 1 failed. Fitness: 0.00. Error: --- Compiled 0 out of 2 test cases\n",
      "--- Passed 0 out of 2 test cases\n",
      "Input: {'query': 'Dilireba'}, Output is missing or of wrong type, Expected: {'results': ['stuff about Dilireba']}\n",
      "Input: {'query': 'ChengXiao'}, Output is missing or of wrong type, Expected: {'results': ['stuff about ChengXiao']}\n",
      "\n",
      "Error Message:\n",
      "\n",
      "**********************************************************************\n",
      "  Resource \u001b[93mpunkt\u001b[0m not found.\n",
      "  Please use the NLTK Downloader to obtain the resource:\n",
      "\n",
      "  \u001b[31m>>> import nltk\n",
      "  >>> nltk.download('punkt')\n",
      "  \u001b[0m\n",
      "  For more information see: https://www.nltk.org/data.html\n",
      "\n",
      "  Attempted to load \u001b[93mtokenizers/punkt/PY3/english.pickle\u001b[0m\n",
      "\n",
      "  Searched in:\n",
      "    - '/Users/fangyuanyu/nltk_data'\n",
      "    - '/opt/homebrew/anaconda3/nltk_data'\n",
      "    - '/opt/homebrew/anaconda3/share/nltk_data'\n",
      "    - '/opt/homebrew/anaconda3/lib/nltk_data'\n",
      "    - '/usr/share/nltk_data'\n",
      "    - '/usr/local/share/nltk_data'\n",
      "    - '/usr/lib/nltk_data'\n",
      "    - '/usr/local/lib/nltk_data'\n",
      "    - ''\n",
      "**********************************************************************\n",
      "\n",
      "**********************************************************************\n",
      "  Resource \u001b[93mpunkt\u001b[0m not found.\n",
      "  Please use the NLTK Downloader to obtain the resource:\n",
      "\n",
      "  \u001b[31m>>> import nltk\n",
      "  >>> nltk.download('punkt')\n",
      "  \u001b[0m\n",
      "  For more information see: https://www.nltk.org/data.html\n",
      "\n",
      "  Attempted to load \u001b[93mtokenizers/punkt/PY3/english.pickle\u001b[0m\n",
      "\n",
      "  Searched in:\n",
      "    - '/Users/fangyuanyu/nltk_data'\n",
      "    - '/opt/homebrew/anaconda3/nltk_data'\n",
      "    - '/opt/homebrew/anaconda3/share/nltk_data'\n",
      "    - '/opt/homebrew/anaconda3/lib/nltk_data'\n",
      "    - '/usr/share/nltk_data'\n",
      "    - '/usr/local/share/nltk_data'\n",
      "    - '/usr/lib/nltk_data'\n",
      "    - '/usr/local/lib/nltk_data'\n",
      "    - ''\n",
      "**********************************************************************\n",
      "\n"
     ]
    },
    {
     "name": "stderr",
     "output_type": "stream",
     "text": [
      "Evaluating fitness: 100%|██████████| 2/2 [00:00<00:00, 14.47it/s]\n"
     ]
    },
    {
     "name": "stdout",
     "output_type": "stream",
     "text": [
      " - Attempt 2 failed. Fitness: 0.00. Error: --- Compiled 0 out of 2 test cases\n",
      "--- Passed 0 out of 2 test cases\n",
      "Input: {'query': 'Dilireba'}, Output is missing or of wrong type, Expected: {'results': ['stuff about Dilireba']}\n",
      "Input: {'query': 'ChengXiao'}, Output is missing or of wrong type, Expected: {'results': ['stuff about ChengXiao']}\n",
      "\n",
      "Error Message:\n",
      "No module named 'azure'No module named 'azure'\n",
      "Parse Response Failed...\n",
      " - Attempt 3 failed. Fitness: 0.00. Error: \n"
     ]
    },
    {
     "name": "stderr",
     "output_type": "stream",
     "text": [
      "Evaluating fitness: 100%|██████████| 2/2 [00:00<00:00, 43.02it/s]\n"
     ]
    },
    {
     "name": "stdout",
     "output_type": "stream",
     "text": [
      " - Attempt 4 failed. Fitness: 0.00. Error: --- Compiled 0 out of 2 test cases\n",
      "--- Passed 0 out of 2 test cases\n",
      "Input: {'query': 'Dilireba'}, Output is missing or of wrong type, Expected: {'results': ['stuff about Dilireba']}\n",
      "Input: {'query': 'ChengXiao'}, Output is missing or of wrong type, Expected: {'results': ['stuff about ChengXiao']}\n",
      "\n",
      "Error Message:\n",
      "No module named 'language_model'No module named 'language_model'\n"
     ]
    },
    {
     "name": "stderr",
     "output_type": "stream",
     "text": [
      "Evaluating fitness: 100%|██████████| 2/2 [00:05<00:00,  2.98s/it]"
     ]
    },
    {
     "name": "stdout",
     "output_type": "stream",
     "text": [
      " - Attempt 5 failed. Fitness: 0.00. Error: --- Compiled 2 out of 2 test cases\n",
      "--- Passed 0 out of 2 test cases\n",
      "Input: {'query': 'Dilireba'}, Wrong Prediction: {'results': []}, Expected: {'results': ['stuff about Dilireba']}\n",
      "Input: {'query': 'ChengXiao'}, Wrong Prediction: {'results': []}, Expected: {'results': ['stuff about ChengXiao']}\n",
      "\n",
      "Error Message:\n",
      "\n",
      "Evolution failed after 5 attempts.\n"
     ]
    },
    {
     "name": "stderr",
     "output_type": "stream",
     "text": [
      "\n"
     ]
    },
    {
     "data": {
      "text/plain": [
       "(None, None)"
      ]
     },
     "execution_count": 2,
     "metadata": {},
     "output_type": "execute_result"
    }
   ],
   "source": [
    "node.evolve(\"i1\", replace=True, num_runs=1) # Wrong error message, STH funny in here"
   ]
  },
  {
   "cell_type": "code",
   "execution_count": 8,
   "metadata": {},
   "outputs": [],
   "source": [
    "# Query Engine for relevant nodes \n",
    "\n",
    "from methods.eoh_evolution import QueryEngine\n",
    "qe = QueryEngine()\n",
    "nodes = qe.query_node(\"search_google\", top_k=5)\n",
    "relevant_node_str = (\"\\n\\n\").join([str(node) for node in nodes])\n"
   ]
  },
  {
   "cell_type": "code",
   "execution_count": 6,
   "metadata": {},
   "outputs": [],
   "source": []
  },
  {
   "cell_type": "markdown",
   "metadata": {},
   "source": [
    "#### Direct Loading Node"
   ]
  },
  {
   "cell_type": "code",
   "execution_count": 1,
   "metadata": {},
   "outputs": [
    {
     "name": "stderr",
     "output_type": "stream",
     "text": [
      "/opt/homebrew/anaconda3/lib/python3.11/site-packages/sentence_transformers/cross_encoder/CrossEncoder.py:11: TqdmExperimentalWarning: Using `tqdm.autonotebook.tqdm` in notebook mode. Use `tqdm.tqdm` instead to force console mode (e.g. in jupyter console)\n",
      "  from tqdm.autonotebook import tqdm, trange\n"
     ]
    },
    {
     "name": "stdout",
     "output_type": "stream",
     "text": [
      "Could not load vllm class, check CUDA support and GPU RAM size\n"
     ]
    },
    {
     "data": {
      "text/plain": [
       "{'result': ('{\\n  \"Search Result\": [\\n    {\\n      \"title\": \"Dilraba Dilmurat - Wikipedia\",\\n      \"link\": \"https://en.wikipedia.org/wiki/Dilraba_Dilmurat\",\\n      \"snippet\": \"Dilraba Dilmurat (Uyghur: \\\\u062f\\\\u0649\\\\u0644\\\\u0631\\\\u06d5\\\\u0628\\\\u0627 \\\\u062f\\\\u0649\\\\u0644\\\\u0645\\\\u06c7\\\\u0631\\\\u0627\\\\u062a, Chinese: \\\\u8fea\\\\u4e3d\\\\u70ed\\\\u5df4\\\\u00b7\\\\u8fea\\\\u529b\\\\u6728\\\\u62c9\\\\u63d0; born June 3, 1992) is a Chinese actress, singer and model. She is an ethnic Uyghur ...\",\\n      \"position\": 1\\n    },\\n    {\\n      \"title\": \"Dilraba Dilmurat (\\\\u8fea\\\\u4e3d\\\\u70ed\\\\u5df4) - MyDramaList\",\\n      \"link\": \"https://mydramalist.com/people/7830-dilmurat-dilraba\",\\n      \"snippet\": \"Dilraba Dilmurat, born in Xinjiang, China, is an award-winning actor, dancer and singer of Uyghur descent.\",\\n      \"sitelinks\": [\\n        {\\n          \"title\": \"Love Beyond the Grave\",\\n          \"link\": \"https://mydramalist.com/750689-bai-ri-ti-deng\"\\n        },\\n        {\\n          \"title\": \"Love on the Turquoise Land\",\\n          \"link\": \"https://mydramalist.com/702977-xiao-qi-qing-rang\"\\n        },\\n        {\\n          \"title\": \"Sword Rose\",\\n          \"link\": \"https://mydramalist.com/747105-li-jian-mei-gui\"\\n        },\\n        {\\n          \"title\": \"Hot Girl (2016)\",\\n          \"link\": \"https://mydramalist.com/17245-hot-girl\"\\n        }\\n      ],\\n      \"position\": 2\\n    },\\n    {\\n      \"title\": \"What are Chinese people\\'s thought on dilraba dilmurat\\'s look? - Reddit\",\\n      \"link\": \"https://www.reddit.com/r/CDrama/comments/14q8bsl/what_are_chinese_peoples_thought_on_dilraba/\",\\n      \"snippet\": \"Dilralba\\'s looks are commonly understood to be \\\\u201cstunning\\\\u201d. Her posters are plastered everywhere -even in Chinese silo communities overseas.\",\\n      \"date\": \"Jul 4, 2023\",\\n      \"sitelinks\": [\\n        {\\n          \"title\": \"Unpopular opinion: Dilireba was perfectly casted in The Long Ballad\",\\n          \"link\": \"https://www.reddit.com/r/CDrama/comments/xc093m/unpopular_opinion_dilireba_was_perfectly_casted/\"\\n        },\\n        {\\n          \"title\": \"Dilireba and Chen Xingxu upcoming drama boot ceremony : r/CDrama\",\\n          \"link\": \"https://www.reddit.com/r/CDrama/comments/1bi9egy/dilireba_and_chen_xingxu_upcoming_drama_boot/\"\\n        },\\n        {\\n          \"title\": \"Dilireba x Chen Xing Xu possible project together : r/CDrama - Reddit\",\\n          \"link\": \"https://www.reddit.com/r/CDrama/comments/1avw7tm/dilireba_x_chen_xing_xu_possible_project_together/\"\\n        },\\n        {\\n          \"title\": \"Uyghur celebrities like Dilireba? : r/CDrama - Reddit\",\\n          \"link\": \"https://www.reddit.com/r/CDrama/comments/lbr2z8/uyghur_celebrities_like_dilireba/\"\\n        }\\n      ],\\n      \"position\": 3\\n    },\\n    {\\n      \"title\": \"Dilraba Updates \\\\u8fea\\\\u4e3d\\\\u70ed\\\\u5df4(@dilireba_) / X\",\\n      \"link\": \"https://x.com/dilireba_\",\\n      \"snippet\": \"#Dilireba\\'s studio shares her April 2024 schedule 18-19 April - Variety recording 27 April- Brand event The rest of the time will be spent filming, ...\",\\n      \"position\": 4\\n    },\\n    {\\n      \"title\": \"\\\\u1d05\\\\u026a\\\\u029f\\\\u026a\\\\u0280\\\\u1d07\\\\u0299\\\\u1d00 - Facebook\",\\n      \"link\": \"https://www.facebook.com/dilirebaph/\",\\n      \"snippet\": \"\\\\u1d05\\\\u026a\\\\u029f\\\\u026a\\\\u0280\\\\u1d07\\\\u0299\\\\u1d00. 21467 likes \\\\u00b7 5921 talking about this. fanpage \\\\u2014serving you the latest updates and old media of miss dilraba dilmurat also known as dilireba.\",\\n      \"position\": 5\\n    },\\n    {\\n      \"title\": \"(@alwaysdilraba) / X\",\\n      \"link\": \"https://twitter.com/alwaysdilraba?lang=en\",\\n      \"snippet\": \"For the queen of our hearts, dilraba dilmurat \\\\u2728 #dilraba #dilireba #\\\\u8fea\\\\u4e3d\\\\u70ed\\\\u5df4 #dilrabadilmurat reba\\'s universe \\\\ud83d\\\\udc83\\\\ud83c\\\\udffb instagram.com/for_dilraba/\",\\n      \"position\": 6\\n    },\\n    {\\n      \"title\": \"Dilireba - chinese actress, actresses, asian beauty - Pinterest\",\\n      \"link\": \"https://www.pinterest.com/ffts25607/dilireba/\",\\n      \"snippet\": \"Oct 10, 2018 - Explore SIN YEE\\'s board \\\\\"dilireba\\\\\" on Pinterest. See more ideas about chinese actress, actresses, asian beauty.\",\\n      \"position\": 7\\n    },\\n    {\\n      \"title\": \"254 Dilireba Stock Photos & High-Res Pictures - Getty Images\",\\n      \"link\": \"https://www.gettyimages.com/photos/dilireba\",\\n      \"snippet\": \"Actress Dilraba Dilmurat attends 2024 Tencent Video Goose Opera Party on June 24, 2024 in Shanghai, China.\",\\n      \"position\": 8\\n    },\\n    {\\n      \"title\": \"Dilraba Dilmurat (Dilireba) Merch - cpop universe\",\\n      \"link\": \"https://cpop-universe.com/collections/dilraba-dilmurat\",\\n      \"snippet\": \"Eternal Love of Dream Chinese Drama Merch - Nine-tailed Fox Plushie [25 cm]. No reviews. Regular price $42.00 $42.00.\",\\n      \"position\": 9\\n    },\\n    {\\n      \"title\": \"Beautiful Dilraba Dilmurat Dilireba - Facebook\",\\n      \"link\": \"https://www.facebook.com/dilrabadilmuratfanph/\",\\n      \"snippet\": \"Only DEAR Reba Dilraba Dilmurat. Chinese Actress, Chinese Model, Singer And dancer. Details: Not yet rated (0 Reviews)\",\\n      \"position\": 10\\n    }\\n  ]\\n}',\n",
       "  '')}"
      ]
     },
     "execution_count": 1,
     "metadata": {},
     "output_type": "execute_result"
    }
   ],
   "source": [
    "from methods.eoh_evolution import EvolNode \n",
    "\n",
    "# node = EvolNode.load(\"get_celeb_age\")\n",
    "node = EvolNode.load(\"search_google\")\n",
    "input_dict = {\"query\": \"Dilireba\"}\n",
    "node(input_dict)"
   ]
  },
  {
   "cell_type": "code",
   "execution_count": 2,
   "metadata": {},
   "outputs": [
    {
     "name": "stdout",
     "output_type": "stream",
     "text": [
      "\n",
      "import http.client\n",
      "import json\n",
      "import os\n",
      "from typing import Dict, Any\n",
      "\n",
      "def _search_google(query: str) -> Dict[str, Any]:\n",
      "    \"\"\"\n",
      "    Use Serper API to search Google for information\n",
      "    \n",
      "    Args:\n",
      "        query (str): The search query\n",
      "    \n",
      "    Returns:\n",
      "        Dict[str, Any]: Parsed JSON response from the API\n",
      "    \"\"\"\n",
      "    conn = http.client.HTTPSConnection(\"google.serper.dev\")\n",
      "    payload = json.dumps({\"q\": query})\n",
      "    headers = {\n",
      "        'X-API-KEY': os.environ[\"SERPER_API_KEY\"],\n",
      "        'Content-Type': 'application/json'\n",
      "    }\n",
      "    \n",
      "    try:\n",
      "        conn.request(\"POST\", \"/search\", payload, headers)\n",
      "        res = conn.getresponse()\n",
      "        data = res.read()\n",
      "        return json.loads(data.decode(\"utf-8\"))\n",
      "    except Exception as e:\n",
      "        print(f\"Error occurred during API request: {str(e)}\")\n",
      "        return {}\n",
      "    finally:\n",
      "        conn.close()\n",
      "        \n",
      "def search_google(query: str) -> str: \n",
      "    \"\"\" \n",
      "    Input query, return search result string from Google\n",
      "    \"\"\"\n",
      "    result = _search_google(query)\n",
      "    result_dict = {k.replace(\"organic\", \"Search Result\"): v for k, v in result.items() if k in [\"answerBox\", \"organic\"]}\n",
      "    result_str = json.dumps(result_dict, indent=2)\n",
      "    return result_str \n",
      "\n"
     ]
    }
   ],
   "source": [
    "print(node.code)"
   ]
  },
  {
   "cell_type": "markdown",
   "metadata": {},
   "source": [
    "#### Alignment-Check for Evaluation"
   ]
  },
  {
   "cell_type": "code",
   "execution_count": 2,
   "metadata": {},
   "outputs": [
    {
     "name": "stderr",
     "output_type": "stream",
     "text": [
      "Evaluating fitness: 100%|██████████| 4/4 [00:13<00:00,  3.39s/it]\n"
     ]
    }
   ],
   "source": [
    "from methods.llm import get_groq_response \n",
    "\n",
    "# Evaluation base on alignment check\n",
    "node.get_response = get_groq_response \n",
    "structure_fitness, function_fitness, issue_summary = node._evaluate_fitness(max_tries=1, num_runs=2)"
   ]
  },
  {
   "cell_type": "code",
   "execution_count": 3,
   "metadata": {},
   "outputs": [
    {
     "name": "stdout",
     "output_type": "stream",
     "text": [
      "--- Compiled 0 out of 4 test cases\n",
      "--- Passed 0 out of 4 test cases\n",
      "Given Input: {'name': 'Brad Pitt'}. Can't parse output dictionary from LLM's response.\n",
      "Given Input: {'name': 'Jennifer Lawrence'}. Can't parse output dictionary from LLM's response.\n",
      "Given Input: {'name': 'Brad Pitt'}. Can't parse output dictionary from LLM's response.\n",
      "Given Input: {'name': 'Jennifer Lawrence'}. Can't parse output dictionary from LLM's response.\n",
      "\n"
     ]
    }
   ],
   "source": [
    "print(issue_summary)"
   ]
  },
  {
   "cell_type": "code",
   "execution_count": 5,
   "metadata": {},
   "outputs": [],
   "source": [
    "# how to put a node into another nodes? \n",
    "# Ideally I would then ask for the node (which likely fails on many of the test-cases) to come-up with a code, where it could call on some 'pseudo-node'\n",
    "# These pseudo-nodes are used, very similar to a pseudo-code \n",
    "\n"
   ]
  },
  {
   "cell_type": "markdown",
   "metadata": {},
   "source": [
    "\n",
    "</div>\n",
    "<div align=\"center\">\n",
    "  <img src=\"https://github.com/user-attachments/assets/af98faeb-66d6-4278-af86-67d668d1954e\" width=\"1000\" alt=\"Fourier reconstruction convergence\">\n",
    "  <p><em> But how do we know what are the tasks suitable for our goal? Design of tasks topology is the fundation of planning, let's ask LLM for help on this, too! Evolution Graph autuomate planning by imagning topology of tasks which works best for your goal.</em></p>\n",
    "</div>\n",
    "\n",
    "</div>\n",
    "<div align=\"center\">\n",
    "  <img src=\"img/Planning-node.png\" width=\"400\" alt=\"Planning Node Task Decomposition\">\n",
    "  <p><em> But how do we know what are the tasks suitable for our goal? Design of tasks topology is the fundation of planning, let's ask LLM for help on this, too! Evolution Graph autuomate planning by imagning topology of tasks which works best for your goal.</em></p>\n",
    "</div>\n"
   ]
  },
  {
   "cell_type": "code",
   "execution_count": 1,
   "metadata": {},
   "outputs": [
    {
     "name": "stdout",
     "output_type": "stream",
     "text": [
      "Could not load vllm class, check CUDA support and GPU RAM size\n"
     ]
    },
    {
     "name": "stderr",
     "output_type": "stream",
     "text": [
      "success: successfully compiled d2_output/plan_graph.d2 to d2_output/plan_graph.png in 207.111084ms\n",
      "success: successfully compiled d2_output/plan_graph_dag.d2 to d2_output/plan_graph_dag.png in 207.980416ms\n"
     ]
    }
   ],
   "source": [
    "from methods.llm import get_claude_response\n",
    "from methods.diagram import visualize_plan_dict\n",
    "from methods.meta_prompt import MetaPlan,extract_python_code, extract_json_from_text\n",
    "\n",
    "# Step 0. Initialize MetaPlanning Prompt\n",
    "mp = MetaPlan(\"Get the age of celebrity.\", \"get_celeb_age\", [\"name\"], [\"age\"], [\"str\"], [\"int\"])\n",
    "\n",
    "# Step 1: Generate Pseudo-Code for SubTask Decomposition\n",
    "prompt = mp._get_pseudo_code_prompt() # Pseudo-Code Prompt (Non-implemented functional)\n",
    "response = get_claude_response(prompt) # Use Strong LLM to build up pseudo-code\n",
    "code = extract_python_code(response) # Extract Python Code from response \n",
    "\n",
    "# Step 2: Generate Planning DAG: Multiple Nodes \n",
    "graph_prompt = mp._get_plan_graph_prompt(code) \n",
    "plan_response = get_claude_response(graph_prompt)\n",
    "plan_dict = extract_json_from_text(plan_response)\n",
    "\n",
    "visualize_plan_dict(plan_dict)\n",
    "\n",
    "# Step 3: Spawn Multiple Sub-Nodes and Evolve them\n",
    "\n",
    "# Step 4: Slot Sub Node into context for parent node re-write "
   ]
  },
  {
   "cell_type": "code",
   "execution_count": 1,
   "metadata": {},
   "outputs": [
    {
     "name": "stdout",
     "output_type": "stream",
     "text": [
      "Could not load vllm class, check CUDA support and GPU RAM size\n"
     ]
    }
   ],
   "source": [
    "# Ok we could load this thing now ..\n",
    "\n",
    "from methods.eoh_evolution import PlanNode \n",
    "from methods.llm import get_groq_response \n",
    "\n",
    "plan_node = PlanNode.load(\"get_celeb_age\", get_response=get_groq_response)"
   ]
  },
  {
   "cell_type": "code",
   "execution_count": 5,
   "metadata": {},
   "outputs": [],
   "source": [
    "plan_dict = plan_node.plan_dict"
   ]
  },
  {
   "cell_type": "code",
   "execution_count": 6,
   "metadata": {},
   "outputs": [
    {
     "name": "stderr",
     "output_type": "stream",
     "text": [
      "Generating test cases: 5case [00:05,  1.20s/case]             \n"
     ]
    },
    {
     "name": "stdout",
     "output_type": "stream",
     "text": [
      "--- Generated 5 test cases\n"
     ]
    },
    {
     "name": "stderr",
     "output_type": "stream",
     "text": [
      "Generating test cases: 5case [00:09,  1.99s/case]             \n"
     ]
    },
    {
     "name": "stdout",
     "output_type": "stream",
     "text": [
      "--- Generated 5 test cases\n"
     ]
    },
    {
     "name": "stderr",
     "output_type": "stream",
     "text": [
      "Generating test cases: 5case [00:06,  1.20s/case]             \n"
     ]
    },
    {
     "name": "stdout",
     "output_type": "stream",
     "text": [
      "--- Generated 5 test cases\n"
     ]
    },
    {
     "name": "stderr",
     "output_type": "stream",
     "text": [
      "Generating test cases: 5case [00:05,  1.07s/case]             \n"
     ]
    },
    {
     "name": "stdout",
     "output_type": "stream",
     "text": [
      "--- Generated 5 test cases\n"
     ]
    },
    {
     "name": "stderr",
     "output_type": "stream",
     "text": [
      "Generating test cases: 5case [00:04,  1.17case/s]             \n"
     ]
    },
    {
     "name": "stdout",
     "output_type": "stream",
     "text": [
      "--- Generated 5 test cases\n"
     ]
    },
    {
     "name": "stderr",
     "output_type": "stream",
     "text": [
      "Generating test cases: 5case [00:05,  1.19s/case]             \n"
     ]
    },
    {
     "name": "stdout",
     "output_type": "stream",
     "text": [
      "--- Generated 5 test cases\n"
     ]
    },
    {
     "name": "stderr",
     "output_type": "stream",
     "text": [
      "Generating test cases: 5case [00:05,  1.13s/case]             \n"
     ]
    },
    {
     "name": "stdout",
     "output_type": "stream",
     "text": [
      "--- Generated 5 test cases\n"
     ]
    },
    {
     "name": "stderr",
     "output_type": "stream",
     "text": [
      "Generating test cases: 100%|██████████| 3/3 [00:04<00:00,  1.61s/case]\n"
     ]
    },
    {
     "name": "stdout",
     "output_type": "stream",
     "text": [
      "--- Generated 3 test cases\n"
     ]
    },
    {
     "name": "stderr",
     "output_type": "stream",
     "text": [
      "Generating test cases: 5case [00:06,  1.28s/case]             \n"
     ]
    },
    {
     "name": "stdout",
     "output_type": "stream",
     "text": [
      "--- Generated 5 test cases\n"
     ]
    },
    {
     "name": "stderr",
     "output_type": "stream",
     "text": [
      "Generating test cases: 5case [00:10,  2.19s/case]             "
     ]
    },
    {
     "name": "stdout",
     "output_type": "stream",
     "text": [
      "--- Generated 5 test cases\n"
     ]
    },
    {
     "name": "stderr",
     "output_type": "stream",
     "text": [
      "\n"
     ]
    }
   ],
   "source": [
    "prompt_nodes, code_nodes = plan_node._spawn_nodes(plan_dict)"
   ]
  },
  {
   "cell_type": "code",
   "execution_count": 17,
   "metadata": {},
   "outputs": [
    {
     "data": {
      "text/plain": [
       "[({'name': 'Tom Hanks'}, {'data': '67'}),\n",
       " ({'name': 'Emma Watson'}, {'data': '33'}),\n",
       " ({'name': 'Leonardo da Vinci'}, {'data': 'Deceased'})]"
      ]
     },
     "execution_count": 17,
     "metadata": {},
     "output_type": "execute_result"
    }
   ],
   "source": [
    "# Chicken n Egg problem: - how can you evolve a function which you can't evaluate? \n",
    "code_nodes[\"scrape_celeb_data\"].test_cases # probably not fair to expect test-cases for this one to be grounded ... "
   ]
  },
  {
   "cell_type": "code",
   "execution_count": 18,
   "metadata": {},
   "outputs": [
    {
     "name": "stderr",
     "output_type": "stream",
     "text": [
      "Evaluating fitness: 100%|██████████| 15/15 [00:36<00:00,  2.43s/it]\n"
     ]
    },
    {
     "name": "stdout",
     "output_type": "stream",
     "text": [
      " - Attempt 1 failed. Fitness: 0.00. Error: --- Compiled 10 out of 15 test cases\n",
      "--- Passed 0 out of 15 test cases\n",
      "Given Input: {'name': 'Tom Hanks'}. Can't parse output dictionary from LLM's response.\n",
      "Input: {'name': 'Emma Watson'}, Pred: {'data': 'Celebrity not found.'}, Expected: {'data': '33'}\n",
      "Input: {'name': 'Leonardo da Vinci'}, Pred: {'data': 'Celebrity not found.'}, Expected: {'data': 'Deceased'}\n",
      "Given Input: {'name': 'Tom Hanks'}. Can't parse output dictionary from LLM's response.\n",
      "Input: {'name': 'Emma Watson'}, Pred: {'data': 'Celebrity not found.'}, Expected: {'data': '33'}\n",
      "Input: {'name': 'Leonardo da Vinci'}, Pred: {'data': 'Celebrity not found.'}, Expected: {'data': 'Deceased'}\n",
      "Given Input: {'name': 'Tom Hanks'}. Can't parse output dictionary from LLM's response.\n",
      "Input: {'name': 'Emma Watson'}, Pred: {'data': 'Celebrity not found.'}, Expected: {'data': '33'}\n",
      "Input: {'name': 'Leonardo da Vinci'}, Pred: {'data': 'Celebrity not found.'}, Expected: {'data': 'Deceased'}\n",
      "Given Input: {'name': 'Tom Hanks'}. Can't parse output dictionary from LLM's response.\n",
      "Input: {'name': 'Emma Watson'}, Pred: {'data': 'Celebrity not found.'}, Expected: {'data': '33'}\n",
      "Input: {'name': 'Leonardo da Vinci'}, Pred: {'data': 'Celebrity not found.'}, Expected: {'data': 'Deceased'}\n",
      "Given Input: {'name': 'Tom Hanks'}. Can't parse output dictionary from LLM's response.\n",
      "Input: {'name': 'Emma Watson'}, Pred: {'data': 'Celebrity not found.'}, Expected: {'data': '33'}\n",
      "Input: {'name': 'Leonardo da Vinci'}, Pred: {'data': 'Celebrity not found.'}, Expected: {'data': 'Deceased'}\n",
      "\n"
     ]
    },
    {
     "name": "stderr",
     "output_type": "stream",
     "text": [
      "Evaluating fitness: 100%|██████████| 15/15 [00:00<00:00, 44906.90it/s]\n"
     ]
    },
    {
     "name": "stdout",
     "output_type": "stream",
     "text": [
      " - Attempt 2 failed. Fitness: 0.00. Error: --- Compiled 0 out of 15 test cases\n",
      "--- Passed 0 out of 15 test cases\n",
      "Given Input: {'name': 'Tom Hanks'}. Can't parse output dictionary from LLM's response.\n",
      "Given Input: {'name': 'Emma Watson'}. Can't parse output dictionary from LLM's response.\n",
      "Given Input: {'name': 'Leonardo da Vinci'}. Can't parse output dictionary from LLM's response.\n",
      "Given Input: {'name': 'Tom Hanks'}. Can't parse output dictionary from LLM's response.\n",
      "Given Input: {'name': 'Emma Watson'}. Can't parse output dictionary from LLM's response.\n",
      "Given Input: {'name': 'Leonardo da Vinci'}. Can't parse output dictionary from LLM's response.\n",
      "Given Input: {'name': 'Tom Hanks'}. Can't parse output dictionary from LLM's response.\n",
      "Given Input: {'name': 'Emma Watson'}. Can't parse output dictionary from LLM's response.\n",
      "Given Input: {'name': 'Leonardo da Vinci'}. Can't parse output dictionary from LLM's response.\n",
      "Given Input: {'name': 'Tom Hanks'}. Can't parse output dictionary from LLM's response.\n",
      "Given Input: {'name': 'Emma Watson'}. Can't parse output dictionary from LLM's response.\n",
      "Given Input: {'name': 'Leonardo da Vinci'}. Can't parse output dictionary from LLM's response.\n",
      "Given Input: {'name': 'Tom Hanks'}. Can't parse output dictionary from LLM's response.\n",
      "Given Input: {'name': 'Emma Watson'}. Can't parse output dictionary from LLM's response.\n",
      "Given Input: {'name': 'Leonardo da Vinci'}. Can't parse output dictionary from LLM's response.\n",
      "\n"
     ]
    },
    {
     "name": "stderr",
     "output_type": "stream",
     "text": [
      "Evaluating fitness: 100%|██████████| 15/15 [00:00<00:00, 31583.61it/s]\n"
     ]
    },
    {
     "name": "stdout",
     "output_type": "stream",
     "text": [
      " - Attempt 3 failed. Fitness: 0.00. Error: --- Compiled 0 out of 15 test cases\n",
      "--- Passed 0 out of 15 test cases\n",
      "Given Input: {'name': 'Tom Hanks'}. Can't parse output dictionary from LLM's response.\n",
      "Given Input: {'name': 'Emma Watson'}. Can't parse output dictionary from LLM's response.\n",
      "Given Input: {'name': 'Leonardo da Vinci'}. Can't parse output dictionary from LLM's response.\n",
      "Given Input: {'name': 'Tom Hanks'}. Can't parse output dictionary from LLM's response.\n",
      "Given Input: {'name': 'Emma Watson'}. Can't parse output dictionary from LLM's response.\n",
      "Given Input: {'name': 'Leonardo da Vinci'}. Can't parse output dictionary from LLM's response.\n",
      "Given Input: {'name': 'Tom Hanks'}. Can't parse output dictionary from LLM's response.\n",
      "Given Input: {'name': 'Emma Watson'}. Can't parse output dictionary from LLM's response.\n",
      "Given Input: {'name': 'Leonardo da Vinci'}. Can't parse output dictionary from LLM's response.\n",
      "Given Input: {'name': 'Tom Hanks'}. Can't parse output dictionary from LLM's response.\n",
      "Given Input: {'name': 'Emma Watson'}. Can't parse output dictionary from LLM's response.\n",
      "Given Input: {'name': 'Leonardo da Vinci'}. Can't parse output dictionary from LLM's response.\n",
      "Given Input: {'name': 'Tom Hanks'}. Can't parse output dictionary from LLM's response.\n",
      "Given Input: {'name': 'Emma Watson'}. Can't parse output dictionary from LLM's response.\n",
      "Given Input: {'name': 'Leonardo da Vinci'}. Can't parse output dictionary from LLM's response.\n",
      "\n"
     ]
    },
    {
     "name": "stderr",
     "output_type": "stream",
     "text": [
      "Evaluating fitness: 100%|██████████| 15/15 [00:00<00:00, 7772.03it/s]\n"
     ]
    },
    {
     "name": "stdout",
     "output_type": "stream",
     "text": [
      " - Attempt 4 failed. Fitness: 0.00. Error: --- Compiled 0 out of 15 test cases\n",
      "--- Passed 0 out of 15 test cases\n",
      "Given Input: {'name': 'Tom Hanks'}. Can't parse output dictionary from LLM's response.\n",
      "Given Input: {'name': 'Emma Watson'}. Can't parse output dictionary from LLM's response.\n",
      "Given Input: {'name': 'Leonardo da Vinci'}. Can't parse output dictionary from LLM's response.\n",
      "Given Input: {'name': 'Tom Hanks'}. Can't parse output dictionary from LLM's response.\n",
      "Given Input: {'name': 'Emma Watson'}. Can't parse output dictionary from LLM's response.\n",
      "Given Input: {'name': 'Leonardo da Vinci'}. Can't parse output dictionary from LLM's response.\n",
      "Given Input: {'name': 'Tom Hanks'}. Can't parse output dictionary from LLM's response.\n",
      "Given Input: {'name': 'Emma Watson'}. Can't parse output dictionary from LLM's response.\n",
      "Given Input: {'name': 'Leonardo da Vinci'}. Can't parse output dictionary from LLM's response.\n",
      "Given Input: {'name': 'Tom Hanks'}. Can't parse output dictionary from LLM's response.\n",
      "Given Input: {'name': 'Emma Watson'}. Can't parse output dictionary from LLM's response.\n",
      "Given Input: {'name': 'Leonardo da Vinci'}. Can't parse output dictionary from LLM's response.\n",
      "Given Input: {'name': 'Tom Hanks'}. Can't parse output dictionary from LLM's response.\n",
      "Given Input: {'name': 'Emma Watson'}. Can't parse output dictionary from LLM's response.\n",
      "Given Input: {'name': 'Leonardo da Vinci'}. Can't parse output dictionary from LLM's response.\n",
      "\n"
     ]
    },
    {
     "name": "stderr",
     "output_type": "stream",
     "text": [
      "Evaluating fitness:   0%|          | 0/15 [01:21<?, ?it/s]\n"
     ]
    },
    {
     "ename": "KeyboardInterrupt",
     "evalue": "",
     "output_type": "error",
     "traceback": [
      "\u001b[0;31m---------------------------------------------------------------------------\u001b[0m",
      "\u001b[0;31mKeyboardInterrupt\u001b[0m                         Traceback (most recent call last)",
      "Cell \u001b[0;32mIn[18], line 3\u001b[0m\n\u001b[1;32m      1\u001b[0m scrape_node \u001b[38;5;241m=\u001b[39m code_nodes[\u001b[38;5;124m\"\u001b[39m\u001b[38;5;124mscrape_celeb_data\u001b[39m\u001b[38;5;124m\"\u001b[39m]\n\u001b[0;32m----> 3\u001b[0m \u001b[43mscrape_node\u001b[49m\u001b[38;5;241;43m.\u001b[39;49m\u001b[43mevolve\u001b[49m\u001b[43m(\u001b[49m\u001b[38;5;124;43m\"\u001b[39;49m\u001b[38;5;124;43mi1\u001b[39;49m\u001b[38;5;124;43m\"\u001b[39;49m\u001b[43m,\u001b[49m\u001b[43m \u001b[49m\u001b[43mreplace\u001b[49m\u001b[38;5;241;43m=\u001b[39;49m\u001b[38;5;28;43;01mTrue\u001b[39;49;00m\u001b[43m)\u001b[49m\n",
      "File \u001b[0;32m~/Implementation/heuristic-search/eoh/methods/eoh_evolution.py:167\u001b[0m, in \u001b[0;36mEvolNode.evolve\u001b[0;34m(self, method, parents, replace, max_attempts, fitness_threshold, num_runs)\u001b[0m\n\u001b[1;32m    165\u001b[0m \u001b[38;5;28;01mfor\u001b[39;00m attempt \u001b[38;5;129;01min\u001b[39;00m \u001b[38;5;28mrange\u001b[39m(max_attempts):\n\u001b[1;32m    166\u001b[0m     reasoning, code \u001b[38;5;241m=\u001b[39m \u001b[38;5;28mself\u001b[39m\u001b[38;5;241m.\u001b[39m_evolve(method, parents, replace\u001b[38;5;241m=\u001b[39m\u001b[38;5;28;01mFalse\u001b[39;00m)    \n\u001b[0;32m--> 167\u001b[0m     _, fitness, error_msg \u001b[38;5;241m=\u001b[39m \u001b[38;5;28;43mself\u001b[39;49m\u001b[38;5;241;43m.\u001b[39;49m\u001b[43m_evaluate_fitness\u001b[49m\u001b[43m(\u001b[49m\u001b[43mcode\u001b[49m\u001b[38;5;241;43m=\u001b[39;49m\u001b[43mcode\u001b[49m\u001b[43m,\u001b[49m\u001b[43m \u001b[49m\u001b[43mmax_tries\u001b[49m\u001b[38;5;241;43m=\u001b[39;49m\u001b[38;5;241;43m1\u001b[39;49m\u001b[43m,\u001b[49m\u001b[43m \u001b[49m\u001b[43mnum_runs\u001b[49m\u001b[38;5;241;43m=\u001b[39;49m\u001b[43mnum_runs\u001b[49m\u001b[43m)\u001b[49m            \n\u001b[1;32m    169\u001b[0m     \u001b[38;5;28;01mif\u001b[39;00m fitness \u001b[38;5;241m>\u001b[39m\u001b[38;5;241m=\u001b[39m \u001b[38;5;28mself\u001b[39m\u001b[38;5;241m.\u001b[39mfitness:\n\u001b[1;32m    170\u001b[0m         \u001b[38;5;28;01mif\u001b[39;00m replace:\n",
      "File \u001b[0;32m~/Implementation/heuristic-search/eoh/methods/eoh_evolution.py:259\u001b[0m, in \u001b[0;36mEvolNode._evaluate_fitness\u001b[0;34m(self, test_cases, code, max_tries, num_runs)\u001b[0m\n\u001b[1;32m    257\u001b[0m \u001b[38;5;28;01mif\u001b[39;00m \u001b[38;5;28mself\u001b[39m\u001b[38;5;241m.\u001b[39mmeta_prompt\u001b[38;5;241m.\u001b[39mmode \u001b[38;5;241m==\u001b[39m PromptMode\u001b[38;5;241m.\u001b[39mCODE:\n\u001b[1;32m    258\u001b[0m     \u001b[38;5;28;01mtry\u001b[39;00m:\n\u001b[0;32m--> 259\u001b[0m         output_dict \u001b[38;5;241m=\u001b[39m \u001b[38;5;28;43mself\u001b[39;49m\u001b[38;5;241;43m.\u001b[39;49m\u001b[43mcall_code_func\u001b[49m\u001b[43m(\u001b[49m\u001b[43mtest_input\u001b[49m\u001b[43m,\u001b[49m\u001b[43m \u001b[49m\u001b[43mcode\u001b[49m\u001b[43m,\u001b[49m\u001b[43m \u001b[49m\u001b[43mfile_path\u001b[49m\u001b[38;5;241;43m=\u001b[39;49m\u001b[38;5;28;43;01mNone\u001b[39;49;00m\u001b[43m)\u001b[49m\n\u001b[1;32m    260\u001b[0m         compiled_tests \u001b[38;5;241m+\u001b[39m\u001b[38;5;241m=\u001b[39m \u001b[38;5;241m1\u001b[39m\n\u001b[1;32m    261\u001b[0m         is_aligned \u001b[38;5;241m=\u001b[39m check_alignment(output_dict, test_output, \u001b[38;5;28mself\u001b[39m\u001b[38;5;241m.\u001b[39mget_response)\n",
      "File \u001b[0;32m~/Implementation/heuristic-search/eoh/methods/eoh_evolution.py:228\u001b[0m, in \u001b[0;36mEvolNode.call_code_func\u001b[0;34m(self, test_input, code, file_path)\u001b[0m\n\u001b[1;32m    226\u001b[0m     code \u001b[38;5;241m=\u001b[39m \u001b[38;5;28mself\u001b[39m\u001b[38;5;241m.\u001b[39mcode\n\u001b[1;32m    227\u001b[0m \u001b[38;5;28;01mtry\u001b[39;00m:\n\u001b[0;32m--> 228\u001b[0m     output_value \u001b[38;5;241m=\u001b[39m \u001b[43mcall_func_code\u001b[49m\u001b[43m(\u001b[49m\u001b[43mtest_input\u001b[49m\u001b[43m,\u001b[49m\u001b[43m \u001b[49m\u001b[43mcode\u001b[49m\u001b[43m,\u001b[49m\u001b[43m \u001b[49m\u001b[38;5;28;43mself\u001b[39;49m\u001b[38;5;241;43m.\u001b[39;49m\u001b[43mmeta_prompt\u001b[49m\u001b[38;5;241;43m.\u001b[39;49m\u001b[43mfunc_name\u001b[49m\u001b[43m,\u001b[49m\u001b[43m \u001b[49m\u001b[43mfile_path\u001b[49m\u001b[38;5;241;43m=\u001b[39;49m\u001b[43mfile_path\u001b[49m\u001b[43m)\u001b[49m\n\u001b[1;32m    229\u001b[0m     output_name \u001b[38;5;241m=\u001b[39m \u001b[38;5;28mself\u001b[39m\u001b[38;5;241m.\u001b[39mmeta_prompt\u001b[38;5;241m.\u001b[39moutputs[\u001b[38;5;241m0\u001b[39m]\n\u001b[1;32m    230\u001b[0m     output_dict \u001b[38;5;241m=\u001b[39m {output_name: output_value}\n",
      "File \u001b[0;32m~/Implementation/heuristic-search/eoh/methods/meta_execute.py:88\u001b[0m, in \u001b[0;36mcall_func_code\u001b[0;34m(input_data, code, func_name, file_path)\u001b[0m\n\u001b[1;32m     85\u001b[0m             \u001b[38;5;28;01mraise\u001b[39;00m \u001b[38;5;167;01mTypeError\u001b[39;00m(\u001b[38;5;124mf\u001b[39m\u001b[38;5;124m\"\u001b[39m\u001b[38;5;124mInput data type mismatch for parameter \u001b[39m\u001b[38;5;124m'\u001b[39m\u001b[38;5;132;01m{\u001b[39;00mparam_name\u001b[38;5;132;01m}\u001b[39;00m\u001b[38;5;124m'\u001b[39m\u001b[38;5;124m. Expected \u001b[39m\u001b[38;5;132;01m{\u001b[39;00mexpected_type\u001b[38;5;132;01m}\u001b[39;00m\u001b[38;5;124m, got \u001b[39m\u001b[38;5;132;01m{\u001b[39;00m\u001b[38;5;28mtype\u001b[39m(actual_value)\u001b[38;5;132;01m}\u001b[39;00m\u001b[38;5;124m\"\u001b[39m)\n\u001b[1;32m     87\u001b[0m \u001b[38;5;66;03m# Call the function with the input data\u001b[39;00m\n\u001b[0;32m---> 88\u001b[0m result \u001b[38;5;241m=\u001b[39m \u001b[43mfunc\u001b[49m\u001b[43m(\u001b[49m\u001b[38;5;241;43m*\u001b[39;49m\u001b[38;5;241;43m*\u001b[39;49m\u001b[43minput_data\u001b[49m\u001b[43m)\u001b[49m\n\u001b[1;32m     90\u001b[0m \u001b[38;5;66;03m# Check output type\u001b[39;00m\n\u001b[1;32m     91\u001b[0m \u001b[38;5;28;01mif\u001b[39;00m expected_return_type \u001b[38;5;241m!=\u001b[39m Any \u001b[38;5;129;01mand\u001b[39;00m \u001b[38;5;129;01mnot\u001b[39;00m check_type(result, expected_return_type):\n",
      "File \u001b[0;32m<string>:20\u001b[0m, in \u001b[0;36mscrape_celeb_data\u001b[0;34m(name)\u001b[0m\n",
      "File \u001b[0;32m/opt/homebrew/anaconda3/lib/python3.11/site-packages/requests/api.py:73\u001b[0m, in \u001b[0;36mget\u001b[0;34m(url, params, **kwargs)\u001b[0m\n\u001b[1;32m     62\u001b[0m \u001b[38;5;28;01mdef\u001b[39;00m \u001b[38;5;21mget\u001b[39m(url, params\u001b[38;5;241m=\u001b[39m\u001b[38;5;28;01mNone\u001b[39;00m, \u001b[38;5;241m*\u001b[39m\u001b[38;5;241m*\u001b[39mkwargs):\n\u001b[1;32m     63\u001b[0m \u001b[38;5;250m    \u001b[39m\u001b[38;5;124mr\u001b[39m\u001b[38;5;124;03m\"\"\"Sends a GET request.\u001b[39;00m\n\u001b[1;32m     64\u001b[0m \n\u001b[1;32m     65\u001b[0m \u001b[38;5;124;03m    :param url: URL for the new :class:`Request` object.\u001b[39;00m\n\u001b[0;32m   (...)\u001b[0m\n\u001b[1;32m     70\u001b[0m \u001b[38;5;124;03m    :rtype: requests.Response\u001b[39;00m\n\u001b[1;32m     71\u001b[0m \u001b[38;5;124;03m    \"\"\"\u001b[39;00m\n\u001b[0;32m---> 73\u001b[0m     \u001b[38;5;28;01mreturn\u001b[39;00m \u001b[43mrequest\u001b[49m\u001b[43m(\u001b[49m\u001b[38;5;124;43m\"\u001b[39;49m\u001b[38;5;124;43mget\u001b[39;49m\u001b[38;5;124;43m\"\u001b[39;49m\u001b[43m,\u001b[49m\u001b[43m \u001b[49m\u001b[43murl\u001b[49m\u001b[43m,\u001b[49m\u001b[43m \u001b[49m\u001b[43mparams\u001b[49m\u001b[38;5;241;43m=\u001b[39;49m\u001b[43mparams\u001b[49m\u001b[43m,\u001b[49m\u001b[43m \u001b[49m\u001b[38;5;241;43m*\u001b[39;49m\u001b[38;5;241;43m*\u001b[39;49m\u001b[43mkwargs\u001b[49m\u001b[43m)\u001b[49m\n",
      "File \u001b[0;32m/opt/homebrew/anaconda3/lib/python3.11/site-packages/requests/api.py:59\u001b[0m, in \u001b[0;36mrequest\u001b[0;34m(method, url, **kwargs)\u001b[0m\n\u001b[1;32m     55\u001b[0m \u001b[38;5;66;03m# By using the 'with' statement we are sure the session is closed, thus we\u001b[39;00m\n\u001b[1;32m     56\u001b[0m \u001b[38;5;66;03m# avoid leaving sockets open which can trigger a ResourceWarning in some\u001b[39;00m\n\u001b[1;32m     57\u001b[0m \u001b[38;5;66;03m# cases, and look like a memory leak in others.\u001b[39;00m\n\u001b[1;32m     58\u001b[0m \u001b[38;5;28;01mwith\u001b[39;00m sessions\u001b[38;5;241m.\u001b[39mSession() \u001b[38;5;28;01mas\u001b[39;00m session:\n\u001b[0;32m---> 59\u001b[0m     \u001b[38;5;28;01mreturn\u001b[39;00m \u001b[43msession\u001b[49m\u001b[38;5;241;43m.\u001b[39;49m\u001b[43mrequest\u001b[49m\u001b[43m(\u001b[49m\u001b[43mmethod\u001b[49m\u001b[38;5;241;43m=\u001b[39;49m\u001b[43mmethod\u001b[49m\u001b[43m,\u001b[49m\u001b[43m \u001b[49m\u001b[43murl\u001b[49m\u001b[38;5;241;43m=\u001b[39;49m\u001b[43murl\u001b[49m\u001b[43m,\u001b[49m\u001b[43m \u001b[49m\u001b[38;5;241;43m*\u001b[39;49m\u001b[38;5;241;43m*\u001b[39;49m\u001b[43mkwargs\u001b[49m\u001b[43m)\u001b[49m\n",
      "File \u001b[0;32m/opt/homebrew/anaconda3/lib/python3.11/site-packages/requests/sessions.py:589\u001b[0m, in \u001b[0;36mSession.request\u001b[0;34m(self, method, url, params, data, headers, cookies, files, auth, timeout, allow_redirects, proxies, hooks, stream, verify, cert, json)\u001b[0m\n\u001b[1;32m    584\u001b[0m send_kwargs \u001b[38;5;241m=\u001b[39m {\n\u001b[1;32m    585\u001b[0m     \u001b[38;5;124m\"\u001b[39m\u001b[38;5;124mtimeout\u001b[39m\u001b[38;5;124m\"\u001b[39m: timeout,\n\u001b[1;32m    586\u001b[0m     \u001b[38;5;124m\"\u001b[39m\u001b[38;5;124mallow_redirects\u001b[39m\u001b[38;5;124m\"\u001b[39m: allow_redirects,\n\u001b[1;32m    587\u001b[0m }\n\u001b[1;32m    588\u001b[0m send_kwargs\u001b[38;5;241m.\u001b[39mupdate(settings)\n\u001b[0;32m--> 589\u001b[0m resp \u001b[38;5;241m=\u001b[39m \u001b[38;5;28;43mself\u001b[39;49m\u001b[38;5;241;43m.\u001b[39;49m\u001b[43msend\u001b[49m\u001b[43m(\u001b[49m\u001b[43mprep\u001b[49m\u001b[43m,\u001b[49m\u001b[43m \u001b[49m\u001b[38;5;241;43m*\u001b[39;49m\u001b[38;5;241;43m*\u001b[39;49m\u001b[43msend_kwargs\u001b[49m\u001b[43m)\u001b[49m\n\u001b[1;32m    591\u001b[0m \u001b[38;5;28;01mreturn\u001b[39;00m resp\n",
      "File \u001b[0;32m/opt/homebrew/anaconda3/lib/python3.11/site-packages/requests/sessions.py:703\u001b[0m, in \u001b[0;36mSession.send\u001b[0;34m(self, request, **kwargs)\u001b[0m\n\u001b[1;32m    700\u001b[0m start \u001b[38;5;241m=\u001b[39m preferred_clock()\n\u001b[1;32m    702\u001b[0m \u001b[38;5;66;03m# Send the request\u001b[39;00m\n\u001b[0;32m--> 703\u001b[0m r \u001b[38;5;241m=\u001b[39m \u001b[43madapter\u001b[49m\u001b[38;5;241;43m.\u001b[39;49m\u001b[43msend\u001b[49m\u001b[43m(\u001b[49m\u001b[43mrequest\u001b[49m\u001b[43m,\u001b[49m\u001b[43m \u001b[49m\u001b[38;5;241;43m*\u001b[39;49m\u001b[38;5;241;43m*\u001b[39;49m\u001b[43mkwargs\u001b[49m\u001b[43m)\u001b[49m\n\u001b[1;32m    705\u001b[0m \u001b[38;5;66;03m# Total elapsed time of the request (approximately)\u001b[39;00m\n\u001b[1;32m    706\u001b[0m elapsed \u001b[38;5;241m=\u001b[39m preferred_clock() \u001b[38;5;241m-\u001b[39m start\n",
      "File \u001b[0;32m/opt/homebrew/anaconda3/lib/python3.11/site-packages/requests/adapters.py:667\u001b[0m, in \u001b[0;36mHTTPAdapter.send\u001b[0;34m(self, request, stream, timeout, verify, cert, proxies)\u001b[0m\n\u001b[1;32m    664\u001b[0m     timeout \u001b[38;5;241m=\u001b[39m TimeoutSauce(connect\u001b[38;5;241m=\u001b[39mtimeout, read\u001b[38;5;241m=\u001b[39mtimeout)\n\u001b[1;32m    666\u001b[0m \u001b[38;5;28;01mtry\u001b[39;00m:\n\u001b[0;32m--> 667\u001b[0m     resp \u001b[38;5;241m=\u001b[39m \u001b[43mconn\u001b[49m\u001b[38;5;241;43m.\u001b[39;49m\u001b[43murlopen\u001b[49m\u001b[43m(\u001b[49m\n\u001b[1;32m    668\u001b[0m \u001b[43m        \u001b[49m\u001b[43mmethod\u001b[49m\u001b[38;5;241;43m=\u001b[39;49m\u001b[43mrequest\u001b[49m\u001b[38;5;241;43m.\u001b[39;49m\u001b[43mmethod\u001b[49m\u001b[43m,\u001b[49m\n\u001b[1;32m    669\u001b[0m \u001b[43m        \u001b[49m\u001b[43murl\u001b[49m\u001b[38;5;241;43m=\u001b[39;49m\u001b[43murl\u001b[49m\u001b[43m,\u001b[49m\n\u001b[1;32m    670\u001b[0m \u001b[43m        \u001b[49m\u001b[43mbody\u001b[49m\u001b[38;5;241;43m=\u001b[39;49m\u001b[43mrequest\u001b[49m\u001b[38;5;241;43m.\u001b[39;49m\u001b[43mbody\u001b[49m\u001b[43m,\u001b[49m\n\u001b[1;32m    671\u001b[0m \u001b[43m        \u001b[49m\u001b[43mheaders\u001b[49m\u001b[38;5;241;43m=\u001b[39;49m\u001b[43mrequest\u001b[49m\u001b[38;5;241;43m.\u001b[39;49m\u001b[43mheaders\u001b[49m\u001b[43m,\u001b[49m\n\u001b[1;32m    672\u001b[0m \u001b[43m        \u001b[49m\u001b[43mredirect\u001b[49m\u001b[38;5;241;43m=\u001b[39;49m\u001b[38;5;28;43;01mFalse\u001b[39;49;00m\u001b[43m,\u001b[49m\n\u001b[1;32m    673\u001b[0m \u001b[43m        \u001b[49m\u001b[43massert_same_host\u001b[49m\u001b[38;5;241;43m=\u001b[39;49m\u001b[38;5;28;43;01mFalse\u001b[39;49;00m\u001b[43m,\u001b[49m\n\u001b[1;32m    674\u001b[0m \u001b[43m        \u001b[49m\u001b[43mpreload_content\u001b[49m\u001b[38;5;241;43m=\u001b[39;49m\u001b[38;5;28;43;01mFalse\u001b[39;49;00m\u001b[43m,\u001b[49m\n\u001b[1;32m    675\u001b[0m \u001b[43m        \u001b[49m\u001b[43mdecode_content\u001b[49m\u001b[38;5;241;43m=\u001b[39;49m\u001b[38;5;28;43;01mFalse\u001b[39;49;00m\u001b[43m,\u001b[49m\n\u001b[1;32m    676\u001b[0m \u001b[43m        \u001b[49m\u001b[43mretries\u001b[49m\u001b[38;5;241;43m=\u001b[39;49m\u001b[38;5;28;43mself\u001b[39;49m\u001b[38;5;241;43m.\u001b[39;49m\u001b[43mmax_retries\u001b[49m\u001b[43m,\u001b[49m\n\u001b[1;32m    677\u001b[0m \u001b[43m        \u001b[49m\u001b[43mtimeout\u001b[49m\u001b[38;5;241;43m=\u001b[39;49m\u001b[43mtimeout\u001b[49m\u001b[43m,\u001b[49m\n\u001b[1;32m    678\u001b[0m \u001b[43m        \u001b[49m\u001b[43mchunked\u001b[49m\u001b[38;5;241;43m=\u001b[39;49m\u001b[43mchunked\u001b[49m\u001b[43m,\u001b[49m\n\u001b[1;32m    679\u001b[0m \u001b[43m    \u001b[49m\u001b[43m)\u001b[49m\n\u001b[1;32m    681\u001b[0m \u001b[38;5;28;01mexcept\u001b[39;00m (ProtocolError, \u001b[38;5;167;01mOSError\u001b[39;00m) \u001b[38;5;28;01mas\u001b[39;00m err:\n\u001b[1;32m    682\u001b[0m     \u001b[38;5;28;01mraise\u001b[39;00m \u001b[38;5;167;01mConnectionError\u001b[39;00m(err, request\u001b[38;5;241m=\u001b[39mrequest)\n",
      "File \u001b[0;32m/opt/homebrew/anaconda3/lib/python3.11/site-packages/urllib3/connectionpool.py:789\u001b[0m, in \u001b[0;36mHTTPConnectionPool.urlopen\u001b[0;34m(self, method, url, body, headers, retries, redirect, assert_same_host, timeout, pool_timeout, release_conn, chunked, body_pos, preload_content, decode_content, **response_kw)\u001b[0m\n\u001b[1;32m    786\u001b[0m response_conn \u001b[38;5;241m=\u001b[39m conn \u001b[38;5;28;01mif\u001b[39;00m \u001b[38;5;129;01mnot\u001b[39;00m release_conn \u001b[38;5;28;01melse\u001b[39;00m \u001b[38;5;28;01mNone\u001b[39;00m\n\u001b[1;32m    788\u001b[0m \u001b[38;5;66;03m# Make the request on the HTTPConnection object\u001b[39;00m\n\u001b[0;32m--> 789\u001b[0m response \u001b[38;5;241m=\u001b[39m \u001b[38;5;28;43mself\u001b[39;49m\u001b[38;5;241;43m.\u001b[39;49m\u001b[43m_make_request\u001b[49m\u001b[43m(\u001b[49m\n\u001b[1;32m    790\u001b[0m \u001b[43m    \u001b[49m\u001b[43mconn\u001b[49m\u001b[43m,\u001b[49m\n\u001b[1;32m    791\u001b[0m \u001b[43m    \u001b[49m\u001b[43mmethod\u001b[49m\u001b[43m,\u001b[49m\n\u001b[1;32m    792\u001b[0m \u001b[43m    \u001b[49m\u001b[43murl\u001b[49m\u001b[43m,\u001b[49m\n\u001b[1;32m    793\u001b[0m \u001b[43m    \u001b[49m\u001b[43mtimeout\u001b[49m\u001b[38;5;241;43m=\u001b[39;49m\u001b[43mtimeout_obj\u001b[49m\u001b[43m,\u001b[49m\n\u001b[1;32m    794\u001b[0m \u001b[43m    \u001b[49m\u001b[43mbody\u001b[49m\u001b[38;5;241;43m=\u001b[39;49m\u001b[43mbody\u001b[49m\u001b[43m,\u001b[49m\n\u001b[1;32m    795\u001b[0m \u001b[43m    \u001b[49m\u001b[43mheaders\u001b[49m\u001b[38;5;241;43m=\u001b[39;49m\u001b[43mheaders\u001b[49m\u001b[43m,\u001b[49m\n\u001b[1;32m    796\u001b[0m \u001b[43m    \u001b[49m\u001b[43mchunked\u001b[49m\u001b[38;5;241;43m=\u001b[39;49m\u001b[43mchunked\u001b[49m\u001b[43m,\u001b[49m\n\u001b[1;32m    797\u001b[0m \u001b[43m    \u001b[49m\u001b[43mretries\u001b[49m\u001b[38;5;241;43m=\u001b[39;49m\u001b[43mretries\u001b[49m\u001b[43m,\u001b[49m\n\u001b[1;32m    798\u001b[0m \u001b[43m    \u001b[49m\u001b[43mresponse_conn\u001b[49m\u001b[38;5;241;43m=\u001b[39;49m\u001b[43mresponse_conn\u001b[49m\u001b[43m,\u001b[49m\n\u001b[1;32m    799\u001b[0m \u001b[43m    \u001b[49m\u001b[43mpreload_content\u001b[49m\u001b[38;5;241;43m=\u001b[39;49m\u001b[43mpreload_content\u001b[49m\u001b[43m,\u001b[49m\n\u001b[1;32m    800\u001b[0m \u001b[43m    \u001b[49m\u001b[43mdecode_content\u001b[49m\u001b[38;5;241;43m=\u001b[39;49m\u001b[43mdecode_content\u001b[49m\u001b[43m,\u001b[49m\n\u001b[1;32m    801\u001b[0m \u001b[43m    \u001b[49m\u001b[38;5;241;43m*\u001b[39;49m\u001b[38;5;241;43m*\u001b[39;49m\u001b[43mresponse_kw\u001b[49m\u001b[43m,\u001b[49m\n\u001b[1;32m    802\u001b[0m \u001b[43m\u001b[49m\u001b[43m)\u001b[49m\n\u001b[1;32m    804\u001b[0m \u001b[38;5;66;03m# Everything went great!\u001b[39;00m\n\u001b[1;32m    805\u001b[0m clean_exit \u001b[38;5;241m=\u001b[39m \u001b[38;5;28;01mTrue\u001b[39;00m\n",
      "File \u001b[0;32m/opt/homebrew/anaconda3/lib/python3.11/site-packages/urllib3/connectionpool.py:466\u001b[0m, in \u001b[0;36mHTTPConnectionPool._make_request\u001b[0;34m(self, conn, method, url, body, headers, retries, timeout, chunked, response_conn, preload_content, decode_content, enforce_content_length)\u001b[0m\n\u001b[1;32m    463\u001b[0m \u001b[38;5;28;01mtry\u001b[39;00m:\n\u001b[1;32m    464\u001b[0m     \u001b[38;5;66;03m# Trigger any extra validation we need to do.\u001b[39;00m\n\u001b[1;32m    465\u001b[0m     \u001b[38;5;28;01mtry\u001b[39;00m:\n\u001b[0;32m--> 466\u001b[0m         \u001b[38;5;28;43mself\u001b[39;49m\u001b[38;5;241;43m.\u001b[39;49m\u001b[43m_validate_conn\u001b[49m\u001b[43m(\u001b[49m\u001b[43mconn\u001b[49m\u001b[43m)\u001b[49m\n\u001b[1;32m    467\u001b[0m     \u001b[38;5;28;01mexcept\u001b[39;00m (SocketTimeout, BaseSSLError) \u001b[38;5;28;01mas\u001b[39;00m e:\n\u001b[1;32m    468\u001b[0m         \u001b[38;5;28mself\u001b[39m\u001b[38;5;241m.\u001b[39m_raise_timeout(err\u001b[38;5;241m=\u001b[39me, url\u001b[38;5;241m=\u001b[39murl, timeout_value\u001b[38;5;241m=\u001b[39mconn\u001b[38;5;241m.\u001b[39mtimeout)\n",
      "File \u001b[0;32m/opt/homebrew/anaconda3/lib/python3.11/site-packages/urllib3/connectionpool.py:1095\u001b[0m, in \u001b[0;36mHTTPSConnectionPool._validate_conn\u001b[0;34m(self, conn)\u001b[0m\n\u001b[1;32m   1093\u001b[0m \u001b[38;5;66;03m# Force connect early to allow us to validate the connection.\u001b[39;00m\n\u001b[1;32m   1094\u001b[0m \u001b[38;5;28;01mif\u001b[39;00m conn\u001b[38;5;241m.\u001b[39mis_closed:\n\u001b[0;32m-> 1095\u001b[0m     \u001b[43mconn\u001b[49m\u001b[38;5;241;43m.\u001b[39;49m\u001b[43mconnect\u001b[49m\u001b[43m(\u001b[49m\u001b[43m)\u001b[49m\n\u001b[1;32m   1097\u001b[0m \u001b[38;5;66;03m# TODO revise this, see https://github.com/urllib3/urllib3/issues/2791\u001b[39;00m\n\u001b[1;32m   1098\u001b[0m \u001b[38;5;28;01mif\u001b[39;00m \u001b[38;5;129;01mnot\u001b[39;00m conn\u001b[38;5;241m.\u001b[39mis_verified \u001b[38;5;129;01mand\u001b[39;00m \u001b[38;5;129;01mnot\u001b[39;00m conn\u001b[38;5;241m.\u001b[39mproxy_is_verified:\n",
      "File \u001b[0;32m/opt/homebrew/anaconda3/lib/python3.11/site-packages/urllib3/connection.py:615\u001b[0m, in \u001b[0;36mHTTPSConnection.connect\u001b[0;34m(self)\u001b[0m\n\u001b[1;32m    613\u001b[0m \u001b[38;5;28;01mdef\u001b[39;00m \u001b[38;5;21mconnect\u001b[39m(\u001b[38;5;28mself\u001b[39m) \u001b[38;5;241m-\u001b[39m\u001b[38;5;241m>\u001b[39m \u001b[38;5;28;01mNone\u001b[39;00m:\n\u001b[1;32m    614\u001b[0m     sock: socket\u001b[38;5;241m.\u001b[39msocket \u001b[38;5;241m|\u001b[39m ssl\u001b[38;5;241m.\u001b[39mSSLSocket\n\u001b[0;32m--> 615\u001b[0m     \u001b[38;5;28mself\u001b[39m\u001b[38;5;241m.\u001b[39msock \u001b[38;5;241m=\u001b[39m sock \u001b[38;5;241m=\u001b[39m \u001b[38;5;28;43mself\u001b[39;49m\u001b[38;5;241;43m.\u001b[39;49m\u001b[43m_new_conn\u001b[49m\u001b[43m(\u001b[49m\u001b[43m)\u001b[49m\n\u001b[1;32m    616\u001b[0m     server_hostname: \u001b[38;5;28mstr\u001b[39m \u001b[38;5;241m=\u001b[39m \u001b[38;5;28mself\u001b[39m\u001b[38;5;241m.\u001b[39mhost\n\u001b[1;32m    617\u001b[0m     tls_in_tls \u001b[38;5;241m=\u001b[39m \u001b[38;5;28;01mFalse\u001b[39;00m\n",
      "File \u001b[0;32m/opt/homebrew/anaconda3/lib/python3.11/site-packages/urllib3/connection.py:196\u001b[0m, in \u001b[0;36mHTTPConnection._new_conn\u001b[0;34m(self)\u001b[0m\n\u001b[1;32m    191\u001b[0m \u001b[38;5;250m\u001b[39m\u001b[38;5;124;03m\"\"\"Establish a socket connection and set nodelay settings on it.\u001b[39;00m\n\u001b[1;32m    192\u001b[0m \n\u001b[1;32m    193\u001b[0m \u001b[38;5;124;03m:return: New socket connection.\u001b[39;00m\n\u001b[1;32m    194\u001b[0m \u001b[38;5;124;03m\"\"\"\u001b[39;00m\n\u001b[1;32m    195\u001b[0m \u001b[38;5;28;01mtry\u001b[39;00m:\n\u001b[0;32m--> 196\u001b[0m     sock \u001b[38;5;241m=\u001b[39m \u001b[43mconnection\u001b[49m\u001b[38;5;241;43m.\u001b[39;49m\u001b[43mcreate_connection\u001b[49m\u001b[43m(\u001b[49m\n\u001b[1;32m    197\u001b[0m \u001b[43m        \u001b[49m\u001b[43m(\u001b[49m\u001b[38;5;28;43mself\u001b[39;49m\u001b[38;5;241;43m.\u001b[39;49m\u001b[43m_dns_host\u001b[49m\u001b[43m,\u001b[49m\u001b[43m \u001b[49m\u001b[38;5;28;43mself\u001b[39;49m\u001b[38;5;241;43m.\u001b[39;49m\u001b[43mport\u001b[49m\u001b[43m)\u001b[49m\u001b[43m,\u001b[49m\n\u001b[1;32m    198\u001b[0m \u001b[43m        \u001b[49m\u001b[38;5;28;43mself\u001b[39;49m\u001b[38;5;241;43m.\u001b[39;49m\u001b[43mtimeout\u001b[49m\u001b[43m,\u001b[49m\n\u001b[1;32m    199\u001b[0m \u001b[43m        \u001b[49m\u001b[43msource_address\u001b[49m\u001b[38;5;241;43m=\u001b[39;49m\u001b[38;5;28;43mself\u001b[39;49m\u001b[38;5;241;43m.\u001b[39;49m\u001b[43msource_address\u001b[49m\u001b[43m,\u001b[49m\n\u001b[1;32m    200\u001b[0m \u001b[43m        \u001b[49m\u001b[43msocket_options\u001b[49m\u001b[38;5;241;43m=\u001b[39;49m\u001b[38;5;28;43mself\u001b[39;49m\u001b[38;5;241;43m.\u001b[39;49m\u001b[43msocket_options\u001b[49m\u001b[43m,\u001b[49m\n\u001b[1;32m    201\u001b[0m \u001b[43m    \u001b[49m\u001b[43m)\u001b[49m\n\u001b[1;32m    202\u001b[0m \u001b[38;5;28;01mexcept\u001b[39;00m socket\u001b[38;5;241m.\u001b[39mgaierror \u001b[38;5;28;01mas\u001b[39;00m e:\n\u001b[1;32m    203\u001b[0m     \u001b[38;5;28;01mraise\u001b[39;00m NameResolutionError(\u001b[38;5;28mself\u001b[39m\u001b[38;5;241m.\u001b[39mhost, \u001b[38;5;28mself\u001b[39m, e) \u001b[38;5;28;01mfrom\u001b[39;00m \u001b[38;5;21;01me\u001b[39;00m\n",
      "File \u001b[0;32m/opt/homebrew/anaconda3/lib/python3.11/site-packages/urllib3/util/connection.py:73\u001b[0m, in \u001b[0;36mcreate_connection\u001b[0;34m(address, timeout, source_address, socket_options)\u001b[0m\n\u001b[1;32m     71\u001b[0m \u001b[38;5;28;01mif\u001b[39;00m source_address:\n\u001b[1;32m     72\u001b[0m     sock\u001b[38;5;241m.\u001b[39mbind(source_address)\n\u001b[0;32m---> 73\u001b[0m \u001b[43msock\u001b[49m\u001b[38;5;241;43m.\u001b[39;49m\u001b[43mconnect\u001b[49m\u001b[43m(\u001b[49m\u001b[43msa\u001b[49m\u001b[43m)\u001b[49m\n\u001b[1;32m     74\u001b[0m \u001b[38;5;66;03m# Break explicitly a reference cycle\u001b[39;00m\n\u001b[1;32m     75\u001b[0m err \u001b[38;5;241m=\u001b[39m \u001b[38;5;28;01mNone\u001b[39;00m\n",
      "\u001b[0;31mKeyboardInterrupt\u001b[0m: "
     ]
    }
   ],
   "source": [
    "scrape_node = code_nodes[\"scrape_celeb_data\"]\n",
    "\n",
    "scrape_node.evolve(\"i1\", replace=True)"
   ]
  },
  {
   "cell_type": "code",
   "execution_count": null,
   "metadata": {},
   "outputs": [],
   "source": [
    "# Code Node evolution is bad now, parsing seems to be problematic\n",
    "\n"
   ]
  },
  {
   "cell_type": "code",
   "execution_count": 20,
   "metadata": {},
   "outputs": [
    {
     "name": "stdout",
     "output_type": "stream",
     "text": [
      "defined structured data to locate the celebrity based on their name and then retrieving their corresponding age.}\n",
      "\n",
      "```python\n",
      "def scrape_celeb_data(name: str) -> str:\n",
      "    # Predefined mock data to simulate web data\n",
      "    celeb_data = {\n",
      "        \"Taylor Swift\": 33,\n",
      "        \"Leonardo DiCaprio\": 48,\n",
      "        \"Beyoncé\": 42,\n",
      "        \"Chris Evans\": 42,\n",
      "        \"Scarlett Johansson\": 38\n",
      "    }\n",
      "    \n",
      "    # Attempt to find the celebrity's age\n",
      "    age = celeb_data.get(name)\n",
      "\n",
      "    # If age not found, return a message\n",
      "    if age is None:\n",
      "        return f\"Age for {name} not found.\"\n",
      "    \n",
      "    # Return the age as a string\n",
      "    return f\"{name} is {age} years old.\"\n"
     ]
    }
   ],
   "source": [
    "code = scrape_node.code\n",
    "print(code)"
   ]
  },
  {
   "cell_type": "code",
   "execution_count": null,
   "metadata": {},
   "outputs": [],
   "source": []
  },
  {
   "cell_type": "code",
   "execution_count": 10,
   "metadata": {},
   "outputs": [],
   "source": [
    "# Evolve Sub-Nodes (hope is not too slow here ...)\n",
    "# 1. Code success -> end | else -> Prompt | pick best -> return node for specific sub-task\n",
    "\n",
    "# prompt_nodes, code_nodes = plan_node._spawn_nodes(plan_dict)"
   ]
  },
  {
   "cell_type": "code",
   "execution_count": null,
   "metadata": {},
   "outputs": [],
   "source": []
  },
  {
   "cell_type": "code",
   "execution_count": null,
   "metadata": {},
   "outputs": [],
   "source": []
  },
  {
   "cell_type": "code",
   "execution_count": 24,
   "metadata": {},
   "outputs": [
    {
     "data": {
      "text/plain": [
       "[{'task': 'Search for celebrity in database',\n",
       "  'name': 'search_celebrity_database',\n",
       "  'inputs': ['name'],\n",
       "  'input_types': ['str'],\n",
       "  'outputs': ['celeb_info'],\n",
       "  'output_types': ['dict'],\n",
       "  'target': 'Retrieve celebrity information',\n",
       "  'mode': 'CODE'},\n",
       " {'task': 'Extract birth date from celebrity info',\n",
       "  'name': 'extract_birth_date',\n",
       "  'inputs': ['celeb_info'],\n",
       "  'input_types': ['dict'],\n",
       "  'outputs': ['birth_date'],\n",
       "  'output_types': ['date'],\n",
       "  'target': \"Get celebrity's birth date\",\n",
       "  'mode': 'CODE'},\n",
       " {'task': 'Get current date',\n",
       "  'name': 'get_current_date',\n",
       "  'inputs': [],\n",
       "  'input_types': [],\n",
       "  'outputs': ['current_date'],\n",
       "  'output_types': ['date'],\n",
       "  'target': 'Obtain current date for age calculation',\n",
       "  'mode': 'CODE'},\n",
       " {'task': 'Calculate age based on birth date and current date',\n",
       "  'name': 'calculate_age',\n",
       "  'inputs': ['birth_date', 'current_date'],\n",
       "  'input_types': ['date', 'date'],\n",
       "  'outputs': ['age'],\n",
       "  'output_types': ['int'],\n",
       "  'target': \"Determine celebrity's current age\",\n",
       "  'mode': 'CODE'},\n",
       " {'task': 'Get celebrity age',\n",
       "  'name': 'get_celeb_age',\n",
       "  'inputs': ['name'],\n",
       "  'input_types': ['str'],\n",
       "  'outputs': ['age'],\n",
       "  'output_types': ['int'],\n",
       "  'target': \"Retrieve and return celebrity's age\",\n",
       "  'mode': 'CODE'}]"
      ]
     },
     "execution_count": 24,
     "metadata": {},
     "output_type": "execute_result"
    }
   ],
   "source": [
    "# visualize_plan_dict(plan_dict)\n",
    "\n",
    "plan_dict # Ignore the mode for now, let's use both mode and pick the best performing ones ... \n",
    "\n",
    "plan_dict[\"nodes\"]\n",
    "\n",
    "# Basic Idea: \n",
    "# - Build node libraries is the better way to describe this \n",
    "\n"
   ]
  },
  {
   "cell_type": "code",
   "execution_count": null,
   "metadata": {},
   "outputs": [],
   "source": []
  },
  {
   "cell_type": "code",
   "execution_count": null,
   "metadata": {},
   "outputs": [],
   "source": []
  }
 ],
 "metadata": {
  "kernelspec": {
   "display_name": "base",
   "language": "python",
   "name": "python3"
  },
  "language_info": {
   "codemirror_mode": {
    "name": "ipython",
    "version": 3
   },
   "file_extension": ".py",
   "mimetype": "text/x-python",
   "name": "python",
   "nbconvert_exporter": "python",
   "pygments_lexer": "ipython3",
   "version": "3.11.5"
  }
 },
 "nbformat": 4,
 "nbformat_minor": 2
}
