{
 "cells": [
  {
   "cell_type": "markdown",
   "metadata": {},
   "source": [
    "</div>\n",
    "<div align=\"center\">\n",
    "  <img src=\"img/evolnode.png\" width=\"800\" alt=\"Fourier reconstruction convergence\">\n",
    "  <p><em> Evolution Node free you from coding and debugging, let LLM evolve your code for you.</em></p>\n",
    "</div>\n",
    "<div align=\"left\">\n",
    "<p><em>Bored of manual coding, a function? EvolNode let LLM automate function design and guide the evolution of it with genetic algorithm. A node here takes a task, input, and output, it uses either code or another LLM to complete the task, ensuring aligned input and output value types and ,.names.Fitness evaluation is done by running the function with a few specified test cases, the more diverse the test case, the better the evolution.\n",
    "</em></p>\n",
    "</div>"
   ]
  },
  {
   "cell_type": "code",
   "execution_count": 1,
   "metadata": {},
   "outputs": [
    {
     "name": "stdout",
     "output_type": "stream",
     "text": [
      "Could not load vllm class, check CUDA support and GPU RAM size\n"
     ]
    }
   ],
   "source": [
    "from methods.meta_prompt import MetaPrompt, PromptMode\n",
    "from methods.eoh_evolution import EvolNode\n",
    "\n",
    "\n",
    "# Code + Compilor Task\n",
    "# mp = MetaPrompt(\"Generate Fibonacci sequence.\", \"fibonacci\", [\"n\"], [\"sequence\"], [\"int\"], [\"list\"], PromptMode.CODE) # \n",
    "# node = EvolNode(mp, None, None)\n",
    "# input_dict = {\"n\": 10}\n",
    "# reasoning, code = node.evolve([input_dict], \"i1\", replace=True) # Evolution with guaranteed structural fitness\n",
    "# node(input_dict) # Ok we need a output dictionary here as well ...\n",
    "\n",
    "\n",
    "# Prompt + LLM Task\n",
    "mp = MetaPrompt(\"Get the age of a celebrity.\", \"get_celeb_age\", [\"name\"], [\"age\"], [\"str\"], [\"int\"], PromptMode.PROMPT) # \n",
    "node = EvolNode(mp, None, None)\n",
    "input_dict = {\"name\": \"Dilireba\"}\n",
    "reasoning, code = node.evolve([input_dict], \"i1\", replace=True) # evolution node assume access to 'test_cases', evalnode should contain those\n",
    "output_dict = node(input_dict) # LLM-is stochastic, so chances of mal-functioning here ... (Aim to resolve with massive inference)"
   ]
  },
  {
   "cell_type": "code",
   "execution_count": 2,
   "metadata": {},
   "outputs": [],
   "source": [
    "node._extend_test_cases(10)\n",
    "# control number of cases\n",
    "# filter duplication"
   ]
  },
  {
   "cell_type": "code",
   "execution_count": 4,
   "metadata": {},
   "outputs": [],
   "source": [
    "cases = node.test_cases # Immediate question: what if there are duplication within the test cases? \n",
    "\n",
    "from typing import List, Dict\n",
    "from collections import defaultdict\n",
    "\n",
    "def filter_cases(cases: List[tuple[Dict[str, any], Dict[str, any]]]) -> List[tuple[Dict[str, any], Dict[str, any]]]:\n",
    "    seen_values = defaultdict(set)\n",
    "    filtered_cases = []\n",
    "    \n",
    "    for case_tuple in cases:\n",
    "        case_input = case_tuple[0]\n",
    "        case_output = case_tuple[1]\n",
    "        is_unique = True\n",
    "        \n",
    "        for key, value in case_input.items():\n",
    "            if value in seen_values[key]:\n",
    "                is_unique = False\n",
    "                break\n",
    "            seen_values[key].add(value)\n",
    "        \n",
    "        if is_unique:\n",
    "            filtered_cases.append(case_tuple)\n",
    "    \n",
    "    return filtered_cases\n"
   ]
  },
  {
   "cell_type": "code",
   "execution_count": 5,
   "metadata": {},
   "outputs": [
    {
     "data": {
      "text/plain": [
       "[({'name': 'Taylor Swift'}, {'age': 33}),\n",
       " ({'name': 'Morgan Freeman'}, {'age': 86}),\n",
       " ({'name': 'Emma Watson'}, {'age': 33}),\n",
       " ({'name': 'Leonardo DiCaprio'}, {'age': 48}),\n",
       " ({'name': 'Angelina Jolie'}, {'age': 48}),\n",
       " ({'name': 'Elon Musk'}, {'age': 52}),\n",
       " ({'name': 'Keanu Reeves'}, {'age': 59}),\n",
       " ({'name': 'Beyoncé'}, {'age': 42}),\n",
       " ({'name': 'Billie Eilish'}, {'age': 21}),\n",
       " ({'name': 'Sir David Attenborough'}, {'age': 97})]"
      ]
     },
     "execution_count": 5,
     "metadata": {},
     "output_type": "execute_result"
    }
   ],
   "source": [
    "filter_cases(cases)"
   ]
  },
  {
   "cell_type": "code",
   "execution_count": null,
   "metadata": {},
   "outputs": [],
   "source": []
  },
  {
   "cell_type": "code",
   "execution_count": 2,
   "metadata": {},
   "outputs": [],
   "source": [
    "# Generate Evaluation TestCases\n",
    "from methods.llm import get_openai_response \n",
    "from methods.meta_prompt import extract_json_from_text \n",
    "\n",
    "eval_prompt = mp._get_eval_prompt()\n",
    "response = get_openai_response(eval_prompt)\n",
    "test_case_list = extract_json_from_text(response)\n",
    "node.test_cases.extend([(d['input'], d['expected_output']) for d in test_case_list]) # bet it's a list\n",
    "\n",
    "# Slot eval_dict into EvolNode.test_cases"
   ]
  },
  {
   "cell_type": "code",
   "execution_count": 7,
   "metadata": {},
   "outputs": [],
   "source": [
    "test_case_list = extract_json_from_text(response)\n",
    "\n",
    "node.test_cases.extend([(d['input'], d['expected_output']) for d in test_case_list]) # bet it's a list"
   ]
  },
  {
   "cell_type": "code",
   "execution_count": 8,
   "metadata": {},
   "outputs": [
    {
     "data": {
      "text/plain": [
       "[({'name': 'Taylor Swift'}, {'age': 33}),\n",
       " ({'name': 'Will Smith'}, {'age': 55}),\n",
       " ({'name': 'Marilyn Monroe'}, {'age': 97}),\n",
       " ({'name': 'Jaden Smith'}, {'age': 25}),\n",
       " ({'name': 'Queen Elizabeth II'}, {'age': 97})]"
      ]
     },
     "execution_count": 8,
     "metadata": {},
     "output_type": "execute_result"
    }
   ],
   "source": [
    "node.test_cases"
   ]
  },
  {
   "cell_type": "code",
   "execution_count": null,
   "metadata": {},
   "outputs": [],
   "source": []
  },
  {
   "cell_type": "code",
   "execution_count": null,
   "metadata": {},
   "outputs": [],
   "source": []
  },
  {
   "cell_type": "markdown",
   "metadata": {},
   "source": [
    "\n",
    "</div>\n",
    "<div align=\"center\">\n",
    "  <img src=\"https://github.com/user-attachments/assets/af98faeb-66d6-4278-af86-67d668d1954e\" width=\"1000\" alt=\"Fourier reconstruction convergence\">\n",
    "  <p><em> But how do we know what are the tasks suitable for our goal? Design of tasks topology is the fundation of planning, let's ask LLM for help on this, too! Evolution Graph autuomate planning by imagning topology of tasks which works best for your goal.</em></p>\n",
    "</div>\n"
   ]
  },
  {
   "cell_type": "code",
   "execution_count": 1,
   "metadata": {},
   "outputs": [
    {
     "name": "stdout",
     "output_type": "stream",
     "text": [
      "Could not load vllm class, check CUDA support and GPU RAM size\n"
     ]
    }
   ],
   "source": [
    "from methods.meta_prompt import MetaPlan, extract_json_from_text\n",
    "from methods.llm import get_openai_response\n",
    "from methods.diagram import visualize_plan_dict\n",
    "\n",
    "# Breaking Down EvolGraph.generate() function components here \n",
    "\n",
    "# Step 1: Generate Plan Dict\n",
    "mp = MetaPlan(\"Help me date Dilireba, I'm a white colar worker living on salary.\")\n",
    "prompt = mp._get_prompt_i1()\n",
    "response = get_openai_response(prompt)\n",
    "plan_dict = extract_json_from_text(response)\n",
    "# visualize_plan_dict(plan_dict)"
   ]
  },
  {
   "cell_type": "markdown",
   "metadata": {},
   "source": [
    "Evaluation Node is critical here"
   ]
  },
  {
   "cell_type": "code",
   "execution_count": 2,
   "metadata": {},
   "outputs": [],
   "source": [
    "# Eval Node \n",
    "get_response = get_openai_response \n",
    "\n",
    "\n",
    "prompt_content = mp._get_eval_prompt_i1()\n",
    "response = get_response(prompt_content)\n",
    "eval_dict = extract_json_from_text(response)\n",
    "\n",
    "\n",
    "# eval_prompt = MetaPrompt(\n",
    "#     task=node.get(\"task\"),\n",
    "#     func_name=node.get(\"name\"),\n",
    "#     inputs=node.get(\"input\"),\n",
    "#     outputs=node.get(\"output\"),\n",
    "#     mode=node.get(\"mode\").lower()\n",
    "# )\n",
    "# eval_node = EvolNode(meta_prompt=eval_prompt)"
   ]
  },
  {
   "cell_type": "code",
   "execution_count": 3,
   "metadata": {},
   "outputs": [
    {
     "name": "stdout",
     "output_type": "stream",
     "text": [
      "Goal: Evaluating wether the goal Help me date Dilireba, I'm a white colar worker living on salary. has been achieved.\n",
      "First, describe the intuition for your tactics and main steps in one sentence. The description must be inside a brace.\n",
      "Generate a JSON response describing a task to evaluate whehter the goal is completed.\n",
      "\n",
      "**Output Format:**\n",
      "\n",
      "Provide the output in the following JSON structure:\n",
      "```json\n",
      "{\n",
      "    \"task\": \"Evaluate Task\",\n",
      "    \"name\": \"eval_goal\",\n",
      "    \"input\": \"Inputs required for evaluation\",\n",
      "    \"output\": \"Outputs required for evaluation\",\n",
      "    \"target\": \"Purpose of the evaluation\",\n",
      "    \"mode: \"CODE\"\n",
      "}\n",
      "\n"
     ]
    }
   ],
   "source": [
    "print(prompt_content)"
   ]
  },
  {
   "cell_type": "code",
   "execution_count": null,
   "metadata": {},
   "outputs": [],
   "source": [
    "nodes = {}\n",
    "for node in plan_dict[\"nodes\"]:\n",
    "    node_prompt = MetaPrompt(\n",
    "        task=node.get(\"task\"),\n",
    "        func_name=node.get(\"name\"),\n",
    "        inputs=node.get(\"inputs\"),\n",
    "        outputs=node.get(\"outputs\"),\n",
    "        input_types=node.get(\"input_types\"),\n",
    "        output_types=node.get(\"output_types\"),\n",
    "        mode=node.get(\"mode\").lower()\n",
    "    )\n",
    "    nodes[node.get(\"name\")] = EvolNode(meta_prompt=node_prompt)\n",
    "\n",
    "edges = plan_dict[\"edges\"]"
   ]
  },
  {
   "cell_type": "code",
   "execution_count": 4,
   "metadata": {},
   "outputs": [],
   "source": [
    "from methods.eoh_evolution import EvolGraph\n",
    "\n",
    "eg = EvolGraph.read_from_dict(plan_dict)\n",
    "# eg.evolve()"
   ]
  },
  {
   "cell_type": "code",
   "execution_count": 7,
   "metadata": {},
   "outputs": [
    {
     "ename": "TypeError",
     "evalue": "EvolGraph.generate() missing 1 required positional argument: 'goal'",
     "output_type": "error",
     "traceback": [
      "\u001b[0;31m---------------------------------------------------------------------------\u001b[0m",
      "\u001b[0;31mTypeError\u001b[0m                                 Traceback (most recent call last)",
      "Cell \u001b[0;32mIn[7], line 1\u001b[0m\n\u001b[0;32m----> 1\u001b[0m \u001b[43meg\u001b[49m\u001b[38;5;241;43m.\u001b[39;49m\u001b[43mgenerate\u001b[49m\u001b[43m(\u001b[49m\u001b[43m)\u001b[49m\n",
      "\u001b[0;31mTypeError\u001b[0m: EvolGraph.generate() missing 1 required positional argument: 'goal'"
     ]
    }
   ],
   "source": [
    "eg.generate()"
   ]
  },
  {
   "cell_type": "code",
   "execution_count": null,
   "metadata": {},
   "outputs": [],
   "source": []
  }
 ],
 "metadata": {
  "kernelspec": {
   "display_name": "base",
   "language": "python",
   "name": "python3"
  },
  "language_info": {
   "codemirror_mode": {
    "name": "ipython",
    "version": 3
   },
   "file_extension": ".py",
   "mimetype": "text/x-python",
   "name": "python",
   "nbconvert_exporter": "python",
   "pygments_lexer": "ipython3",
   "version": "3.11.5"
  }
 },
 "nbformat": 4,
 "nbformat_minor": 2
}
