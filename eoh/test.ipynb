{
 "cells": [
  {
   "cell_type": "markdown",
   "metadata": {},
   "source": [
    "</div>\n",
    "<div align=\"center\">\n",
    "  <img src=\"img/evolnode.png\" width=\"800\" alt=\"Fourier reconstruction convergence\">\n",
    "  <p><em> Evolution Node free you from coding and debugging, let LLM evolve your code for you.</em></p>\n",
    "</div>\n",
    "<div align=\"left\">\n",
    "<p><em>Bored of manual coding, a function? EvolNode let LLM automate function design and guide the evolution of it with genetic algorithm. A node here takes a task, input, and output, it uses either code or another LLM to complete the task, ensuring aligned input and output value types and ,.names.Fitness evaluation is done by running the function with a few specified test cases, the more diverse the test case, the better the evolution.\n",
    "</em></p>\n",
    "</div>"
   ]
  },
  {
   "cell_type": "code",
   "execution_count": 1,
   "metadata": {},
   "outputs": [
    {
     "name": "stdout",
     "output_type": "stream",
     "text": [
      "Could not load vllm class, check CUDA support and GPU RAM size\n"
     ]
    }
   ],
   "source": [
    "from methods.meta_prompt import MetaPrompt, PromptMode\n",
    "from methods.eoh_evolution import EvolNode\n",
    "\n",
    "\n",
    "# Code + Compilor Task\n",
    "# mp = MetaPrompt(\"Generate Fibonacci sequence.\", \"fibonacci\", [\"n\"], [\"sequence\"], [\"int\"], [\"list\"], PromptMode.CODE) # \n",
    "# node = EvolNode(mp, None, None)\n",
    "# input_dict = {\"n\": 10}\n",
    "# reasoning, code = node.evolve([input_dict], \"i1\", replace=True) # Evolution with guaranteed structural fitness\n",
    "# node(input_dict) # Ok we need a output dictionary here as well ...\n",
    "\n",
    "\n",
    "# Prompt + LLM Task\n",
    "mp = MetaPrompt(\"Get the age of a celebrity.\", \"get_celeb_age\", [\"name\"], [\"age\"], [\"str\"], [\"int\"], PromptMode.PROMPT) # \n",
    "node = EvolNode(mp, None, None)\n",
    "input_dict = {\"name\": \"Dilireba\"}\n",
    "reasoning, code = node.evolve([input_dict], \"i1\", replace=True)\n",
    "node(input_dict)"
   ]
  },
  {
   "cell_type": "markdown",
   "metadata": {},
   "source": [
    "\n",
    "</div>\n",
    "<div align=\"center\">\n",
    "  <img src=\"https://github.com/user-attachments/assets/af98faeb-66d6-4278-af86-67d668d1954e\" width=\"1000\" alt=\"Fourier reconstruction convergence\">\n",
    "  <p><em> But how do we know what are the tasks suitable for our goal? Design of tasks topology is the fundation of planning, let's ask LLM for help on this, too! Evolution Graph autuomate planning by imagning topology of tasks which works best for your goal.</em></p>\n",
    "</div>\n"
   ]
  },
  {
   "cell_type": "code",
   "execution_count": 2,
   "metadata": {},
   "outputs": [
    {
     "name": "stdout",
     "output_type": "stream",
     "text": [
      "MetaPrompt I1: \n",
      "Goal: Help me date Dilireba, I'm a white colar worker living on salary.\n",
      "First, describe the intuition for your tactics and main steps in one sentence. The description must be inside a brace.\n",
      "Generate a JSON-style plan represented as a Directed Acyclic Graph (DAG) to achieve the goal. Use creative topology in the DAG, include parallel tasks if required.\n",
      "\n",
      "The plan should include:\n",
      "\n",
      "- **Nodes**: Each node represents a key action or step and must contain the following attributes:\n",
      "  - `task`: Description of the task.\n",
      "  - `name`: Concise name used for the task function.\n",
      "  - `input`: The resources, information, or prerequisites needed to perform the action.\n",
      "  - `output`: The immediate result or outcome of the action.\n",
      "  - `target`: The purpose or goal that the action contributes to.\n",
      "  - `mode`: The execution mode for this task (\"CODE\" or \"PROMPT\").\n",
      "\n",
      "- **Edges**: Each edge represents a dependency or relationship between nodes, indicating that one step supports or leads to another.\n",
      "  - `source`: The `id` of the source node (the preceding action).\n",
      "  - `target`: The `id` of the target node (the subsequent action).\n",
      "\n",
      "**Output Format:**\n",
      "\n",
      "Provide the output in the following JSON structure:\n",
      "\n",
      "```json\n",
      "{\n",
      "  \"nodes\": [\n",
      "    {\n",
      "      \"task\": \"Task 1\",\n",
      "      \"name\": \"task_1\"\n",
      "      \"input\": \"Inputs required for Action 1\",\n",
      "      \"output\": \"Outputs/result of Action 1\",\n",
      "      \"target\": \"Purpose of Action 1\"\n",
      "      \"mode\": \"CODE\"\n",
      "    },\n",
      "    {\n",
      "      \"task\": \"Task 2\",\n",
      "      \"name\": \"task_2\",\n",
      "      \"input\": \"Inputs required for Action 2\",\n",
      "      \"output\": \"Outputs/result of Action 2\",\n",
      "      \"target\": \"Purpose of Action 2\",\n",
      "      \"mode\": \"PROMPT\"\n",
      "    }\n",
      "    // Add more nodes as needed\n",
      "  ],\n",
      "  \"edges\": [\n",
      "    {\n",
      "      \"source\": \"task_1\",\n",
      "      \"target\": \"task_2\"\n",
      "    }\n",
      "    // Add more edges as needed\n",
      "  ]\n",
      "}\n",
      "\n"
     ]
    }
   ],
   "source": [
    "from methods.meta_prompt import MetaPlan, extract_json_from_text\n",
    "\n",
    "mp = MetaPlan(\"Help me date Dilireba, I'm a white colar worker living on salary.\")\n",
    "prompt = mp._get_prompt_i1()\n",
    "print(\"MetaPrompt I1: \")\n",
    "print(prompt)\n",
    "\n",
    "from methods.llm import get_openai_response\n",
    "response = get_openai_response(prompt)\n"
   ]
  },
  {
   "cell_type": "code",
   "execution_count": 11,
   "metadata": {},
   "outputs": [],
   "source": [
    "import re \n",
    "# from methods.meta_prompt import parse_json_from_response\n",
    "\n",
    "tactic = re.findall(r\"\\{(.*)\\}\", response, re.DOTALL)\n",
    "plan_dict = extract_json_from_text(response)"
   ]
  },
  {
   "cell_type": "code",
   "execution_count": 5,
   "metadata": {},
   "outputs": [
    {
     "data": {
      "text/plain": [
       "<methods.eoh_evolution.EvolNode at 0x2893758d0>"
      ]
     },
     "execution_count": 5,
     "metadata": {},
     "output_type": "execute_result"
    }
   ],
   "source": [
    "from methods.meta_prompt import MetaPrompt, MetaPlan, extract_json_from_text\n",
    "from methods.eoh_evolution import EvolNode\n",
    "from methods.llm import get_openai_response as get_response\n",
    "from typing import Optional, List, Dict\n",
    "\n",
    "# Collect MetaPrompt from parsed Plan-Graph Response\n",
    "meta_node_prompts = []\n",
    "for node in plan_dict[\"nodes\"]:\n",
    "    node_prompt = MetaPrompt(task=node.get(\"task\"),  func_name=node.get(\"name\"), input=node.get(\"input\"), output=node.get(\"output\"), mode=node.get(\"mode\").lower())\n",
    "    meta_node_prompts.append(node_prompt)\n",
    "    \n",
    "edges = plan_dict[\"edges\"]\n",
    "\n",
    "EvolNode(meta_prompt = node_prompt)\n"
   ]
  },
  {
   "cell_type": "markdown",
   "metadata": {},
   "source": [
    "#### EvalNode Test: \n",
    "At the beginning level, generation of EvalNode (when code is used here) should compile with success, and it should takes input and produce output. "
   ]
  },
  {
   "cell_type": "markdown",
   "metadata": {},
   "source": []
  },
  {
   "cell_type": "code",
   "execution_count": 1,
   "metadata": {},
   "outputs": [
    {
     "name": "stdout",
     "output_type": "stream",
     "text": [
      "Repo already cloned, skipping cloning...\n"
     ]
    },
    {
     "ename": "KeyboardInterrupt",
     "evalue": "",
     "output_type": "error",
     "traceback": [
      "\u001b[0;31m---------------------------------------------------------------------------\u001b[0m",
      "\u001b[0;31mKeyboardInterrupt\u001b[0m                         Traceback (most recent call last)",
      "Cell \u001b[0;32mIn[1], line 12\u001b[0m\n\u001b[1;32m      9\u001b[0m \u001b[38;5;28;01melse\u001b[39;00m:\n\u001b[1;32m     10\u001b[0m     \u001b[38;5;28mprint\u001b[39m(\u001b[38;5;124m\"\u001b[39m\u001b[38;5;124mRepo already cloned, skipping cloning...\u001b[39m\u001b[38;5;124m\"\u001b[39m)\n\u001b[0;32m---> 12\u001b[0m dates, dags \u001b[38;5;241m=\u001b[39m \u001b[43mobtain_repo_evolution\u001b[49m\u001b[43m(\u001b[49m\u001b[43mtemp_repo\u001b[49m\u001b[43m)\u001b[49m\n",
      "File \u001b[0;32m~/Implementation/heuristic-search/eoh/tools/repo.py:519\u001b[0m, in \u001b[0;36mobtain_repo_evolution\u001b[0;34m(repo_path)\u001b[0m\n\u001b[1;32m    517\u001b[0m \u001b[38;5;28;01mfor\u001b[39;00m commit \u001b[38;5;129;01min\u001b[39;00m commits:\n\u001b[1;32m    518\u001b[0m     dates\u001b[38;5;241m.\u001b[39mappend(datetime\u001b[38;5;241m.\u001b[39mfromtimestamp(commit\u001b[38;5;241m.\u001b[39mcommitted_date))\n\u001b[0;32m--> 519\u001b[0m     file_dags\u001b[38;5;241m.\u001b[39mappend(\u001b[43mcommit_tree_to_file_dag\u001b[49m\u001b[43m(\u001b[49m\u001b[43mrepo\u001b[49m\u001b[43m,\u001b[49m\u001b[43m \u001b[49m\u001b[43mcommit\u001b[49m\u001b[43m,\u001b[49m\u001b[43m \u001b[49m\u001b[43mrepo_path\u001b[49m\u001b[43m)\u001b[49m)\n\u001b[1;32m    521\u001b[0m \u001b[38;5;28;01mreturn\u001b[39;00m dates, file_dags\n",
      "File \u001b[0;32m~/Implementation/heuristic-search/eoh/tools/repo.py:494\u001b[0m, in \u001b[0;36mcommit_tree_to_file_dag\u001b[0;34m(repo, commit, base_path)\u001b[0m\n\u001b[1;32m    484\u001b[0m             file_dag[\u001b[38;5;124mf\u001b[39m\u001b[38;5;124m\"\u001b[39m\u001b[38;5;124mnode\u001b[39m\u001b[38;5;132;01m{\u001b[39;00mnode_id\u001b[38;5;132;01m}\u001b[39;00m\u001b[38;5;124m\"\u001b[39m] \u001b[38;5;241m=\u001b[39m {\n\u001b[1;32m    485\u001b[0m                 \u001b[38;5;124m'\u001b[39m\u001b[38;5;124mname\u001b[39m\u001b[38;5;124m'\u001b[39m: item\u001b[38;5;241m.\u001b[39mname,\n\u001b[1;32m    486\u001b[0m                 \u001b[38;5;124m'\u001b[39m\u001b[38;5;124mtype\u001b[39m\u001b[38;5;124m'\u001b[39m: \u001b[38;5;124m'\u001b[39m\u001b[38;5;124mfile\u001b[39m\u001b[38;5;124m'\u001b[39m,\n\u001b[0;32m   (...)\u001b[0m\n\u001b[1;32m    490\u001b[0m                 \u001b[38;5;124m'\u001b[39m\u001b[38;5;124mimports\u001b[39m\u001b[38;5;124m'\u001b[39m: imports\n\u001b[1;32m    491\u001b[0m             }\n\u001b[1;32m    492\u001b[0m             node_id \u001b[38;5;241m+\u001b[39m\u001b[38;5;241m=\u001b[39m \u001b[38;5;241m1\u001b[39m\n\u001b[0;32m--> 494\u001b[0m \u001b[43mtraverse_tree\u001b[49m\u001b[43m(\u001b[49m\u001b[43mcommit\u001b[49m\u001b[38;5;241;43m.\u001b[39;49m\u001b[43mtree\u001b[49m\u001b[43m)\u001b[49m\n\u001b[1;32m    496\u001b[0m \u001b[38;5;66;03m# Add edges based on imports\u001b[39;00m\n\u001b[1;32m    497\u001b[0m \u001b[38;5;28;01mfor\u001b[39;00m node, data \u001b[38;5;129;01min\u001b[39;00m file_dag\u001b[38;5;241m.\u001b[39mitems():\n",
      "File \u001b[0;32m~/Implementation/heuristic-search/eoh/tools/repo.py:481\u001b[0m, in \u001b[0;36mcommit_tree_to_file_dag.<locals>.traverse_tree\u001b[0;34m(tree, current_path)\u001b[0m\n\u001b[1;32m    478\u001b[0m full_path \u001b[38;5;241m=\u001b[39m os\u001b[38;5;241m.\u001b[39mpath\u001b[38;5;241m.\u001b[39mjoin(current_path, item\u001b[38;5;241m.\u001b[39mname)\n\u001b[1;32m    479\u001b[0m \u001b[38;5;28;01mif\u001b[39;00m item\u001b[38;5;241m.\u001b[39mtype \u001b[38;5;241m==\u001b[39m \u001b[38;5;124m'\u001b[39m\u001b[38;5;124mblob\u001b[39m\u001b[38;5;124m'\u001b[39m \u001b[38;5;129;01mand\u001b[39;00m item\u001b[38;5;241m.\u001b[39mname\u001b[38;5;241m.\u001b[39mendswith(\u001b[38;5;124m'\u001b[39m\u001b[38;5;124m.py\u001b[39m\u001b[38;5;124m'\u001b[39m):\n\u001b[1;32m    480\u001b[0m     \u001b[38;5;66;03m# It's a Python file\u001b[39;00m\n\u001b[0;32m--> 481\u001b[0m     file_content \u001b[38;5;241m=\u001b[39m \u001b[43mitem\u001b[49m\u001b[38;5;241;43m.\u001b[39;49m\u001b[43mdata_stream\u001b[49m\u001b[38;5;241m.\u001b[39mread()\u001b[38;5;241m.\u001b[39mdecode(\u001b[38;5;124m'\u001b[39m\u001b[38;5;124mutf-8\u001b[39m\u001b[38;5;124m'\u001b[39m)\n\u001b[1;32m    482\u001b[0m     imports \u001b[38;5;241m=\u001b[39m parse_imports(file_content)\n\u001b[1;32m    484\u001b[0m     file_dag[\u001b[38;5;124mf\u001b[39m\u001b[38;5;124m\"\u001b[39m\u001b[38;5;124mnode\u001b[39m\u001b[38;5;132;01m{\u001b[39;00mnode_id\u001b[38;5;132;01m}\u001b[39;00m\u001b[38;5;124m\"\u001b[39m] \u001b[38;5;241m=\u001b[39m {\n\u001b[1;32m    485\u001b[0m         \u001b[38;5;124m'\u001b[39m\u001b[38;5;124mname\u001b[39m\u001b[38;5;124m'\u001b[39m: item\u001b[38;5;241m.\u001b[39mname,\n\u001b[1;32m    486\u001b[0m         \u001b[38;5;124m'\u001b[39m\u001b[38;5;124mtype\u001b[39m\u001b[38;5;124m'\u001b[39m: \u001b[38;5;124m'\u001b[39m\u001b[38;5;124mfile\u001b[39m\u001b[38;5;124m'\u001b[39m,\n\u001b[0;32m   (...)\u001b[0m\n\u001b[1;32m    490\u001b[0m         \u001b[38;5;124m'\u001b[39m\u001b[38;5;124mimports\u001b[39m\u001b[38;5;124m'\u001b[39m: imports\n\u001b[1;32m    491\u001b[0m     }\n",
      "File \u001b[0;32m/opt/homebrew/anaconda3/lib/python3.11/site-packages/git/objects/base.py:142\u001b[0m, in \u001b[0;36mObject.data_stream\u001b[0;34m(self)\u001b[0m\n\u001b[1;32m    138\u001b[0m \u001b[38;5;129m@property\u001b[39m\n\u001b[1;32m    139\u001b[0m \u001b[38;5;28;01mdef\u001b[39;00m \u001b[38;5;21mdata_stream\u001b[39m(\u001b[38;5;28mself\u001b[39m) \u001b[38;5;241m-\u001b[39m\u001b[38;5;241m>\u001b[39m \u001b[38;5;124m\"\u001b[39m\u001b[38;5;124mOStream\u001b[39m\u001b[38;5;124m\"\u001b[39m:\n\u001b[1;32m    140\u001b[0m \u001b[38;5;250m    \u001b[39m\u001b[38;5;124;03m\"\"\":return:  File Object compatible stream to the uncompressed raw data of the object\u001b[39;00m\n\u001b[1;32m    141\u001b[0m \u001b[38;5;124;03m    :note: returned streams must be read in order\"\"\"\u001b[39;00m\n\u001b[0;32m--> 142\u001b[0m     \u001b[38;5;28;01mreturn\u001b[39;00m \u001b[38;5;28;43mself\u001b[39;49m\u001b[38;5;241;43m.\u001b[39;49m\u001b[43mrepo\u001b[49m\u001b[38;5;241;43m.\u001b[39;49m\u001b[43modb\u001b[49m\u001b[38;5;241;43m.\u001b[39;49m\u001b[43mstream\u001b[49m\u001b[43m(\u001b[49m\u001b[38;5;28;43mself\u001b[39;49m\u001b[38;5;241;43m.\u001b[39;49m\u001b[43mbinsha\u001b[49m\u001b[43m)\u001b[49m\n",
      "File \u001b[0;32m/opt/homebrew/anaconda3/lib/python3.11/site-packages/git/db.py:45\u001b[0m, in \u001b[0;36mGitCmdObjectDB.stream\u001b[0;34m(self, binsha)\u001b[0m\n\u001b[1;32m     43\u001b[0m \u001b[38;5;28;01mdef\u001b[39;00m \u001b[38;5;21mstream\u001b[39m(\u001b[38;5;28mself\u001b[39m, binsha: \u001b[38;5;28mbytes\u001b[39m) \u001b[38;5;241m-\u001b[39m\u001b[38;5;241m>\u001b[39m OStream:\n\u001b[1;32m     44\u001b[0m \u001b[38;5;250m    \u001b[39m\u001b[38;5;124;03m\"\"\"For now, all lookup is done by git itself\"\"\"\u001b[39;00m\n\u001b[0;32m---> 45\u001b[0m     hexsha, typename, size, stream \u001b[38;5;241m=\u001b[39m \u001b[38;5;28;43mself\u001b[39;49m\u001b[38;5;241;43m.\u001b[39;49m\u001b[43m_git\u001b[49m\u001b[38;5;241;43m.\u001b[39;49m\u001b[43mstream_object_data\u001b[49m\u001b[43m(\u001b[49m\u001b[43mbin_to_hex\u001b[49m\u001b[43m(\u001b[49m\u001b[43mbinsha\u001b[49m\u001b[43m)\u001b[49m\u001b[43m)\u001b[49m\n\u001b[1;32m     46\u001b[0m     \u001b[38;5;28;01mreturn\u001b[39;00m OStream(hex_to_bin(hexsha), typename, size, stream)\n",
      "File \u001b[0;32m/opt/homebrew/anaconda3/lib/python3.11/site-packages/git/cmd.py:1402\u001b[0m, in \u001b[0;36mGit.stream_object_data\u001b[0;34m(self, ref)\u001b[0m\n\u001b[1;32m   1397\u001b[0m \u001b[38;5;250m\u001b[39m\u001b[38;5;124;03m\"\"\"As get_object_header, but returns the data as a stream.\u001b[39;00m\n\u001b[1;32m   1398\u001b[0m \n\u001b[1;32m   1399\u001b[0m \u001b[38;5;124;03m:return: (hexsha, type_string, size_as_int, stream)\u001b[39;00m\n\u001b[1;32m   1400\u001b[0m \u001b[38;5;124;03m:note: This method is not threadsafe, you need one independent Command instance per thread to be safe!\"\"\"\u001b[39;00m\n\u001b[1;32m   1401\u001b[0m cmd \u001b[38;5;241m=\u001b[39m \u001b[38;5;28mself\u001b[39m\u001b[38;5;241m.\u001b[39m_get_persistent_cmd(\u001b[38;5;124m\"\u001b[39m\u001b[38;5;124mcat_file_all\u001b[39m\u001b[38;5;124m\"\u001b[39m, \u001b[38;5;124m\"\u001b[39m\u001b[38;5;124mcat_file\u001b[39m\u001b[38;5;124m\"\u001b[39m, batch\u001b[38;5;241m=\u001b[39m\u001b[38;5;28;01mTrue\u001b[39;00m)\n\u001b[0;32m-> 1402\u001b[0m hexsha, typename, size \u001b[38;5;241m=\u001b[39m \u001b[38;5;28;43mself\u001b[39;49m\u001b[38;5;241;43m.\u001b[39;49m\u001b[43m__get_object_header\u001b[49m\u001b[43m(\u001b[49m\u001b[43mcmd\u001b[49m\u001b[43m,\u001b[49m\u001b[43m \u001b[49m\u001b[43mref\u001b[49m\u001b[43m)\u001b[49m\n\u001b[1;32m   1403\u001b[0m cmd_stdout \u001b[38;5;241m=\u001b[39m cmd\u001b[38;5;241m.\u001b[39mstdout \u001b[38;5;28;01mif\u001b[39;00m cmd\u001b[38;5;241m.\u001b[39mstdout \u001b[38;5;129;01mis\u001b[39;00m \u001b[38;5;129;01mnot\u001b[39;00m \u001b[38;5;28;01mNone\u001b[39;00m \u001b[38;5;28;01melse\u001b[39;00m io\u001b[38;5;241m.\u001b[39mBytesIO()\n\u001b[1;32m   1404\u001b[0m \u001b[38;5;28;01mreturn\u001b[39;00m (hexsha, typename, size, \u001b[38;5;28mself\u001b[39m\u001b[38;5;241m.\u001b[39mCatFileContentStream(size, cmd_stdout))\n",
      "File \u001b[0;32m/opt/homebrew/anaconda3/lib/python3.11/site-packages/git/cmd.py:1369\u001b[0m, in \u001b[0;36mGit.__get_object_header\u001b[0;34m(self, cmd, ref)\u001b[0m\n\u001b[1;32m   1367\u001b[0m \u001b[38;5;28;01mdef\u001b[39;00m \u001b[38;5;21m__get_object_header\u001b[39m(\u001b[38;5;28mself\u001b[39m, cmd: \u001b[38;5;124m\"\u001b[39m\u001b[38;5;124mGit.AutoInterrupt\u001b[39m\u001b[38;5;124m\"\u001b[39m, ref: AnyStr) \u001b[38;5;241m-\u001b[39m\u001b[38;5;241m>\u001b[39m Tuple[\u001b[38;5;28mstr\u001b[39m, \u001b[38;5;28mstr\u001b[39m, \u001b[38;5;28mint\u001b[39m]:\n\u001b[1;32m   1368\u001b[0m     \u001b[38;5;28;01mif\u001b[39;00m cmd\u001b[38;5;241m.\u001b[39mstdin \u001b[38;5;129;01mand\u001b[39;00m cmd\u001b[38;5;241m.\u001b[39mstdout:\n\u001b[0;32m-> 1369\u001b[0m         cmd\u001b[38;5;241m.\u001b[39mstdin\u001b[38;5;241m.\u001b[39mwrite(\u001b[38;5;28;43mself\u001b[39;49m\u001b[38;5;241;43m.\u001b[39;49m\u001b[43m_prepare_ref\u001b[49m\u001b[43m(\u001b[49m\u001b[43mref\u001b[49m\u001b[43m)\u001b[49m)\n\u001b[1;32m   1370\u001b[0m         cmd\u001b[38;5;241m.\u001b[39mstdin\u001b[38;5;241m.\u001b[39mflush()\n\u001b[1;32m   1371\u001b[0m         \u001b[38;5;28;01mreturn\u001b[39;00m \u001b[38;5;28mself\u001b[39m\u001b[38;5;241m.\u001b[39m_parse_object_header(cmd\u001b[38;5;241m.\u001b[39mstdout\u001b[38;5;241m.\u001b[39mreadline())\n",
      "File \u001b[0;32m/opt/homebrew/anaconda3/lib/python3.11/site-packages/git/cmd.py:1344\u001b[0m, in \u001b[0;36mGit._prepare_ref\u001b[0;34m(self, ref)\u001b[0m\n\u001b[1;32m   1340\u001b[0m \u001b[38;5;28;01mdef\u001b[39;00m \u001b[38;5;21m_prepare_ref\u001b[39m(\u001b[38;5;28mself\u001b[39m, ref: AnyStr) \u001b[38;5;241m-\u001b[39m\u001b[38;5;241m>\u001b[39m \u001b[38;5;28mbytes\u001b[39m:\n\u001b[1;32m   1341\u001b[0m     \u001b[38;5;66;03m# required for command to separate refs on stdin, as bytes\u001b[39;00m\n\u001b[1;32m   1342\u001b[0m     \u001b[38;5;28;01mif\u001b[39;00m \u001b[38;5;28misinstance\u001b[39m(ref, \u001b[38;5;28mbytes\u001b[39m):\n\u001b[1;32m   1343\u001b[0m         \u001b[38;5;66;03m# Assume 40 bytes hexsha - bin-to-ascii for some reason returns bytes, not text\u001b[39;00m\n\u001b[0;32m-> 1344\u001b[0m         refstr: \u001b[38;5;28mstr\u001b[39m \u001b[38;5;241m=\u001b[39m ref\u001b[38;5;241m.\u001b[39mdecode(\u001b[38;5;124m\"\u001b[39m\u001b[38;5;124mascii\u001b[39m\u001b[38;5;124m\"\u001b[39m)\n\u001b[1;32m   1345\u001b[0m     \u001b[38;5;28;01melif\u001b[39;00m \u001b[38;5;129;01mnot\u001b[39;00m \u001b[38;5;28misinstance\u001b[39m(ref, \u001b[38;5;28mstr\u001b[39m):\n\u001b[1;32m   1346\u001b[0m         refstr \u001b[38;5;241m=\u001b[39m \u001b[38;5;28mstr\u001b[39m(ref)  \u001b[38;5;66;03m# could be ref-object\u001b[39;00m\n",
      "\u001b[0;31mKeyboardInterrupt\u001b[0m: "
     ]
    }
   ],
   "source": [
    "# Usage\n",
    "from tools.repo import *\n",
    "\n",
    "repo_url = \"https://github.com/langchain-ai/langgraph\"\n",
    "\n",
    "temp_repo = \"temp_repo_1\"\n",
    "if not os.path.exists(temp_repo):\n",
    "    clone_repo(repo_url, temp_repo)\n",
    "else:\n",
    "    print(\"Repo already cloned, skipping cloning...\")\n",
    "    \n",
    "dates, dags = obtain_repo_evolution(temp_repo)"
   ]
  },
  {
   "cell_type": "code",
   "execution_count": 3,
   "metadata": {},
   "outputs": [
    {
     "name": "stdout",
     "output_type": "stream",
     "text": [
      "D2 diagram saved as d2_output/test_evo.d2\n",
      "SVG file generated at d2_output/test_evo.svg\n"
     ]
    },
    {
     "name": "stderr",
     "output_type": "stream",
     "text": [
      "success: successfully compiled d2_output/test_evo.d2 to d2_output/test_evo.svg in 51.92975ms\n"
     ]
    },
    {
     "data": {
      "text/plain": [
       "('d2_output/test_evo.d2', 'd2_output/test_evo.svg')"
      ]
     },
     "execution_count": 3,
     "metadata": {},
     "output_type": "execute_result"
    }
   ],
   "source": [
    "from tools.diagram import *\n",
    "dag = dags[0]\n",
    "dag = assign_importance_score_to_dag(dag)\n",
    "\n",
    "\n",
    "sub_dag = decide_opacity_of_dag(dag, progress=1.0, cap_node_number=15)\n",
    "\n",
    "d2_code = build_d2_from_dag(sub_dag, include_overhead=False)\n",
    "\n",
    "# Write a function to store d2_code into .d2 file under local directory, also store .svg file\n",
    "save_d2_and_svg(d2_code, \"test_evo\")"
   ]
  },
  {
   "cell_type": "code",
   "execution_count": 5,
   "metadata": {},
   "outputs": [
    {
     "data": {
      "text/plain": [
       "{'node1': {'name': '.github',\n",
       "  'type': 'directory',\n",
       "  'file': '.github',\n",
       "  'file_path': 'temp_repo_1/.github',\n",
       "  'edges': [],\n",
       "  'importance': 1,\n",
       "  'opacity': 1.0},\n",
       " 'node2': {'name': '.gitignore',\n",
       "  'type': 'file',\n",
       "  'file': '.gitignore',\n",
       "  'file_path': 'temp_repo_1/.gitignore',\n",
       "  'edges': [],\n",
       "  'importance': 1,\n",
       "  'opacity': 1.0},\n",
       " 'node3': {'name': '.markdown-link-check.config.json',\n",
       "  'type': 'file',\n",
       "  'file': '.markdown-link-check.config.json',\n",
       "  'file_path': 'temp_repo_1/.markdown-link-check.config.json',\n",
       "  'edges': [],\n",
       "  'importance': 1,\n",
       "  'opacity': 1.0},\n",
       " 'node4': {'name': 'CONTRIBUTING.md',\n",
       "  'type': 'file',\n",
       "  'file': 'CONTRIBUTING.md',\n",
       "  'file_path': 'temp_repo_1/CONTRIBUTING.md',\n",
       "  'edges': [],\n",
       "  'importance': 1,\n",
       "  'opacity': 1.0},\n",
       " 'node5': {'name': 'LICENSE',\n",
       "  'type': 'file',\n",
       "  'file': 'LICENSE',\n",
       "  'file_path': 'temp_repo_1/LICENSE',\n",
       "  'edges': [],\n",
       "  'importance': 1,\n",
       "  'opacity': 1.0},\n",
       " 'node6': {'name': 'Makefile',\n",
       "  'type': 'file',\n",
       "  'file': 'Makefile',\n",
       "  'file_path': 'temp_repo_1/Makefile',\n",
       "  'edges': [],\n",
       "  'importance': 1,\n",
       "  'opacity': 1.0},\n",
       " 'node7': {'name': 'README.md',\n",
       "  'type': 'file',\n",
       "  'file': 'README.md',\n",
       "  'file_path': 'temp_repo_1/README.md',\n",
       "  'edges': [],\n",
       "  'importance': 1,\n",
       "  'opacity': 1.0},\n",
       " 'node8': {'name': 'docs',\n",
       "  'type': 'directory',\n",
       "  'file': 'docs',\n",
       "  'file_path': 'temp_repo_1/docs',\n",
       "  'edges': [],\n",
       "  'importance': 1,\n",
       "  'opacity': 1.0},\n",
       " 'node9': {'name': 'examples',\n",
       "  'type': 'directory',\n",
       "  'file': 'examples',\n",
       "  'file_path': 'temp_repo_1/examples',\n",
       "  'edges': [],\n",
       "  'importance': 1,\n",
       "  'opacity': 1.0},\n",
       " 'node10': {'name': 'libs',\n",
       "  'type': 'directory',\n",
       "  'file': 'libs',\n",
       "  'file_path': 'temp_repo_1/libs',\n",
       "  'edges': [],\n",
       "  'importance': 1,\n",
       "  'opacity': 1.0},\n",
       " 'node11': {'name': 'poetry.lock',\n",
       "  'type': 'file',\n",
       "  'file': 'poetry.lock',\n",
       "  'file_path': 'temp_repo_1/poetry.lock',\n",
       "  'edges': [],\n",
       "  'importance': 1,\n",
       "  'opacity': 1.0},\n",
       " 'node12': {'name': 'pyproject.toml',\n",
       "  'type': 'file',\n",
       "  'file': 'pyproject.toml',\n",
       "  'file_path': 'temp_repo_1/pyproject.toml',\n",
       "  'edges': [],\n",
       "  'importance': 1,\n",
       "  'opacity': 1.0},\n",
       " 'node13': {'name': 'security.md',\n",
       "  'type': 'file',\n",
       "  'file': 'security.md',\n",
       "  'file_path': 'temp_repo_1/security.md',\n",
       "  'edges': [],\n",
       "  'importance': 1,\n",
       "  'opacity': 1.0},\n",
       " 'node14': {'name': 'ISSUE_TEMPLATE',\n",
       "  'type': 'directory',\n",
       "  'file': 'ISSUE_TEMPLATE',\n",
       "  'file_path': 'temp_repo_1/ISSUE_TEMPLATE',\n",
       "  'edges': [],\n",
       "  'importance': 1,\n",
       "  'opacity': 1.0},\n",
       " 'node15': {'name': 'actions',\n",
       "  'type': 'directory',\n",
       "  'file': 'actions',\n",
       "  'file_path': 'temp_repo_1/actions',\n",
       "  'edges': [],\n",
       "  'importance': 1,\n",
       "  'opacity': 1.0}}"
      ]
     },
     "execution_count": 5,
     "metadata": {},
     "output_type": "execute_result"
    }
   ],
   "source": [
    "sub_dag"
   ]
  },
  {
   "cell_type": "code",
   "execution_count": null,
   "metadata": {},
   "outputs": [],
   "source": []
  },
  {
   "cell_type": "code",
   "execution_count": null,
   "metadata": {},
   "outputs": [],
   "source": []
  },
  {
   "cell_type": "code",
   "execution_count": 5,
   "metadata": {},
   "outputs": [
    {
     "name": "stdout",
     "output_type": "stream",
     "text": [
      "Repo already cloned, skipping cloning...\n"
     ]
    }
   ],
   "source": [
    "from tools.repo import *\n",
    "\n",
    "repo_url = \"https://github.com/yilundu/ired_code_release\"\n",
    "\n",
    "temp_repo = \"temp_repo\"\n",
    "if not os.path.exists(temp_repo):\n",
    "    clone_repo(repo_url, temp_repo)\n",
    "else:\n",
    "    print(\"Repo already cloned, skipping cloning...\")\n",
    "\n",
    "python_files = get_python_files(temp_repo) # get all python files \n",
    "start_file = python_files[0] # pick the first one for debugging purpose \n",
    "\n",
    "dag = build_cross_file_dag(temp_repo, start_file)"
   ]
  },
  {
   "cell_type": "code",
   "execution_count": 9,
   "metadata": {},
   "outputs": [],
   "source": []
  },
  {
   "cell_type": "code",
   "execution_count": 2,
   "metadata": {},
   "outputs": [],
   "source": [
    "# Raw material for sub-graph (mermaid) building & saving\n",
    "\n",
    "target_node = \"models.py\"\n",
    "# target_node = \"Attend\"\n",
    "max_depth = 6\n",
    "\n",
    "name_map = {dag[k][\"name\"]: k for k in dag} # Map name to node-id for all nodes in the DAG\n",
    "\n",
    "center_node = name_map[target_node] # Node id or target_node\n",
    "\n",
    "sub_dag = extract_subgraph_dag(dag, center_node, max_depth)\n"
   ]
  },
  {
   "cell_type": "code",
   "execution_count": 3,
   "metadata": {},
   "outputs": [
    {
     "name": "stdout",
     "output_type": "stream",
     "text": [
      "Number of keys in sub_dag: 110\n"
     ]
    }
   ],
   "source": [
    "print(f\"Number of keys in sub_dag: {len(sub_dag.keys())}\")"
   ]
  },
  {
   "cell_type": "code",
   "execution_count": 6,
   "metadata": {},
   "outputs": [
    {
     "name": "stdout",
     "output_type": "stream",
     "text": [
      "D2 diagram saved as d2_output/test.d2\n",
      "SVG file generated at d2_output/test.svg\n"
     ]
    },
    {
     "name": "stderr",
     "output_type": "stream",
     "text": [
      "success: successfully compiled d2_output/test.d2 to d2_output/test.svg in 199.742291ms\n"
     ]
    },
    {
     "data": {
      "text/plain": [
       "('d2_output/test.d2', 'd2_output/test.svg')"
      ]
     },
     "execution_count": 6,
     "metadata": {},
     "output_type": "execute_result"
    }
   ],
   "source": [
    "from tools.diagram import build_d2_from_dag, save_d2_and_svg, decide_opacity_of_dag, filter_opacity_graph\n",
    "\n",
    "progress = 1.0\n",
    "sub_dag = decide_opacity_of_dag(sub_dag, progress, cap_node_number=20)\n",
    "\n",
    "d2_code = build_d2_from_dag(sub_dag, include_overhead=False)\n",
    "\n",
    "# Write a function to store d2_code into .d2 file under local directory, also store .svg file\n",
    "save_d2_and_svg(d2_code, \"test\")"
   ]
  },
  {
   "cell_type": "markdown",
   "metadata": {},
   "source": [
    "#### Toy-Case illustrating desired behavior: \n",
    "* Animating Dependency Graph Evolution "
   ]
  },
  {
   "cell_type": "code",
   "execution_count": 18,
   "metadata": {},
   "outputs": [
    {
     "name": "stdout",
     "output_type": "stream",
     "text": [
      "Generating single mermaid chart\n",
      "Stage 1 code:\n",
      "graph TD\n",
      "%%{init: {'theme': 'base', 'themeVariables': { 'fontSize': '16px'}, 'flowchart': {'width': 800, 'height': 600}}}%%\n",
      "A[Start, width=80px, height=40px, style=filled, color=lightgreen, stroke-width=2px]\n",
      "style A fill:#f9f,stroke:#333,stroke-width:2px\n",
      "\n",
      "Generating single mermaid chart\n",
      "Stage 2 code:\n",
      "graph TD\n",
      "%%{init: {'theme': 'base', 'themeVariables': { 'fontSize': '16px'}, 'flowchart': {'width': 800, 'height': 600}}}%%\n",
      "A[Start, width=80px, height=40px, style=filled, color=lightgreen, stroke-width=2px]\n",
      "style A fill:#f9f,stroke:#333,stroke-width:2px\n",
      "B[Second, width=80px, height=40px, style=filled, color=lightblue, stroke-width=2px]\n",
      "style B fill:#f9f,stroke:#333,stroke-width:2px\n",
      "A --> B\n",
      "\n",
      "Generating single mermaid chart\n",
      "Stage 3 code:\n",
      "graph TD\n",
      "%%{init: {'theme': 'base', 'themeVariables': { 'fontSize': '16px'}, 'flowchart': {'width': 800, 'height': 600}}}%%\n",
      "A[Start, width=80px, height=40px, style=filled, color=lightgreen, stroke-width=2px]\n",
      "style A fill:#f9f,stroke:#333,stroke-width:2px\n",
      "B[Second, width=80px, height=40px, style=filled, color=lightblue, stroke-width=2px]\n",
      "style B fill:#f9f,stroke:#333,stroke-width:2px\n",
      "A --> B\n",
      "C[Third, width=80px, height=40px, style=filled, color=lightyellow, stroke-width=2px]\n",
      "style C fill:#f9f,stroke:#333,stroke-width:2px\n",
      "B --> C\n",
      "\n",
      "Generating single mermaid chart\n"
     ]
    },
    {
     "ename": "KeyboardInterrupt",
     "evalue": "",
     "output_type": "error",
     "traceback": [
      "\u001b[0;31m---------------------------------------------------------------------------\u001b[0m",
      "\u001b[0;31mKeyboardInterrupt\u001b[0m                         Traceback (most recent call last)",
      "Cell \u001b[0;32mIn[18], line 65\u001b[0m\n\u001b[1;32m     42\u001b[0m \u001b[38;5;66;03m# Usage\u001b[39;00m\n\u001b[1;32m     43\u001b[0m mermaid_code \u001b[38;5;241m=\u001b[39m \u001b[38;5;124m\"\"\"\u001b[39m\n\u001b[1;32m     44\u001b[0m \u001b[38;5;132;01m%%\u001b[39;00m\u001b[38;5;124m Stage\u001b[39m\n\u001b[1;32m     45\u001b[0m \u001b[38;5;132;01m%%\u001b[39;00m\u001b[38;5;124m{\u001b[39m\u001b[38;5;124minit: \u001b[39m\u001b[38;5;124m{\u001b[39m\u001b[38;5;124m'\u001b[39m\u001b[38;5;124mtheme\u001b[39m\u001b[38;5;124m'\u001b[39m\u001b[38;5;124m: \u001b[39m\u001b[38;5;124m'\u001b[39m\u001b[38;5;124mbase\u001b[39m\u001b[38;5;124m'\u001b[39m\u001b[38;5;124m, \u001b[39m\u001b[38;5;124m'\u001b[39m\u001b[38;5;124mthemeVariables\u001b[39m\u001b[38;5;124m'\u001b[39m\u001b[38;5;124m: \u001b[39m\u001b[38;5;124m{\u001b[39m\u001b[38;5;124m \u001b[39m\u001b[38;5;124m'\u001b[39m\u001b[38;5;124mfontSize\u001b[39m\u001b[38;5;124m'\u001b[39m\u001b[38;5;124m: \u001b[39m\u001b[38;5;124m'\u001b[39m\u001b[38;5;124m16px\u001b[39m\u001b[38;5;124m'\u001b[39m\u001b[38;5;124m}, \u001b[39m\u001b[38;5;124m'\u001b[39m\u001b[38;5;124mflowchart\u001b[39m\u001b[38;5;124m'\u001b[39m\u001b[38;5;124m: \u001b[39m\u001b[38;5;124m{\u001b[39m\u001b[38;5;124m'\u001b[39m\u001b[38;5;124mwidth\u001b[39m\u001b[38;5;124m'\u001b[39m\u001b[38;5;124m: 800, \u001b[39m\u001b[38;5;124m'\u001b[39m\u001b[38;5;124mheight\u001b[39m\u001b[38;5;124m'\u001b[39m\u001b[38;5;124m: 600}}}\u001b[39m\u001b[38;5;132;01m%%\u001b[39;00m\n\u001b[0;32m   (...)\u001b[0m\n\u001b[1;32m     62\u001b[0m \u001b[38;5;124mC --> D\u001b[39m\n\u001b[1;32m     63\u001b[0m \u001b[38;5;124m\"\"\"\u001b[39m\n\u001b[0;32m---> 65\u001b[0m code \u001b[38;5;241m=\u001b[39m \u001b[43mcreate_growing_graph_animation\u001b[49m\u001b[43m(\u001b[49m\u001b[43mmermaid_code\u001b[49m\u001b[43m)\u001b[49m\n",
      "Cell \u001b[0;32mIn[18], line 22\u001b[0m, in \u001b[0;36mcreate_growing_graph_animation\u001b[0;34m(mermaid_code, output_file)\u001b[0m\n\u001b[1;32m     19\u001b[0m     f\u001b[38;5;241m.\u001b[39mwrite(combined_stage)\n\u001b[1;32m     21\u001b[0m \u001b[38;5;66;03m# Use mmdc to generate PNG directly\u001b[39;00m\n\u001b[0;32m---> 22\u001b[0m \u001b[43msubprocess\u001b[49m\u001b[38;5;241;43m.\u001b[39;49m\u001b[43mrun\u001b[49m\u001b[43m(\u001b[49m\u001b[43m[\u001b[49m\u001b[38;5;124;43m\"\u001b[39;49m\u001b[38;5;124;43mmmdc\u001b[39;49m\u001b[38;5;124;43m\"\u001b[39;49m\u001b[43m,\u001b[49m\u001b[43m \u001b[49m\u001b[38;5;124;43m\"\u001b[39;49m\u001b[38;5;124;43m-i\u001b[39;49m\u001b[38;5;124;43m\"\u001b[39;49m\u001b[43m,\u001b[49m\u001b[43m \u001b[49m\u001b[38;5;124;43mf\u001b[39;49m\u001b[38;5;124;43m\"\u001b[39;49m\u001b[38;5;124;43mstage_\u001b[39;49m\u001b[38;5;132;43;01m{\u001b[39;49;00m\u001b[43mi\u001b[49m\u001b[38;5;132;43;01m}\u001b[39;49;00m\u001b[38;5;124;43m.mmd\u001b[39;49m\u001b[38;5;124;43m\"\u001b[39;49m\u001b[43m,\u001b[49m\u001b[43m \u001b[49m\u001b[38;5;124;43m\"\u001b[39;49m\u001b[38;5;124;43m-o\u001b[39;49m\u001b[38;5;124;43m\"\u001b[39;49m\u001b[43m,\u001b[49m\u001b[43m \u001b[49m\u001b[38;5;124;43mf\u001b[39;49m\u001b[38;5;124;43m\"\u001b[39;49m\u001b[38;5;124;43mstage_\u001b[39;49m\u001b[38;5;132;43;01m{\u001b[39;49;00m\u001b[43mi\u001b[49m\u001b[38;5;132;43;01m}\u001b[39;49;00m\u001b[38;5;124;43m.png\u001b[39;49m\u001b[38;5;124;43m\"\u001b[39;49m\u001b[43m]\u001b[49m\u001b[43m,\u001b[49m\u001b[43m \u001b[49m\u001b[43mcheck\u001b[49m\u001b[38;5;241;43m=\u001b[39;49m\u001b[38;5;28;43;01mTrue\u001b[39;49;00m\u001b[43m)\u001b[49m\n\u001b[1;32m     23\u001b[0m png_files\u001b[38;5;241m.\u001b[39mappend(\u001b[38;5;124mf\u001b[39m\u001b[38;5;124m\"\u001b[39m\u001b[38;5;124mstage_\u001b[39m\u001b[38;5;132;01m{\u001b[39;00mi\u001b[38;5;132;01m}\u001b[39;00m\u001b[38;5;124m.png\u001b[39m\u001b[38;5;124m\"\u001b[39m)\n\u001b[1;32m     25\u001b[0m \u001b[38;5;28mprint\u001b[39m(\u001b[38;5;124mf\u001b[39m\u001b[38;5;124m\"\u001b[39m\u001b[38;5;124mStage \u001b[39m\u001b[38;5;132;01m{\u001b[39;00mi\u001b[38;5;132;01m}\u001b[39;00m\u001b[38;5;124m code:\u001b[39m\u001b[38;5;124m\"\u001b[39m)\n",
      "File \u001b[0;32m/opt/homebrew/anaconda3/lib/python3.11/subprocess.py:550\u001b[0m, in \u001b[0;36mrun\u001b[0;34m(input, capture_output, timeout, check, *popenargs, **kwargs)\u001b[0m\n\u001b[1;32m    548\u001b[0m \u001b[38;5;28;01mwith\u001b[39;00m Popen(\u001b[38;5;241m*\u001b[39mpopenargs, \u001b[38;5;241m*\u001b[39m\u001b[38;5;241m*\u001b[39mkwargs) \u001b[38;5;28;01mas\u001b[39;00m process:\n\u001b[1;32m    549\u001b[0m     \u001b[38;5;28;01mtry\u001b[39;00m:\n\u001b[0;32m--> 550\u001b[0m         stdout, stderr \u001b[38;5;241m=\u001b[39m \u001b[43mprocess\u001b[49m\u001b[38;5;241;43m.\u001b[39;49m\u001b[43mcommunicate\u001b[49m\u001b[43m(\u001b[49m\u001b[38;5;28;43minput\u001b[39;49m\u001b[43m,\u001b[49m\u001b[43m \u001b[49m\u001b[43mtimeout\u001b[49m\u001b[38;5;241;43m=\u001b[39;49m\u001b[43mtimeout\u001b[49m\u001b[43m)\u001b[49m\n\u001b[1;32m    551\u001b[0m     \u001b[38;5;28;01mexcept\u001b[39;00m TimeoutExpired \u001b[38;5;28;01mas\u001b[39;00m exc:\n\u001b[1;32m    552\u001b[0m         process\u001b[38;5;241m.\u001b[39mkill()\n",
      "File \u001b[0;32m/opt/homebrew/anaconda3/lib/python3.11/subprocess.py:1201\u001b[0m, in \u001b[0;36mPopen.communicate\u001b[0;34m(self, input, timeout)\u001b[0m\n\u001b[1;32m   1199\u001b[0m         stderr \u001b[38;5;241m=\u001b[39m \u001b[38;5;28mself\u001b[39m\u001b[38;5;241m.\u001b[39mstderr\u001b[38;5;241m.\u001b[39mread()\n\u001b[1;32m   1200\u001b[0m         \u001b[38;5;28mself\u001b[39m\u001b[38;5;241m.\u001b[39mstderr\u001b[38;5;241m.\u001b[39mclose()\n\u001b[0;32m-> 1201\u001b[0m     \u001b[38;5;28;43mself\u001b[39;49m\u001b[38;5;241;43m.\u001b[39;49m\u001b[43mwait\u001b[49m\u001b[43m(\u001b[49m\u001b[43m)\u001b[49m\n\u001b[1;32m   1202\u001b[0m \u001b[38;5;28;01melse\u001b[39;00m:\n\u001b[1;32m   1203\u001b[0m     \u001b[38;5;28;01mif\u001b[39;00m timeout \u001b[38;5;129;01mis\u001b[39;00m \u001b[38;5;129;01mnot\u001b[39;00m \u001b[38;5;28;01mNone\u001b[39;00m:\n",
      "File \u001b[0;32m/opt/homebrew/anaconda3/lib/python3.11/subprocess.py:1264\u001b[0m, in \u001b[0;36mPopen.wait\u001b[0;34m(self, timeout)\u001b[0m\n\u001b[1;32m   1262\u001b[0m     endtime \u001b[38;5;241m=\u001b[39m _time() \u001b[38;5;241m+\u001b[39m timeout\n\u001b[1;32m   1263\u001b[0m \u001b[38;5;28;01mtry\u001b[39;00m:\n\u001b[0;32m-> 1264\u001b[0m     \u001b[38;5;28;01mreturn\u001b[39;00m \u001b[38;5;28;43mself\u001b[39;49m\u001b[38;5;241;43m.\u001b[39;49m\u001b[43m_wait\u001b[49m\u001b[43m(\u001b[49m\u001b[43mtimeout\u001b[49m\u001b[38;5;241;43m=\u001b[39;49m\u001b[43mtimeout\u001b[49m\u001b[43m)\u001b[49m\n\u001b[1;32m   1265\u001b[0m \u001b[38;5;28;01mexcept\u001b[39;00m \u001b[38;5;167;01mKeyboardInterrupt\u001b[39;00m:\n\u001b[1;32m   1266\u001b[0m     \u001b[38;5;66;03m# https://bugs.python.org/issue25942\u001b[39;00m\n\u001b[1;32m   1267\u001b[0m     \u001b[38;5;66;03m# The first keyboard interrupt waits briefly for the child to\u001b[39;00m\n\u001b[1;32m   1268\u001b[0m     \u001b[38;5;66;03m# exit under the common assumption that it also received the ^C\u001b[39;00m\n\u001b[1;32m   1269\u001b[0m     \u001b[38;5;66;03m# generated SIGINT and will exit rapidly.\u001b[39;00m\n\u001b[1;32m   1270\u001b[0m     \u001b[38;5;28;01mif\u001b[39;00m timeout \u001b[38;5;129;01mis\u001b[39;00m \u001b[38;5;129;01mnot\u001b[39;00m \u001b[38;5;28;01mNone\u001b[39;00m:\n",
      "File \u001b[0;32m/opt/homebrew/anaconda3/lib/python3.11/subprocess.py:2046\u001b[0m, in \u001b[0;36mPopen._wait\u001b[0;34m(self, timeout)\u001b[0m\n\u001b[1;32m   2044\u001b[0m \u001b[38;5;28;01mif\u001b[39;00m \u001b[38;5;28mself\u001b[39m\u001b[38;5;241m.\u001b[39mreturncode \u001b[38;5;129;01mis\u001b[39;00m \u001b[38;5;129;01mnot\u001b[39;00m \u001b[38;5;28;01mNone\u001b[39;00m:\n\u001b[1;32m   2045\u001b[0m     \u001b[38;5;28;01mbreak\u001b[39;00m  \u001b[38;5;66;03m# Another thread waited.\u001b[39;00m\n\u001b[0;32m-> 2046\u001b[0m (pid, sts) \u001b[38;5;241m=\u001b[39m \u001b[38;5;28;43mself\u001b[39;49m\u001b[38;5;241;43m.\u001b[39;49m\u001b[43m_try_wait\u001b[49m\u001b[43m(\u001b[49m\u001b[38;5;241;43m0\u001b[39;49m\u001b[43m)\u001b[49m\n\u001b[1;32m   2047\u001b[0m \u001b[38;5;66;03m# Check the pid and loop as waitpid has been known to\u001b[39;00m\n\u001b[1;32m   2048\u001b[0m \u001b[38;5;66;03m# return 0 even without WNOHANG in odd situations.\u001b[39;00m\n\u001b[1;32m   2049\u001b[0m \u001b[38;5;66;03m# http://bugs.python.org/issue14396.\u001b[39;00m\n\u001b[1;32m   2050\u001b[0m \u001b[38;5;28;01mif\u001b[39;00m pid \u001b[38;5;241m==\u001b[39m \u001b[38;5;28mself\u001b[39m\u001b[38;5;241m.\u001b[39mpid:\n",
      "File \u001b[0;32m/opt/homebrew/anaconda3/lib/python3.11/subprocess.py:2004\u001b[0m, in \u001b[0;36mPopen._try_wait\u001b[0;34m(self, wait_flags)\u001b[0m\n\u001b[1;32m   2002\u001b[0m \u001b[38;5;250m\u001b[39m\u001b[38;5;124;03m\"\"\"All callers to this function MUST hold self._waitpid_lock.\"\"\"\u001b[39;00m\n\u001b[1;32m   2003\u001b[0m \u001b[38;5;28;01mtry\u001b[39;00m:\n\u001b[0;32m-> 2004\u001b[0m     (pid, sts) \u001b[38;5;241m=\u001b[39m os\u001b[38;5;241m.\u001b[39mwaitpid(\u001b[38;5;28mself\u001b[39m\u001b[38;5;241m.\u001b[39mpid, wait_flags)\n\u001b[1;32m   2005\u001b[0m \u001b[38;5;28;01mexcept\u001b[39;00m \u001b[38;5;167;01mChildProcessError\u001b[39;00m:\n\u001b[1;32m   2006\u001b[0m     \u001b[38;5;66;03m# This happens if SIGCLD is set to be ignored or waiting\u001b[39;00m\n\u001b[1;32m   2007\u001b[0m     \u001b[38;5;66;03m# for child processes has otherwise been disabled for our\u001b[39;00m\n\u001b[1;32m   2008\u001b[0m     \u001b[38;5;66;03m# process.  This child is dead, we can't get the status.\u001b[39;00m\n\u001b[1;32m   2009\u001b[0m     pid \u001b[38;5;241m=\u001b[39m \u001b[38;5;28mself\u001b[39m\u001b[38;5;241m.\u001b[39mpid\n",
      "\u001b[0;31mKeyboardInterrupt\u001b[0m: "
     ]
    }
   ],
   "source": [
    "import os\n",
    "from PIL import Image\n",
    "import subprocess\n",
    "\n",
    "def create_growing_graph_animation(mermaid_code, output_file=\"growing_graph.gif\"):\n",
    "    # Split the Mermaid code into stages\n",
    "    stages = mermaid_code.strip().split(\"%% Stage\")[1:]# Skip the first empty split\n",
    "    stages = [s.strip() for s in stages]\n",
    "    \n",
    "    png_files = []\n",
    "    codes = []\n",
    "    \n",
    "    # Generate PNG for each stage\n",
    "    for i, stage in enumerate(stages, 1):\n",
    "        # Combine all previous stages with the current one\n",
    "        combined_stage = \"graph TD\\n\" + \"\\n\".join(stages[:i]).strip()\n",
    "        \n",
    "        with open(f\"stage_{i}.mmd\", \"w\") as f:\n",
    "            f.write(combined_stage)\n",
    "        \n",
    "        # Use mmdc to generate PNG directly\n",
    "        subprocess.run([\"mmdc\", \"-i\", f\"stage_{i}.mmd\", \"-o\", f\"stage_{i}.png\"], check=True)\n",
    "        png_files.append(f\"stage_{i}.png\")\n",
    "        \n",
    "        print(f\"Stage {i} code:\")\n",
    "        print(combined_stage)\n",
    "        codes.append(combined_stage)\n",
    "        print()  # Add a blank line for readability\n",
    "    \n",
    "    # Create animated GIF\n",
    "    images = [Image.open(f) for f in png_files]\n",
    "    images[0].save(output_file, save_all=True, append_images=images[1:], duration=1000, loop=0)\n",
    "    \n",
    "    # Clean up temporary files\n",
    "    # for file in png_files + [f\"stage_{i}.mmd\" for i in range(1, len(stages) + 1)]:\n",
    "    #     os.remove(file)\n",
    "    \n",
    "    print(f\"Animation saved as {output_file}\")\n",
    "    \n",
    "    return codes\n",
    "\n",
    "# Usage\n",
    "mermaid_code = \"\"\"\n",
    "%% Stage\n",
    "%%{init: {'theme': 'base', 'themeVariables': { 'fontSize': '16px'}, 'flowchart': {'width': 800, 'height': 600}}}%%\n",
    "A[Start, width=80px, height=40px, style=filled, color=lightgreen, stroke-width=2px]\n",
    "style A fill:#f9f,stroke:#333,stroke-width:2px\n",
    "\n",
    "%% Stage\n",
    "B[Second, width=80px, height=40px, style=filled, color=lightblue, stroke-width=2px]\n",
    "style B fill:#f9f,stroke:#333,stroke-width:2px\n",
    "A --> B\n",
    "\n",
    "%% Stage\n",
    "C[Third, width=80px, height=40px, style=filled, color=lightyellow, stroke-width=2px]\n",
    "style C fill:#f9f,stroke:#333,stroke-width:2px\n",
    "B --> C\n",
    "\n",
    "%% Stage\n",
    "D[Fourth, width=80px, height=40px, style=filled, color=lightpink, stroke-width=2px]\n",
    "style D fill:#f9f,stroke:#333,stroke-width:2px\n",
    "C --> D\n",
    "\"\"\"\n",
    "\n",
    "code = create_growing_graph_animation(mermaid_code)"
   ]
  },
  {
   "cell_type": "code",
   "execution_count": null,
   "metadata": {},
   "outputs": [],
   "source": [
    "# BreakDown on Task (When something is hard, we break it down)\n",
    "\n",
    "# 1. Construct step-wise SVG\n",
    "#    - transparency changing function\n",
    "#    - growing strategy (llm aided)\n",
    "\n",
    "# 2. Get sequence of SVG and animate it into gif\n",
    "\n"
   ]
  },
  {
   "cell_type": "code",
   "execution_count": null,
   "metadata": {},
   "outputs": [],
   "source": []
  }
 ],
 "metadata": {
  "kernelspec": {
   "display_name": "base",
   "language": "python",
   "name": "python3"
  },
  "language_info": {
   "codemirror_mode": {
    "name": "ipython",
    "version": 3
   },
   "file_extension": ".py",
   "mimetype": "text/x-python",
   "name": "python",
   "nbconvert_exporter": "python",
   "pygments_lexer": "ipython3",
   "version": "3.11.5"
  }
 },
 "nbformat": 4,
 "nbformat_minor": 2
}
