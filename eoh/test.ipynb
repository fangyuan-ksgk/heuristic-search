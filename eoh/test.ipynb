{
 "cells": [
  {
   "cell_type": "markdown",
   "metadata": {},
   "source": [
    "#### MetaPrompt for evolution"
   ]
  },
  {
   "cell_type": "code",
   "execution_count": 8,
   "metadata": {},
   "outputs": [
    {
     "name": "stdout",
     "output_type": "stream",
     "text": [
      "MetaPrompt templated I1 propmt: \n",
      "Help a specific person to get into DeepMind as a Research Scientist.\n",
      "First, describe your new reasoning and main thoughts in one sentence.The description must be inside a brace. Implement a Python function that generates a prompt to guide an AI in completing the task. Follow these specifications: - Function name: generate_prompt - Input parameters: 'name' - Return value: A string containing the final prompt for the AI.\n",
      "Your function should incorporate the reasoning from step 1 and use the input parameters to create a tailored prompt for the task.\n",
      "LLM Response: \n",
      "{The main goal is to provide personalized and strategic advice to help an aspiring Research Scientist, referred to by their name, navigate the application process and successfully join DeepMind.}\n",
      "\n",
      "```python\n",
      "def generate_prompt(name):\n",
      "    reasoning = \"personalized and strategic advice to help an aspiring Research Scientist\"\n",
      "    prompt = (\n",
      "        f\"My task is to provide {reasoning}, {name}, in order to help you successfully apply and get into DeepMind as a Research Scientist. \"\n",
      "        \"Here are the steps and advice you should follow:\\n\"\n",
      "        \"1. Research DeepMind’s current projects and align your expertise with their ongoing or future research areas.\\n\"\n",
      "        \"2. Tailor your CV and cover letter to highlight your relevant skills, experiences, and research contributions.\\n\"\n",
      "        \"3. Prepare for technical interviews by reviewing common topics in machine learning, deep learning, and artificial intelligence.\\n\"\n",
      "        \"4. Network with current DeepMind employees and attend relevant conferences to increase your visibility.\\n\"\n",
      "        \"5. If possible, contribute to open-source projects or publish papers in top-tier conferences and journals to strengthen your application.\\n\"\n",
      "        \"6. Stay informed about the latest advancements in AI and be prepared to discuss them during interviews.\\n\"\n",
      "        \"Use this guide to methodically approach each step and position yourself as a strong candidate for the Research Scientist role at DeepMind.\"\n",
      "    )\n",
      "    return prompt\n",
      "\n",
      "# Example usage:\n",
      "# prompt = generate_prompt(\"Alice\")\n",
      "# print(prompt)\n",
      "```\n",
      "\n"
     ]
    }
   ],
   "source": [
    "from methods.meta_prompt import MetaPrompt, PromptMode\n",
    "\n",
    "mp = MetaPrompt(\"Help a specific person to get into DeepMind as a Research Scientist.\", \"go_deepmind\", [\"name\"], [\"plan\"])\n",
    "prompt = mp._get_prompt_i1(PromptMode.PROMPT)\n",
    "print(\"MetaPrompt templated I1 propmt: \")\n",
    "print(prompt)\n",
    "\n",
    "\n",
    "from methods.llm import get_openai_response\n",
    "response = get_openai_response(prompt)\n",
    "\n",
    "print(\"LLM Response: \")\n",
    "print(response)"
   ]
  },
  {
   "cell_type": "code",
   "execution_count": null,
   "metadata": {},
   "outputs": [],
   "source": []
  }
 ],
 "metadata": {
  "kernelspec": {
   "display_name": "base",
   "language": "python",
   "name": "python3"
  },
  "language_info": {
   "codemirror_mode": {
    "name": "ipython",
    "version": 3
   },
   "file_extension": ".py",
   "mimetype": "text/x-python",
   "name": "python",
   "nbconvert_exporter": "python",
   "pygments_lexer": "ipython3",
   "version": "3.11.5"
  }
 },
 "nbformat": 4,
 "nbformat_minor": 2
}
