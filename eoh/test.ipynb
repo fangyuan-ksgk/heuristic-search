{
 "cells": [
  {
   "cell_type": "markdown",
   "metadata": {},
   "source": [
    "</div>\n",
    "<div align=\"center\">\n",
    "  <img src=\"img/evolnode.png\" width=\"800\" alt=\"Fourier reconstruction convergence\">\n",
    "  <p><em> Evolution Node free you from coding and debugging, let LLM evolve your code for you.</em></p>\n",
    "</div>\n",
    "<div align=\"left\">\n",
    "<p><em>Bored of manual coding, a function? EvolNode let LLM automate function design and guide the evolution of it with genetic algorithm. A node here takes a task, input, and output, it uses either code or another LLM to complete the task, ensuring aligned input and output value types and ,.names.Fitness evaluation is done by running the function with a few specified test cases, the more diverse the test case, the better the evolution.\n",
    "</em></p>\n",
    "</div>"
   ]
  },
  {
   "cell_type": "code",
   "execution_count": 1,
   "metadata": {},
   "outputs": [
    {
     "name": "stdout",
     "output_type": "stream",
     "text": [
      "Could not load vllm class, check CUDA support and GPU RAM size\n"
     ]
    }
   ],
   "source": [
    "from methods.meta_prompt import MetaPrompt, PromptMode\n",
    "from methods.eoh_evolution import EvolNode\n",
    "\n",
    "\n",
    "# Code + Compilor Task\n",
    "# mp = MetaPrompt(\"Generate Fibonacci sequence.\", \"fibonacci\", [\"n\"], [\"sequence\"], [\"int\"], [\"list\"], PromptMode.CODE) # \n",
    "# node = EvolNode(mp, None, None)\n",
    "# input_dict = {\"n\": 10}\n",
    "# reasoning, code = node.evolve([input_dict], \"i1\", replace=True) # Evolution with guaranteed structural fitness\n",
    "# node(input_dict) # Ok we need a output dictionary here as well ...\n",
    "\n",
    "\n",
    "# Prompt + LLM Task\n",
    "mp = MetaPrompt(\"Get the age of a celebrity.\", \"get_celeb_age\", [\"name\"], [\"age\"], [\"str\"], [\"int\"], PromptMode.PROMPT) # \n",
    "node = EvolNode(mp, None, None)\n",
    "input_dict = {\"name\": \"Dilireba\"}\n",
    "reasoning, code = node.evolve([input_dict], \"i1\", replace=True)\n",
    "node(input_dict)"
   ]
  },
  {
   "cell_type": "markdown",
   "metadata": {},
   "source": [
    "\n",
    "</div>\n",
    "<div align=\"center\">\n",
    "  <img src=\"https://github.com/user-attachments/assets/af98faeb-66d6-4278-af86-67d668d1954e\" width=\"1000\" alt=\"Fourier reconstruction convergence\">\n",
    "  <p><em> But how do we know what are the tasks suitable for our goal? Design of tasks topology is the fundation of planning, let's ask LLM for help on this, too! Evolution Graph autuomate planning by imagning topology of tasks which works best for your goal.</em></p>\n",
    "</div>\n"
   ]
  },
  {
   "cell_type": "code",
   "execution_count": 2,
   "metadata": {},
   "outputs": [
    {
     "name": "stdout",
     "output_type": "stream",
     "text": [
      "MetaPrompt I1: \n",
      "Goal: Help me date Dilireba, I'm a white colar worker living on salary.\n",
      "First, describe the intuition for your tactics and main steps in one sentence. The description must be inside a brace.\n",
      "Generate a JSON-style plan represented as a Directed Acyclic Graph (DAG) to achieve the goal. Use creative topology in the DAG, include parallel tasks if required.\n",
      "\n",
      "The plan should include:\n",
      "\n",
      "- **Nodes**: Each node represents a key action or step and must contain the following attributes:\n",
      "  - `task`: Description of the task.\n",
      "  - `name`: Concise name used for the task function.\n",
      "  - `input`: The resources, information, or prerequisites needed to perform the action.\n",
      "  - `output`: The immediate result or outcome of the action.\n",
      "  - `target`: The purpose or goal that the action contributes to.\n",
      "  - `mode`: The execution mode for this task (\"CODE\" or \"PROMPT\").\n",
      "\n",
      "- **Edges**: Each edge represents a dependency or relationship between nodes, indicating that one step supports or leads to another.\n",
      "  - `source`: The `id` of the source node (the preceding action).\n",
      "  - `target`: The `id` of the target node (the subsequent action).\n",
      "\n",
      "**Output Format:**\n",
      "\n",
      "Provide the output in the following JSON structure:\n",
      "\n",
      "```json\n",
      "{\n",
      "  \"nodes\": [\n",
      "    {\n",
      "      \"task\": \"Task 1\",\n",
      "      \"name\": \"task_1\"\n",
      "      \"input\": \"Inputs required for Action 1\",\n",
      "      \"output\": \"Outputs/result of Action 1\",\n",
      "      \"target\": \"Purpose of Action 1\"\n",
      "      \"mode\": \"CODE\"\n",
      "    },\n",
      "    {\n",
      "      \"task\": \"Task 2\",\n",
      "      \"name\": \"task_2\",\n",
      "      \"input\": \"Inputs required for Action 2\",\n",
      "      \"output\": \"Outputs/result of Action 2\",\n",
      "      \"target\": \"Purpose of Action 2\",\n",
      "      \"mode\": \"PROMPT\"\n",
      "    }\n",
      "    // Add more nodes as needed\n",
      "  ],\n",
      "  \"edges\": [\n",
      "    {\n",
      "      \"source\": \"task_1\",\n",
      "      \"target\": \"task_2\"\n",
      "    }\n",
      "    // Add more edges as needed\n",
      "  ]\n",
      "}\n",
      "\n"
     ]
    }
   ],
   "source": [
    "from methods.meta_prompt import MetaPlan, extract_json_from_text\n",
    "\n",
    "mp = MetaPlan(\"Help me date Dilireba, I'm a white colar worker living on salary.\")\n",
    "prompt = mp._get_prompt_i1()\n",
    "print(\"MetaPrompt I1: \")\n",
    "print(prompt)\n",
    "\n",
    "from methods.llm import get_openai_response\n",
    "response = get_openai_response(prompt)\n"
   ]
  },
  {
   "cell_type": "code",
   "execution_count": 11,
   "metadata": {},
   "outputs": [],
   "source": [
    "import re \n",
    "# from methods.meta_prompt import parse_json_from_response\n",
    "\n",
    "tactic = re.findall(r\"\\{(.*)\\}\", response, re.DOTALL)\n",
    "plan_dict = extract_json_from_text(response)"
   ]
  },
  {
   "cell_type": "code",
   "execution_count": 5,
   "metadata": {},
   "outputs": [
    {
     "data": {
      "text/plain": [
       "<methods.eoh_evolution.EvolNode at 0x2893758d0>"
      ]
     },
     "execution_count": 5,
     "metadata": {},
     "output_type": "execute_result"
    }
   ],
   "source": [
    "from methods.meta_prompt import MetaPrompt, MetaPlan, extract_json_from_text\n",
    "from methods.eoh_evolution import EvolNode\n",
    "from methods.llm import get_openai_response as get_response\n",
    "from typing import Optional, List, Dict\n",
    "\n",
    "# Collect MetaPrompt from parsed Plan-Graph Response\n",
    "meta_node_prompts = []\n",
    "for node in plan_dict[\"nodes\"]:\n",
    "    node_prompt = MetaPrompt(task=node.get(\"task\"),  func_name=node.get(\"name\"), input=node.get(\"input\"), output=node.get(\"output\"), mode=node.get(\"mode\").lower())\n",
    "    meta_node_prompts.append(node_prompt)\n",
    "    \n",
    "edges = plan_dict[\"edges\"]\n",
    "\n",
    "EvolNode(meta_prompt = node_prompt)\n"
   ]
  },
  {
   "cell_type": "markdown",
   "metadata": {},
   "source": [
    "#### EvalNode Test: \n",
    "At the beginning level, generation of EvalNode (when code is used here) should compile with success, and it should takes input and produce output. "
   ]
  },
  {
   "cell_type": "markdown",
   "metadata": {},
   "source": []
  },
  {
   "cell_type": "code",
   "execution_count": 1,
   "metadata": {},
   "outputs": [
    {
     "name": "stdout",
     "output_type": "stream",
     "text": [
      "Available Python files:\n",
      "1. models.py\n",
      "2. reasoning_dataset.py\n",
      "3. dataset.py\n",
      "4. irem_baseline.py\n",
      "5. gen_planning_dataset.py\n",
      "6. planning_dataset.py\n",
      "7. train.py\n",
      "8. sat_dataset.py\n",
      "9. diffusion_lib/denoising_diffusion_pytorch_1d.py\n",
      "10. diffusion_lib/transformer.py\n",
      "11. diffusion_lib/nlm.py\n",
      "12. diffusion_lib/nlm_utils.py\n",
      "13. irem_lib/irem.py\n",
      "Building dependency graph for models.py...\n",
      "Visualizing graph...\n"
     ]
    },
    {
     "data": {
      "text/html": [
       "<img src=\"https://mermaid.ink/img/Z3JhcGggVEQKICAgIGZpbGVfMVsibW9kZWxzLnB5Il0KICAgIGZpbGVfMV9zd2lzaFsic3dpc2giXQogICAgZmlsZV8xX3N3aXNoIC0tPiBmaWxlXzEKICAgIGZpbGVfMV9fX2luaXRfX1siX19pbml0X18iXQogICAgZmlsZV8xX19faW5pdF9fIC0tPiBmaWxlXzEKICAgIGZpbGVfMV9fX2luaXRfXyAtLT4gZmlsZV8xX3N1cGVyCiAgICBmaWxlXzFfZm9yd2FyZFsiZm9yd2FyZCJdCiAgICBmaWxlXzFfZm9yd2FyZCAtLT4gZmlsZV8xCiAgICBmaWxlXzFfZGVjb2RlWyJkZWNvZGUiXQogICAgZmlsZV8xX2RlY29kZSAtLT4gZmlsZV8xCiAgICBmaWxlXzFfcmFuZG5bInJhbmRuIl0KICAgIGZpbGVfMV9yYW5kbiAtLT4gZmlsZV8xCiAgICBmaWxlXzEgLS0-IGZpbGVfMgogICAgZmlsZV8yWyJ0cmFuc2Zvcm1lci5weSJdCiAgICBmaWxlXzJfX19pbml0X19bIl9faW5pdF9fIl0KICAgIGZpbGVfMl9fX2luaXRfXyAtLT4gZmlsZV8yCiAgICBmaWxlXzJfX19pbml0X18gLS0-IGZpbGVfMl9wcmludAogICAgZmlsZV8yX19faW5pdF9fIC0tPiBmaWxlXzJfc3VtCiAgICBmaWxlXzJfX19pbml0X18gLS0-IGZpbGVfMl9CbG9jawogICAgZmlsZV8yX19faW5pdF9fIC0tPiBmaWxlXzJfcmFuZ2UKICAgIGZpbGVfMl9fX2luaXRfXyAtLT4gZmlsZV8yX3N1cGVyCiAgICBmaWxlXzJfZm9yd2FyZFsiZm9yd2FyZCJdCiAgICBmaWxlXzJfZm9yd2FyZCAtLT4gZmlsZV8yCiAgICBmaWxlXzJfZm9yd2FyZCAtLT4gZmlsZV8yX2Jsb2NrCiAgICBmaWxlXzJfX2luaXRfd2VpZ2h0c1siX2luaXRfd2VpZ2h0cyJdCiAgICBmaWxlXzJfX2luaXRfd2VpZ2h0cyAtLT4gZmlsZV8yCiAgICBmaWxlXzJfX2luaXRfd2VpZ2h0cyAtLT4gZmlsZV8yX2lzaW5zdGFuY2UKICAgIGZpbGVfMl9tYWtlX29wdGltaXplclsibWFrZV9vcHRpbWl6ZXIiXQogICAgZmlsZV8yX21ha2Vfb3B0aW1pemVyIC0tPiBmaWxlXzIKICAgIGZpbGVfMl9tYWtlX29wdGltaXplciAtLT4gZmlsZV8yX3NvcnRlZAogICAgZmlsZV8yX21ha2Vfb3B0aW1pemVyIC0tPiBmaWxlXzJfbGlzdAogICAgZmlsZV8yX21ha2Vfb3B0aW1pemVyIC0tPiBmaWxlXzJfc2V0CiAgICBmaWxlXzJfbWFrZV9vcHRpbWl6ZXIgLS0-IGZpbGVfMl9zdHIKICAgIGZpbGVfMl9tYWtlX29wdGltaXplciAtLT4gZmlsZV8yX2lzaW5zdGFuY2UKICAgIGZpbGVfMl9tYWtlX29wdGltaXplciAtLT4gZmlsZV8yX2xlbgogICAgZmlsZV8xIC0tPiBmaWxlXzMKICAgIGZpbGVfM1sibmxtLnB5Il0KICAgIGZpbGVfM19fZ2V0X3R1cGxlX25bIl9nZXRfdHVwbGVfbiJdCiAgICBmaWxlXzNfX2dldF90dXBsZV9uIC0tPiBmaWxlXzMKICAgIGZpbGVfM19fZ2V0X3R1cGxlX24gLS0-IGZpbGVfM190eXBlCiAgICBmaWxlXzNfX2dldF90dXBsZV9uIC0tPiBmaWxlXzNfbGVuCiAgICBmaWxlXzNfX19pbml0X19bIl9faW5pdF9fIl0KICAgIGZpbGVfM19fX2luaXRfXyAtLT4gZmlsZV8zCiAgICBmaWxlXzNfX19pbml0X18gLS0-IGZpbGVfM19Mb2dpY0xheWVyCiAgICBmaWxlXzNfX19pbml0X18gLS0-IGZpbGVfM19hZGRfCiAgICBmaWxlXzNfX19pbml0X18gLS0-IGZpbGVfM19yYW5nZQogICAgZmlsZV8zX19faW5pdF9fIC0tPiBmaWxlXzNfc3VwZXIKICAgIGZpbGVfM19fX2luaXRfXyAtLT4gZmlsZV8zX2xlbgogICAgZmlsZV8zX2ZvcndhcmRbImZvcndhcmQiXQogICAgZmlsZV8zX2ZvcndhcmQgLS0-IGZpbGVfMwogICAgZmlsZV8zX2ZvcndhcmQgLS0-IGZpbGVfM19taW4KICAgIGZpbGVfM19mb3J3YXJkIC0tPiBmaWxlXzNfbGF5ZXIKICAgIGZpbGVfM19mb3J3YXJkIC0tPiBmaWxlXzNfZW51bWVyYXRlCiAgICBmaWxlXzNfZm9yd2FyZCAtLT4gZmlsZV8zX3JhbmdlCiAgICBmaWxlXzNfZm9yd2FyZCAtLT4gZmlsZV8zX21lcmdlCiAgICBmaWxlXzNfbWFrZV9wcm9nX2Jsb2NrX3BhcnNlclsibWFrZV9wcm9nX2Jsb2NrX3BhcnNlciJdCiAgICBmaWxlXzNfbWFrZV9wcm9nX2Jsb2NrX3BhcnNlciAtLT4gZmlsZV8zCiAgICBmaWxlXzNfbWFrZV9wcm9nX2Jsb2NrX3BhcnNlciAtLT4gZmlsZV8zX3N0cgogICAgZmlsZV8zX2Zyb21fYXJnc1siZnJvbV9hcmdzIl0KICAgIGZpbGVfM19mcm9tX2FyZ3MgLS0-IGZpbGVfMwogICAgZmlsZV8zX2Zyb21fYXJncyAtLT4gZmlsZV8zX2dldGF0dHIKICAgIGZpbGVfM19mcm9tX2FyZ3MgLS0-IGZpbGVfM19zdHIKICAgIGZpbGVfM19mcm9tX2FyZ3MgLS0-IGZpbGVfM19zZXRhdHRyCiAgICBmaWxlXzNfZnJvbV9hcmdzIC0tPiBmaWxlXzNfY2xzCiAgICBmaWxlXzNfX21hc2tbIl9tYXNrIl0KICAgIGZpbGVfM19fbWFzayAtLT4gZmlsZV8zCiAgICBmaWxlXzNfX21hc2sgLS0-IGZpbGVfM196aXAKICAgIGZpbGVfM19fbWFzayAtLT4gZmlsZV8zX2xlbgogICAgZmlsZV8zX2FkZF9bImFkZF8iXQogICAgZmlsZV8zX2FkZF8gLS0-IGZpbGVfMwogICAgZmlsZV8zX2FkZF8gLS0-IGZpbGVfM19yYW5nZQogICAgZmlsZV8zX2FkZF8gLS0-IGZpbGVfM19sZW4KICAgIGZpbGVfM19tZXJnZVsibWVyZ2UiXQogICAgZmlsZV8zX21lcmdlIC0tPiBmaWxlXzMKICAgIGZpbGVfMyAtLT4gZmlsZV80CiAgICBmaWxlXzRbIm5sbV91dGlscy5weSJdCiAgICBmaWxlXzRfYnJvYWRjYXN0WyJicm9hZGNhc3QiXQogICAgZmlsZV80X2Jyb2FkY2FzdCAtLT4gZmlsZV80CiAgICBmaWxlXzRfYnJvYWRjYXN0IC0tPiBmaWxlXzRfY29uY2F0X3NoYXBlCiAgICBmaWxlXzRfY29uY2F0X3NoYXBlWyJjb25jYXRfc2hhcGUiXQogICAgZmlsZV80X2NvbmNhdF9zaGFwZSAtLT4gZmlsZV80CiAgICBmaWxlXzRfY29uY2F0X3NoYXBlIC0tPiBmaWxlXzRfaW50CiAgICBmaWxlXzRfY29uY2F0X3NoYXBlIC0tPiBmaWxlXzRfdHVwbGUKICAgIGZpbGVfNF9jb25jYXRfc2hhcGUgLS0-IGZpbGVfNF9pc2luc3RhbmNlCiAgICBmaWxlXzRfbWVzaGdyaWRbIm1lc2hncmlkIl0KICAgIGZpbGVfNF9tZXNoZ3JpZCAtLT4gZmlsZV80CiAgICBmaWxlXzRfbWVzaGdyaWQgLS0-IGZpbGVfNF9icm9hZGNhc3QKICAgIGZpbGVfNF9tZXNoZ3JpZF9leGNsdWRlX3NlbGZbIm1lc2hncmlkX2V4Y2x1ZGVfc2VsZiJdCiAgICBmaWxlXzRfbWVzaGdyaWRfZXhjbHVkZV9zZWxmIC0tPiBmaWxlXzQKICAgIGZpbGVfNF9tZXNoZ3JpZF9leGNsdWRlX3NlbGYgLS0-IGZpbGVfNF9yYW5nZQogICAgZmlsZV80X21lc2hncmlkX2V4Y2x1ZGVfc2VsZiAtLT4gZmlsZV80X2NvbmNhdF9zaGFwZQogICAgZmlsZV80X2V4Y2x1ZGVfbWFza1siZXhjbHVkZV9tYXNrIl0KICAgIGZpbGVfNF9leGNsdWRlX21hc2sgLS0-IGZpbGVfNAogICAgZmlsZV80X2V4Y2x1ZGVfbWFzayAtLT4gZmlsZV80X3JhbmdlCiAgICBmaWxlXzRfbWFza192YWx1ZVsibWFza192YWx1ZSJdCiAgICBmaWxlXzRfbWFza192YWx1ZSAtLT4gZmlsZV80CiAgICBmaWxlXzRfZ2V0X2JhdGNubm9ybVsiZ2V0X2JhdGNubm9ybSJdCiAgICBmaWxlXzRfZ2V0X2JhdGNubm9ybSAtLT4gZmlsZV80CiAgICBmaWxlXzRfZ2V0X2JhdGNubm9ybSAtLT4gZmlsZV80X05vdEltcGxlbWVudGVkRXJyb3IKICAgIGZpbGVfNF9nZXRfYmF0Y25ub3JtIC0tPiBmaWxlXzRfZ2V0YXR0cgogICAgZmlsZV80X2dldF9iYXRjbm5vcm0gLS0-IGZpbGVfNF9WYWx1ZUVycm9yCiAgICBmaWxlXzRfZ2V0X2JhdGNubm9ybSAtLT4gZmlsZV80X2lzaW5zdGFuY2UKICAgIGZpbGVfNF9nZXRfZHJvcG91dFsiZ2V0X2Ryb3BvdXQiXQogICAgZmlsZV80X2dldF9kcm9wb3V0IC0tPiBmaWxlXzQKICAgIGZpbGVfNF9nZXRfZHJvcG91dCAtLT4gZmlsZV80X2dldGF0dHIKICAgIGZpbGVfNF9nZXRfZHJvcG91dCAtLT4gZmlsZV80X2lzaW5zdGFuY2UKICAgIGZpbGVfNF9nZXRfYWN0aXZhdGlvblsiZ2V0X2FjdGl2YXRpb24iXQogICAgZmlsZV80X2dldF9hY3RpdmF0aW9uIC0tPiBmaWxlXzQKICAgIGZpbGVfNF9nZXRfYWN0aXZhdGlvbiAtLT4gZmlsZV80X1ZhbHVlRXJyb3IKICAgIGZpbGVfNF9nZXRfYWN0aXZhdGlvbiAtLT4gZmlsZV80X3R5cGUKICAgIGZpbGVfNF9nZXRfYWN0aXZhdGlvbiAtLT4gZmlsZV80X2lzaW5zdGFuY2UKICAgIGZpbGVfNF9nZXRfYWN0aXZhdGlvbiAtLT4gZmlsZV80X2dldGF0dHIKICAgIGZpbGVfNF9nZXRfb3V0cHV0X2RpbVsiZ2V0X291dHB1dF9kaW0iXQogICAgZmlsZV80X2dldF9vdXRwdXRfZGltIC0tPiBmaWxlXzQKICAgIGZpbGVfNF9nZXRfb3V0cHV0X2RpbSAtLT4gZmlsZV80X1ZhbHVlRXJyb3IKICAgIGZpbGVfNF9fX2luaXRfX1siX19pbml0X18iXQogICAgZmlsZV80X19faW5pdF9fIC0tPiBmaWxlXzQKICAgIGZpbGVfNF9fX2luaXRfXyAtLT4gZmlsZV80X3N1cGVyCiAgICBmaWxlXzRfZm9yd2FyZFsiZm9yd2FyZCJdCiAgICBmaWxlXzRfZm9yd2FyZCAtLT4gZmlsZV80CiAgICBmaWxlXzRfZm9yd2FyZCAtLT4gZmlsZV80X21lc2hncmlkX2V4Y2x1ZGVfc2VsZgogICAgZmlsZV80X2ZvcndhcmQgLS0-IGZpbGVfNF9tZXNoZ3JpZAogICAgZmlsZV80X2ZvcndhcmQgLS0-IGZpbGVfNF9WYWx1ZUVycm9yCiAgICBmaWxlXzRfaW5wdXRfZGltWyJpbnB1dF9kaW0iXQogICAgZmlsZV80X2lucHV0X2RpbSAtLT4gZmlsZV80CiAgICBmaWxlXzRfb3V0cHV0X2RpbVsib3V0cHV0X2RpbSJdCiAgICBmaWxlXzRfb3V0cHV0X2RpbSAtLT4gZmlsZV80CiAgICBmaWxlXzRfcmVzZXRfcGFyYW1ldGVyc1sicmVzZXRfcGFyYW1ldGVycyJdCiAgICBmaWxlXzRfcmVzZXRfcGFyYW1ldGVycyAtLT4gZmlsZV80CiAgICBmaWxlXzRfcmVzZXRfcGFyYW1ldGVycyAtLT4gZmlsZV80X2lzaW5zdGFuY2UKICAgIGZpbGVfNF9fX3JlcHJfX1siX19yZXByX18iXQogICAgZmlsZV80X19fcmVwcl9fIC0tPiBmaWxlXzQ=\"/>"
      ],
      "text/plain": [
       "<IPython.core.display.Image object>"
      ]
     },
     "metadata": {},
     "output_type": "display_data"
    },
    {
     "name": "stdout",
     "output_type": "stream",
     "text": [
      "Function-level Mermaid graph saved to 'function_level_dependency_graph.mmd'\n"
     ]
    }
   ],
   "source": [
    "from tools.repo import *\n",
    "\n",
    "\n",
    "def main():\n",
    "    repo_url = input(\"Enter the github repo your are interested: \")\n",
    "    repo_url = \"https://github.com/yilundu/ired_code_release\"\n",
    "    temp_repo = \"temp_dir\"\n",
    "    clone_repo(repo_url, temp_repo)\n",
    "    python_files = get_python_files(temp_repo)\n",
    "    \n",
    "    print(\"Available Python files:\")\n",
    "    for i, file in enumerate(python_files):\n",
    "        print(f\"{i+1}. {file}\")\n",
    "    \n",
    "    choice = int(input(\"Enter the number of the file you want to analyze: \")) - 1\n",
    "    start_file = python_files[choice]\n",
    "    \n",
    "    print(f\"Building dependency graph for {start_file}...\")\n",
    "    graph = build_function_level_mermaid_graph(start_file, temp_repo)\n",
    "    # graph = build_mermaid_graph(start_file, temp_repo)\n",
    "    \n",
    "    print(\"Visualizing graph...\")\n",
    "    visualize_function_level_graph(graph)\n",
    "\n",
    "    import shutil\n",
    "    shutil.rmtree(temp_repo)\n",
    "\n",
    "if __name__ == \"__main__\":\n",
    "    main()"
   ]
  },
  {
   "cell_type": "code",
   "execution_count": null,
   "metadata": {},
   "outputs": [],
   "source": []
  }
 ],
 "metadata": {
  "kernelspec": {
   "display_name": "base",
   "language": "python",
   "name": "python3"
  },
  "language_info": {
   "codemirror_mode": {
    "name": "ipython",
    "version": 3
   },
   "file_extension": ".py",
   "mimetype": "text/x-python",
   "name": "python",
   "nbconvert_exporter": "python",
   "pygments_lexer": "ipython3",
   "version": "3.11.5"
  }
 },
 "nbformat": 4,
 "nbformat_minor": 2
}
