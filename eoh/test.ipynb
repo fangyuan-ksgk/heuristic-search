{
 "cells": [
  {
   "cell_type": "markdown",
   "metadata": {},
   "source": [
    "</div>\n",
    "<div align=\"center\">\n",
    "  <img src=\"img/evolnode.png\" width=\"800\" alt=\"Fourier reconstruction convergence\">\n",
    "  <p><em> Evolution Node free you from coding and debugging, let LLM evolve your code for you.</em></p>\n",
    "</div>\n",
    "<div align=\"left\">\n",
    "<p><em>Bored of manual coding, a function? EvolNode let LLM automate function design and guide the evolution of it with genetic algorithm. A node here takes a task, input, and output, it uses either code or another LLM to complete the task, ensuring aligned input and output value types and ,.names.Fitness evaluation is done by running the function with a few specified test cases, the more diverse the test case, the better the evolution.\n",
    "</em></p>\n",
    "</div>"
   ]
  },
  {
   "cell_type": "code",
   "execution_count": 1,
   "metadata": {},
   "outputs": [
    {
     "name": "stdout",
     "output_type": "stream",
     "text": [
      "Could not load vllm class, check CUDA support and GPU RAM size\n"
     ]
    },
    {
     "name": "stderr",
     "output_type": "stream",
     "text": [
      "Generating test cases: 5case [00:01,  2.60case/s]             \n"
     ]
    },
    {
     "name": "stdout",
     "output_type": "stream",
     "text": [
      "--- Generated 5 test cases\n",
      "Error in parsing LLM response: \n",
      " JsonDecodeError : \n",
      "Expecting value: line 1 column 1 (char 0)AstLiteralError : \n",
      "invalid syntax (<unknown>, line 1) \n",
      "Response: \n",
      " To find the birthdate of Leonardo DiCaprio and calculate his age, we'll use a combination of the `webbrowser` and `datetime` libraries in Python to retrieve his birthdate from Wikipedia.\n",
      "\n",
      "```python\n",
      "import webbrowser\n",
      "import datetime\n",
      "\n",
      "def get_celebrity_birthdate():\n",
      "    # Search for Leonardo DiCaprio's birthdate on Wikipedia\n",
      "    query = f\"https://en.wikipedia.org/wiki/Leonardo_DiCaprio\"\n",
      "    webbrowser.open(query, new=2)  # Open the link in a new tab/window\n",
      "    \n",
      "    # Unfortunately, there's no way to scrape a website directly using a library\n",
      "    # without getting into hairy web scraping laws. Here's a hypothetical example\n",
      "    # for demonstration purposes. Please replace this with the actual scraping\n",
      "    # if needed.\n",
      "    birthdate_str = \"November 11, 1974\"\n",
      "    \n",
      "    # Process the birthdate string\n",
      "    birthdate = datetime.datetime.strptime(birthdate_str, \"%B %d, %Y\").date()\n",
      "    current_year = 2024\n",
      "    current_month = datetime.datetime.now().month\n",
      "    current_day = datetime.datetime.now().day\n",
      "    \n",
      "    age = current_year - birthdate.year\n",
      "    if (current_month, current_day) < (birthdate.month, birthdate.day):\n",
      "        age -= 1\n",
      "    \n",
      "    return age\n",
      "\n",
      "def print_age():\n",
      "    age = get_celebrity_birthdate()\n",
      "    print(f\"Leonardo DiCaprio is {age} years old.\")\n",
      "\n",
      "print_age()\n",
      "```\n",
      "\n",
      "However, it is highly not recommended to use Selenium or other web scraping libraries to automate interactions with websites because they have usage policies against it and consider it a misuse of their services.\n",
      "\n",
      "Alternatively, you can use an API like [Datamuse API](https://www.datamuse.com/api/) to find the birthdate of Leonardo DiCaprio.\n",
      "\n",
      "Also, note that the above script has been changed to use python's strptime and the datetime class.\n",
      "\n",
      "To use pip to install python's strptime and datetime classes (they come with Python), simply use pip:\n",
      "\n",
      "```bash\n",
      "pip install python\n",
      "```\n",
      "\n",
      "However, please note, if you simply install python via pip, the python executable will likely be installed to a location not in your PATH. \n",
      "\n",
      "Better to install a full python environment with a package manager like conda to avoid several common issues.\n",
      "\n",
      "```bash\n",
      "conda create -n myenv python\n",
      "conda activate myenv\n",
      "```\n",
      "\n",
      "After changing the name to your liking.\n",
      "Error in parsing LLM response: \n",
      " JsonDecodeError : \n",
      "Expecting value: line 1 column 1 (char 0)AstLiteralError : \n",
      "invalid syntax (<unknown>, line 2) \n",
      "Response: \n",
      " To retrieve the birthdate of Keanu Reeves and calculate their age, we'll use a simple script. We'll use the `datetime` module to handle dates and calculate the age.\n",
      "\n",
      "Here's a Python script to do this:\n",
      "\n",
      "```python\n",
      "# Import necessary modules\n",
      "from datetime import datetime\n",
      "\n",
      "# Define the celebrity's name\n",
      "celebrity = \"Keanu Reeves\"\n",
      "\n",
      "# Define the birthdate of the celebrity (assuming 1964 is correct as per available information online)\n",
      "celebrity_birthdate = \"09/02/1964\"\n",
      "\n",
      "# Define the current year\n",
      "current_year = 2024\n",
      "\n",
      "# Convert the birthdate string into a datetime object\n",
      "birth_datetime = datetime.strptime(celebrity_birthdate, \"%m/%d/%Y\")\n",
      "\n",
      "# Calculate the age by subtracting the birth year from the current year\n",
      "age = current_year - birth_datetime.year\n",
      "\n",
      "# Print the celebrity's age in JSON format\n",
      "print('{\"age\":', age, '}')\n",
      "```\n",
      "\n",
      "This script first converts the celebrity's birthdate into a `datetime` object and then calculates the age by subtracting the birth year from the current year. The age is then returned in JSON format.\n",
      "\n",
      "When you run this script, it will output the age of the celebrity in JSON format. Note that this assumes Keanu Reeves was born in 1964.\n",
      "Error in parsing LLM response: \n",
      " JsonDecodeError : \n",
      "Expecting value: line 1 column 1 (char 0)AstLiteralError : \n",
      "invalid syntax (<unknown>, line 1) \n",
      "Response: \n",
      " Since I'm a large language model, I don't have direct access to specific celebrities or their birthdays unless they are general knowledge. However, I can simulate this based on general knowledge or public data.\n",
      "\n",
      "Let's assume we have a famous \"Unknown Celebrity\" with a known birthday. I'll create a mock celebrity for this example.\n",
      "\n",
      "### Example: Celebrities with known birthdays\n",
      "\n",
      "Here are a few examples:\n",
      "\n",
      "- Beyoncé: June 4, 1981\n",
      "- Tom Hanks: July 9, 1956\n",
      "- Julia Roberts: October 28, 1967\n",
      "\n",
      "### Problem Solution\n",
      "\n",
      "We'll simulate our \"Unknown Celebrity\" as a fictional person, let's say it's a female actress named \"Lily Rose\" with a birthdate of July 12th, 1995.\n",
      "\n",
      "Python code to calculate the age:\n",
      "\n",
      "```python\n",
      "from datetime import datetime\n",
      "\n",
      "def calculate_celebrity_age(name, birthdate):\n",
      "    # Use the datetime module to calculate the age\n",
      "    today = datetime.today()\n",
      "    birth_year, birth_month, birth_day = map(int, birthdate.split('-'))\n",
      "    \n",
      "    birth_date = datetime(today.year, birth_month, birth_day)\n",
      "    if today.month < birth_month or (today.month == birth_month and today.day < birth_day):\n",
      "        birth_date = today.replace(year=birth_year-1)\n",
      "    \n",
      "    age = today - birth_date\n",
      "    return {'age': age.days // 365}  # approximate age in years\n",
      "\n",
      "\n",
      "if __name__ == \"__main__\":\n",
      "    name = \"Lily Rose\"\n",
      "    birthdate = '07-12-1995'\n",
      "    print(calculate_celebrity_age(name, birthdate))\n",
      "```\n",
      "\n",
      "When you run this code, it will output the age of \"Lily Rose\" as per her birthdate. Remember that this is just a simulated example. If you have the actual celebrity's name and birthdate, replace the simulated data with the actual values.\n",
      "\n",
      "### Output\n",
      "\n",
      "```\n",
      "{'age': 28}\n",
      "```\n",
      "\n",
      "This is based on Lily Rose being 28 years old in the year 2024, as calculated from the code above.\n",
      "\n",
      "### Note on representation & general age calculation\n",
      "\n",
      "The code above does a rough estimate by counting the number of days since the birthdate and approximating it to the nearest whole year.\n",
      "\n",
      "If a person was born on March 3rd, 1996 (some years ago), and now it's mid-July in 2024, we can't say the person is 28 years old yet because their 28th birthday isn't until the 3rd of March in 2025.\n",
      "Error in parsing LLM response: \n",
      " JsonDecodeError : \n",
      "Expecting value: line 1 column 1 (char 0)AstLiteralError : \n",
      "invalid syntax (<unknown>, line 1) \n",
      "Response: \n",
      " I'll need the celebrity's name to search for their birthdate. For demonstration purposes, let's use the celebrity \"Tom Holland\".\n",
      "\n",
      "I'll use the \"dateutil\" and \"requests\" libraries to fetch the birthdate. However, please note that the availability of celebrity birthdates may vary depending on the source.\n",
      "\n",
      "Here's an example Python script that does this:\n",
      "\n",
      "```python\n",
      "import dateutil.parser\n",
      "import requests\n",
      "\n",
      "def get_celebrity_age(name):\n",
      "    # Fetch API to get the celebrity's birthdate\n",
      "    try:\n",
      "        api_url = \"http://api.nameify.org/v1/name/&query=\" + name\n",
      "        response = requests.get(api_url)\n",
      "\n",
      "        # Parse the JSON response\n",
      "        api_data = response.json()\n",
      "\n",
      "        # Extract the birthdate\n",
      "        birthdate_str = api_data['birthdayString']\n",
      "\n",
      "        # Parse the birthdate\n",
      "        birthdate = dateutil.parser.parse(birthdate_str)\n",
      "\n",
      "        # Calculate the age\n",
      "        current_year = 2024\n",
      "        age = current_year - birthdate.year\n",
      "\n",
      "        # Return the age\n",
      "        return {'age': age}\n",
      "\n",
      "    except Exception as e:\n",
      "        print(\"Error fetching celebrity data:\", str(e))\n",
      "        return None\n",
      "\n",
      "celebrity_name = \"Tom Holland\"\n",
      "age = get_celebrity_age(celebrity_name)\n",
      "\n",
      "if age is not None:\n",
      "    print(\"Age of\", celebrity_name, \":\", age['age'])\n",
      "```\n",
      "\n",
      "Before running this script, make sure to install the required libraries by running `pip install python-dateutil requests`.\n",
      "Error in parsing LLM response: \n",
      " JsonDecodeError : \n",
      "Expecting value: line 1 column 1 (char 0)AstLiteralError : \n",
      "invalid syntax (<unknown>, line 1) \n",
      "Response: \n",
      " I'll use the Wikipedia data from 'Dilireba' to find her birthdate. According to Wikipedia, Dilireba's birthdate is 3 December 1992.\n",
      "\n",
      "```python\n",
      "import json\n",
      "from datetime import datetime\n",
      "\n",
      "# Dilireba's birthdate\n",
      "birthdate = datetime(1992, 12, 3)\n",
      "\n",
      "# Current year and month\n",
      "current_year = 2024\n",
      "current_month = 10  # October\n",
      "\n",
      "# Calculate age\n",
      "age = current_year - birthdate.year\n",
      "if (birthdate.month, birthdate.day) > (current_month, 16):\n",
      "    age -= 1\n",
      "\n",
      "# Return age in JSON format\n",
      "age_result = {'age': int(age)}\n",
      "print(json.dumps(age_result))\n",
      "```\n",
      "\n",
      "This code will output the age of Dilireba in the required JSON format.\n",
      "Error in parsing LLM response: \n",
      " JsonDecodeError : \n",
      "Expecting value: line 1 column 1 (char 0)AstLiteralError : \n",
      "invalid syntax (<unknown>, line 1) \n",
      "Response: \n",
      " I will provide the solution in Python.\n",
      "\n",
      "### Dilireba's Age Calculator\n",
      "```python\n",
      "import json\n",
      "from datetime import datetime\n",
      "\n",
      "def get_celebrity_age_name(name):\n",
      "    # Dictionary containing celebrity names and their birthdates (in YYYY-MM-DD format)\n",
      "    celebrities = {\n",
      "        \"Dilireba\": \"1992-07-16\"  # Dilireba's birthdate\n",
      "    }\n",
      "\n",
      "    birthdate = celebrities.get(name)\n",
      "    if not birthdate:\n",
      "        return None\n",
      "\n",
      "    # Calculate age based on birthdate\n",
      "    age = datetime.now().year - int(birthdate.split('-')[0])\n",
      "    return age\n",
      "\n",
      "def calculate_celebrity_age(celebrity_name):\n",
      "    age = get_celebrity_age_name(celebrity_name)\n",
      "    if age is None:\n",
      "        return None\n",
      "\n",
      "    return json.dumps({'age': age})\n",
      "\n",
      "# Usage:\n",
      "celebrity_name = \"Dilireba\"\n",
      "result = calculate_celebrity_age(celebrity_name)\n",
      "print(result)  # Output: {'age': 31}\n",
      "```\n",
      "However, the celebrity's birthdate could be different but cannot be accurately verified with the given data. This is just an assumption.\n",
      "\n",
      "### Note:\n",
      "Please note that calculating a celebrity's age is simple and can be done using any programming language. You can directly use the birthdate and the current year to calculate the age.\n",
      "\n",
      "If you want to handle invalid birthdates, you can add error checking code to ensure that the birthdate is in the correct format (YYYY-MM-DD).\n"
     ]
    }
   ],
   "source": [
    "from methods.meta_prompt import MetaPrompt, PromptMode\n",
    "from methods.eoh_evolution import EvolNode\n",
    "from methods.llm import get_groq_response\n",
    "\n",
    "# Code + Compilor Task\n",
    "# mp = MetaPrompt(\"Generate Fibonacci sequence.\", \"fibonacci\", [\"n\"], [\"sequence\"], [\"int\"], [\"list\"], PromptMode.CODE) # \n",
    "# node = EvolNode(mp, None, None)\n",
    "# input_dict = {\"n\": 10}\n",
    "# reasoning, code = node.evolve([input_dict], \"i1\", replace=True) # Evolution with guaranteed structural fitness\n",
    "# node(input_dict) # Ok we need a output dictionary here as well ...\n",
    "\n",
    "\n",
    "# Prompt + LLM Task\n",
    "mp = MetaPrompt(\"Get the age of a celebrity.\", \"get_celeb_age\", [\"name\"], [\"age\"], [\"str\"], [\"int\"], PromptMode.PROMPT) # \n",
    "node = EvolNode(mp, None, None, get_response=get_groq_response)\n",
    "node.evolve(\"i1\", replace=True)\n",
    "\n",
    "input_dict = {\"name\": \"Dilireba\"}\n",
    "output_dict = node(input_dict) "
   ]
  },
  {
   "cell_type": "markdown",
   "metadata": {},
   "source": [
    "#### Direct Loading Node"
   ]
  },
  {
   "cell_type": "code",
   "execution_count": 1,
   "metadata": {},
   "outputs": [
    {
     "name": "stdout",
     "output_type": "stream",
     "text": [
      "Could not load vllm class, check CUDA support and GPU RAM size\n"
     ]
    },
    {
     "data": {
      "text/plain": [
       "{'age': 31}"
      ]
     },
     "execution_count": 1,
     "metadata": {},
     "output_type": "execute_result"
    }
   ],
   "source": [
    "from methods.eoh_evolution import EvolNode \n",
    "\n",
    "node = EvolNode.load(\"get_celeb_age\")\n",
    "input_dict = {\"name\": \"Dilireba\"}\n",
    "node(input_dict)"
   ]
  },
  {
   "cell_type": "markdown",
   "metadata": {},
   "source": [
    "#### Alignment-Check for Evaluation"
   ]
  },
  {
   "cell_type": "code",
   "execution_count": 2,
   "metadata": {},
   "outputs": [
    {
     "name": "stderr",
     "output_type": "stream",
     "text": [
      "Evaluating fitness: 100%|██████████| 4/4 [00:13<00:00,  3.39s/it]\n"
     ]
    }
   ],
   "source": [
    "from methods.llm import get_groq_response \n",
    "\n",
    "# Evaluation base on alignment check\n",
    "node.get_response = get_groq_response \n",
    "structure_fitness, function_fitness, issue_summary = node._evaluate_fitness(max_tries=1, num_runs=2)"
   ]
  },
  {
   "cell_type": "code",
   "execution_count": 3,
   "metadata": {},
   "outputs": [
    {
     "name": "stdout",
     "output_type": "stream",
     "text": [
      "--- Compiled 0 out of 4 test cases\n",
      "--- Passed 0 out of 4 test cases\n",
      "Given Input: {'name': 'Brad Pitt'}. Can't parse output dictionary from LLM's response.\n",
      "Given Input: {'name': 'Jennifer Lawrence'}. Can't parse output dictionary from LLM's response.\n",
      "Given Input: {'name': 'Brad Pitt'}. Can't parse output dictionary from LLM's response.\n",
      "Given Input: {'name': 'Jennifer Lawrence'}. Can't parse output dictionary from LLM's response.\n",
      "\n"
     ]
    }
   ],
   "source": [
    "print(issue_summary)"
   ]
  },
  {
   "cell_type": "code",
   "execution_count": 5,
   "metadata": {},
   "outputs": [],
   "source": [
    "# how to put a node into another nodes? \n",
    "# Ideally I would then ask for the node (which likely fails on many of the test-cases) to come-up with a code, where it could call on some 'pseudo-node'\n",
    "# These pseudo-nodes are used, very similar to a pseudo-code \n",
    "\n"
   ]
  },
  {
   "cell_type": "markdown",
   "metadata": {},
   "source": [
    "\n",
    "</div>\n",
    "<div align=\"center\">\n",
    "  <img src=\"https://github.com/user-attachments/assets/af98faeb-66d6-4278-af86-67d668d1954e\" width=\"1000\" alt=\"Fourier reconstruction convergence\">\n",
    "  <p><em> But how do we know what are the tasks suitable for our goal? Design of tasks topology is the fundation of planning, let's ask LLM for help on this, too! Evolution Graph autuomate planning by imagning topology of tasks which works best for your goal.</em></p>\n",
    "</div>\n",
    "\n",
    "</div>\n",
    "<div align=\"center\">\n",
    "  <img src=\"img/Planning-node.png\" width=\"400\" alt=\"Planning Node Task Decomposition\">\n",
    "  <p><em> But how do we know what are the tasks suitable for our goal? Design of tasks topology is the fundation of planning, let's ask LLM for help on this, too! Evolution Graph autuomate planning by imagning topology of tasks which works best for your goal.</em></p>\n",
    "</div>\n"
   ]
  },
  {
   "cell_type": "code",
   "execution_count": 1,
   "metadata": {},
   "outputs": [
    {
     "name": "stdout",
     "output_type": "stream",
     "text": [
      "Could not load vllm class, check CUDA support and GPU RAM size\n"
     ]
    },
    {
     "name": "stderr",
     "output_type": "stream",
     "text": [
      "success: successfully compiled d2_output/plan_graph.d2 to d2_output/plan_graph.png in 207.111084ms\n",
      "success: successfully compiled d2_output/plan_graph_dag.d2 to d2_output/plan_graph_dag.png in 207.980416ms\n"
     ]
    }
   ],
   "source": [
    "from methods.llm import get_claude_response\n",
    "from methods.diagram import visualize_plan_dict\n",
    "from methods.meta_prompt import MetaPlan,extract_python_code, extract_json_from_text\n",
    "\n",
    "# Step 0. Initialize MetaPlanning Prompt\n",
    "mp = MetaPlan(\"Get the age of celebrity.\", \"get_celeb_age\", [\"name\"], [\"age\"], [\"str\"], [\"int\"])\n",
    "\n",
    "# Step 1: Generate Pseudo-Code for SubTask Decomposition\n",
    "prompt = mp._get_pseudo_code_prompt() # Pseudo-Code Prompt (Non-implemented functional)\n",
    "response = get_claude_response(prompt) # Use Strong LLM to build up pseudo-code\n",
    "code = extract_python_code(response) # Extract Python Code from response \n",
    "\n",
    "# Step 2: Generate Planning DAG: Multiple Nodes \n",
    "graph_prompt = mp._get_plan_graph_prompt(code) \n",
    "plan_response = get_claude_response(graph_prompt)\n",
    "plan_dict = extract_json_from_text(plan_response)\n",
    "\n",
    "visualize_plan_dict(plan_dict)\n",
    "\n",
    "# Step 3: Spawn Multiple Sub-Nodes and Evolve them\n",
    "\n",
    "# Step 4: Slot Sub Node into context for parent node re-write "
   ]
  },
  {
   "cell_type": "code",
   "execution_count": 1,
   "metadata": {},
   "outputs": [
    {
     "name": "stdout",
     "output_type": "stream",
     "text": [
      "Could not load vllm class, check CUDA support and GPU RAM size\n"
     ]
    }
   ],
   "source": [
    "# Ok we could load this thing now ..\n",
    "\n",
    "from methods.eoh_evolution import PlanNode \n",
    "from methods.llm import get_groq_response \n",
    "\n",
    "plan_node = PlanNode.load(\"get_celeb_age\", get_response=get_groq_response)"
   ]
  },
  {
   "cell_type": "code",
   "execution_count": 5,
   "metadata": {},
   "outputs": [],
   "source": [
    "plan_dict = plan_node.plan_dict"
   ]
  },
  {
   "cell_type": "code",
   "execution_count": 6,
   "metadata": {},
   "outputs": [
    {
     "name": "stderr",
     "output_type": "stream",
     "text": [
      "Generating test cases: 5case [00:05,  1.20s/case]             \n"
     ]
    },
    {
     "name": "stdout",
     "output_type": "stream",
     "text": [
      "--- Generated 5 test cases\n"
     ]
    },
    {
     "name": "stderr",
     "output_type": "stream",
     "text": [
      "Generating test cases: 5case [00:09,  1.99s/case]             \n"
     ]
    },
    {
     "name": "stdout",
     "output_type": "stream",
     "text": [
      "--- Generated 5 test cases\n"
     ]
    },
    {
     "name": "stderr",
     "output_type": "stream",
     "text": [
      "Generating test cases: 5case [00:06,  1.20s/case]             \n"
     ]
    },
    {
     "name": "stdout",
     "output_type": "stream",
     "text": [
      "--- Generated 5 test cases\n"
     ]
    },
    {
     "name": "stderr",
     "output_type": "stream",
     "text": [
      "Generating test cases: 5case [00:05,  1.07s/case]             \n"
     ]
    },
    {
     "name": "stdout",
     "output_type": "stream",
     "text": [
      "--- Generated 5 test cases\n"
     ]
    },
    {
     "name": "stderr",
     "output_type": "stream",
     "text": [
      "Generating test cases: 5case [00:04,  1.17case/s]             \n"
     ]
    },
    {
     "name": "stdout",
     "output_type": "stream",
     "text": [
      "--- Generated 5 test cases\n"
     ]
    },
    {
     "name": "stderr",
     "output_type": "stream",
     "text": [
      "Generating test cases: 5case [00:05,  1.19s/case]             \n"
     ]
    },
    {
     "name": "stdout",
     "output_type": "stream",
     "text": [
      "--- Generated 5 test cases\n"
     ]
    },
    {
     "name": "stderr",
     "output_type": "stream",
     "text": [
      "Generating test cases: 5case [00:05,  1.13s/case]             \n"
     ]
    },
    {
     "name": "stdout",
     "output_type": "stream",
     "text": [
      "--- Generated 5 test cases\n"
     ]
    },
    {
     "name": "stderr",
     "output_type": "stream",
     "text": [
      "Generating test cases: 100%|██████████| 3/3 [00:04<00:00,  1.61s/case]\n"
     ]
    },
    {
     "name": "stdout",
     "output_type": "stream",
     "text": [
      "--- Generated 3 test cases\n"
     ]
    },
    {
     "name": "stderr",
     "output_type": "stream",
     "text": [
      "Generating test cases: 5case [00:06,  1.28s/case]             \n"
     ]
    },
    {
     "name": "stdout",
     "output_type": "stream",
     "text": [
      "--- Generated 5 test cases\n"
     ]
    },
    {
     "name": "stderr",
     "output_type": "stream",
     "text": [
      "Generating test cases: 5case [00:10,  2.19s/case]             "
     ]
    },
    {
     "name": "stdout",
     "output_type": "stream",
     "text": [
      "--- Generated 5 test cases\n"
     ]
    },
    {
     "name": "stderr",
     "output_type": "stream",
     "text": [
      "\n"
     ]
    }
   ],
   "source": [
    "prompt_nodes, code_nodes = plan_node._spawn_nodes(plan_dict)"
   ]
  },
  {
   "cell_type": "code",
   "execution_count": 17,
   "metadata": {},
   "outputs": [
    {
     "data": {
      "text/plain": [
       "[({'name': 'Tom Hanks'}, {'data': '67'}),\n",
       " ({'name': 'Emma Watson'}, {'data': '33'}),\n",
       " ({'name': 'Leonardo da Vinci'}, {'data': 'Deceased'})]"
      ]
     },
     "execution_count": 17,
     "metadata": {},
     "output_type": "execute_result"
    }
   ],
   "source": [
    "# Chicken n Egg problem: - how can you evolve a function which you can't evaluate? \n",
    "code_nodes[\"scrape_celeb_data\"].test_cases # probably not fair to expect test-cases for this one to be grounded ... "
   ]
  },
  {
   "cell_type": "code",
   "execution_count": 18,
   "metadata": {},
   "outputs": [
    {
     "name": "stderr",
     "output_type": "stream",
     "text": [
      "Evaluating fitness: 100%|██████████| 15/15 [00:36<00:00,  2.43s/it]\n"
     ]
    },
    {
     "name": "stdout",
     "output_type": "stream",
     "text": [
      " - Attempt 1 failed. Fitness: 0.00. Error: --- Compiled 10 out of 15 test cases\n",
      "--- Passed 0 out of 15 test cases\n",
      "Given Input: {'name': 'Tom Hanks'}. Can't parse output dictionary from LLM's response.\n",
      "Input: {'name': 'Emma Watson'}, Pred: {'data': 'Celebrity not found.'}, Expected: {'data': '33'}\n",
      "Input: {'name': 'Leonardo da Vinci'}, Pred: {'data': 'Celebrity not found.'}, Expected: {'data': 'Deceased'}\n",
      "Given Input: {'name': 'Tom Hanks'}. Can't parse output dictionary from LLM's response.\n",
      "Input: {'name': 'Emma Watson'}, Pred: {'data': 'Celebrity not found.'}, Expected: {'data': '33'}\n",
      "Input: {'name': 'Leonardo da Vinci'}, Pred: {'data': 'Celebrity not found.'}, Expected: {'data': 'Deceased'}\n",
      "Given Input: {'name': 'Tom Hanks'}. Can't parse output dictionary from LLM's response.\n",
      "Input: {'name': 'Emma Watson'}, Pred: {'data': 'Celebrity not found.'}, Expected: {'data': '33'}\n",
      "Input: {'name': 'Leonardo da Vinci'}, Pred: {'data': 'Celebrity not found.'}, Expected: {'data': 'Deceased'}\n",
      "Given Input: {'name': 'Tom Hanks'}. Can't parse output dictionary from LLM's response.\n",
      "Input: {'name': 'Emma Watson'}, Pred: {'data': 'Celebrity not found.'}, Expected: {'data': '33'}\n",
      "Input: {'name': 'Leonardo da Vinci'}, Pred: {'data': 'Celebrity not found.'}, Expected: {'data': 'Deceased'}\n",
      "Given Input: {'name': 'Tom Hanks'}. Can't parse output dictionary from LLM's response.\n",
      "Input: {'name': 'Emma Watson'}, Pred: {'data': 'Celebrity not found.'}, Expected: {'data': '33'}\n",
      "Input: {'name': 'Leonardo da Vinci'}, Pred: {'data': 'Celebrity not found.'}, Expected: {'data': 'Deceased'}\n",
      "\n"
     ]
    },
    {
     "name": "stderr",
     "output_type": "stream",
     "text": [
      "Evaluating fitness: 100%|██████████| 15/15 [00:00<00:00, 44906.90it/s]\n"
     ]
    },
    {
     "name": "stdout",
     "output_type": "stream",
     "text": [
      " - Attempt 2 failed. Fitness: 0.00. Error: --- Compiled 0 out of 15 test cases\n",
      "--- Passed 0 out of 15 test cases\n",
      "Given Input: {'name': 'Tom Hanks'}. Can't parse output dictionary from LLM's response.\n",
      "Given Input: {'name': 'Emma Watson'}. Can't parse output dictionary from LLM's response.\n",
      "Given Input: {'name': 'Leonardo da Vinci'}. Can't parse output dictionary from LLM's response.\n",
      "Given Input: {'name': 'Tom Hanks'}. Can't parse output dictionary from LLM's response.\n",
      "Given Input: {'name': 'Emma Watson'}. Can't parse output dictionary from LLM's response.\n",
      "Given Input: {'name': 'Leonardo da Vinci'}. Can't parse output dictionary from LLM's response.\n",
      "Given Input: {'name': 'Tom Hanks'}. Can't parse output dictionary from LLM's response.\n",
      "Given Input: {'name': 'Emma Watson'}. Can't parse output dictionary from LLM's response.\n",
      "Given Input: {'name': 'Leonardo da Vinci'}. Can't parse output dictionary from LLM's response.\n",
      "Given Input: {'name': 'Tom Hanks'}. Can't parse output dictionary from LLM's response.\n",
      "Given Input: {'name': 'Emma Watson'}. Can't parse output dictionary from LLM's response.\n",
      "Given Input: {'name': 'Leonardo da Vinci'}. Can't parse output dictionary from LLM's response.\n",
      "Given Input: {'name': 'Tom Hanks'}. Can't parse output dictionary from LLM's response.\n",
      "Given Input: {'name': 'Emma Watson'}. Can't parse output dictionary from LLM's response.\n",
      "Given Input: {'name': 'Leonardo da Vinci'}. Can't parse output dictionary from LLM's response.\n",
      "\n"
     ]
    },
    {
     "name": "stderr",
     "output_type": "stream",
     "text": [
      "Evaluating fitness: 100%|██████████| 15/15 [00:00<00:00, 31583.61it/s]\n"
     ]
    },
    {
     "name": "stdout",
     "output_type": "stream",
     "text": [
      " - Attempt 3 failed. Fitness: 0.00. Error: --- Compiled 0 out of 15 test cases\n",
      "--- Passed 0 out of 15 test cases\n",
      "Given Input: {'name': 'Tom Hanks'}. Can't parse output dictionary from LLM's response.\n",
      "Given Input: {'name': 'Emma Watson'}. Can't parse output dictionary from LLM's response.\n",
      "Given Input: {'name': 'Leonardo da Vinci'}. Can't parse output dictionary from LLM's response.\n",
      "Given Input: {'name': 'Tom Hanks'}. Can't parse output dictionary from LLM's response.\n",
      "Given Input: {'name': 'Emma Watson'}. Can't parse output dictionary from LLM's response.\n",
      "Given Input: {'name': 'Leonardo da Vinci'}. Can't parse output dictionary from LLM's response.\n",
      "Given Input: {'name': 'Tom Hanks'}. Can't parse output dictionary from LLM's response.\n",
      "Given Input: {'name': 'Emma Watson'}. Can't parse output dictionary from LLM's response.\n",
      "Given Input: {'name': 'Leonardo da Vinci'}. Can't parse output dictionary from LLM's response.\n",
      "Given Input: {'name': 'Tom Hanks'}. Can't parse output dictionary from LLM's response.\n",
      "Given Input: {'name': 'Emma Watson'}. Can't parse output dictionary from LLM's response.\n",
      "Given Input: {'name': 'Leonardo da Vinci'}. Can't parse output dictionary from LLM's response.\n",
      "Given Input: {'name': 'Tom Hanks'}. Can't parse output dictionary from LLM's response.\n",
      "Given Input: {'name': 'Emma Watson'}. Can't parse output dictionary from LLM's response.\n",
      "Given Input: {'name': 'Leonardo da Vinci'}. Can't parse output dictionary from LLM's response.\n",
      "\n"
     ]
    },
    {
     "name": "stderr",
     "output_type": "stream",
     "text": [
      "Evaluating fitness: 100%|██████████| 15/15 [00:00<00:00, 7772.03it/s]\n"
     ]
    },
    {
     "name": "stdout",
     "output_type": "stream",
     "text": [
      " - Attempt 4 failed. Fitness: 0.00. Error: --- Compiled 0 out of 15 test cases\n",
      "--- Passed 0 out of 15 test cases\n",
      "Given Input: {'name': 'Tom Hanks'}. Can't parse output dictionary from LLM's response.\n",
      "Given Input: {'name': 'Emma Watson'}. Can't parse output dictionary from LLM's response.\n",
      "Given Input: {'name': 'Leonardo da Vinci'}. Can't parse output dictionary from LLM's response.\n",
      "Given Input: {'name': 'Tom Hanks'}. Can't parse output dictionary from LLM's response.\n",
      "Given Input: {'name': 'Emma Watson'}. Can't parse output dictionary from LLM's response.\n",
      "Given Input: {'name': 'Leonardo da Vinci'}. Can't parse output dictionary from LLM's response.\n",
      "Given Input: {'name': 'Tom Hanks'}. Can't parse output dictionary from LLM's response.\n",
      "Given Input: {'name': 'Emma Watson'}. Can't parse output dictionary from LLM's response.\n",
      "Given Input: {'name': 'Leonardo da Vinci'}. Can't parse output dictionary from LLM's response.\n",
      "Given Input: {'name': 'Tom Hanks'}. Can't parse output dictionary from LLM's response.\n",
      "Given Input: {'name': 'Emma Watson'}. Can't parse output dictionary from LLM's response.\n",
      "Given Input: {'name': 'Leonardo da Vinci'}. Can't parse output dictionary from LLM's response.\n",
      "Given Input: {'name': 'Tom Hanks'}. Can't parse output dictionary from LLM's response.\n",
      "Given Input: {'name': 'Emma Watson'}. Can't parse output dictionary from LLM's response.\n",
      "Given Input: {'name': 'Leonardo da Vinci'}. Can't parse output dictionary from LLM's response.\n",
      "\n"
     ]
    },
    {
     "name": "stderr",
     "output_type": "stream",
     "text": [
      "Evaluating fitness:   0%|          | 0/15 [01:21<?, ?it/s]\n"
     ]
    },
    {
     "ename": "KeyboardInterrupt",
     "evalue": "",
     "output_type": "error",
     "traceback": [
      "\u001b[0;31m---------------------------------------------------------------------------\u001b[0m",
      "\u001b[0;31mKeyboardInterrupt\u001b[0m                         Traceback (most recent call last)",
      "Cell \u001b[0;32mIn[18], line 3\u001b[0m\n\u001b[1;32m      1\u001b[0m scrape_node \u001b[38;5;241m=\u001b[39m code_nodes[\u001b[38;5;124m\"\u001b[39m\u001b[38;5;124mscrape_celeb_data\u001b[39m\u001b[38;5;124m\"\u001b[39m]\n\u001b[0;32m----> 3\u001b[0m \u001b[43mscrape_node\u001b[49m\u001b[38;5;241;43m.\u001b[39;49m\u001b[43mevolve\u001b[49m\u001b[43m(\u001b[49m\u001b[38;5;124;43m\"\u001b[39;49m\u001b[38;5;124;43mi1\u001b[39;49m\u001b[38;5;124;43m\"\u001b[39;49m\u001b[43m,\u001b[49m\u001b[43m \u001b[49m\u001b[43mreplace\u001b[49m\u001b[38;5;241;43m=\u001b[39;49m\u001b[38;5;28;43;01mTrue\u001b[39;49;00m\u001b[43m)\u001b[49m\n",
      "File \u001b[0;32m~/Implementation/heuristic-search/eoh/methods/eoh_evolution.py:167\u001b[0m, in \u001b[0;36mEvolNode.evolve\u001b[0;34m(self, method, parents, replace, max_attempts, fitness_threshold, num_runs)\u001b[0m\n\u001b[1;32m    165\u001b[0m \u001b[38;5;28;01mfor\u001b[39;00m attempt \u001b[38;5;129;01min\u001b[39;00m \u001b[38;5;28mrange\u001b[39m(max_attempts):\n\u001b[1;32m    166\u001b[0m     reasoning, code \u001b[38;5;241m=\u001b[39m \u001b[38;5;28mself\u001b[39m\u001b[38;5;241m.\u001b[39m_evolve(method, parents, replace\u001b[38;5;241m=\u001b[39m\u001b[38;5;28;01mFalse\u001b[39;00m)    \n\u001b[0;32m--> 167\u001b[0m     _, fitness, error_msg \u001b[38;5;241m=\u001b[39m \u001b[38;5;28;43mself\u001b[39;49m\u001b[38;5;241;43m.\u001b[39;49m\u001b[43m_evaluate_fitness\u001b[49m\u001b[43m(\u001b[49m\u001b[43mcode\u001b[49m\u001b[38;5;241;43m=\u001b[39;49m\u001b[43mcode\u001b[49m\u001b[43m,\u001b[49m\u001b[43m \u001b[49m\u001b[43mmax_tries\u001b[49m\u001b[38;5;241;43m=\u001b[39;49m\u001b[38;5;241;43m1\u001b[39;49m\u001b[43m,\u001b[49m\u001b[43m \u001b[49m\u001b[43mnum_runs\u001b[49m\u001b[38;5;241;43m=\u001b[39;49m\u001b[43mnum_runs\u001b[49m\u001b[43m)\u001b[49m            \n\u001b[1;32m    169\u001b[0m     \u001b[38;5;28;01mif\u001b[39;00m fitness \u001b[38;5;241m>\u001b[39m\u001b[38;5;241m=\u001b[39m \u001b[38;5;28mself\u001b[39m\u001b[38;5;241m.\u001b[39mfitness:\n\u001b[1;32m    170\u001b[0m         \u001b[38;5;28;01mif\u001b[39;00m replace:\n",
      "File \u001b[0;32m~/Implementation/heuristic-search/eoh/methods/eoh_evolution.py:259\u001b[0m, in \u001b[0;36mEvolNode._evaluate_fitness\u001b[0;34m(self, test_cases, code, max_tries, num_runs)\u001b[0m\n\u001b[1;32m    257\u001b[0m \u001b[38;5;28;01mif\u001b[39;00m \u001b[38;5;28mself\u001b[39m\u001b[38;5;241m.\u001b[39mmeta_prompt\u001b[38;5;241m.\u001b[39mmode \u001b[38;5;241m==\u001b[39m PromptMode\u001b[38;5;241m.\u001b[39mCODE:\n\u001b[1;32m    258\u001b[0m     \u001b[38;5;28;01mtry\u001b[39;00m:\n\u001b[0;32m--> 259\u001b[0m         output_dict \u001b[38;5;241m=\u001b[39m \u001b[38;5;28;43mself\u001b[39;49m\u001b[38;5;241;43m.\u001b[39;49m\u001b[43mcall_code_func\u001b[49m\u001b[43m(\u001b[49m\u001b[43mtest_input\u001b[49m\u001b[43m,\u001b[49m\u001b[43m \u001b[49m\u001b[43mcode\u001b[49m\u001b[43m,\u001b[49m\u001b[43m \u001b[49m\u001b[43mfile_path\u001b[49m\u001b[38;5;241;43m=\u001b[39;49m\u001b[38;5;28;43;01mNone\u001b[39;49;00m\u001b[43m)\u001b[49m\n\u001b[1;32m    260\u001b[0m         compiled_tests \u001b[38;5;241m+\u001b[39m\u001b[38;5;241m=\u001b[39m \u001b[38;5;241m1\u001b[39m\n\u001b[1;32m    261\u001b[0m         is_aligned \u001b[38;5;241m=\u001b[39m check_alignment(output_dict, test_output, \u001b[38;5;28mself\u001b[39m\u001b[38;5;241m.\u001b[39mget_response)\n",
      "File \u001b[0;32m~/Implementation/heuristic-search/eoh/methods/eoh_evolution.py:228\u001b[0m, in \u001b[0;36mEvolNode.call_code_func\u001b[0;34m(self, test_input, code, file_path)\u001b[0m\n\u001b[1;32m    226\u001b[0m     code \u001b[38;5;241m=\u001b[39m \u001b[38;5;28mself\u001b[39m\u001b[38;5;241m.\u001b[39mcode\n\u001b[1;32m    227\u001b[0m \u001b[38;5;28;01mtry\u001b[39;00m:\n\u001b[0;32m--> 228\u001b[0m     output_value \u001b[38;5;241m=\u001b[39m \u001b[43mcall_func_code\u001b[49m\u001b[43m(\u001b[49m\u001b[43mtest_input\u001b[49m\u001b[43m,\u001b[49m\u001b[43m \u001b[49m\u001b[43mcode\u001b[49m\u001b[43m,\u001b[49m\u001b[43m \u001b[49m\u001b[38;5;28;43mself\u001b[39;49m\u001b[38;5;241;43m.\u001b[39;49m\u001b[43mmeta_prompt\u001b[49m\u001b[38;5;241;43m.\u001b[39;49m\u001b[43mfunc_name\u001b[49m\u001b[43m,\u001b[49m\u001b[43m \u001b[49m\u001b[43mfile_path\u001b[49m\u001b[38;5;241;43m=\u001b[39;49m\u001b[43mfile_path\u001b[49m\u001b[43m)\u001b[49m\n\u001b[1;32m    229\u001b[0m     output_name \u001b[38;5;241m=\u001b[39m \u001b[38;5;28mself\u001b[39m\u001b[38;5;241m.\u001b[39mmeta_prompt\u001b[38;5;241m.\u001b[39moutputs[\u001b[38;5;241m0\u001b[39m]\n\u001b[1;32m    230\u001b[0m     output_dict \u001b[38;5;241m=\u001b[39m {output_name: output_value}\n",
      "File \u001b[0;32m~/Implementation/heuristic-search/eoh/methods/meta_execute.py:88\u001b[0m, in \u001b[0;36mcall_func_code\u001b[0;34m(input_data, code, func_name, file_path)\u001b[0m\n\u001b[1;32m     85\u001b[0m             \u001b[38;5;28;01mraise\u001b[39;00m \u001b[38;5;167;01mTypeError\u001b[39;00m(\u001b[38;5;124mf\u001b[39m\u001b[38;5;124m\"\u001b[39m\u001b[38;5;124mInput data type mismatch for parameter \u001b[39m\u001b[38;5;124m'\u001b[39m\u001b[38;5;132;01m{\u001b[39;00mparam_name\u001b[38;5;132;01m}\u001b[39;00m\u001b[38;5;124m'\u001b[39m\u001b[38;5;124m. Expected \u001b[39m\u001b[38;5;132;01m{\u001b[39;00mexpected_type\u001b[38;5;132;01m}\u001b[39;00m\u001b[38;5;124m, got \u001b[39m\u001b[38;5;132;01m{\u001b[39;00m\u001b[38;5;28mtype\u001b[39m(actual_value)\u001b[38;5;132;01m}\u001b[39;00m\u001b[38;5;124m\"\u001b[39m)\n\u001b[1;32m     87\u001b[0m \u001b[38;5;66;03m# Call the function with the input data\u001b[39;00m\n\u001b[0;32m---> 88\u001b[0m result \u001b[38;5;241m=\u001b[39m \u001b[43mfunc\u001b[49m\u001b[43m(\u001b[49m\u001b[38;5;241;43m*\u001b[39;49m\u001b[38;5;241;43m*\u001b[39;49m\u001b[43minput_data\u001b[49m\u001b[43m)\u001b[49m\n\u001b[1;32m     90\u001b[0m \u001b[38;5;66;03m# Check output type\u001b[39;00m\n\u001b[1;32m     91\u001b[0m \u001b[38;5;28;01mif\u001b[39;00m expected_return_type \u001b[38;5;241m!=\u001b[39m Any \u001b[38;5;129;01mand\u001b[39;00m \u001b[38;5;129;01mnot\u001b[39;00m check_type(result, expected_return_type):\n",
      "File \u001b[0;32m<string>:20\u001b[0m, in \u001b[0;36mscrape_celeb_data\u001b[0;34m(name)\u001b[0m\n",
      "File \u001b[0;32m/opt/homebrew/anaconda3/lib/python3.11/site-packages/requests/api.py:73\u001b[0m, in \u001b[0;36mget\u001b[0;34m(url, params, **kwargs)\u001b[0m\n\u001b[1;32m     62\u001b[0m \u001b[38;5;28;01mdef\u001b[39;00m \u001b[38;5;21mget\u001b[39m(url, params\u001b[38;5;241m=\u001b[39m\u001b[38;5;28;01mNone\u001b[39;00m, \u001b[38;5;241m*\u001b[39m\u001b[38;5;241m*\u001b[39mkwargs):\n\u001b[1;32m     63\u001b[0m \u001b[38;5;250m    \u001b[39m\u001b[38;5;124mr\u001b[39m\u001b[38;5;124;03m\"\"\"Sends a GET request.\u001b[39;00m\n\u001b[1;32m     64\u001b[0m \n\u001b[1;32m     65\u001b[0m \u001b[38;5;124;03m    :param url: URL for the new :class:`Request` object.\u001b[39;00m\n\u001b[0;32m   (...)\u001b[0m\n\u001b[1;32m     70\u001b[0m \u001b[38;5;124;03m    :rtype: requests.Response\u001b[39;00m\n\u001b[1;32m     71\u001b[0m \u001b[38;5;124;03m    \"\"\"\u001b[39;00m\n\u001b[0;32m---> 73\u001b[0m     \u001b[38;5;28;01mreturn\u001b[39;00m \u001b[43mrequest\u001b[49m\u001b[43m(\u001b[49m\u001b[38;5;124;43m\"\u001b[39;49m\u001b[38;5;124;43mget\u001b[39;49m\u001b[38;5;124;43m\"\u001b[39;49m\u001b[43m,\u001b[49m\u001b[43m \u001b[49m\u001b[43murl\u001b[49m\u001b[43m,\u001b[49m\u001b[43m \u001b[49m\u001b[43mparams\u001b[49m\u001b[38;5;241;43m=\u001b[39;49m\u001b[43mparams\u001b[49m\u001b[43m,\u001b[49m\u001b[43m \u001b[49m\u001b[38;5;241;43m*\u001b[39;49m\u001b[38;5;241;43m*\u001b[39;49m\u001b[43mkwargs\u001b[49m\u001b[43m)\u001b[49m\n",
      "File \u001b[0;32m/opt/homebrew/anaconda3/lib/python3.11/site-packages/requests/api.py:59\u001b[0m, in \u001b[0;36mrequest\u001b[0;34m(method, url, **kwargs)\u001b[0m\n\u001b[1;32m     55\u001b[0m \u001b[38;5;66;03m# By using the 'with' statement we are sure the session is closed, thus we\u001b[39;00m\n\u001b[1;32m     56\u001b[0m \u001b[38;5;66;03m# avoid leaving sockets open which can trigger a ResourceWarning in some\u001b[39;00m\n\u001b[1;32m     57\u001b[0m \u001b[38;5;66;03m# cases, and look like a memory leak in others.\u001b[39;00m\n\u001b[1;32m     58\u001b[0m \u001b[38;5;28;01mwith\u001b[39;00m sessions\u001b[38;5;241m.\u001b[39mSession() \u001b[38;5;28;01mas\u001b[39;00m session:\n\u001b[0;32m---> 59\u001b[0m     \u001b[38;5;28;01mreturn\u001b[39;00m \u001b[43msession\u001b[49m\u001b[38;5;241;43m.\u001b[39;49m\u001b[43mrequest\u001b[49m\u001b[43m(\u001b[49m\u001b[43mmethod\u001b[49m\u001b[38;5;241;43m=\u001b[39;49m\u001b[43mmethod\u001b[49m\u001b[43m,\u001b[49m\u001b[43m \u001b[49m\u001b[43murl\u001b[49m\u001b[38;5;241;43m=\u001b[39;49m\u001b[43murl\u001b[49m\u001b[43m,\u001b[49m\u001b[43m \u001b[49m\u001b[38;5;241;43m*\u001b[39;49m\u001b[38;5;241;43m*\u001b[39;49m\u001b[43mkwargs\u001b[49m\u001b[43m)\u001b[49m\n",
      "File \u001b[0;32m/opt/homebrew/anaconda3/lib/python3.11/site-packages/requests/sessions.py:589\u001b[0m, in \u001b[0;36mSession.request\u001b[0;34m(self, method, url, params, data, headers, cookies, files, auth, timeout, allow_redirects, proxies, hooks, stream, verify, cert, json)\u001b[0m\n\u001b[1;32m    584\u001b[0m send_kwargs \u001b[38;5;241m=\u001b[39m {\n\u001b[1;32m    585\u001b[0m     \u001b[38;5;124m\"\u001b[39m\u001b[38;5;124mtimeout\u001b[39m\u001b[38;5;124m\"\u001b[39m: timeout,\n\u001b[1;32m    586\u001b[0m     \u001b[38;5;124m\"\u001b[39m\u001b[38;5;124mallow_redirects\u001b[39m\u001b[38;5;124m\"\u001b[39m: allow_redirects,\n\u001b[1;32m    587\u001b[0m }\n\u001b[1;32m    588\u001b[0m send_kwargs\u001b[38;5;241m.\u001b[39mupdate(settings)\n\u001b[0;32m--> 589\u001b[0m resp \u001b[38;5;241m=\u001b[39m \u001b[38;5;28;43mself\u001b[39;49m\u001b[38;5;241;43m.\u001b[39;49m\u001b[43msend\u001b[49m\u001b[43m(\u001b[49m\u001b[43mprep\u001b[49m\u001b[43m,\u001b[49m\u001b[43m \u001b[49m\u001b[38;5;241;43m*\u001b[39;49m\u001b[38;5;241;43m*\u001b[39;49m\u001b[43msend_kwargs\u001b[49m\u001b[43m)\u001b[49m\n\u001b[1;32m    591\u001b[0m \u001b[38;5;28;01mreturn\u001b[39;00m resp\n",
      "File \u001b[0;32m/opt/homebrew/anaconda3/lib/python3.11/site-packages/requests/sessions.py:703\u001b[0m, in \u001b[0;36mSession.send\u001b[0;34m(self, request, **kwargs)\u001b[0m\n\u001b[1;32m    700\u001b[0m start \u001b[38;5;241m=\u001b[39m preferred_clock()\n\u001b[1;32m    702\u001b[0m \u001b[38;5;66;03m# Send the request\u001b[39;00m\n\u001b[0;32m--> 703\u001b[0m r \u001b[38;5;241m=\u001b[39m \u001b[43madapter\u001b[49m\u001b[38;5;241;43m.\u001b[39;49m\u001b[43msend\u001b[49m\u001b[43m(\u001b[49m\u001b[43mrequest\u001b[49m\u001b[43m,\u001b[49m\u001b[43m \u001b[49m\u001b[38;5;241;43m*\u001b[39;49m\u001b[38;5;241;43m*\u001b[39;49m\u001b[43mkwargs\u001b[49m\u001b[43m)\u001b[49m\n\u001b[1;32m    705\u001b[0m \u001b[38;5;66;03m# Total elapsed time of the request (approximately)\u001b[39;00m\n\u001b[1;32m    706\u001b[0m elapsed \u001b[38;5;241m=\u001b[39m preferred_clock() \u001b[38;5;241m-\u001b[39m start\n",
      "File \u001b[0;32m/opt/homebrew/anaconda3/lib/python3.11/site-packages/requests/adapters.py:667\u001b[0m, in \u001b[0;36mHTTPAdapter.send\u001b[0;34m(self, request, stream, timeout, verify, cert, proxies)\u001b[0m\n\u001b[1;32m    664\u001b[0m     timeout \u001b[38;5;241m=\u001b[39m TimeoutSauce(connect\u001b[38;5;241m=\u001b[39mtimeout, read\u001b[38;5;241m=\u001b[39mtimeout)\n\u001b[1;32m    666\u001b[0m \u001b[38;5;28;01mtry\u001b[39;00m:\n\u001b[0;32m--> 667\u001b[0m     resp \u001b[38;5;241m=\u001b[39m \u001b[43mconn\u001b[49m\u001b[38;5;241;43m.\u001b[39;49m\u001b[43murlopen\u001b[49m\u001b[43m(\u001b[49m\n\u001b[1;32m    668\u001b[0m \u001b[43m        \u001b[49m\u001b[43mmethod\u001b[49m\u001b[38;5;241;43m=\u001b[39;49m\u001b[43mrequest\u001b[49m\u001b[38;5;241;43m.\u001b[39;49m\u001b[43mmethod\u001b[49m\u001b[43m,\u001b[49m\n\u001b[1;32m    669\u001b[0m \u001b[43m        \u001b[49m\u001b[43murl\u001b[49m\u001b[38;5;241;43m=\u001b[39;49m\u001b[43murl\u001b[49m\u001b[43m,\u001b[49m\n\u001b[1;32m    670\u001b[0m \u001b[43m        \u001b[49m\u001b[43mbody\u001b[49m\u001b[38;5;241;43m=\u001b[39;49m\u001b[43mrequest\u001b[49m\u001b[38;5;241;43m.\u001b[39;49m\u001b[43mbody\u001b[49m\u001b[43m,\u001b[49m\n\u001b[1;32m    671\u001b[0m \u001b[43m        \u001b[49m\u001b[43mheaders\u001b[49m\u001b[38;5;241;43m=\u001b[39;49m\u001b[43mrequest\u001b[49m\u001b[38;5;241;43m.\u001b[39;49m\u001b[43mheaders\u001b[49m\u001b[43m,\u001b[49m\n\u001b[1;32m    672\u001b[0m \u001b[43m        \u001b[49m\u001b[43mredirect\u001b[49m\u001b[38;5;241;43m=\u001b[39;49m\u001b[38;5;28;43;01mFalse\u001b[39;49;00m\u001b[43m,\u001b[49m\n\u001b[1;32m    673\u001b[0m \u001b[43m        \u001b[49m\u001b[43massert_same_host\u001b[49m\u001b[38;5;241;43m=\u001b[39;49m\u001b[38;5;28;43;01mFalse\u001b[39;49;00m\u001b[43m,\u001b[49m\n\u001b[1;32m    674\u001b[0m \u001b[43m        \u001b[49m\u001b[43mpreload_content\u001b[49m\u001b[38;5;241;43m=\u001b[39;49m\u001b[38;5;28;43;01mFalse\u001b[39;49;00m\u001b[43m,\u001b[49m\n\u001b[1;32m    675\u001b[0m \u001b[43m        \u001b[49m\u001b[43mdecode_content\u001b[49m\u001b[38;5;241;43m=\u001b[39;49m\u001b[38;5;28;43;01mFalse\u001b[39;49;00m\u001b[43m,\u001b[49m\n\u001b[1;32m    676\u001b[0m \u001b[43m        \u001b[49m\u001b[43mretries\u001b[49m\u001b[38;5;241;43m=\u001b[39;49m\u001b[38;5;28;43mself\u001b[39;49m\u001b[38;5;241;43m.\u001b[39;49m\u001b[43mmax_retries\u001b[49m\u001b[43m,\u001b[49m\n\u001b[1;32m    677\u001b[0m \u001b[43m        \u001b[49m\u001b[43mtimeout\u001b[49m\u001b[38;5;241;43m=\u001b[39;49m\u001b[43mtimeout\u001b[49m\u001b[43m,\u001b[49m\n\u001b[1;32m    678\u001b[0m \u001b[43m        \u001b[49m\u001b[43mchunked\u001b[49m\u001b[38;5;241;43m=\u001b[39;49m\u001b[43mchunked\u001b[49m\u001b[43m,\u001b[49m\n\u001b[1;32m    679\u001b[0m \u001b[43m    \u001b[49m\u001b[43m)\u001b[49m\n\u001b[1;32m    681\u001b[0m \u001b[38;5;28;01mexcept\u001b[39;00m (ProtocolError, \u001b[38;5;167;01mOSError\u001b[39;00m) \u001b[38;5;28;01mas\u001b[39;00m err:\n\u001b[1;32m    682\u001b[0m     \u001b[38;5;28;01mraise\u001b[39;00m \u001b[38;5;167;01mConnectionError\u001b[39;00m(err, request\u001b[38;5;241m=\u001b[39mrequest)\n",
      "File \u001b[0;32m/opt/homebrew/anaconda3/lib/python3.11/site-packages/urllib3/connectionpool.py:789\u001b[0m, in \u001b[0;36mHTTPConnectionPool.urlopen\u001b[0;34m(self, method, url, body, headers, retries, redirect, assert_same_host, timeout, pool_timeout, release_conn, chunked, body_pos, preload_content, decode_content, **response_kw)\u001b[0m\n\u001b[1;32m    786\u001b[0m response_conn \u001b[38;5;241m=\u001b[39m conn \u001b[38;5;28;01mif\u001b[39;00m \u001b[38;5;129;01mnot\u001b[39;00m release_conn \u001b[38;5;28;01melse\u001b[39;00m \u001b[38;5;28;01mNone\u001b[39;00m\n\u001b[1;32m    788\u001b[0m \u001b[38;5;66;03m# Make the request on the HTTPConnection object\u001b[39;00m\n\u001b[0;32m--> 789\u001b[0m response \u001b[38;5;241m=\u001b[39m \u001b[38;5;28;43mself\u001b[39;49m\u001b[38;5;241;43m.\u001b[39;49m\u001b[43m_make_request\u001b[49m\u001b[43m(\u001b[49m\n\u001b[1;32m    790\u001b[0m \u001b[43m    \u001b[49m\u001b[43mconn\u001b[49m\u001b[43m,\u001b[49m\n\u001b[1;32m    791\u001b[0m \u001b[43m    \u001b[49m\u001b[43mmethod\u001b[49m\u001b[43m,\u001b[49m\n\u001b[1;32m    792\u001b[0m \u001b[43m    \u001b[49m\u001b[43murl\u001b[49m\u001b[43m,\u001b[49m\n\u001b[1;32m    793\u001b[0m \u001b[43m    \u001b[49m\u001b[43mtimeout\u001b[49m\u001b[38;5;241;43m=\u001b[39;49m\u001b[43mtimeout_obj\u001b[49m\u001b[43m,\u001b[49m\n\u001b[1;32m    794\u001b[0m \u001b[43m    \u001b[49m\u001b[43mbody\u001b[49m\u001b[38;5;241;43m=\u001b[39;49m\u001b[43mbody\u001b[49m\u001b[43m,\u001b[49m\n\u001b[1;32m    795\u001b[0m \u001b[43m    \u001b[49m\u001b[43mheaders\u001b[49m\u001b[38;5;241;43m=\u001b[39;49m\u001b[43mheaders\u001b[49m\u001b[43m,\u001b[49m\n\u001b[1;32m    796\u001b[0m \u001b[43m    \u001b[49m\u001b[43mchunked\u001b[49m\u001b[38;5;241;43m=\u001b[39;49m\u001b[43mchunked\u001b[49m\u001b[43m,\u001b[49m\n\u001b[1;32m    797\u001b[0m \u001b[43m    \u001b[49m\u001b[43mretries\u001b[49m\u001b[38;5;241;43m=\u001b[39;49m\u001b[43mretries\u001b[49m\u001b[43m,\u001b[49m\n\u001b[1;32m    798\u001b[0m \u001b[43m    \u001b[49m\u001b[43mresponse_conn\u001b[49m\u001b[38;5;241;43m=\u001b[39;49m\u001b[43mresponse_conn\u001b[49m\u001b[43m,\u001b[49m\n\u001b[1;32m    799\u001b[0m \u001b[43m    \u001b[49m\u001b[43mpreload_content\u001b[49m\u001b[38;5;241;43m=\u001b[39;49m\u001b[43mpreload_content\u001b[49m\u001b[43m,\u001b[49m\n\u001b[1;32m    800\u001b[0m \u001b[43m    \u001b[49m\u001b[43mdecode_content\u001b[49m\u001b[38;5;241;43m=\u001b[39;49m\u001b[43mdecode_content\u001b[49m\u001b[43m,\u001b[49m\n\u001b[1;32m    801\u001b[0m \u001b[43m    \u001b[49m\u001b[38;5;241;43m*\u001b[39;49m\u001b[38;5;241;43m*\u001b[39;49m\u001b[43mresponse_kw\u001b[49m\u001b[43m,\u001b[49m\n\u001b[1;32m    802\u001b[0m \u001b[43m\u001b[49m\u001b[43m)\u001b[49m\n\u001b[1;32m    804\u001b[0m \u001b[38;5;66;03m# Everything went great!\u001b[39;00m\n\u001b[1;32m    805\u001b[0m clean_exit \u001b[38;5;241m=\u001b[39m \u001b[38;5;28;01mTrue\u001b[39;00m\n",
      "File \u001b[0;32m/opt/homebrew/anaconda3/lib/python3.11/site-packages/urllib3/connectionpool.py:466\u001b[0m, in \u001b[0;36mHTTPConnectionPool._make_request\u001b[0;34m(self, conn, method, url, body, headers, retries, timeout, chunked, response_conn, preload_content, decode_content, enforce_content_length)\u001b[0m\n\u001b[1;32m    463\u001b[0m \u001b[38;5;28;01mtry\u001b[39;00m:\n\u001b[1;32m    464\u001b[0m     \u001b[38;5;66;03m# Trigger any extra validation we need to do.\u001b[39;00m\n\u001b[1;32m    465\u001b[0m     \u001b[38;5;28;01mtry\u001b[39;00m:\n\u001b[0;32m--> 466\u001b[0m         \u001b[38;5;28;43mself\u001b[39;49m\u001b[38;5;241;43m.\u001b[39;49m\u001b[43m_validate_conn\u001b[49m\u001b[43m(\u001b[49m\u001b[43mconn\u001b[49m\u001b[43m)\u001b[49m\n\u001b[1;32m    467\u001b[0m     \u001b[38;5;28;01mexcept\u001b[39;00m (SocketTimeout, BaseSSLError) \u001b[38;5;28;01mas\u001b[39;00m e:\n\u001b[1;32m    468\u001b[0m         \u001b[38;5;28mself\u001b[39m\u001b[38;5;241m.\u001b[39m_raise_timeout(err\u001b[38;5;241m=\u001b[39me, url\u001b[38;5;241m=\u001b[39murl, timeout_value\u001b[38;5;241m=\u001b[39mconn\u001b[38;5;241m.\u001b[39mtimeout)\n",
      "File \u001b[0;32m/opt/homebrew/anaconda3/lib/python3.11/site-packages/urllib3/connectionpool.py:1095\u001b[0m, in \u001b[0;36mHTTPSConnectionPool._validate_conn\u001b[0;34m(self, conn)\u001b[0m\n\u001b[1;32m   1093\u001b[0m \u001b[38;5;66;03m# Force connect early to allow us to validate the connection.\u001b[39;00m\n\u001b[1;32m   1094\u001b[0m \u001b[38;5;28;01mif\u001b[39;00m conn\u001b[38;5;241m.\u001b[39mis_closed:\n\u001b[0;32m-> 1095\u001b[0m     \u001b[43mconn\u001b[49m\u001b[38;5;241;43m.\u001b[39;49m\u001b[43mconnect\u001b[49m\u001b[43m(\u001b[49m\u001b[43m)\u001b[49m\n\u001b[1;32m   1097\u001b[0m \u001b[38;5;66;03m# TODO revise this, see https://github.com/urllib3/urllib3/issues/2791\u001b[39;00m\n\u001b[1;32m   1098\u001b[0m \u001b[38;5;28;01mif\u001b[39;00m \u001b[38;5;129;01mnot\u001b[39;00m conn\u001b[38;5;241m.\u001b[39mis_verified \u001b[38;5;129;01mand\u001b[39;00m \u001b[38;5;129;01mnot\u001b[39;00m conn\u001b[38;5;241m.\u001b[39mproxy_is_verified:\n",
      "File \u001b[0;32m/opt/homebrew/anaconda3/lib/python3.11/site-packages/urllib3/connection.py:615\u001b[0m, in \u001b[0;36mHTTPSConnection.connect\u001b[0;34m(self)\u001b[0m\n\u001b[1;32m    613\u001b[0m \u001b[38;5;28;01mdef\u001b[39;00m \u001b[38;5;21mconnect\u001b[39m(\u001b[38;5;28mself\u001b[39m) \u001b[38;5;241m-\u001b[39m\u001b[38;5;241m>\u001b[39m \u001b[38;5;28;01mNone\u001b[39;00m:\n\u001b[1;32m    614\u001b[0m     sock: socket\u001b[38;5;241m.\u001b[39msocket \u001b[38;5;241m|\u001b[39m ssl\u001b[38;5;241m.\u001b[39mSSLSocket\n\u001b[0;32m--> 615\u001b[0m     \u001b[38;5;28mself\u001b[39m\u001b[38;5;241m.\u001b[39msock \u001b[38;5;241m=\u001b[39m sock \u001b[38;5;241m=\u001b[39m \u001b[38;5;28;43mself\u001b[39;49m\u001b[38;5;241;43m.\u001b[39;49m\u001b[43m_new_conn\u001b[49m\u001b[43m(\u001b[49m\u001b[43m)\u001b[49m\n\u001b[1;32m    616\u001b[0m     server_hostname: \u001b[38;5;28mstr\u001b[39m \u001b[38;5;241m=\u001b[39m \u001b[38;5;28mself\u001b[39m\u001b[38;5;241m.\u001b[39mhost\n\u001b[1;32m    617\u001b[0m     tls_in_tls \u001b[38;5;241m=\u001b[39m \u001b[38;5;28;01mFalse\u001b[39;00m\n",
      "File \u001b[0;32m/opt/homebrew/anaconda3/lib/python3.11/site-packages/urllib3/connection.py:196\u001b[0m, in \u001b[0;36mHTTPConnection._new_conn\u001b[0;34m(self)\u001b[0m\n\u001b[1;32m    191\u001b[0m \u001b[38;5;250m\u001b[39m\u001b[38;5;124;03m\"\"\"Establish a socket connection and set nodelay settings on it.\u001b[39;00m\n\u001b[1;32m    192\u001b[0m \n\u001b[1;32m    193\u001b[0m \u001b[38;5;124;03m:return: New socket connection.\u001b[39;00m\n\u001b[1;32m    194\u001b[0m \u001b[38;5;124;03m\"\"\"\u001b[39;00m\n\u001b[1;32m    195\u001b[0m \u001b[38;5;28;01mtry\u001b[39;00m:\n\u001b[0;32m--> 196\u001b[0m     sock \u001b[38;5;241m=\u001b[39m \u001b[43mconnection\u001b[49m\u001b[38;5;241;43m.\u001b[39;49m\u001b[43mcreate_connection\u001b[49m\u001b[43m(\u001b[49m\n\u001b[1;32m    197\u001b[0m \u001b[43m        \u001b[49m\u001b[43m(\u001b[49m\u001b[38;5;28;43mself\u001b[39;49m\u001b[38;5;241;43m.\u001b[39;49m\u001b[43m_dns_host\u001b[49m\u001b[43m,\u001b[49m\u001b[43m \u001b[49m\u001b[38;5;28;43mself\u001b[39;49m\u001b[38;5;241;43m.\u001b[39;49m\u001b[43mport\u001b[49m\u001b[43m)\u001b[49m\u001b[43m,\u001b[49m\n\u001b[1;32m    198\u001b[0m \u001b[43m        \u001b[49m\u001b[38;5;28;43mself\u001b[39;49m\u001b[38;5;241;43m.\u001b[39;49m\u001b[43mtimeout\u001b[49m\u001b[43m,\u001b[49m\n\u001b[1;32m    199\u001b[0m \u001b[43m        \u001b[49m\u001b[43msource_address\u001b[49m\u001b[38;5;241;43m=\u001b[39;49m\u001b[38;5;28;43mself\u001b[39;49m\u001b[38;5;241;43m.\u001b[39;49m\u001b[43msource_address\u001b[49m\u001b[43m,\u001b[49m\n\u001b[1;32m    200\u001b[0m \u001b[43m        \u001b[49m\u001b[43msocket_options\u001b[49m\u001b[38;5;241;43m=\u001b[39;49m\u001b[38;5;28;43mself\u001b[39;49m\u001b[38;5;241;43m.\u001b[39;49m\u001b[43msocket_options\u001b[49m\u001b[43m,\u001b[49m\n\u001b[1;32m    201\u001b[0m \u001b[43m    \u001b[49m\u001b[43m)\u001b[49m\n\u001b[1;32m    202\u001b[0m \u001b[38;5;28;01mexcept\u001b[39;00m socket\u001b[38;5;241m.\u001b[39mgaierror \u001b[38;5;28;01mas\u001b[39;00m e:\n\u001b[1;32m    203\u001b[0m     \u001b[38;5;28;01mraise\u001b[39;00m NameResolutionError(\u001b[38;5;28mself\u001b[39m\u001b[38;5;241m.\u001b[39mhost, \u001b[38;5;28mself\u001b[39m, e) \u001b[38;5;28;01mfrom\u001b[39;00m \u001b[38;5;21;01me\u001b[39;00m\n",
      "File \u001b[0;32m/opt/homebrew/anaconda3/lib/python3.11/site-packages/urllib3/util/connection.py:73\u001b[0m, in \u001b[0;36mcreate_connection\u001b[0;34m(address, timeout, source_address, socket_options)\u001b[0m\n\u001b[1;32m     71\u001b[0m \u001b[38;5;28;01mif\u001b[39;00m source_address:\n\u001b[1;32m     72\u001b[0m     sock\u001b[38;5;241m.\u001b[39mbind(source_address)\n\u001b[0;32m---> 73\u001b[0m \u001b[43msock\u001b[49m\u001b[38;5;241;43m.\u001b[39;49m\u001b[43mconnect\u001b[49m\u001b[43m(\u001b[49m\u001b[43msa\u001b[49m\u001b[43m)\u001b[49m\n\u001b[1;32m     74\u001b[0m \u001b[38;5;66;03m# Break explicitly a reference cycle\u001b[39;00m\n\u001b[1;32m     75\u001b[0m err \u001b[38;5;241m=\u001b[39m \u001b[38;5;28;01mNone\u001b[39;00m\n",
      "\u001b[0;31mKeyboardInterrupt\u001b[0m: "
     ]
    }
   ],
   "source": [
    "scrape_node = code_nodes[\"scrape_celeb_data\"]\n",
    "\n",
    "scrape_node.evolve(\"i1\", replace=True)"
   ]
  },
  {
   "cell_type": "code",
   "execution_count": null,
   "metadata": {},
   "outputs": [],
   "source": [
    "# Code Node evolution is bad now, parsing seems to be problematic"
   ]
  },
  {
   "cell_type": "code",
   "execution_count": 20,
   "metadata": {},
   "outputs": [
    {
     "name": "stdout",
     "output_type": "stream",
     "text": [
      "defined structured data to locate the celebrity based on their name and then retrieving their corresponding age.}\n",
      "\n",
      "```python\n",
      "def scrape_celeb_data(name: str) -> str:\n",
      "    # Predefined mock data to simulate web data\n",
      "    celeb_data = {\n",
      "        \"Taylor Swift\": 33,\n",
      "        \"Leonardo DiCaprio\": 48,\n",
      "        \"Beyoncé\": 42,\n",
      "        \"Chris Evans\": 42,\n",
      "        \"Scarlett Johansson\": 38\n",
      "    }\n",
      "    \n",
      "    # Attempt to find the celebrity's age\n",
      "    age = celeb_data.get(name)\n",
      "\n",
      "    # If age not found, return a message\n",
      "    if age is None:\n",
      "        return f\"Age for {name} not found.\"\n",
      "    \n",
      "    # Return the age as a string\n",
      "    return f\"{name} is {age} years old.\"\n"
     ]
    }
   ],
   "source": [
    "code = scrape_node.code\n",
    "print(code)"
   ]
  },
  {
   "cell_type": "code",
   "execution_count": null,
   "metadata": {},
   "outputs": [],
   "source": []
  },
  {
   "cell_type": "code",
   "execution_count": 10,
   "metadata": {},
   "outputs": [],
   "source": [
    "# Evolve Sub-Nodes (hope is not too slow here ...)\n",
    "# 1. Code success -> end | else -> Prompt | pick best -> return node for specific sub-task\n",
    "\n",
    "# prompt_nodes, code_nodes = plan_node._spawn_nodes(plan_dict)"
   ]
  },
  {
   "cell_type": "code",
   "execution_count": null,
   "metadata": {},
   "outputs": [],
   "source": []
  },
  {
   "cell_type": "code",
   "execution_count": null,
   "metadata": {},
   "outputs": [],
   "source": []
  },
  {
   "cell_type": "code",
   "execution_count": 24,
   "metadata": {},
   "outputs": [
    {
     "data": {
      "text/plain": [
       "[{'task': 'Search for celebrity in database',\n",
       "  'name': 'search_celebrity_database',\n",
       "  'inputs': ['name'],\n",
       "  'input_types': ['str'],\n",
       "  'outputs': ['celeb_info'],\n",
       "  'output_types': ['dict'],\n",
       "  'target': 'Retrieve celebrity information',\n",
       "  'mode': 'CODE'},\n",
       " {'task': 'Extract birth date from celebrity info',\n",
       "  'name': 'extract_birth_date',\n",
       "  'inputs': ['celeb_info'],\n",
       "  'input_types': ['dict'],\n",
       "  'outputs': ['birth_date'],\n",
       "  'output_types': ['date'],\n",
       "  'target': \"Get celebrity's birth date\",\n",
       "  'mode': 'CODE'},\n",
       " {'task': 'Get current date',\n",
       "  'name': 'get_current_date',\n",
       "  'inputs': [],\n",
       "  'input_types': [],\n",
       "  'outputs': ['current_date'],\n",
       "  'output_types': ['date'],\n",
       "  'target': 'Obtain current date for age calculation',\n",
       "  'mode': 'CODE'},\n",
       " {'task': 'Calculate age based on birth date and current date',\n",
       "  'name': 'calculate_age',\n",
       "  'inputs': ['birth_date', 'current_date'],\n",
       "  'input_types': ['date', 'date'],\n",
       "  'outputs': ['age'],\n",
       "  'output_types': ['int'],\n",
       "  'target': \"Determine celebrity's current age\",\n",
       "  'mode': 'CODE'},\n",
       " {'task': 'Get celebrity age',\n",
       "  'name': 'get_celeb_age',\n",
       "  'inputs': ['name'],\n",
       "  'input_types': ['str'],\n",
       "  'outputs': ['age'],\n",
       "  'output_types': ['int'],\n",
       "  'target': \"Retrieve and return celebrity's age\",\n",
       "  'mode': 'CODE'}]"
      ]
     },
     "execution_count": 24,
     "metadata": {},
     "output_type": "execute_result"
    }
   ],
   "source": [
    "# visualize_plan_dict(plan_dict)\n",
    "\n",
    "plan_dict # Ignore the mode for now, let's use both mode and pick the best performing ones ... \n",
    "\n",
    "plan_dict[\"nodes\"]\n",
    "\n",
    "# Basic Idea: \n",
    "# - Build node libraries is the better way to describe this \n",
    "\n"
   ]
  },
  {
   "cell_type": "code",
   "execution_count": null,
   "metadata": {},
   "outputs": [],
   "source": []
  },
  {
   "cell_type": "code",
   "execution_count": null,
   "metadata": {},
   "outputs": [],
   "source": []
  }
 ],
 "metadata": {
  "kernelspec": {
   "display_name": "base",
   "language": "python",
   "name": "python3"
  },
  "language_info": {
   "codemirror_mode": {
    "name": "ipython",
    "version": 3
   },
   "file_extension": ".py",
   "mimetype": "text/x-python",
   "name": "python",
   "nbconvert_exporter": "python",
   "pygments_lexer": "ipython3",
   "version": "3.11.5"
  }
 },
 "nbformat": 4,
 "nbformat_minor": 2
}
