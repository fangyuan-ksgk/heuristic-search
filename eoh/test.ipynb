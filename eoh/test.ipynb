{
 "cells": [
  {
   "cell_type": "markdown",
   "metadata": {},
   "source": [
    "</div>\n",
    "<div align=\"center\">\n",
    "  <img src=\"img/evolnode.png\" width=\"800\" alt=\"Fourier reconstruction convergence\">\n",
    "  <p><em> Evolution Node free you from coding and debugging, let LLM evolve your code for you.</em></p>\n",
    "</div>\n",
    "<div align=\"left\">\n",
    "<p><em>Bored of manual coding, a function? EvolNode let LLM automate function design and guide the evolution of it with genetic algorithm. A node here takes a task, input, and output, it uses either code or another LLM to complete the task, ensuring aligned input and output value types and ,.names.Fitness evaluation is done by running the function with a few specified test cases, the more diverse the test case, the better the evolution.\n",
    "</em></p>\n",
    "</div>"
   ]
  },
  {
   "cell_type": "code",
   "execution_count": 1,
   "metadata": {},
   "outputs": [
    {
     "name": "stdout",
     "output_type": "stream",
     "text": [
      "Could not load vllm class, check CUDA support and GPU RAM size\n"
     ]
    }
   ],
   "source": [
    "from methods.meta_prompt import MetaPrompt, PromptMode\n",
    "from methods.eoh_evolution import EvolNode\n",
    "\n",
    "\n",
    "# Code + Compilor Task\n",
    "# mp = MetaPrompt(\"Generate Fibonacci sequence.\", \"fibonacci\", [\"n\"], [\"sequence\"], [\"int\"], [\"list\"], PromptMode.CODE) # \n",
    "# node = EvolNode(mp, None, None)\n",
    "# input_dict = {\"n\": 10}\n",
    "# reasoning, code = node.evolve([input_dict], \"i1\", replace=True) # Evolution with guaranteed structural fitness\n",
    "# node(input_dict) # Ok we need a output dictionary here as well ...\n",
    "\n",
    "\n",
    "# Prompt + LLM Task\n",
    "mp = MetaPrompt(\"Get the age of a celebrity.\", \"get_celeb_age\", [\"name\"], [\"age\"], [\"str\"], [\"int\"], PromptMode.PROMPT) # \n",
    "node = EvolNode(mp, None, None)\n",
    "input_dict = {\"name\": \"Dilireba\"}\n",
    "reasoning, code = node.evolve([input_dict], \"i1\", replace=True) # evolution node assume access to 'test_cases', evalnode should contain those\n",
    "output_dict = node(input_dict) # LLM-is stochastic, so chances of mal-functioning here ... (Aim to resolve with massive inference)"
   ]
  },
  {
   "cell_type": "code",
   "execution_count": 4,
   "metadata": {},
   "outputs": [
    {
     "name": "stdout",
     "output_type": "stream",
     "text": [
      "Task: Get the age of a celebrity.\n",
      "\n",
      "For the Python function 'get_celeb_age', generate 5 diverse (input, output) pairs for evaluation. These pairs should cover different scenarios, including edge cases.\n",
      "\n",
      "Function signature:\n",
      "def get_celeb_age(name: str) -> ['int']:\n",
      "\n",
      "Provide your response as a Python list of dictionaries. Each dictionary should have 'input' and 'expected_output' keys. Ensure that the types match the function signature.\n",
      "\n",
      "Example format:\n",
      "```json\n",
      "[\n",
      "    {\n",
      "        'input': {'name': str(...)},\n",
      "        'expected_output': {'age': int(...)}\n",
      "    },\n",
      "    ...\n",
      "]\n",
      "```\n",
      "Provide 5 such pairs, ensuring type correctness and diversity in the inputs and outputs.\n"
     ]
    }
   ],
   "source": [
    "eval_prompt = mp._get_eval_prompt()\n",
    "print(eval_prompt)"
   ]
  },
  {
   "cell_type": "code",
   "execution_count": 5,
   "metadata": {},
   "outputs": [
    {
     "name": "stdout",
     "output_type": "stream",
     "text": [
      "Task: Get the age of a celebrity.\n",
      "\n",
      "For the Python function 'get_celeb_age', generate 5 diverse (input, output) pairs for evaluation. These pairs should cover different scenarios, including edge cases.\n",
      "\n",
      "Function signature:\n",
      "def get_celeb_age(name: str) -> ['int']:\n",
      "\n",
      "Provide your response as a Python list of dictionaries. Each dictionary should have 'input' and 'expected_output' keys. Ensure that the types match the function signature.\n",
      "\n",
      "Example format:\n",
      "```json\n",
      "[\n",
      "    {\n",
      "        'input': {'name': str(...)},\n",
      "        'expected_output': {'age': int(...)}\n",
      "    },\n",
      "    ...\n",
      "]\n",
      "```\n",
      "Provide 5 such pairs, ensuring type correctness and diversity in the inputs and outputs.\n",
      "```json\n",
      "[\n",
      "    {\n",
      "        'input': {'name': 'Taylor Swift'},\n",
      "        'expected_output': {'age': 33}\n",
      "    },\n",
      "    {\n",
      "        'input': {'name': 'Morgan Freeman'},\n",
      "        'expected_output': {'age': 86}\n",
      "    },\n",
      "    {\n",
      "        'input': {'name': 'Betty White'},  # Edge case for deceased celebrity\n",
      "        'expected_output': {'age': None}  # Assuming the function returns None for deceased\n",
      "    },\n",
      "    {\n",
      "        'input': {'name': 'Millie Bobby Brown'},  # Young celebrity\n",
      "        'expected_output': {'age': 19}\n",
      "    },\n",
      "    {\n",
      "        'input': {'name': 'Elon Musk'},\n",
      "        'expected_output': {'age': 52}\n",
      "    }\n",
      "]\n",
      "```\n",
      "\n",
      "### Notes for Consideration\n",
      "- The ages given are based on the assumption of them being correct as of the current year 2023.\n",
      "- An edge case is included for Betty White, who has passed away, with the assumption that the function might return `None` for deceased individuals. Depending on the function's actual implementation, this could vary. Different handling might be required if handling deceased celebrities by providing age at death or an explicit error message.\n",
      "- If the function uses real-time data, these ages will need to be updated to match current ages.\n"
     ]
    }
   ],
   "source": [
    "# Evaluation Node for each EvolNode \n",
    "eval_prompt = mp._get_eval_prompt()\n",
    "print(eval_prompt)\n",
    "\n",
    "from methods.llm import get_openai_response\n",
    "response = get_openai_response(eval_prompt)\n",
    "print(response)\n"
   ]
  },
  {
   "cell_type": "code",
   "execution_count": null,
   "metadata": {},
   "outputs": [],
   "source": []
  },
  {
   "cell_type": "markdown",
   "metadata": {},
   "source": [
    "\n",
    "</div>\n",
    "<div align=\"center\">\n",
    "  <img src=\"https://github.com/user-attachments/assets/af98faeb-66d6-4278-af86-67d668d1954e\" width=\"1000\" alt=\"Fourier reconstruction convergence\">\n",
    "  <p><em> But how do we know what are the tasks suitable for our goal? Design of tasks topology is the fundation of planning, let's ask LLM for help on this, too! Evolution Graph autuomate planning by imagning topology of tasks which works best for your goal.</em></p>\n",
    "</div>\n"
   ]
  },
  {
   "cell_type": "code",
   "execution_count": 1,
   "metadata": {},
   "outputs": [
    {
     "name": "stdout",
     "output_type": "stream",
     "text": [
      "Could not load vllm class, check CUDA support and GPU RAM size\n"
     ]
    }
   ],
   "source": [
    "from methods.meta_prompt import MetaPlan, extract_json_from_text\n",
    "from methods.llm import get_openai_response\n",
    "from methods.diagram import visualize_plan_dict\n",
    "\n",
    "# Breaking Down EvolGraph.generate() function components here \n",
    "\n",
    "# Step 1: Generate Plan Dict\n",
    "mp = MetaPlan(\"Help me date Dilireba, I'm a white colar worker living on salary.\")\n",
    "prompt = mp._get_prompt_i1()\n",
    "response = get_openai_response(prompt)\n",
    "plan_dict = extract_json_from_text(response)\n",
    "# visualize_plan_dict(plan_dict)"
   ]
  },
  {
   "cell_type": "markdown",
   "metadata": {},
   "source": [
    "Evaluation Node is critical here"
   ]
  },
  {
   "cell_type": "code",
   "execution_count": 2,
   "metadata": {},
   "outputs": [],
   "source": [
    "# Eval Node \n",
    "get_response = get_openai_response \n",
    "\n",
    "\n",
    "prompt_content = mp._get_eval_prompt_i1()\n",
    "response = get_response(prompt_content)\n",
    "eval_dict = extract_json_from_text(response)\n",
    "\n",
    "\n",
    "# eval_prompt = MetaPrompt(\n",
    "#     task=node.get(\"task\"),\n",
    "#     func_name=node.get(\"name\"),\n",
    "#     inputs=node.get(\"input\"),\n",
    "#     outputs=node.get(\"output\"),\n",
    "#     mode=node.get(\"mode\").lower()\n",
    "# )\n",
    "# eval_node = EvolNode(meta_prompt=eval_prompt)"
   ]
  },
  {
   "cell_type": "code",
   "execution_count": 3,
   "metadata": {},
   "outputs": [
    {
     "name": "stdout",
     "output_type": "stream",
     "text": [
      "Goal: Evaluating wether the goal Help me date Dilireba, I'm a white colar worker living on salary. has been achieved.\n",
      "First, describe the intuition for your tactics and main steps in one sentence. The description must be inside a brace.\n",
      "Generate a JSON response describing a task to evaluate whehter the goal is completed.\n",
      "\n",
      "**Output Format:**\n",
      "\n",
      "Provide the output in the following JSON structure:\n",
      "```json\n",
      "{\n",
      "    \"task\": \"Evaluate Task\",\n",
      "    \"name\": \"eval_goal\",\n",
      "    \"input\": \"Inputs required for evaluation\",\n",
      "    \"output\": \"Outputs required for evaluation\",\n",
      "    \"target\": \"Purpose of the evaluation\",\n",
      "    \"mode: \"CODE\"\n",
      "}\n",
      "\n"
     ]
    }
   ],
   "source": [
    "print(prompt_content)"
   ]
  },
  {
   "cell_type": "code",
   "execution_count": null,
   "metadata": {},
   "outputs": [],
   "source": [
    "nodes = {}\n",
    "for node in plan_dict[\"nodes\"]:\n",
    "    node_prompt = MetaPrompt(\n",
    "        task=node.get(\"task\"),\n",
    "        func_name=node.get(\"name\"),\n",
    "        inputs=node.get(\"inputs\"),\n",
    "        outputs=node.get(\"outputs\"),\n",
    "        input_types=node.get(\"input_types\"),\n",
    "        output_types=node.get(\"output_types\"),\n",
    "        mode=node.get(\"mode\").lower()\n",
    "    )\n",
    "    nodes[node.get(\"name\")] = EvolNode(meta_prompt=node_prompt)\n",
    "\n",
    "edges = plan_dict[\"edges\"]"
   ]
  },
  {
   "cell_type": "code",
   "execution_count": 4,
   "metadata": {},
   "outputs": [],
   "source": [
    "from methods.eoh_evolution import EvolGraph\n",
    "\n",
    "eg = EvolGraph.read_from_dict(plan_dict)\n",
    "# eg.evolve()"
   ]
  },
  {
   "cell_type": "code",
   "execution_count": 7,
   "metadata": {},
   "outputs": [
    {
     "ename": "TypeError",
     "evalue": "EvolGraph.generate() missing 1 required positional argument: 'goal'",
     "output_type": "error",
     "traceback": [
      "\u001b[0;31m---------------------------------------------------------------------------\u001b[0m",
      "\u001b[0;31mTypeError\u001b[0m                                 Traceback (most recent call last)",
      "Cell \u001b[0;32mIn[7], line 1\u001b[0m\n\u001b[0;32m----> 1\u001b[0m \u001b[43meg\u001b[49m\u001b[38;5;241;43m.\u001b[39;49m\u001b[43mgenerate\u001b[49m\u001b[43m(\u001b[49m\u001b[43m)\u001b[49m\n",
      "\u001b[0;31mTypeError\u001b[0m: EvolGraph.generate() missing 1 required positional argument: 'goal'"
     ]
    }
   ],
   "source": [
    "eg.generate()"
   ]
  },
  {
   "cell_type": "code",
   "execution_count": null,
   "metadata": {},
   "outputs": [],
   "source": []
  }
 ],
 "metadata": {
  "kernelspec": {
   "display_name": "base",
   "language": "python",
   "name": "python3"
  },
  "language_info": {
   "codemirror_mode": {
    "name": "ipython",
    "version": 3
   },
   "file_extension": ".py",
   "mimetype": "text/x-python",
   "name": "python",
   "nbconvert_exporter": "python",
   "pygments_lexer": "ipython3",
   "version": "3.11.5"
  }
 },
 "nbformat": 4,
 "nbformat_minor": 2
}
