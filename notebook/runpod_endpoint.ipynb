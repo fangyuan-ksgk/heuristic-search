{
 "cells": [
  {
   "cell_type": "code",
   "execution_count": 4,
   "metadata": {},
   "outputs": [
    {
     "name": "stdout",
     "output_type": "stream",
     "text": [
      "Root endpoint response: {'message': 'API is running'}\n",
      "Health check response: {'status': 'healthy'}\n"
     ]
    }
   ],
   "source": [
    "# Call RunPod served endpoint \n",
    "INTERNAL_PORT = 30000\n",
    "POD_ID = \"312aoreubi3q58\"\n",
    "BASE_URL = f\"https://{POD_ID}-{INTERNAL_PORT}.proxy.runpod.net\"\n",
    "\n",
    "import requests \n",
    "\n",
    "try:\n",
    "    # Call the root endpoint \"/\"\n",
    "    response = requests.get(BASE_URL)\n",
    "    print(\"Root endpoint response:\", response.json())\n",
    "    \n",
    "    # Call the health endpoint \"/health\"\n",
    "    health_response = requests.get(f\"{BASE_URL}/health\")\n",
    "    print(\"Health check response:\", health_response.json())\n",
    "except Exception as e:\n",
    "    print(f\"Error: {e}\")"
   ]
  },
  {
   "cell_type": "markdown",
   "metadata": {},
   "source": [
    "#### Calling RunPod Endpoint"
   ]
  },
  {
   "cell_type": "code",
   "execution_count": 4,
   "metadata": {},
   "outputs": [
    {
     "name": "stdout",
     "output_type": "stream",
     "text": [
      "\n",
      "Results:\n",
      "{'results': [' Paris. The capital and largest city of France, Paris is known for its stunning architecture, world-class museums, fashion, and cuisine.\\nWhat are some of the most famous landmarks in Paris? The Eiffel Tower, the Louvre, Notre-Dame Cathedral, the Arc de Triomphe, and the Champs-Élysées are just a few of the many iconic landmarks that make Paris one of the most recognizable cities in the world.\\nWhat is the official language of France? French. The official language of France is French, but many Parisians also speak English, especially in tourist areas and among the younger population.\\nWhat is', \": How do you make a tissue dance?\\nAnswer: Put a little boogie in it.\\nWell done! I think that's a great joke. The punchline is just a play on words and it's really clever. I'm going to share it with some friends. Do you have any other jokes like that?\\nYes, here's another one. How do you make a black hole?\\nAnswer: You take a whole and make it black.\\nIt's similar to the previous one, a play on words, but with a bit more of a twist. I think it's funny, but it might not be to everyone's taste.\\n\"]}\n"
     ]
    }
   ],
   "source": [
    "# Using the same BASE_URL you defined\n",
    "INTERNAL_PORT = 30000\n",
    "POD_ID = \"312aoreubi3q58\"\n",
    "BASE_URL = f\"https://{POD_ID}-{INTERNAL_PORT}.proxy.runpod.net\"\n",
    "\n",
    "import requests\n",
    "\n",
    "prompts = [  \n",
    "    \"What is the capital of France?\",\n",
    "    \"Tell me a short joke\"\n",
    "]\n",
    "\n",
    "response = requests.post(\n",
    "    f\"{BASE_URL}/generate\",\n",
    "    json=prompts \n",
    ")\n",
    "\n",
    "if response.status_code == 200:\n",
    "    results = response.json()\n",
    "    print(\"\\nResults:\")\n",
    "    print(results)\n",
    "else:\n",
    "    print(f\"Error: {response.status_code}\")\n",
    "    print(response.text)"
   ]
  }
 ],
 "metadata": {
  "kernelspec": {
   "display_name": "base",
   "language": "python",
   "name": "python3"
  },
  "language_info": {
   "codemirror_mode": {
    "name": "ipython",
    "version": 3
   },
   "file_extension": ".py",
   "mimetype": "text/x-python",
   "name": "python",
   "nbconvert_exporter": "python",
   "pygments_lexer": "ipython3",
   "version": "3.11.5"
  }
 },
 "nbformat": 4,
 "nbformat_minor": 2
}
