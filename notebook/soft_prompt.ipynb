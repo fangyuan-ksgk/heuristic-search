{
 "cells": [
  {
   "cell_type": "code",
   "execution_count": 1,
   "metadata": {},
   "outputs": [],
   "source": [
    "# Soft Prompt Tuning :: Debug \n",
    "\n",
    "from optm.soft_prompt import *\n",
    "\n",
    "model, tokenizer = load_hf_model_precise(\"Qwen/Qwen2.5-0.5B-Instruct\") # load model & tokenizer\n",
    "\n",
    "tf_dataset = ClsCommentDataset(load_tf_data, tokenizer, train=True)\n",
    "\n",
    "# initializing soft-prompt model \n",
    "model_with_soft_prompt = SoftPromptLLM(model, tokenizer, 3, initialize_from_vocab=True)\n",
    "\n",
    "# Usage\n",
    "num_epochs = 5\n",
    "learning_rate = 1e-3\n",
    "train_dataloader = DataLoader(tf_dataset, batch_size=24, shuffle=True)"
   ]
  },
  {
   "cell_type": "code",
   "execution_count": 9,
   "metadata": {},
   "outputs": [],
   "source": [
    "# prepare test data \n",
    "# testset = ClsCommentDataset(load_tf_data, tokenizer, train=False)\n",
    "\n",
    "def test_model(model_with_soft_prompt, tokenizer, test_data, batch_size=24):\n",
    "\n",
    "    batch_size = 24 \n",
    "\n",
    "    data_len = len(test_data[\"prompt\"])\n",
    "\n",
    "    scores = []\n",
    "\n",
    "    from tqdm import tqdm\n",
    "    # add progress bar \n",
    "    for i in tqdm(range(0, data_len, batch_size), desc=\"Testing model\"):\n",
    "        prompts = test_data[\"prompt\"][i:i+batch_size]\n",
    "        labels = test_data[\"label\"][i:i+batch_size]\n",
    "        comments = test_data[\"comment\"][i:i+batch_size]\n",
    "        \n",
    "        query_prompts = []\n",
    "        for prompt, comment, label in zip(prompts, comments, labels):\n",
    "            query_prompt, response_prompt = format_prompt_instruction_tuned(prompt, comment, label, tokenizer, previous_messages = [])\n",
    "            query_prompts.append(query_prompt)\n",
    "            \n",
    "        generated_responses = model_with_soft_prompt.generate(query_prompts)\n",
    "        \n",
    "        for response, label in zip(generated_responses, labels):\n",
    "            score = label_metric(response, label)\n",
    "            scores.append(score)\n",
    "\n",
    "    avg_score = sum(scores) / len(scores)\n",
    "    print(f\"Average score: {avg_score}\")\n",
    "    \n",
    "    return avg_score"
   ]
  },
  {
   "cell_type": "code",
   "execution_count": 5,
   "metadata": {},
   "outputs": [],
   "source": [
    "# model_with_soft_prompt.generate(\"hello\")"
   ]
  },
  {
   "cell_type": "code",
   "execution_count": null,
   "metadata": {},
   "outputs": [],
   "source": [
    "trained_model = train_soft_prompt(\n",
    "    model_with_soft_prompt,\n",
    "    train_dataloader,\n",
    "    num_epochs=num_epochs,\n",
    "    learning_rate=learning_rate,\n",
    "    accumulation_steps=4\n",
    ")"
   ]
  },
  {
   "cell_type": "code",
   "execution_count": 5,
   "metadata": {},
   "outputs": [],
   "source": [
    "# Test model performance after training\n",
    "from optm.soft_prompt import *\n",
    "\n",
    "train_data, test_data = load_tf_data()\n",
    "\n",
    "idx = 0 \n",
    "# training data not properly formatted here\n",
    "prompt, response = format_prompt_instruction_tuned(test_data[\"prompt\"][idx], test_data[\"comment\"][idx], test_data[\"label\"][idx], tokenizer, previous_messages = [])"
   ]
  },
  {
   "cell_type": "code",
   "execution_count": 10,
   "metadata": {},
   "outputs": [],
   "source": [
    "# Build a STaR data curation pipeline \n",
    "\n",
    "# - Use available model to generate diverse response to the current prompt\n",
    "# - Filter out repeatitive responses \n",
    "# - the parsing functional is implemented into Node already, let's port to that before we do STaR -- same approach essentially here \n",
    "\n",
    "# def parse_response(response: str) -> dict: \n",
    "    "
   ]
  },
  {
   "cell_type": "code",
   "execution_count": null,
   "metadata": {},
   "outputs": [],
   "source": []
  }
 ],
 "metadata": {
  "kernelspec": {
   "display_name": "base",
   "language": "python",
   "name": "python3"
  },
  "language_info": {
   "codemirror_mode": {
    "name": "ipython",
    "version": 3
   },
   "file_extension": ".py",
   "mimetype": "text/x-python",
   "name": "python",
   "nbconvert_exporter": "python",
   "pygments_lexer": "ipython3",
   "version": "3.11.5"
  }
 },
 "nbformat": 4,
 "nbformat_minor": 2
}
